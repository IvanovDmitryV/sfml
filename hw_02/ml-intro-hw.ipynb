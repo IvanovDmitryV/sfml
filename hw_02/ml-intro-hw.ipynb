{
 "cells": [
  {
   "cell_type": "markdown",
   "metadata": {},
   "source": [
    "# SkillFactory\n",
    "## Введение в ML, введение в sklearn"
   ]
  },
  {
   "cell_type": "markdown",
   "metadata": {},
   "source": [
    "В этом задании мы с вами рассмотрим данные с конкурса [Задача предсказания отклика клиентов ОТП Банка](http://www.machinelearning.ru/wiki/index.php?title=%D0%97%D0%B0%D0%B4%D0%B0%D1%87%D0%B0_%D0%BF%D1%80%D0%B5%D0%B4%D1%81%D0%BA%D0%B0%D0%B7%D0%B0%D0%BD%D0%B8%D1%8F_%D0%BE%D1%82%D0%BA%D0%BB%D0%B8%D0%BA%D0%B0_%D0%BA%D0%BB%D0%B8%D0%B5%D0%BD%D1%82%D0%BE%D0%B2_%D0%9E%D0%A2%D0%9F_%D0%91%D0%B0%D0%BD%D0%BA%D0%B0_%28%D0%BA%D0%BE%D0%BD%D0%BA%D1%83%D1%80%D1%81%29)"
   ]
  },
  {
   "cell_type": "code",
   "execution_count": 1,
   "metadata": {
    "collapsed": true
   },
   "outputs": [],
   "source": [
    "import pandas as pd\n",
    "import numpy as np\n",
    "import matplotlib.pyplot as plt\n",
    "\n",
    "%matplotlib inline\n",
    "\n",
    "plt.style.use('ggplot')\n",
    "plt.rcParams['figure.figsize'] = (12,7)"
   ]
  },
  {
   "cell_type": "markdown",
   "metadata": {},
   "source": [
    "### Грузим данные"
   ]
  },
  {
   "cell_type": "markdown",
   "metadata": {},
   "source": [
    "Считаем описание данных"
   ]
  },
  {
   "cell_type": "code",
   "execution_count": 2,
   "metadata": {
    "collapsed": true
   },
   "outputs": [],
   "source": [
    "\n",
    "df_descr = pd.read_csv('data/otp_description.csv', sep='\\t', encoding='utf8')"
   ]
  },
  {
   "cell_type": "code",
   "execution_count": 3,
   "metadata": {},
   "outputs": [
    {
     "data": {
      "text/html": [
       "<div>\n",
       "<style>\n",
       "    .dataframe thead tr:only-child th {\n",
       "        text-align: right;\n",
       "    }\n",
       "\n",
       "    .dataframe thead th {\n",
       "        text-align: left;\n",
       "    }\n",
       "\n",
       "    .dataframe tbody tr th {\n",
       "        vertical-align: top;\n",
       "    }\n",
       "</style>\n",
       "<table border=\"1\" class=\"dataframe\">\n",
       "  <thead>\n",
       "    <tr style=\"text-align: right;\">\n",
       "      <th></th>\n",
       "      <th>ПОЛЕ</th>\n",
       "      <th>ОПИСАНИЕ</th>\n",
       "    </tr>\n",
       "  </thead>\n",
       "  <tbody>\n",
       "    <tr>\n",
       "      <th>0</th>\n",
       "      <td>AGREEMENT_RK</td>\n",
       "      <td>уникальный идентификатор объекта в выборке</td>\n",
       "    </tr>\n",
       "    <tr>\n",
       "      <th>1</th>\n",
       "      <td>AGE</td>\n",
       "      <td>возраст клиента</td>\n",
       "    </tr>\n",
       "    <tr>\n",
       "      <th>2</th>\n",
       "      <td>SOCSTATUS_WORK_FL</td>\n",
       "      <td>социальный статус клиента относительно работы ...</td>\n",
       "    </tr>\n",
       "    <tr>\n",
       "      <th>3</th>\n",
       "      <td>SOCSTATUS_PENS_FL</td>\n",
       "      <td>социальный статус клиента относительно пенсии ...</td>\n",
       "    </tr>\n",
       "    <tr>\n",
       "      <th>4</th>\n",
       "      <td>GENDER</td>\n",
       "      <td>пол клиента (1- женщины, 0-мужчины)</td>\n",
       "    </tr>\n",
       "    <tr>\n",
       "      <th>5</th>\n",
       "      <td>CHILD_TOTAL</td>\n",
       "      <td>количество детей клиента</td>\n",
       "    </tr>\n",
       "    <tr>\n",
       "      <th>6</th>\n",
       "      <td>DEPENDANTS</td>\n",
       "      <td>количество иждивенцев клиента</td>\n",
       "    </tr>\n",
       "    <tr>\n",
       "      <th>7</th>\n",
       "      <td>EDUCATION</td>\n",
       "      <td>образование</td>\n",
       "    </tr>\n",
       "    <tr>\n",
       "      <th>8</th>\n",
       "      <td>MARITAL_STATUS</td>\n",
       "      <td>семейное положение</td>\n",
       "    </tr>\n",
       "    <tr>\n",
       "      <th>9</th>\n",
       "      <td>GEN_INDUSTRY</td>\n",
       "      <td>отрасль работы клиента</td>\n",
       "    </tr>\n",
       "    <tr>\n",
       "      <th>10</th>\n",
       "      <td>GEN_TITLE</td>\n",
       "      <td>должность</td>\n",
       "    </tr>\n",
       "    <tr>\n",
       "      <th>11</th>\n",
       "      <td>ORG_TP_STATE</td>\n",
       "      <td>форма собственности компании</td>\n",
       "    </tr>\n",
       "    <tr>\n",
       "      <th>12</th>\n",
       "      <td>ORG_TP_FCAPITAL</td>\n",
       "      <td>отношение к иностранному капиталу</td>\n",
       "    </tr>\n",
       "    <tr>\n",
       "      <th>13</th>\n",
       "      <td>JOB_DIR</td>\n",
       "      <td>направление деятельности в нутри компании</td>\n",
       "    </tr>\n",
       "    <tr>\n",
       "      <th>14</th>\n",
       "      <td>FAMILY_INCOME</td>\n",
       "      <td>семейный доход (несколько категорий)</td>\n",
       "    </tr>\n",
       "    <tr>\n",
       "      <th>15</th>\n",
       "      <td>PERSONAL_INCOME</td>\n",
       "      <td>личный доход клиента (в рублях)</td>\n",
       "    </tr>\n",
       "    <tr>\n",
       "      <th>16</th>\n",
       "      <td>REG_ADDRESS_PROVINCE</td>\n",
       "      <td>область регистрации клиента</td>\n",
       "    </tr>\n",
       "    <tr>\n",
       "      <th>17</th>\n",
       "      <td>FACT_ADDRESS_PROVINCE</td>\n",
       "      <td>область фактического пребывания клиента</td>\n",
       "    </tr>\n",
       "    <tr>\n",
       "      <th>18</th>\n",
       "      <td>POSTAL_ADDRESS_PROVINCE</td>\n",
       "      <td>почтовый адрес область</td>\n",
       "    </tr>\n",
       "    <tr>\n",
       "      <th>19</th>\n",
       "      <td>TP_PROVINCE</td>\n",
       "      <td>область торговой точки, где клиент брал послед...</td>\n",
       "    </tr>\n",
       "    <tr>\n",
       "      <th>20</th>\n",
       "      <td>REGION_NM</td>\n",
       "      <td>регион РФ</td>\n",
       "    </tr>\n",
       "    <tr>\n",
       "      <th>21</th>\n",
       "      <td>REG_FACT_FL</td>\n",
       "      <td>адрес регистрации и адрес фактического пребыва...</td>\n",
       "    </tr>\n",
       "    <tr>\n",
       "      <th>22</th>\n",
       "      <td>FACT_POST_FL</td>\n",
       "      <td>адрес фактического пребывания клиента и его по...</td>\n",
       "    </tr>\n",
       "    <tr>\n",
       "      <th>23</th>\n",
       "      <td>REG_POST_FL</td>\n",
       "      <td>адрес регистрации клиента и его почтовый адрес...</td>\n",
       "    </tr>\n",
       "    <tr>\n",
       "      <th>24</th>\n",
       "      <td>REG_FACT_POST_FL</td>\n",
       "      <td>почтовый, фактический и адрес регистрации совп...</td>\n",
       "    </tr>\n",
       "    <tr>\n",
       "      <th>25</th>\n",
       "      <td>REG_FACT_POST_TP_FL</td>\n",
       "      <td>область регистрации, фактического пребывания, ...</td>\n",
       "    </tr>\n",
       "    <tr>\n",
       "      <th>26</th>\n",
       "      <td>FL_PRESENCE_FL</td>\n",
       "      <td>наличие в собственности квартиры (1 - есть, 0 ...</td>\n",
       "    </tr>\n",
       "    <tr>\n",
       "      <th>27</th>\n",
       "      <td>OWN_AUTO</td>\n",
       "      <td>кол-во автомобилей в собственности</td>\n",
       "    </tr>\n",
       "    <tr>\n",
       "      <th>28</th>\n",
       "      <td>AUTO_RUS_FL</td>\n",
       "      <td>наличие в собственности автомобиля российского...</td>\n",
       "    </tr>\n",
       "    <tr>\n",
       "      <th>29</th>\n",
       "      <td>HS_PRESENCE_FL</td>\n",
       "      <td>наличие в собственности загородного дома (1 - ...</td>\n",
       "    </tr>\n",
       "    <tr>\n",
       "      <th>30</th>\n",
       "      <td>COT_PRESENCE_FL</td>\n",
       "      <td>наличие в собственности котеджа (1 - есть, 0 -...</td>\n",
       "    </tr>\n",
       "    <tr>\n",
       "      <th>31</th>\n",
       "      <td>GAR_PRESENCE_FL</td>\n",
       "      <td>наличие в собственности гаража (1 - есть, 0 - ...</td>\n",
       "    </tr>\n",
       "    <tr>\n",
       "      <th>32</th>\n",
       "      <td>LAND_PRESENCE_FL</td>\n",
       "      <td>наличие в собственности земельного участка (1 ...</td>\n",
       "    </tr>\n",
       "    <tr>\n",
       "      <th>33</th>\n",
       "      <td>CREDIT</td>\n",
       "      <td>сумма последнего кредита клиента (в рублях)</td>\n",
       "    </tr>\n",
       "    <tr>\n",
       "      <th>34</th>\n",
       "      <td>TERM</td>\n",
       "      <td>срок кредита</td>\n",
       "    </tr>\n",
       "    <tr>\n",
       "      <th>35</th>\n",
       "      <td>FST_PAYMENT</td>\n",
       "      <td>первоначальный взнос (в рублях)</td>\n",
       "    </tr>\n",
       "    <tr>\n",
       "      <th>36</th>\n",
       "      <td>DL_DOCUMENT_FL</td>\n",
       "      <td>в анкете клиент указал водительское удостовере...</td>\n",
       "    </tr>\n",
       "    <tr>\n",
       "      <th>37</th>\n",
       "      <td>GPF_DOCUMENT_FL</td>\n",
       "      <td>в анкете клиен указал ГПФ (1 - указал, 0 - не ...</td>\n",
       "    </tr>\n",
       "    <tr>\n",
       "      <th>38</th>\n",
       "      <td>FACT_LIVING_TERM</td>\n",
       "      <td>количество месяцев проживания по месту фактиче...</td>\n",
       "    </tr>\n",
       "    <tr>\n",
       "      <th>39</th>\n",
       "      <td>WORK_TIME</td>\n",
       "      <td>время работы на текущем месте (в месяцах)</td>\n",
       "    </tr>\n",
       "    <tr>\n",
       "      <th>40</th>\n",
       "      <td>FACT_PHONE_FL</td>\n",
       "      <td>наличие в заявке телефона по фактическому мест...</td>\n",
       "    </tr>\n",
       "    <tr>\n",
       "      <th>41</th>\n",
       "      <td>REG_PHONE_FL</td>\n",
       "      <td>наличие в заявке телефона по месту регистрации</td>\n",
       "    </tr>\n",
       "    <tr>\n",
       "      <th>42</th>\n",
       "      <td>GEN_PHONE_FL</td>\n",
       "      <td>наличие в заявке рабочего телефона</td>\n",
       "    </tr>\n",
       "    <tr>\n",
       "      <th>43</th>\n",
       "      <td>LOAN_NUM_TOTAL</td>\n",
       "      <td>количество ссуд клиента</td>\n",
       "    </tr>\n",
       "    <tr>\n",
       "      <th>44</th>\n",
       "      <td>LOAN_NUM_CLOSED</td>\n",
       "      <td>количество погашенных ссуд клиента</td>\n",
       "    </tr>\n",
       "    <tr>\n",
       "      <th>45</th>\n",
       "      <td>LOAN_NUM_PAYM</td>\n",
       "      <td>количество платежей, которые сделал клиент</td>\n",
       "    </tr>\n",
       "    <tr>\n",
       "      <th>46</th>\n",
       "      <td>LOAN_DLQ_NUM</td>\n",
       "      <td>количество просрочек, допущенных клиентом</td>\n",
       "    </tr>\n",
       "    <tr>\n",
       "      <th>47</th>\n",
       "      <td>LOAN_MAX_DLQ</td>\n",
       "      <td>номер максимальной просрочки, допущенной клиентом</td>\n",
       "    </tr>\n",
       "    <tr>\n",
       "      <th>48</th>\n",
       "      <td>LOAN_AVG_DLQ_AMT</td>\n",
       "      <td>средняя сумма просрочки (в рублях)</td>\n",
       "    </tr>\n",
       "    <tr>\n",
       "      <th>49</th>\n",
       "      <td>LOAN_MAX_DLQ_AMT</td>\n",
       "      <td>максимальная сумма просрочки (в рублях)</td>\n",
       "    </tr>\n",
       "    <tr>\n",
       "      <th>50</th>\n",
       "      <td>PREVIOUS_CARD_NUM_UTILIZED</td>\n",
       "      <td>количество уже утилизированных карт ( если пус...</td>\n",
       "    </tr>\n",
       "  </tbody>\n",
       "</table>\n",
       "</div>"
      ],
      "text/plain": [
       "                          ПОЛЕ  \\\n",
       "0                 AGREEMENT_RK   \n",
       "1                          AGE   \n",
       "2            SOCSTATUS_WORK_FL   \n",
       "3            SOCSTATUS_PENS_FL   \n",
       "4                       GENDER   \n",
       "5                  CHILD_TOTAL   \n",
       "6                   DEPENDANTS   \n",
       "7                    EDUCATION   \n",
       "8               MARITAL_STATUS   \n",
       "9                 GEN_INDUSTRY   \n",
       "10                   GEN_TITLE   \n",
       "11                ORG_TP_STATE   \n",
       "12             ORG_TP_FCAPITAL   \n",
       "13                     JOB_DIR   \n",
       "14               FAMILY_INCOME   \n",
       "15             PERSONAL_INCOME   \n",
       "16        REG_ADDRESS_PROVINCE   \n",
       "17       FACT_ADDRESS_PROVINCE   \n",
       "18     POSTAL_ADDRESS_PROVINCE   \n",
       "19                 TP_PROVINCE   \n",
       "20                   REGION_NM   \n",
       "21                 REG_FACT_FL   \n",
       "22                FACT_POST_FL   \n",
       "23                 REG_POST_FL   \n",
       "24            REG_FACT_POST_FL   \n",
       "25         REG_FACT_POST_TP_FL   \n",
       "26              FL_PRESENCE_FL   \n",
       "27                    OWN_AUTO   \n",
       "28                 AUTO_RUS_FL   \n",
       "29              HS_PRESENCE_FL   \n",
       "30             COT_PRESENCE_FL   \n",
       "31             GAR_PRESENCE_FL   \n",
       "32            LAND_PRESENCE_FL   \n",
       "33                      CREDIT   \n",
       "34                        TERM   \n",
       "35                 FST_PAYMENT   \n",
       "36              DL_DOCUMENT_FL   \n",
       "37             GPF_DOCUMENT_FL   \n",
       "38            FACT_LIVING_TERM   \n",
       "39                   WORK_TIME   \n",
       "40               FACT_PHONE_FL   \n",
       "41                REG_PHONE_FL   \n",
       "42                GEN_PHONE_FL   \n",
       "43              LOAN_NUM_TOTAL   \n",
       "44             LOAN_NUM_CLOSED   \n",
       "45               LOAN_NUM_PAYM   \n",
       "46                LOAN_DLQ_NUM   \n",
       "47                LOAN_MAX_DLQ   \n",
       "48            LOAN_AVG_DLQ_AMT   \n",
       "49            LOAN_MAX_DLQ_AMT   \n",
       "50  PREVIOUS_CARD_NUM_UTILIZED   \n",
       "\n",
       "                                             ОПИСАНИЕ  \n",
       "0          уникальный идентификатор объекта в выборке  \n",
       "1                                     возраст клиента  \n",
       "2   социальный статус клиента относительно работы ...  \n",
       "3   социальный статус клиента относительно пенсии ...  \n",
       "4                 пол клиента (1- женщины, 0-мужчины)  \n",
       "5                            количество детей клиента  \n",
       "6                       количество иждивенцев клиента  \n",
       "7                                         образование  \n",
       "8                                  семейное положение  \n",
       "9                              отрасль работы клиента  \n",
       "10                                          должность  \n",
       "11                       форма собственности компании  \n",
       "12                  отношение к иностранному капиталу  \n",
       "13          направление деятельности в нутри компании  \n",
       "14               семейный доход (несколько категорий)  \n",
       "15                    личный доход клиента (в рублях)  \n",
       "16                        область регистрации клиента  \n",
       "17            область фактического пребывания клиента  \n",
       "18                             почтовый адрес область  \n",
       "19  область торговой точки, где клиент брал послед...  \n",
       "20                                          регион РФ  \n",
       "21  адрес регистрации и адрес фактического пребыва...  \n",
       "22  адрес фактического пребывания клиента и его по...  \n",
       "23  адрес регистрации клиента и его почтовый адрес...  \n",
       "24  почтовый, фактический и адрес регистрации совп...  \n",
       "25  область регистрации, фактического пребывания, ...  \n",
       "26  наличие в собственности квартиры (1 - есть, 0 ...  \n",
       "27                кол-во автомобилей в собственности   \n",
       "28  наличие в собственности автомобиля российского...  \n",
       "29  наличие в собственности загородного дома (1 - ...  \n",
       "30  наличие в собственности котеджа (1 - есть, 0 -...  \n",
       "31  наличие в собственности гаража (1 - есть, 0 - ...  \n",
       "32  наличие в собственности земельного участка (1 ...  \n",
       "33        сумма последнего кредита клиента (в рублях)  \n",
       "34                                       срок кредита  \n",
       "35                    первоначальный взнос (в рублях)  \n",
       "36  в анкете клиент указал водительское удостовере...  \n",
       "37  в анкете клиен указал ГПФ (1 - указал, 0 - не ...  \n",
       "38  количество месяцев проживания по месту фактиче...  \n",
       "39          время работы на текущем месте (в месяцах)  \n",
       "40  наличие в заявке телефона по фактическому мест...  \n",
       "41     наличие в заявке телефона по месту регистрации  \n",
       "42                 наличие в заявке рабочего телефона  \n",
       "43                            количество ссуд клиента  \n",
       "44                 количество погашенных ссуд клиента  \n",
       "45         количество платежей, которые сделал клиент  \n",
       "46          количество просрочек, допущенных клиентом  \n",
       "47  номер максимальной просрочки, допущенной клиентом  \n",
       "48                 средняя сумма просрочки (в рублях)  \n",
       "49            максимальная сумма просрочки (в рублях)  \n",
       "50  количество уже утилизированных карт ( если пус...  "
      ]
     },
     "execution_count": 3,
     "metadata": {},
     "output_type": "execute_result"
    }
   ],
   "source": [
    "df_descr"
   ]
  },
  {
   "cell_type": "markdown",
   "metadata": {},
   "source": [
    "Считаем обучающую выборки и тестовую (которую мы как бы не видим)"
   ]
  },
  {
   "cell_type": "code",
   "execution_count": 4,
   "metadata": {
    "collapsed": true
   },
   "outputs": [],
   "source": [
    "df_train = pd.read_csv('data/otp_train.csv', sep='\\t', encoding='utf8')"
   ]
  },
  {
   "cell_type": "code",
   "execution_count": 5,
   "metadata": {},
   "outputs": [
    {
     "data": {
      "text/plain": [
       "(15223, 52)"
      ]
     },
     "execution_count": 5,
     "metadata": {},
     "output_type": "execute_result"
    }
   ],
   "source": [
    "df_train.shape"
   ]
  },
  {
   "cell_type": "code",
   "execution_count": 6,
   "metadata": {
    "collapsed": true
   },
   "outputs": [],
   "source": [
    "df_test = pd.read_csv('data/otp_test.csv', sep='\\t', encoding='utf8')"
   ]
  },
  {
   "cell_type": "code",
   "execution_count": 7,
   "metadata": {},
   "outputs": [
    {
     "data": {
      "text/plain": [
       "(14910, 52)"
      ]
     },
     "execution_count": 7,
     "metadata": {},
     "output_type": "execute_result"
    }
   ],
   "source": [
    "df_test.shape"
   ]
  },
  {
   "cell_type": "code",
   "execution_count": 8,
   "metadata": {},
   "outputs": [
    {
     "data": {
      "text/html": [
       "<div>\n",
       "<style>\n",
       "    .dataframe thead tr:only-child th {\n",
       "        text-align: right;\n",
       "    }\n",
       "\n",
       "    .dataframe thead th {\n",
       "        text-align: left;\n",
       "    }\n",
       "\n",
       "    .dataframe tbody tr th {\n",
       "        vertical-align: top;\n",
       "    }\n",
       "</style>\n",
       "<table border=\"1\" class=\"dataframe\">\n",
       "  <thead>\n",
       "    <tr style=\"text-align: right;\">\n",
       "      <th></th>\n",
       "      <th>AGREEMENT_RK</th>\n",
       "      <th>TARGET</th>\n",
       "      <th>AGE</th>\n",
       "      <th>SOCSTATUS_WORK_FL</th>\n",
       "      <th>SOCSTATUS_PENS_FL</th>\n",
       "      <th>GENDER</th>\n",
       "      <th>CHILD_TOTAL</th>\n",
       "      <th>DEPENDANTS</th>\n",
       "      <th>EDUCATION</th>\n",
       "      <th>MARITAL_STATUS</th>\n",
       "      <th>...</th>\n",
       "      <th>REG_PHONE_FL</th>\n",
       "      <th>GEN_PHONE_FL</th>\n",
       "      <th>LOAN_NUM_TOTAL</th>\n",
       "      <th>LOAN_NUM_CLOSED</th>\n",
       "      <th>LOAN_NUM_PAYM</th>\n",
       "      <th>LOAN_DLQ_NUM</th>\n",
       "      <th>LOAN_MAX_DLQ</th>\n",
       "      <th>LOAN_AVG_DLQ_AMT</th>\n",
       "      <th>LOAN_MAX_DLQ_AMT</th>\n",
       "      <th>PREVIOUS_CARD_NUM_UTILIZED</th>\n",
       "    </tr>\n",
       "  </thead>\n",
       "  <tbody>\n",
       "    <tr>\n",
       "      <th>0</th>\n",
       "      <td>59910150</td>\n",
       "      <td>0</td>\n",
       "      <td>49</td>\n",
       "      <td>1</td>\n",
       "      <td>0</td>\n",
       "      <td>1</td>\n",
       "      <td>2</td>\n",
       "      <td>1</td>\n",
       "      <td>Среднее специальное</td>\n",
       "      <td>Состою в браке</td>\n",
       "      <td>...</td>\n",
       "      <td>0</td>\n",
       "      <td>1</td>\n",
       "      <td>1</td>\n",
       "      <td>1</td>\n",
       "      <td>6</td>\n",
       "      <td>2</td>\n",
       "      <td>1</td>\n",
       "      <td>1580</td>\n",
       "      <td>1580</td>\n",
       "      <td>NaN</td>\n",
       "    </tr>\n",
       "    <tr>\n",
       "      <th>1</th>\n",
       "      <td>59910230</td>\n",
       "      <td>0</td>\n",
       "      <td>32</td>\n",
       "      <td>1</td>\n",
       "      <td>0</td>\n",
       "      <td>1</td>\n",
       "      <td>3</td>\n",
       "      <td>3</td>\n",
       "      <td>Среднее</td>\n",
       "      <td>Состою в браке</td>\n",
       "      <td>...</td>\n",
       "      <td>0</td>\n",
       "      <td>1</td>\n",
       "      <td>1</td>\n",
       "      <td>1</td>\n",
       "      <td>6</td>\n",
       "      <td>1</td>\n",
       "      <td>1</td>\n",
       "      <td>4020</td>\n",
       "      <td>4020</td>\n",
       "      <td>NaN</td>\n",
       "    </tr>\n",
       "    <tr>\n",
       "      <th>2</th>\n",
       "      <td>59910525</td>\n",
       "      <td>0</td>\n",
       "      <td>52</td>\n",
       "      <td>1</td>\n",
       "      <td>0</td>\n",
       "      <td>1</td>\n",
       "      <td>4</td>\n",
       "      <td>0</td>\n",
       "      <td>Неполное среднее</td>\n",
       "      <td>Состою в браке</td>\n",
       "      <td>...</td>\n",
       "      <td>0</td>\n",
       "      <td>1</td>\n",
       "      <td>2</td>\n",
       "      <td>1</td>\n",
       "      <td>11</td>\n",
       "      <td>0</td>\n",
       "      <td>0</td>\n",
       "      <td>0</td>\n",
       "      <td>0</td>\n",
       "      <td>NaN</td>\n",
       "    </tr>\n",
       "    <tr>\n",
       "      <th>3</th>\n",
       "      <td>59910803</td>\n",
       "      <td>0</td>\n",
       "      <td>39</td>\n",
       "      <td>1</td>\n",
       "      <td>0</td>\n",
       "      <td>1</td>\n",
       "      <td>1</td>\n",
       "      <td>1</td>\n",
       "      <td>Высшее</td>\n",
       "      <td>Состою в браке</td>\n",
       "      <td>...</td>\n",
       "      <td>1</td>\n",
       "      <td>1</td>\n",
       "      <td>1</td>\n",
       "      <td>1</td>\n",
       "      <td>6</td>\n",
       "      <td>3</td>\n",
       "      <td>1</td>\n",
       "      <td>1589,92333333333</td>\n",
       "      <td>1590</td>\n",
       "      <td>NaN</td>\n",
       "    </tr>\n",
       "    <tr>\n",
       "      <th>4</th>\n",
       "      <td>59911781</td>\n",
       "      <td>0</td>\n",
       "      <td>30</td>\n",
       "      <td>1</td>\n",
       "      <td>0</td>\n",
       "      <td>0</td>\n",
       "      <td>0</td>\n",
       "      <td>0</td>\n",
       "      <td>Среднее</td>\n",
       "      <td>Состою в браке</td>\n",
       "      <td>...</td>\n",
       "      <td>0</td>\n",
       "      <td>1</td>\n",
       "      <td>2</td>\n",
       "      <td>1</td>\n",
       "      <td>16</td>\n",
       "      <td>2</td>\n",
       "      <td>1</td>\n",
       "      <td>1152,15</td>\n",
       "      <td>2230</td>\n",
       "      <td>NaN</td>\n",
       "    </tr>\n",
       "  </tbody>\n",
       "</table>\n",
       "<p>5 rows × 52 columns</p>\n",
       "</div>"
      ],
      "text/plain": [
       "   AGREEMENT_RK  TARGET  AGE  SOCSTATUS_WORK_FL  SOCSTATUS_PENS_FL  GENDER  \\\n",
       "0      59910150       0   49                  1                  0       1   \n",
       "1      59910230       0   32                  1                  0       1   \n",
       "2      59910525       0   52                  1                  0       1   \n",
       "3      59910803       0   39                  1                  0       1   \n",
       "4      59911781       0   30                  1                  0       0   \n",
       "\n",
       "   CHILD_TOTAL  DEPENDANTS            EDUCATION  MARITAL_STATUS  \\\n",
       "0            2           1  Среднее специальное  Состою в браке   \n",
       "1            3           3              Среднее  Состою в браке   \n",
       "2            4           0     Неполное среднее  Состою в браке   \n",
       "3            1           1               Высшее  Состою в браке   \n",
       "4            0           0              Среднее  Состою в браке   \n",
       "\n",
       "             ...             REG_PHONE_FL GEN_PHONE_FL LOAN_NUM_TOTAL  \\\n",
       "0            ...                        0            1              1   \n",
       "1            ...                        0            1              1   \n",
       "2            ...                        0            1              2   \n",
       "3            ...                        1            1              1   \n",
       "4            ...                        0            1              2   \n",
       "\n",
       "  LOAN_NUM_CLOSED LOAN_NUM_PAYM LOAN_DLQ_NUM LOAN_MAX_DLQ  LOAN_AVG_DLQ_AMT  \\\n",
       "0               1             6            2            1              1580   \n",
       "1               1             6            1            1              4020   \n",
       "2               1            11            0            0                 0   \n",
       "3               1             6            3            1  1589,92333333333   \n",
       "4               1            16            2            1           1152,15   \n",
       "\n",
       "  LOAN_MAX_DLQ_AMT PREVIOUS_CARD_NUM_UTILIZED  \n",
       "0             1580                        NaN  \n",
       "1             4020                        NaN  \n",
       "2                0                        NaN  \n",
       "3             1590                        NaN  \n",
       "4             2230                        NaN  \n",
       "\n",
       "[5 rows x 52 columns]"
      ]
     },
     "execution_count": 8,
     "metadata": {},
     "output_type": "execute_result"
    }
   ],
   "source": [
    "df_train.head()"
   ]
  },
  {
   "cell_type": "markdown",
   "metadata": {},
   "source": [
    "## Объединим две выборки\n",
    "\n",
    "Так как пока мы пока не умеем работать sklearn  Pipeline, то для того, чтобы после предобработки столбцы в двух выборках находились на своих местах.\n",
    "\n",
    "Для того, чтобы в дальнейшем отделить их введем новый столбец \"sample\""
   ]
  },
  {
   "cell_type": "code",
   "execution_count": 9,
   "metadata": {
    "collapsed": true
   },
   "outputs": [],
   "source": [
    "df_train.loc[:, 'sample'] = 'train'\n",
    "df_test.loc[:, 'sample'] = 'test'"
   ]
  },
  {
   "cell_type": "code",
   "execution_count": 10,
   "metadata": {
    "collapsed": true
   },
   "outputs": [],
   "source": [
    "df = df_test.append(df_train).reset_index(drop=True)"
   ]
  },
  {
   "cell_type": "code",
   "execution_count": 11,
   "metadata": {},
   "outputs": [
    {
     "data": {
      "text/plain": [
       "(30133, 53)"
      ]
     },
     "execution_count": 11,
     "metadata": {},
     "output_type": "execute_result"
    }
   ],
   "source": [
    "df.shape"
   ]
  },
  {
   "cell_type": "markdown",
   "metadata": {},
   "source": [
    "### Чуть-чуть посмотрим на данные"
   ]
  },
  {
   "cell_type": "markdown",
   "metadata": {
    "collapsed": true
   },
   "source": [
    "Посмотрим типы данных и их заполняемость"
   ]
  },
  {
   "cell_type": "code",
   "execution_count": 12,
   "metadata": {
    "scrolled": false
   },
   "outputs": [
    {
     "name": "stdout",
     "output_type": "stream",
     "text": [
      "<class 'pandas.core.frame.DataFrame'>\n",
      "RangeIndex: 15223 entries, 0 to 15222\n",
      "Data columns (total 53 columns):\n",
      "AGREEMENT_RK                  15223 non-null int64\n",
      "TARGET                        15223 non-null int64\n",
      "AGE                           15223 non-null int64\n",
      "SOCSTATUS_WORK_FL             15223 non-null int64\n",
      "SOCSTATUS_PENS_FL             15223 non-null int64\n",
      "GENDER                        15223 non-null int64\n",
      "CHILD_TOTAL                   15223 non-null int64\n",
      "DEPENDANTS                    15223 non-null int64\n",
      "EDUCATION                     15223 non-null object\n",
      "MARITAL_STATUS                15223 non-null object\n",
      "GEN_INDUSTRY                  13856 non-null object\n",
      "GEN_TITLE                     13856 non-null object\n",
      "ORG_TP_STATE                  13856 non-null object\n",
      "ORG_TP_FCAPITAL               13858 non-null object\n",
      "JOB_DIR                       13856 non-null object\n",
      "FAMILY_INCOME                 15223 non-null object\n",
      "PERSONAL_INCOME               15223 non-null object\n",
      "REG_ADDRESS_PROVINCE          15223 non-null object\n",
      "FACT_ADDRESS_PROVINCE         15223 non-null object\n",
      "POSTAL_ADDRESS_PROVINCE       15223 non-null object\n",
      "TP_PROVINCE                   14928 non-null object\n",
      "REGION_NM                     15222 non-null object\n",
      "REG_FACT_FL                   15223 non-null int64\n",
      "FACT_POST_FL                  15223 non-null int64\n",
      "REG_POST_FL                   15223 non-null int64\n",
      "REG_FACT_POST_FL              15223 non-null int64\n",
      "REG_FACT_POST_TP_FL           15223 non-null int64\n",
      "FL_PRESENCE_FL                15223 non-null int64\n",
      "OWN_AUTO                      15223 non-null int64\n",
      "AUTO_RUS_FL                   15223 non-null int64\n",
      "HS_PRESENCE_FL                15223 non-null int64\n",
      "COT_PRESENCE_FL               15223 non-null int64\n",
      "GAR_PRESENCE_FL               15223 non-null int64\n",
      "LAND_PRESENCE_FL              15223 non-null int64\n",
      "CREDIT                        15223 non-null object\n",
      "TERM                          15223 non-null int64\n",
      "FST_PAYMENT                   15223 non-null object\n",
      "DL_DOCUMENT_FL                15223 non-null int64\n",
      "GPF_DOCUMENT_FL               15223 non-null int64\n",
      "FACT_LIVING_TERM              15223 non-null int64\n",
      "WORK_TIME                     13855 non-null float64\n",
      "FACT_PHONE_FL                 15223 non-null int64\n",
      "REG_PHONE_FL                  15223 non-null int64\n",
      "GEN_PHONE_FL                  15223 non-null int64\n",
      "LOAN_NUM_TOTAL                15223 non-null int64\n",
      "LOAN_NUM_CLOSED               15223 non-null int64\n",
      "LOAN_NUM_PAYM                 15223 non-null int64\n",
      "LOAN_DLQ_NUM                  15223 non-null int64\n",
      "LOAN_MAX_DLQ                  15223 non-null int64\n",
      "LOAN_AVG_DLQ_AMT              15223 non-null object\n",
      "LOAN_MAX_DLQ_AMT              15223 non-null object\n",
      "PREVIOUS_CARD_NUM_UTILIZED    288 non-null float64\n",
      "sample                        15223 non-null object\n",
      "dtypes: float64(2), int64(32), object(19)\n",
      "memory usage: 6.2+ MB\n"
     ]
    }
   ],
   "source": [
    "df_train.info()"
   ]
  },
  {
   "cell_type": "markdown",
   "metadata": {
    "collapsed": true
   },
   "source": [
    "Видим, что часть данных - object, скорее всего стоки.\n",
    "\n",
    "\n",
    "Давайте выведем эти значения для каждого столбца"
   ]
  },
  {
   "cell_type": "code",
   "execution_count": 13,
   "metadata": {},
   "outputs": [
    {
     "name": "stdout",
     "output_type": "stream",
     "text": [
      "==========\n",
      "EDUCATION\n",
      "Ученая степень ,  Неполное среднее ,  Неоконченное высшее ,  Два и более высших образования ,  Высшее ,  Среднее ,  Среднее специальное ,  \n",
      "\n",
      "==========\n",
      "MARITAL_STATUS\n",
      "Разведен(а) ,  Вдовец/Вдова ,  Не состоял в браке ,  Гражданский брак ,  Состою в браке ,  \n",
      "\n",
      "==========\n",
      "GEN_INDUSTRY\n",
      "nan ,  Информационные услуги ,  Туризм ,  Торговля ,  Строительство ,  СМИ/Реклама/PR-агенства ,  Сельское хозяйство ,  Управляющая компания ,  Маркетинг ,  Коммунальное хоз-во/Дорожные службы ,  Здравоохранение ,  ЧОП/Детективная д-ть ,  Химия/Парфюмерия/Фармацевтика ,  Ресторанный бизнес/Общественное питание ,  Логистика ,  Юридические услуги/нотариальные услуги ,  Банк/Финансы ,  Наука ,  Подбор персонала ,  Недвижимость ,  Транспорт ,  Сборочные производства ,  Информационные технологии ,  Государственная служба ,  Развлечения/Искусство ,  Страхование ,  Нефтегазовая промышленность ,  Энергетика ,  Салоны красоты и здоровья ,  Металлургия/Промышленность/Машиностроение ,  Другие сферы ,  Образование ,  \n",
      "\n",
      "==========\n",
      "GEN_TITLE\n",
      "nan ,  Партнер ,  Работник сферы услуг ,  Рабочий ,  Другое ,  Военнослужащий по контракту ,  Руководитель среднего звена ,  Индивидуальный предприниматель ,  Руководитель высшего звена ,  Руководитель низшего звена ,  Специалист ,  Высококвалифиц. специалист ,  Служащий ,  \n",
      "\n",
      "==========\n",
      "ORG_TP_STATE\n",
      "nan ,  Частная ком. с инос. капиталом ,  Некоммерческая организация ,  Индивидуальный предприниматель ,  Государственная комп./учреж. ,  Частная компания ,  \n",
      "\n",
      "==========\n",
      "ORG_TP_FCAPITAL\n",
      "nan ,  Без участия ,  С участием ,  \n",
      "\n",
      "==========\n",
      "JOB_DIR\n",
      "nan ,  Вспомогательный техперсонал ,  Кадровая служба и секретариат ,  Реклама и маркетинг ,  Бухгалтерия, финансы, планир. ,  Юридическая служба ,  Служба безопасности ,  Адм-хоз. и трансп. службы ,  Участие в основ. деятельности ,  Снабжение и сбыт ,  Пр-техн. обесп. и телеком. ,  \n",
      "\n",
      "==========\n",
      "FAMILY_INCOME\n",
      "от 20000 до 50000 руб. ,  до 5000 руб. ,  от 10000 до 20000 руб. ,  свыше 50000 руб. ,  от 5000 до 10000 руб. ,  \n",
      "\n",
      "==========\n",
      "PERSONAL_INCOME\n",
      "110000 ,  8300 ,  158000 ,  22500 ,  10100 ,  7300 ,  15200 ,  22180 ,  19700 ,  13160 ,  8900 ,  14358 ,  70000 ,  12700 ,  10200 ,  22000 ,  15750 ,  13600 ,  4680 ,  5300 ,  6650 ,  19300 ,  18250 ,  92000 ,  10800 ,  8600 ,  67700 ,  24500 ,  16700 ,  4550 ,  30600 ,  27300 ,  7170,08 ,  46000 ,  5000 ,  13900 ,  34500 ,  10700 ,  220000 ,  60000 ,  18100 ,  7900 ,  6270 ,  11000 ,  7700 ,  6500 ,  4950 ,  90000 ,  3800 ,  4100 ,  7340 ,  47000 ,  13200 ,  5700 ,  7260 ,  27000 ,  37000 ,  6200 ,  7550 ,  2680 ,  16100 ,  18200 ,  160000 ,  20000 ,  7000 ,  22120 ,  3200 ,  23800 ,  5790 ,  150000 ,  18700 ,  13500 ,  26800 ,  29400 ,  11400 ,  5450 ,  6100 ,  120000 ,  10900 ,  17500 ,  56000 ,  4250 ,  23500 ,  19800 ,  4500 ,  3700 ,  15560 ,  5460 ,  5350 ,  21800 ,  49000 ,  5173 ,  9200 ,  7220 ,  11300 ,  17000 ,  7380 ,  50000 ,  5582 ,  12400 ,  4860 ,  5380 ,  20646,16 ,  41000 ,  1950 ,  9700 ,  18800 ,  7251 ,  9900 ,  13150 ,  68000 ,  11900 ,  4480 ,  12300 ,  33000 ,  32640 ,  19200 ,  12900 ,  5339 ,  42500 ,  45900 ,  17900 ,  14200 ,  3300 ,  6780 ,  21500 ,  2300 ,  12650 ,  8800 ,  39000 ,  5966 ,  24800 ,  8750 ,  8200 ,  32000 ,  7780 ,  5400 ,  12000 ,  28000 ,  17300 ,  100000 ,  8726 ,  8500 ,  20880 ,  9240 ,  16107,47 ,  10300 ,  7850 ,  15000 ,  4340 ,  16800 ,  4530 ,  9400 ,  52000 ,  10400 ,  9330 ,  5890 ,  7350 ,  21300 ,  5100 ,  13800 ,  6400 ,  7400 ,  3900 ,  45000 ,  15700 ,  16050 ,  16500 ,  13650 ,  4760 ,  9750 ,  53500 ,  4000 ,  14800 ,  32500 ,  5800 ,  13100 ,  16200 ,  25000 ,  18300 ,  7100 ,  7101 ,  43000 ,  5360 ,  5446 ,  9628 ,  29800 ,  4300 ,  8250 ,  15900 ,  34000 ,  13400 ,  230000 ,  25500 ,  5500 ,  6000 ,  4900 ,  11700 ,  29500 ,  200000 ,  20600 ,  4887 ,  3400 ,  5750 ,  17404 ,  17400 ,  14500 ,  4400 ,  53000 ,  26000 ,  22565 ,  11800 ,  11200 ,  17700 ,  6700 ,  20500 ,  9300 ,  12500 ,  65000 ,  5680 ,  24 ,  6825 ,  19600 ,  31000 ,  6670 ,  9000 ,  48000 ,  14600 ,  4750 ,  15400 ,  19500 ,  17200 ,  7650 ,  17800 ,  14300 ,  3000 ,  2800 ,  8100 ,  30000 ,  8066 ,  9500 ,  57000 ,  8060 ,  94000 ,  6524 ,  9860 ,  170000 ,  28300 ,  6350 ,  12100 ,  13450 ,  6359 ,  23000 ,  2100 ,  9340 ,  41900 ,  10000 ,  8400 ,  5050 ,  36000 ,  16900 ,  7200 ,  15300 ,  22955 ,  51000 ,  4590 ,  250000 ,  80000 ,  42145 ,  14900 ,  5200 ,  12600 ,  10500 ,  75000 ,  7330 ,  13700 ,  7500 ,  19000 ,  15600 ,  16600 ,  21000 ,  38600 ,  16300 ,  4704 ,  4700 ,  7050 ,  40000 ,  5900 ,  13000 ,  27200 ,  7800 ,  15939 ,  4330 ,  7250 ,  15500 ,  18000 ,  7600 ,  8700 ,  8030 ,  2776 ,  5600 ,  6900 ,  4200 ,  4800 ,  130000 ,  13300 ,  10600 ,  6299,19 ,  11600 ,  25800 ,  6300 ,  58640 ,  14120 ,  8350 ,  5120 ,  9640 ,  5088 ,  12450 ,  3500 ,  5085 ,  55000 ,  18600 ,  44000 ,  6600 ,  77000 ,  6608 ,  35500 ,  67000 ,  24000 ,  5230 ,  11500 ,  18500 ,  16000 ,  5860 ,  15800 ,  3600 ,  13000000 ,  17600 ,  28470 ,  7640 ,  14700 ,  54000 ,  4600 ,  29000 ,  7082 ,  5425 ,  38000 ,  42000 ,  15380 ,  4360 ,  23100 ,  8075 ,  9100 ,  7830 ,  3100 ,  4515 ,  6180 ,  11640 ,  2500 ,  9600 ,  14000 ,  5280 ,  6800 ,  12800 ,  26500 ,  8000 ,  24400 ,  9800 ,  35000 ,  2000 ,  7460 ,  12200 ,  4850 ,  \n",
      "\n",
      "==========\n",
      "REG_ADDRESS_PROVINCE\n",
      "Ульяновская область ,  Марийская республика ,  Мурманская область ,  Сахалинская область ,  Омская область ,  Орловская область ,  Самарская область ,  Амурская область ,  Ставропольский край ,  Новгородская область ,  Эвенкийский АО ,  Воронежская область ,  Краснодарский край ,  Коми-Пермяцкий АО ,  Агинский Бурятский АО ,  Костромская область ,  Курская область ,  Белгородская область ,  Дагестан ,  Кемеровская область ,  Смоленская область ,  Кабардино-Балкария ,  Карачаево-Черкесия ,  Тюменская область ,  Липецкая область ,  Адыгея ,  Пензенская область ,  Ямало-Ненецкий АО ,  Нижегородская область ,  Ханты-Мансийский АО ,  Архангельская область ,  Псковская область ,  Алтайский край ,  Кировская область ,  Читинская область ,  Ярославская область ,  Пермская область ,  Тульская область ,  Башкирия ,  Чувашия ,  Приморский край ,  Москва ,  Тамбовская область ,  Бурятия ,  Калужская область ,  Карелия ,  Челябинская область ,  Хабаровский край ,  Владимирская область ,  Ленинградская область ,  Мордовская республика ,  Калмыкия ,  Усть-Ордынский Бурятский АО ,  Калининградская область ,  Брянская область ,  Свердловская область ,  Удмуртия ,  Волгоградская область ,  Астраханская область ,  Красноярский край ,  Тверская область ,  Курганская область ,  Иркутская область ,  Горный Алтай ,  Московская область ,  Санкт-Петербург ,  Татарстан ,  Оренбургская область ,  Якутия ,  Ивановская область ,  Северная Осетия ,  Вологодская область ,  Хакасия ,  Камчатская область ,  Коми ,  Новосибирская область ,  Магаданская область ,  Еврейская АО ,  Томская область ,  Рязанская область ,  Ростовская область ,  Саратовская область ,  \n",
      "\n",
      "==========\n",
      "FACT_ADDRESS_PROVINCE\n",
      "Ульяновская область ,  Марийская республика ,  Мурманская область ,  Сахалинская область ,  Омская область ,  Орловская область ,  Самарская область ,  Амурская область ,  Ставропольский край ,  Новгородская область ,  Эвенкийский АО ,  Воронежская область ,  Краснодарский край ,  Коми-Пермяцкий АО ,  Агинский Бурятский АО ,  Костромская область ,  Курская область ,  Белгородская область ,  Дагестан ,  Кемеровская область ,  Смоленская область ,  Кабардино-Балкария ,  Карачаево-Черкесия ,  Тюменская область ,  Липецкая область ,  Адыгея ,  Пензенская область ,  Ямало-Ненецкий АО ,  Нижегородская область ,  Ханты-Мансийский АО ,  Архангельская область ,  Псковская область ,  Чечня ,  Алтайский край ,  Кировская область ,  Читинская область ,  Ярославская область ,  Пермская область ,  Тульская область ,  Башкирия ,  Чувашия ,  Приморский край ,  Москва ,  Тамбовская область ,  Бурятия ,  Калужская область ,  Карелия ,  Челябинская область ,  Хабаровский край ,  Владимирская область ,  Ленинградская область ,  Мордовская республика ,  Калмыкия ,  Усть-Ордынский Бурятский АО ,  Калининградская область ,  Брянская область ,  Свердловская область ,  Удмуртия ,  Волгоградская область ,  Астраханская область ,  Красноярский край ,  Тверская область ,  Курганская область ,  Иркутская область ,  Горный Алтай ,  Московская область ,  Санкт-Петербург ,  Татарстан ,  Оренбургская область ,  Якутия ,  Ивановская область ,  Северная Осетия ,  Вологодская область ,  Хакасия ,  Камчатская область ,  Коми ,  Новосибирская область ,  Магаданская область ,  Еврейская АО ,  Томская область ,  Рязанская область ,  Ростовская область ,  Саратовская область ,  \n",
      "\n",
      "==========\n",
      "POSTAL_ADDRESS_PROVINCE\n",
      "Ульяновская область ,  Марийская республика ,  Мурманская область ,  Сахалинская область ,  Омская область ,  Орловская область ,  Самарская область ,  Амурская область ,  Ставропольский край ,  Новгородская область ,  Эвенкийский АО ,  Воронежская область ,  Краснодарский край ,  Коми-Пермяцкий АО ,  Агинский Бурятский АО ,  Костромская область ,  Курская область ,  Белгородская область ,  Дагестан ,  Кемеровская область ,  Смоленская область ,  Кабардино-Балкария ,  Карачаево-Черкесия ,  Тюменская область ,  Липецкая область ,  Адыгея ,  Пензенская область ,  Ямало-Ненецкий АО ,  Нижегородская область ,  Ханты-Мансийский АО ,  Архангельская область ,  Псковская область ,  Алтайский край ,  Кировская область ,  Читинская область ,  Ярославская область ,  Пермская область ,  Тульская область ,  Башкирия ,  Чувашия ,  Приморский край ,  Москва ,  Тамбовская область ,  Бурятия ,  Калужская область ,  Карелия ,  Челябинская область ,  Хабаровский край ,  Владимирская область ,  Ленинградская область ,  Мордовская республика ,  Калмыкия ,  Усть-Ордынский Бурятский АО ,  Калининградская область ,  Брянская область ,  Свердловская область ,  Удмуртия ,  Волгоградская область ,  Астраханская область ,  Красноярский край ,  Тверская область ,  Курганская область ,  Иркутская область ,  Горный Алтай ,  Московская область ,  Санкт-Петербург ,  Татарстан ,  Оренбургская область ,  Якутия ,  Ивановская область ,  Северная Осетия ,  Вологодская область ,  Хакасия ,  Камчатская область ,  Коми ,  Новосибирская область ,  Магаданская область ,  Еврейская АО ,  Томская область ,  Рязанская область ,  Ростовская область ,  Саратовская область ,  \n",
      "\n",
      "==========\n",
      "TP_PROVINCE\n"
     ]
    },
    {
     "name": "stdout",
     "output_type": "stream",
     "text": [
      "nan ,  Ульяновская область ,  Марийская республика ,  Мурманская область ,  Сахалинская область ,  Омская область ,  Орловская область ,  Амурская область ,  Ставропольский край ,  Новгородская область ,  Воронежская область ,  Краснодарский край ,  Самарская область ,  Кемеровская область ,  Белгородская область ,  Карелия ,  Смоленская область ,  Владимирская область ,  Тюменская область ,  Липецкая область ,  Адыгея ,  Пензенская область ,  Нижегородская область ,  Ханты-Мансийский АО ,  Архангельская область ,  Псковская область ,  Алтайский край ,  Кировская область ,  Читинская область ,  Ярославская область ,  Пермская область ,  Волгоградская область ,  Башкирия ,  Чувашия ,  Приморский край ,  Москва ,  Тамбовская область ,  Бурятия ,  Калужская область ,  Челябинская область ,  Хабаровский край ,  Кабардино-Балкария ,  Курская область ,  Костромская область ,  Иркутская область ,  Калининградская область ,  Брянская область ,  Свердловская область ,  Удмуртия ,  Мордовская республика ,  Астраханская область ,  Красноярский край ,  Тверская область ,  Курганская область ,  Тульская область ,  Горный Алтай ,  Санкт-Петербург ,  Татарстан ,  Оренбургская область ,  Якутия ,  Ивановская область ,  Вологодская область ,  Камчатская область ,  Коми ,  Новосибирская область ,  Магаданская область ,  Еврейская АО ,  Томская область ,  Рязанская область ,  Ростовская область ,  Саратовская область ,  \n",
      "\n",
      "==========\n",
      "REGION_NM\n",
      "nan ,  ЗАПАДНО-СИБИРСКИЙ ,  ВОСТОЧНО-СИБИРСКИЙ ,  ПРИВОЛЖСКИЙ ,  ЮЖНЫЙ ,  ЦЕНТРАЛЬНЫЙ ОФИС ,  ПОВОЛЖСКИЙ ,  УРАЛЬСКИЙ ,  ЦЕНТРАЛЬНЫЙ 1 ,  ЦЕНТРАЛЬНЫЙ 2 ,  СЕВЕРО-ЗАПАДНЫЙ ,  ДАЛЬНЕВОСТОЧНЫЙ ,  \n",
      "\n",
      "==========\n",
      "CREDIT\n"
     ]
    },
    {
     "name": "stdout",
     "output_type": "stream",
     "text": [
      "16063,29 ,  7799,2 ,  35230 ,  48580 ,  11542 ,  11540 ,  28991 ,  28990 ,  11545 ,  28999 ,  28998 ,  5988 ,  5989 ,  5980 ,  5987 ,  19391 ,  19390 ,  22260 ,  22263 ,  22265 ,  22264 ,  37640,77 ,  22266 ,  22269 ,  25060 ,  19710 ,  6796 ,  6797 ,  27372 ,  6795 ,  6792 ,  6793 ,  6790 ,  6799 ,  56125 ,  98644 ,  25459,3 ,  4641 ,  25287 ,  25280 ,  16250 ,  19977 ,  16256 ,  19975 ,  16254 ,  16704 ,  16701 ,  16700 ,  12019 ,  22480 ,  22483 ,  22482 ,  12011 ,  12010 ,  12012 ,  17258 ,  26397 ,  26396 ,  64670 ,  26390 ,  30700 ,  17250 ,  17251 ,  10899,6 ,  17254 ,  52466 ,  10709 ,  30702 ,  9529 ,  9259 ,  9256 ,  9525 ,  9526 ,  9255 ,  9520 ,  10706 ,  9250 ,  10704 ,  24881 ,  24880 ,  21619 ,  24886 ,  24885 ,  21615 ,  19929,91 ,  83295,63 ,  20802 ,  26022 ,  26020 ,  45110 ,  16647 ,  47783,85 ,  12849 ,  22870 ,  22871 ,  22872 ,  10618 ,  24081 ,  5985 ,  24086 ,  24085 ,  37790 ,  38500 ,  3512 ,  3510 ,  3516 ,  3515 ,  21610,6 ,  31910 ,  90645 ,  36840 ,  7780 ,  2686 ,  2680 ,  14625 ,  14620 ,  14622 ,  6189,92 ,  19687,5 ,  31490 ,  14629 ,  38640 ,  5353,5 ,  30418 ,  13059 ,  11053,8 ,  36150 ,  13050 ,  13051 ,  33506 ,  18702 ,  18700 ,  18707 ,  33500 ,  24362 ,  11390,91 ,  26339 ,  24360 ,  17826 ,  17825 ,  17820 ,  15420,3 ,  29933,4 ,  20252 ,  20253 ,  20250 ,  20256 ,  16882 ,  6766,4 ,  29769 ,  29817 ,  29760 ,  29810 ,  23058 ,  23508 ,  23057 ,  23050 ,  23500 ,  13443 ,  16379 ,  27611 ,  18329 ,  6893,7 ,  2671,2 ,  39590 ,  7189 ,  10712 ,  25897,4 ,  7180 ,  29100 ,  7182 ,  29920 ,  22951 ,  7187 ,  9891,9 ,  17598 ,  12833 ,  16392 ,  12830 ,  8549 ,  8548 ,  12835 ,  87570 ,  34555 ,  8547 ,  15286 ,  8540 ,  15283 ,  8010 ,  7454 ,  7455 ,  26621 ,  44930 ,  7450 ,  44938 ,  7459 ,  66504 ,  4596 ,  27370 ,  4595 ,  29234 ,  10884 ,  10887 ,  10880 ,  29386 ,  10883 ,  4428,97 ,  22674 ,  23650 ,  22672 ,  10889 ,  22670 ,  8291 ,  6537 ,  4735 ,  15557 ,  26560 ,  50678 ,  8292 ,  2039 ,  15003 ,  24700 ,  4739 ,  32670,79 ,  15552 ,  22011 ,  4345 ,  22015 ,  18048 ,  4729 ,  21470 ,  4725 ,  13615 ,  4727 ,  81500 ,  31900 ,  4720 ,  16370 ,  11289 ,  16065 ,  5845 ,  19700 ,  5841 ,  5840 ,  11281 ,  11280 ,  4340 ,  5849 ,  11286 ,  17623 ,  17622 ,  17625 ,  17624 ,  3748 ,  3749 ,  3746 ,  3744 ,  3745 ,  3743 ,  3740 ,  4620 ,  41829 ,  6390,95 ,  4624 ,  13534 ,  13536 ,  4628 ,  4629 ,  94300 ,  11755 ,  11754 ,  11753 ,  11752 ,  11751 ,  11750 ,  34990,8 ,  43682 ,  29266 ,  19560 ,  16390 ,  13463 ,  16396 ,  16395 ,  16398 ,  16399 ,  14536 ,  10463 ,  5005,8 ,  20730 ,  20883 ,  5207 ,  20880 ,  14530 ,  15434,3 ,  13462 ,  25546 ,  25540 ,  13289 ,  5208 ,  13287 ,  13286 ,  13284 ,  25549 ,  13281 ,  13280 ,  8102,08 ,  14160 ,  32444 ,  13387 ,  21930 ,  21280 ,  21286 ,  21935 ,  21936 ,  42335 ,  7972,6 ,  20086 ,  20085 ,  20084 ,  2224,8 ,  2224,9 ,  20080 ,  10390 ,  10392 ,  10394 ,  6299,72 ,  13630 ,  10398 ,  7219 ,  30946,29 ,  7210 ,  8619 ,  13546 ,  7216 ,  6217 ,  12227 ,  6215 ,  12225 ,  12222 ,  6211 ,  6210 ,  16257 ,  10216,1 ,  6219 ,  12229 ,  6819 ,  15709 ,  59629 ,  3879 ,  15700 ,  6810 ,  15874 ,  15875 ,  4290,95 ,  15705 ,  15870 ,  41175 ,  29372 ,  29370 ,  9754 ,  29376 ,  9750 ,  22490,91 ,  10575 ,  10576 ,  10570 ,  9759 ,  9758 ,  18934 ,  37305 ,  6237,03 ,  24145 ,  21420 ,  24141 ,  63271 ,  17387 ,  8848 ,  5761,9 ,  8840 ,  8844 ,  8846 ,  9452,97 ,  17546 ,  26330 ,  30627 ,  7669 ,  7668 ,  26818 ,  26819 ,  72890 ,  7660 ,  7663 ,  40084 ,  7667 ,  6077,7 ,  7259,8 ,  11333 ,  11842 ,  3850,85 ,  2270 ,  37180,5 ,  25081,98 ,  11191 ,  29595 ,  29592 ,  5624,3 ,  29590 ,  29591 ,  22489 ,  29598 ,  22488 ,  24550 ,  24552 ,  24555 ,  27759 ,  2165,16 ,  18643 ,  26395 ,  28428 ,  16380 ,  28425 ,  14470 ,  11113 ,  14340 ,  14475 ,  11114 ,  14477 ,  28350 ,  34300 ,  8712 ,  30330 ,  8715 ,  18319 ,  8719 ,  30224 ,  76160 ,  13841 ,  13840 ,  13843 ,  9990,2 ,  13847 ,  13846 ,  13849 ,  15164 ,  19190 ,  19035 ,  16389 ,  14349 ,  16660 ,  18649 ,  7183 ,  7180,9 ,  17922 ,  5618 ,  5619 ,  5612 ,  5613 ,  5610 ,  5611 ,  5616 ,  5614 ,  12749 ,  13921,52 ,  5712 ,  11569 ,  17033 ,  23260 ,  47021 ,  11560 ,  11563 ,  11565 ,  23268 ,  25980 ,  3045 ,  4493 ,  9524 ,  10702 ,  22244 ,  22243 ,  22240 ,  10700 ,  38778,01 ,  25738 ,  9664,5 ,  10707 ,  11389,2 ,  25730 ,  4743,68 ,  9251 ,  6779 ,  27398 ,  6776 ,  6777 ,  6770 ,  27390 ,  9960 ,  9963 ,  13301 ,  11834 ,  20374 ,  16230 ,  16720 ,  24889 ,  16237 ,  32076 ,  12038 ,  12032 ,  88555 ,  3103,2 ,  31817,2 ,  11409 ,  19320 ,  64794 ,  9509 ,  9500 ,  9501 ,  9504 ,  65520 ,  14388,3 ,  21631 ,  21630 ,  21634 ,  3689 ,  34313,4 ,  12741 ,  3681 ,  3680 ,  26049 ,  2518 ,  2514 ,  2877,9 ,  2510 ,  2511 ,  22299 ,  11488 ,  43059,8 ,  3530 ,  22810 ,  5465,26 ,  5058 ,  3537 ,  3539 ,  5055 ,  22818 ,  22819 ,  5050 ,  5051 ,  5053 ,  45790 ,  22525 ,  22522 ,  17449,91 ,  22520 ,  10767 ,  10769 ,  10768 ,  28879 ,  14866 ,  18891 ,  18890 ,  18549 ,  18896 ,  14860 ,  14645 ,  18899 ,  18898 ,  18540 ,  38625 ,  13489,91 ,  17073 ,  13078 ,  30430 ,  2805,53 ,  44225 ,  26457 ,  31498 ,  6399,2 ,  36170 ,  18099 ,  18762 ,  18096 ,  18094 ,  27550 ,  13456,82 ,  20272 ,  23843,7 ,  4169 ,  27800 ,  20277 ,  72896 ,  2028,56 ,  20525 ,  10185 ,  67160 ,  10186 ,  10180 ,  10189 ,  10188 ,  29299 ,  29742 ,  29295 ,  29294 ,  29297 ,  7291,85 ,  72090 ,  5736,6 ,  2259,9 ,  36963,5 ,  15119 ,  15115 ,  15117 ,  15111 ,  15110 ,  29001 ,  25899 ,  25898 ,  29120 ,  25893 ,  58541 ,  25890 ,  25897 ,  25896 ,  6959 ,  31748 ,  8035 ,  8037 ,  8036 ,  8030 ,  8033 ,  8038 ,  12589 ,  12588 ,  12850 ,  4199,2 ,  12854 ,  10046 ,  12856 ,  26600 ,  35910 ,  25168 ,  8536 ,  66565 ,  22654 ,  22656 ,  12310,91 ,  2773 ,  4530,7 ,  22388 ,  26547 ,  26540 ,  26543 ,  22380 ,  22384 ,  16920 ,  4299 ,  13989 ,  13985 ,  4297 ,  13980 ,  4290 ,  4293 ,  4292 ,  23380 ,  24768 ,  23382 ,  6097,5 ,  28651 ,  23389 ,  24760 ,  24764 ,  22032 ,  16596 ,  22037 ,  61250 ,  13769,2 ,  77000 ,  10432 ,  18340 ,  35669 ,  74466 ,  4749 ,  13679 ,  6499,2 ,  13670 ,  4740 ,  31966 ,  4746 ,  13674 ,  26189 ,  16002 ,  28933 ,  16000 ,  12236 ,  5869 ,  19765 ,  5865 ,  12231 ,  5867 ,  19769 ,  5860 ,  5863 ,  5862 ,  2239 ,  17609 ,  17355 ,  17357 ,  17604 ,  17350 ,  17600 ,  2183 ,  25386 ,  25385 ,  2180 ,  4608 ,  25380 ,  13516 ,  2189 ,  13514 ,  4602 ,  29949,7 ,  4600 ,  13510 ,  6451 ,  23920 ,  23923 ,  6906 ,  6208 ,  23929 ,  6209 ,  27234 ,  27237 ,  15435 ,  23505,1 ,  27233 ,  19589 ,  8138 ,  5721 ,  19580 ,  10348,2 ,  20869 ,  6901 ,  20715 ,  12427 ,  20860 ,  20863 ,  20710 ,  3540,2 ,  8134 ,  25560 ,  6458 ,  10163 ,  25568 ,  35640 ,  27062 ,  18515,03 ,  8137 ,  12680 ,  5936 ,  8698,1 ,  13916 ,  6185 ,  13915 ,  6181 ,  6180 ,  5933 ,  6188 ,  2726 ,  2724 ,  16112 ,  2720 ,  45630 ,  7236 ,  9190 ,  4041,9 ,  7947 ,  7940 ,  15863 ,  7230 ,  7231 ,  9199 ,  9198 ,  48000 ,  39800 ,  10370 ,  3490,91 ,  16919 ,  16916 ,  16917 ,  16910 ,  16119 ,  19156 ,  6239 ,  6238 ,  8233,95 ,  3739,2 ,  6236 ,  12200 ,  6230 ,  6232 ,  70360 ,  10565 ,  29359 ,  9779 ,  10512 ,  9774 ,  9777 ,  9770 ,  10515 ,  8866 ,  14980 ,  37360 ,  8865 ,  14985 ,  17577 ,  8860 ,  18955 ,  14989 ,  21405 ,  24166 ,  24167 ,  21400 ,  8869 ,  9389,1 ,  9059,92 ,  10233 ,  26837 ,  13441 ,  8731,47 ,  7819 ,  21430 ,  5267 ,  14188 ,  5265 ,  7990,9 ,  5261 ,  13400 ,  14180 ,  14185 ,  4572 ,  5268 ,  15856 ,  42682 ,  15850 ,  7937 ,  15859 ,  2090 ,  40200 ,  13882,92 ,  63200 ,  18376 ,  4578 ,  14455 ,  14326 ,  11133 ,  14320 ,  24579 ,  18371 ,  14328 ,  24570 ,  17980 ,  8116 ,  3028 ,  17988 ,  3026 ,  3025 ,  28400 ,  3020 ,  30600 ,  34981 ,  34980 ,  30355 ,  12412 ,  34325 ,  8735 ,  8730 ,  3950 ,  13869 ,  4199 ,  4196 ,  13865 ,  4195 ,  31000 ,  4190 ,  13860 ,  5670 ,  8835 ,  5672 ,  4792,3 ,  3955 ,  5676 ,  5678 ,  5679 ,  10390,92 ,  89000 ,  16418 ,  38389 ,  26115 ,  38386 ,  8830 ,  21069,8 ,  34187 ,  13921,36 ,  3080 ,  30960 ,  23717 ,  23715 ,  47000 ,  23713 ,  23711 ,  15327 ,  8190 ,  6434 ,  6433 ,  59200 ,  12440 ,  87928 ,  8198 ,  8199 ,  27000 ,  15040 ,  19316 ,  30630 ,  17448 ,  11329,65 ,  12434 ,  29046,1 ,  13734 ,  28421 ,  19315 ,  32580 ,  6758 ,  6759 ,  6750 ,  6756 ,  6757 ,  6754 ,  6755 ,  9940 ,  35580 ,  9947 ,  9945 ,  12440,1 ,  9949 ,  19245 ,  32724 ,  19935 ,  19246 ,  16745 ,  19240 ,  24773,2 ,  19930 ,  13232,88 ,  19249 ,  16218 ,  12050 ,  12053 ,  61915 ,  12057 ,  12056 ,  42780 ,  14747,1 ,  4182 ,  20310 ,  7673 ,  20609 ,  27799 ,  25710 ,  25713 ,  6247 ,  21650 ,  21653 ,  21876 ,  21870 ,  21658 ,  13148,83 ,  45500 ,  10697 ,  26060 ,  13990,92 ,  2538 ,  14705,95 ,  27570 ,  14257,91 ,  10060 ,  17162 ,  38810 ,  17160 ,  17161 ,  5072 ,  5070 ,  5071 ,  5076 ,  5077 ,  75090 ,  15658,85 ,  9560 ,  9562 ,  9564 ,  9565 ,  10749 ,  10748 ,  9568 ,  36805 ,  10740 ,  5380 ,  5381 ,  5382 ,  5383 ,  5384 ,  14849 ,  37576 ,  11081,52 ,  14845 ,  14662 ,  33725 ,  14840 ,  14841 ,  33720 ,  33721 ,  5707,4 ,  10738,5 ,  21717,92 ,  18286 ,  23406 ,  13098 ,  13099 ,  3661,01 ,  13093 ,  13090 ,  11786,85 ,  80440 ,  12262 ,  44750 ,  36115 ,  7473,3 ,  27829 ,  20298 ,  20299 ,  20296 ,  20297 ,  9862 ,  27827 ,  20292 ,  18990,5 ,  20290 ,  29721 ,  9385 ,  33255 ,  29722 ,  9380 ,  22427 ,  9389 ,  39638 ,  4978 ,  4979 ,  12628,91 ,  13388 ,  4060 ,  3904,3 ,  15130 ,  26991 ,  26990 ,  7148 ,  31763 ,  7144 ,  26999 ,  26998 ,  7140 ,  4026,55 ,  18747 ,  18745 ,  18744 ,  10791 ,  18740 ,  25957,2 ,  48594,31 ,  8053 ,  8500 ,  4026,4 ,  8050 ,  8057 ,  8056 ,  8507 ,  12870 ,  8508 ,  8059 ,  50098 ,  9499,2 ,  10457 ,  26668 ,  2880 ,  31491 ,  31496 ,  7060 ,  7492 ,  44970 ,  7490 ,  2889 ,  26665 ,  26664 ,  7495 ,  28090 ,  47250 ,  24298 ,  24299 ,  28098 ,  24290 ,  24291 ,  10456 ,  24297 ,  24295 ,  22637 ,  22635 ,  54000 ,  10347 ,  26520 ,  27102,5 ,  26529 ,  24740 ,  24741 ,  24743 ,  24745 ,  24749 ,  28898 ,  28899 ,  3199,2 ,  3275 ,  28890 ,  28894 ,  3602 ,  11160 ,  21907 ,  38312,5 ,  13650 ,  4760 ,  13652 ,  31943 ,  4765 ,  13656 ,  14052 ,  4769 ,  4768 ,  73035 ,  11249 ,  15750,91 ,  11247 ,  11240 ,  11243 ,  11242 ,  19748 ,  5808 ,  14055 ,  16020 ,  5800 ,  2008,8 ,  32265 ,  19030 ,  17379 ,  17378 ,  8763 ,  56319 ,  17373 ,  17372 ,  17371 ,  17370 ,  17375 ,  7181 ,  25367 ,  25360 ,  25362 ,  10999,9 ,  11799 ,  23900 ,  7147 ,  11790 ,  11797 ,  11796 ,  11795 ,  27213 ,  16180 ,  51140 ,  6935 ,  63657 ,  13835 ,  4450,5 ,  20845 ,  25508 ,  25500 ,  25503 ,  16070,5 ,  23792 ,  16688 ,  13228 ,  16687 ,  16680 ,  16682 ,  16740,65 ,  4888 ,  4889 ,  99540 ,  10350 ,  10352 ,  5646,6 ,  2705 ,  2704 ,  4882 ,  4883 ,  2700 ,  4886 ,  4887 ,  93820 ,  7965 ,  6938 ,  9176 ,  10680 ,  53091 ,  10686 ,  10687 ,  9170 ,  16979 ,  15954,3 ,  16970 ,  16976 ,  16977 ,  16975 ,  17080 ,  17082 ,  12318 ,  17086 ,  17089 ,  12260 ,  6250 ,  6257 ,  6116 ,  6255 ,  12265 ,  10530 ,  10531 ,  3016,8 ,  10536 ,  12919 ,  10538 ,  10539 ,  12740 ,  10550 ,  9718 ,  9759,4 ,  8544 ,  9712 ,  9711 ,  6113 ,  14232 ,  3474 ,  3476 ,  3477 ,  3470 ,  3471 ,  22990 ,  18970 ,  24103 ,  24100 ,  8887 ,  8880 ,  8881 ,  22999 ,  15280 ,  20590 ,  20592 ,  8543 ,  20599 ,  20598 ,  41490 ,  5825 ,  26850 ,  15633 ,  26854 ,  14949 ,  19220 ,  29526,12 ,  14948 ,  30170 ,  11433 ,  11288 ,  5249 ,  44933 ,  5245 ,  5247 ,  5240 ,  5243 ,  15832 ,  15833 ,  15830 ,  9415,98 ,  13130 ,  13133 ,  7931,96 ,  15839 ,  13139 ,  13138 ,  38877 ,  40594 ,  5487 ,  14300 ,  3001 ,  3000 ,  3003 ,  3310 ,  28469 ,  9458 ,  14309 ,  18357 ,  18350 ,  27455 ,  27457 ,  27456 ,  27450 ,  12482 ,  17966 ,  17962 ,  17963 ,  17960 ,  3314 ,  9107 ,  30370 ,  22711,21 ,  30372 ,  3316 ,  9456 ,  31538 ,  7288 ,  4125,6 ,  66680 ,  11225 ,  12128 ,  95441 ,  5658 ,  5652 ,  20989 ,  5650 ,  24030 ,  7481,98 ,  2524,5 ,  8173,15 ,  23735 ,  23737 ,  4661,84 ,  28280 ,  18236,55 ,  13345 ,  23738 ,  28288 ,  11697,1 ,  48700 ,  27022 ,  23220 ,  23226 ,  16452 ,  12468 ,  15309 ,  59224 ,  30954 ,  12465 ,  12466 ,  82170 ,  15300 ,  30951 ,  41498 ,  12463 ,  11430,01 ,  7776 ,  13949 ,  35070 ,  16985 ,  7770 ,  7779 ,  7208 ,  19486 ,  19482 ,  19481 ,  19480 ,  3919 ,  3918 ,  8314 ,  6731 ,  11687,6 ,  6733 ,  6734 ,  34700 ,  6736 ,  6739 ,  8319 ,  56950,61 ,  5994 ,  15067 ,  9928 ,  22058,91 ,  24240,91 ,  9920 ,  9923 ,  9924 ,  9927 ,  32700 ,  19267 ,  32706 ,  16769 ,  16766 ,  16765 ,  14930 ,  16760 ,  22175 ,  22170 ,  6088 ,  "
     ]
    },
    {
     "name": "stdout",
     "output_type": "stream",
     "text": [
      "6089 ,  6086 ,  6087 ,  6080 ,  12070 ,  23279 ,  3285 ,  15943 ,  25778 ,  24864 ,  18240,91 ,  21850 ,  21856 ,  21858 ,  21673 ,  21670 ,  3647 ,  3646 ,  3645 ,  3640 ,  2550 ,  2552 ,  2555 ,  26085 ,  26084 ,  26080 ,  26082 ,  11477 ,  11475 ,  11473 ,  11470 ,  11471 ,  5010 ,  5011 ,  5013 ,  31694 ,  5015 ,  5016 ,  5018 ,  5019 ,  46881 ,  38832 ,  38830 ,  17149 ,  17144 ,  17145 ,  17146 ,  17415 ,  17140 ,  17141 ,  17411 ,  25197 ,  31695 ,  25195 ,  36750 ,  4419 ,  4416 ,  13302 ,  4412 ,  13300 ,  4410 ,  9546 ,  9545 ,  36287 ,  9540 ,  14829 ,  10467,1 ,  24695,2 ,  58900 ,  14820 ,  15990 ,  14775,71 ,  21847 ,  20106 ,  20102 ,  20100 ,  99289 ,  22944 ,  36136 ,  9989,92 ,  44778 ,  44770 ,  13944 ,  41500 ,  27598 ,  27599 ,  27846 ,  4590,2 ,  59761 ,  40900 ,  21362 ,  29707 ,  29250 ,  29700 ,  18500 ,  18502 ,  11810 ,  11811 ,  37440 ,  11819 ,  78350 ,  34280 ,  15150 ,  17598,9 ,  3894,2 ,  31702 ,  28790,94 ,  31700 ,  7169 ,  7163 ,  7160 ,  16045,2 ,  7166 ,  7167 ,  37666 ,  40680 ,  37881 ,  37880 ,  8078 ,  30031 ,  3420 ,  12899 ,  12898 ,  88500 ,  8070 ,  12897 ,  12896 ,  12890 ,  8077 ,  8076 ,  12206 ,  30615 ,  26641 ,  26640 ,  86618 ,  6335 ,  50300 ,  25829,1 ,  23038 ,  23037 ,  23033 ,  47900 ,  23031 ,  23030 ,  22618 ,  22349 ,  22346 ,  22347 ,  22345 ,  7486,1 ,  22615 ,  22340 ,  22617 ,  17873,75 ,  26500 ,  6520 ,  4853 ,  35990,92 ,  2884,5 ,  4852 ,  4379 ,  2300 ,  6525 ,  28610 ,  4850 ,  4726 ,  30390 ,  18496 ,  13610 ,  30391 ,  14176 ,  48900 ,  17091,9 ,  4788 ,  4786 ,  4785 ,  4781 ,  4780 ,  5820 ,  11269 ,  23690 ,  19010 ,  5824 ,  23695 ,  5846 ,  5829 ,  5828 ,  27337 ,  32938 ,  11266 ,  27208,78 ,  87880 ,  6889 ,  8262 ,  32220 ,  8263 ,  29963,85 ,  16063 ,  26232,03 ,  25690 ,  25340 ,  25695 ,  28983 ,  21021,9 ,  30756 ,  23960 ,  25999 ,  10450 ,  27270 ,  5848 ,  27275 ,  61290 ,  27276 ,  25522 ,  25520 ,  19745 ,  69076 ,  17425 ,  13948,2 ,  21990 ,  5538,6 ,  21994 ,  21998 ,  21999 ,  14672 ,  17310 ,  12798 ,  12799 ,  17316 ,  12792 ,  12790 ,  12791 ,  12797 ,  12795 ,  16627 ,  10330 ,  2768 ,  9150 ,  9153 ,  10338 ,  15493 ,  9159 ,  9158 ,  16950 ,  7909 ,  16403 ,  16400 ,  38120 ,  19490,6 ,  9482 ,  7902 ,  9480 ,  7904 ,  7905 ,  60600 ,  12240 ,  6270 ,  6273 ,  21199 ,  12246 ,  13530 ,  6279 ,  12249 ,  21190 ,  15127,38 ,  85742,8 ,  21195 ,  2909,95 ,  20827 ,  20826 ,  6819,3 ,  9730 ,  9733 ,  9735 ,  9739 ,  9738 ,  4082 ,  21440 ,  18696 ,  31446 ,  21444 ,  24125 ,  21330 ,  21447 ,  13220 ,  19966 ,  21338 ,  3385,83 ,  3450 ,  13797 ,  3454 ,  32000 ,  22977 ,  22970 ,  22973 ,  21802 ,  29336,4 ,  41994 ,  41990 ,  10584 ,  3860 ,  86449 ,  26870 ,  26871 ,  26872 ,  26874 ,  26875 ,  8905 ,  14148 ,  14144 ,  14147 ,  14146 ,  14141 ,  14140 ,  26401,53 ,  5229 ,  5228 ,  5222 ,  5221 ,  5220 ,  5225 ,  37046 ,  13113 ,  13112 ,  13110 ,  13115 ,  15810 ,  15813 ,  15815 ,  30673 ,  8164,56 ,  14350 ,  24071,3 ,  4318,2 ,  28273 ,  3063 ,  17946 ,  18339 ,  17940 ,  22498 ,  14493 ,  14360 ,  18330 ,  14490 ,  17948 ,  17949 ,  18334 ,  11187 ,  20313 ,  27472 ,  67490,94 ,  20317 ,  18675 ,  20315 ,  4810 ,  38032 ,  4267 ,  90747,9 ,  4268 ,  24138,2 ,  21635,81 ,  7574 ,  29065 ,  29060 ,  9815 ,  83194 ,  19660 ,  12344,4 ,  23200 ,  23201 ,  23750 ,  23751 ,  28919 ,  23205 ,  66000 ,  23758 ,  17770,4 ,  27040 ,  5724 ,  34493 ,  27045 ,  51000 ,  20882 ,  6479 ,  26936 ,  15363 ,  12400 ,  12401 ,  6477 ,  15367 ,  15364 ,  6474 ,  18669,2 ,  35010 ,  7759 ,  31510 ,  7755 ,  7754 ,  7751 ,  7750 ,  7752 ,  32892 ,  19608 ,  32890 ,  14696 ,  6201 ,  3935 ,  9533 ,  32547 ,  19460 ,  3933 ,  3932 ,  8330 ,  34720 ,  8336 ,  8337 ,  6719 ,  8339 ,  6712 ,  6710 ,  88312 ,  9905 ,  9902 ,  9900 ,  9901 ,  9908 ,  24465 ,  24466 ,  24461 ,  24460 ,  50177 ,  16823 ,  27400 ,  11348,1 ,  19200 ,  32090 ,  32765 ,  22151 ,  22150 ,  13488 ,  22154 ,  22158 ,  22400 ,  4047 ,  4040 ,  13750 ,  4042 ,  4043 ,  26315 ,  26311 ,  26310 ,  25758 ,  25750 ,  33192 ,  25756 ,  21838 ,  3666 ,  3660 ,  3663 ,  24800 ,  24807 ,  3668 ,  21836 ,  36308 ,  3069,9 ,  23820 ,  2578 ,  2579 ,  3268 ,  2572 ,  47114 ,  2570 ,  28840 ,  11458 ,  11454 ,  11455 ,  11456 ,  11450 ,  11453 ,  17435 ,  3591 ,  3590 ,  17430 ,  28845 ,  5038 ,  5039 ,  5036 ,  5037 ,  3599 ,  3598 ,  5032 ,  17439 ,  5030 ,  5031 ,  4435 ,  23828 ,  13326 ,  17129 ,  13320 ,  4430 ,  17568 ,  38850 ,  4439 ,  13329 ,  11989,91 ,  36730 ,  11623 ,  4982,4 ,  11495 ,  23358 ,  21861 ,  19923 ,  20125 ,  41292 ,  4150 ,  10506,76 ,  21938 ,  11924,64 ,  39865 ,  12810 ,  39980 ,  42657 ,  41720 ,  26462 ,  85697 ,  27860 ,  45000 ,  8756 ,  10474 ,  10477 ,  99000 ,  10471 ,  10470 ,  53662 ,  10479 ,  10478 ,  17840 ,  20088 ,  29277 ,  14800 ,  11870 ,  8924 ,  18839 ,  14805 ,  8920 ,  18525 ,  37060 ,  8929 ,  8928 ,  30580 ,  27939 ,  5415 ,  30230 ,  10248,2 ,  15170 ,  7100 ,  29180 ,  7105 ,  7107 ,  14758 ,  22987 ,  11085 ,  29997,24 ,  3527 ,  31720 ,  31726 ,  18789 ,  33588 ,  18780 ,  18784 ,  5610,7 ,  5418 ,  34000 ,  29989 ,  29980 ,  17089,9 ,  28055 ,  28050 ,  14773 ,  14770 ,  14771 ,  28059 ,  24250 ,  76000 ,  5966,7 ,  28580 ,  19770 ,  28584 ,  5482,3 ,  18328,6 ,  12733,5 ,  18545,5 ,  24780 ,  31189 ,  4239 ,  13929 ,  4237 ,  4236 ,  4235 ,  11615,1 ,  18553 ,  13920 ,  4230 ,  28630 ,  5590 ,  5592 ,  5595 ,  5594 ,  5597 ,  5596 ,  5599 ,  5598 ,  5807 ,  4581,87 ,  19791 ,  32007,6 ,  6376,5 ,  2797,95 ,  38200 ,  33097 ,  13695 ,  19143 ,  13690 ,  7977 ,  35600 ,  5806 ,  13698 ,  13699 ,  10348 ,  11200 ,  11203 ,  13907 ,  11205 ,  11204 ,  36290 ,  43353 ,  11098,8 ,  19072 ,  19071 ,  19074 ,  32955 ,  18456,2 ,  19079 ,  22364 ,  22365 ,  2290,7 ,  6214 ,  22360 ,  22361 ,  65000 ,  27780 ,  22369 ,  25320 ,  12220 ,  4583,7 ,  23947 ,  23946 ,  23945 ,  23416 ,  23943 ,  23410 ,  23940 ,  32975,3 ,  23949 ,  27257 ,  12228 ,  27251 ,  27250 ,  27259 ,  22090 ,  22091 ,  22097 ,  22098 ,  16395,78 ,  16949 ,  14651 ,  2299 ,  2290 ,  12670 ,  19697 ,  3916 ,  80676 ,  32370 ,  8694 ,  3406 ,  6643 ,  8697 ,  19699 ,  42408 ,  8188,04 ,  8515 ,  19640 ,  42400 ,  51777 ,  56600 ,  10917 ,  10914 ,  10912 ,  10910 ,  5906 ,  17335 ,  7336,3 ,  59625 ,  17330 ,  7290 ,  7927 ,  7293 ,  7922 ,  9135 ,  10310 ,  10647 ,  10312 ,  57000 ,  10640 ,  19037,2 ,  16428 ,  16425 ,  16420 ,  16422 ,  16450,71 ,  6299 ,  6298 ,  6297 ,  6296 ,  6295 ,  6294 ,  9755 ,  6291 ,  6290 ,  26125 ,  26120 ,  81672 ,  6726,1 ,  20800 ,  3489 ,  4935 ,  29382 ,  46960 ,  21312 ,  17593 ,  17592 ,  22959 ,  17590 ,  17597 ,  17596 ,  17595 ,  17594 ,  3430 ,  4372,2 ,  3432 ,  22950 ,  3434 ,  22955 ,  4592 ,  4590 ,  4689,2 ,  2745 ,  4849 ,  2031 ,  38498 ,  4844 ,  4845 ,  4598 ,  4599 ,  4840 ,  4841 ,  4842 ,  4843 ,  5965 ,  17379,99 ,  30400 ,  11999 ,  11998 ,  14168 ,  5205 ,  5141,7 ,  5209 ,  11990 ,  11992 ,  11995 ,  14166 ,  11997 ,  11996 ,  13179 ,  13178 ,  36070 ,  13170 ,  13173 ,  13172 ,  13176 ,  18310 ,  11190 ,  11192 ,  11195 ,  37293 ,  11197 ,  33930 ,  11199 ,  11198 ,  18648 ,  14348 ,  3049 ,  3048 ,  17920 ,  17921 ,  17924 ,  19860 ,  3040 ,  17928 ,  91168 ,  3047 ,  3046 ,  21076 ,  8849 ,  20370 ,  20375 ,  34920 ,  40000 ,  44030 ,  12393,91 ,  35500,74 ,  11670 ,  33920 ,  28258 ,  9203,4 ,  16993 ,  19187 ,  15699 ,  12580 ,  15690 ,  15691 ,  15696 ,  15697 ,  15695 ,  32481,83 ,  29040 ,  12365,2 ,  23770 ,  28932 ,  28930 ,  23774 ,  10981,82 ,  12420 ,  6450 ,  8680 ,  12423 ,  12424 ,  15345 ,  6457 ,  6900 ,  27060 ,  12429 ,  8136 ,  27063 ,  8130 ,  27065 ,  27066 ,  82130 ,  7739 ,  7738 ,  16875,1 ,  7730 ,  7735 ,  31060 ,  3959 ,  19448 ,  3952 ,  3951 ,  19440 ,  19195 ,  19446 ,  19197 ,  10022 ,  8350 ,  34740 ,  18740,5 ,  8355 ,  8357 ,  17838 ,  35290 ,  15482 ,  73996 ,  79380 ,  39090 ,  32970 ,  24449 ,  2399 ,  27541 ,  2781 ,  22139 ,  22428 ,  3418,5 ,  40080 ,  10490,91 ,  22133 ,  22420 ,  22135 ,  6549,83 ,  13771 ,  13770 ,  13776 ,  4064 ,  13774 ,  16565,65 ,  4068 ,  81445 ,  26337 ,  7664 ,  10021 ,  5785 ,  5786 ,  5780 ,  12925,2 ,  20268 ,  5788 ,  5789 ,  22307 ,  7083,05 ,  3600 ,  3606 ,  3605 ,  3604 ,  3608 ,  16889,92 ,  3879,17 ,  6848 ,  26970,6 ,  3276 ,  19991 ,  19990 ,  19993 ,  11439 ,  19997 ,  19996 ,  19999 ,  19998 ,  11430 ,  11431 ,  19229 ,  32748 ,  17100 ,  17453 ,  17450 ,  17451 ,  17106 ,  17458 ,  17459 ,  21211 ,  4450 ,  4456 ,  4455 ,  4454 ,  4458 ,  36718 ,  19420 ,  37857,2 ,  21814 ,  21812 ,  24867 ,  21810 ,  24868 ,  21819 ,  20143 ,  20140 ,  20149 ,  33400 ,  17039,91 ,  16850 ,  16859 ,  16858 ,  42899 ,  6336 ,  12166 ,  6330 ,  12160 ,  6332 ,  6333 ,  6338 ,  6339 ,  27886 ,  41010 ,  27880 ,  9675 ,  10451 ,  9677 ,  9670 ,  29214 ,  9672 ,  10454 ,  10105 ,  10459 ,  10106 ,  10100 ,  10103 ,  30361 ,  7498,9 ,  21762 ,  33749 ,  18819 ,  8909 ,  11850 ,  8904 ,  18810 ,  8901 ,  13053,2 ,  33030 ,  8902 ,  6530 ,  30216 ,  30215 ,  26938 ,  7128 ,  7129 ,  13768 ,  7124 ,  7125 ,  7123 ,  7120 ,  23598 ,  42740 ,  37629 ,  6069 ,  6018,39 ,  4074 ,  4076 ,  4202 ,  13761 ,  24275 ,  26689 ,  24270 ,  2829 ,  24272 ,  20928 ,  2826 ,  2820 ,  35992 ,  35991 ,  35990 ,  3386 ,  3387 ,  3385 ,  5410 ,  3383 ,  3380 ,  19455 ,  4203 ,  14755 ,  25256,89 ,  14750 ,  5419 ,  3388 ,  3389 ,  5794 ,  3196 ,  4215 ,  13905 ,  4217 ,  4216 ,  13900 ,  4210 ,  11619,84 ,  4212 "
     ]
    },
    {
     "name": "stdout",
     "output_type": "stream",
     "text": [
      ",  5388 ,  9576,1 ,  3961 ,  13908 ,  4218 ,  18105 ,  18100 ,  39720 ,  5579 ,  5577 ,  5576 ,  5575 ,  5573 ,  5571 ,  5570 ,  34020 ,  5798 ,  7240,5 ,  14472 ,  23420,7 ,  31300 ,  24531,06 ,  11115 ,  28420 ,  6990,91 ,  11227 ,  6380,91 ,  11116 ,  11223 ,  6990,92 ,  11220 ,  19050 ,  19051 ,  27617,1 ,  9536 ,  19055 ,  32976 ,  22302 ,  22303 ,  22300 ,  25901 ,  25900 ,  3690,82 ,  33550,35 ,  5280,91 ,  8717 ,  25650 ,  25301 ,  25300 ,  47529,91 ,  3960,9 ,  23437 ,  19945,35 ,  82650 ,  26241,6 ,  2990,92 ,  19630 ,  15100,82 ,  7376 ,  16198 ,  16199 ,  16629 ,  16194 ,  42468 ,  16197 ,  16190 ,  16191 ,  16620 ,  16621 ,  6109 ,  6108 ,  6105 ,  6104 ,  6103 ,  6102 ,  12750 ,  6100 ,  4140,2 ,  10938 ,  10939 ,  13848 ,  10935 ,  10936 ,  16994 ,  63700 ,  16996 ,  16990 ,  16991 ,  16992 ,  9448 ,  9111 ,  9110 ,  9445 ,  9444 ,  16998 ,  16999 ,  9117 ,  9440 ,  12284 ,  12285 ,  16448 ,  16449 ,  12280 ,  12283 ,  16443 ,  16440 ,  16441 ,  12288 ,  16447 ,  21150 ,  16445 ,  12328 ,  13235 ,  26100 ,  21484 ,  29750 ,  12755 ,  21480 ,  21481 ,  21482 ,  37391 ,  37656 ,  3417 ,  3415 ,  26999,1 ,  3410 ,  3411 ,  37450 ,  49223 ,  21370 ,  8020 ,  3418 ,  3419 ,  19230 ,  5674,5 ,  15292 ,  3899,2 ,  13489 ,  10665 ,  4868 ,  4869 ,  10660 ,  12822 ,  13480 ,  4860 ,  15291 ,  25390,94 ,  4867 ,  4865 ,  18480 ,  14100 ,  18482 ,  18216 ,  35090,92 ,  14107 ,  7443 ,  17714 ,  17716 ,  17710 ,  17712 ,  17719 ,  17718 ,  13157 ,  13156 ,  13155 ,  19989 ,  2707,2 ,  13150 ,  20680 ,  6698,3 ,  60619 ,  10593 ,  10590 ,  3015,2 ,  10596 ,  2881 ,  10599 ,  36500 ,  28775 ,  14391,2 ,  54700 ,  18668 ,  16995 ,  18667 ,  18660 ,  37900 ,  17909 ,  20355 ,  27434 ,  20421 ,  7017 ,  17900 ,  17901 ,  2939,2 ,  20428 ,  27439 ,  45908 ,  30680 ,  30681 ,  34901 ,  34900 ,  30684 ,  34905 ,  44500 ,  9447 ,  44050 ,  9446 ,  9443 ,  17462 ,  12990 ,  12992 ,  18692 ,  12995 ,  12996 ,  12998 ,  12999 ,  9116 ,  6539,91 ,  29536 ,  18964 ,  23990,83 ,  21524 ,  29538 ,  4701,6 ,  20030 ,  30544 ,  4469 ,  9804 ,  8118 ,  15418 ,  6928 ,  11123 ,  8112 ,  6924 ,  8110 ,  6926 ,  6921 ,  4464 ,  6922 ,  7711 ,  7710 ,  7713 ,  50757 ,  7715 ,  26740 ,  7718 ,  4360,91 ,  39300 ,  12289 ,  13371 ,  14288 ,  4461 ,  34766 ,  8373 ,  8370 ,  8169,55 ,  8379 ,  3798,9 ,  38223,86 ,  18960 ,  22398 ,  100500 ,  9801 ,  11126 ,  28950 ,  31895,48 ,  23265 ,  28955 ,  28770 ,  28773 ,  30340 ,  24420 ,  24423 ,  15372 ,  22440 ,  22110 ,  22643 ,  26353 ,  26355 ,  12127 ,  13719 ,  22640 ,  16874,4 ,  4000 ,  13710 ,  4004 ,  4005 ,  3971 ,  32500 ,  3973 ,  3975 ,  22645 ,  10695,13 ,  19429 ,  3978 ,  3628 ,  8230 ,  13992 ,  3621 ,  3620 ,  13991 ,  3626 ,  4281 ,  11410 ,  11412 ,  57706 ,  13995 ,  11416 ,  6940,25 ,  24346 ,  16298 ,  16297 ,  24340 ,  17897,1 ,  4288 ,  34990,92 ,  16290 ,  26550 ,  38898 ,  17470 ,  6881 ,  17474 ,  17475 ,  17476 ,  4479 ,  25464 ,  21487 ,  36260 ,  25460 ,  25461 ,  13360 ,  42281 ,  4473 ,  4472 ,  4475 ,  4474 ,  13366 ,  4476 ,  11489,91 ,  6447 ,  17681,81 ,  25198,2 ,  17996,1 ,  24846 ,  24845 ,  24844 ,  82849 ,  46750 ,  20169 ,  2460 ,  20160 ,  2151 ,  36194 ,  48600 ,  6445 ,  16870 ,  16875 ,  22930 ,  32576,5 ,  16879 ,  6313 ,  6310 ,  12140 ,  12147 ,  12146 ,  12148 ,  3413 ,  5486,4 ,  26999,2 ,  14570,9 ,  10439 ,  10438 ,  9650 ,  9651 ,  9308 ,  29239 ,  9655 ,  10431 ,  10430 ,  9306 ,  10120 ,  9300 ,  10434 ,  29230 ,  18870 ,  18873 ,  21740 ,  18875 ,  21746 ,  18876 ,  18878 ,  71243 ,  49227 ,  37456 ,  16961,1 ,  8963 ,  3580,9 ,  8964 ,  8127 ,  17670,6 ,  25278,14 ,  7348,52 ,  6820,33 ,  20320 ,  9578 ,  26913 ,  18566 ,  26910 ,  26915 ,  2072,7 ,  5805 ,  13115,6 ,  24070 ,  29493 ,  83078 ,  29490 ,  29948 ,  29944 ,  29941 ,  29942 ,  13325 ,  24210 ,  18296 ,  24217 ,  24215 ,  2800 ,  24219 ,  33101,82 ,  2804 ,  6868,2 ,  5430 ,  5436 ,  5434 ,  15580 ,  28010 ,  28011 ,  14730 ,  5439 ,  3360 ,  32844 ,  28540 ,  14735 ,  76738 ,  76730 ,  4758 ,  13960 ,  4270 ,  4276 ,  4275 ,  13965 ,  12478 ,  4278 ,  5555 ,  5554 ,  18121 ,  7575,1 ,  5550 ,  18128 ,  5559 ,  5928,1 ,  38244 ,  10668 ,  8589 ,  8581 ,  8580 ,  70500 ,  8585 ,  32790,9 ,  37860 ,  15575 ,  18481 ,  27392 ,  6539 ,  31320 ,  35316 ,  11899,15 ,  23180 ,  5886 ,  23185 ,  14105 ,  5889 ,  23188 ,  23630 ,  15065 ,  16011 ,  6556 ,  6550 ,  6551 ,  6552 ,  6553 ,  27744 ,  15069 ,  27740 ,  23158,1 ,  25920 ,  8271 ,  11048 ,  8286 ,  22320 ,  5876 ,  22323 ,  12589,92 ,  2305,8 ,  23459 ,  23989 ,  26886 ,  37424 ,  23451 ,  23450 ,  23453 ,  23980 ,  5878 ,  23985 ,  3109 ,  27298 ,  11550 ,  27290 ,  29200 ,  11297 ,  7504 ,  7505 ,  7507 ,  7500 ,  9882 ,  9880 ,  10448 ,  14550 ,  9889 ,  9888 ,  16605 ,  12140,92 ,  16600 ,  16601 ,  74800 ,  7228 ,  28274 ,  29205 ,  11077 ,  23690,91 ,  6127 ,  17631 ,  12770 ,  6120 ,  10445 ,  32330 ,  6129 ,  6128 ,  32335 ,  9430,38 ,  10115 ,  22588 ,  22589 ,  10113 ,  33900 ,  10442 ,  11088,5 ,  10953 ,  10950 ,  10443 ,  16460 ,  16464 ,  16465 ,  16467 ,  8674 ,  5439,2 ,  24983 ,  24980 ,  3756 ,  65400 ,  24985 ,  13522 ,  21771 ,  20324,92 ,  9614 ,  25580 ,  25585 ,  25584 ,  25587 ,  26163 ,  2689 ,  2253 ,  26164 ,  2250 ,  21350 ,  46921 ,  13978,11 ,  21355 ,  24188 ,  75600 ,  19910 ,  11590,92 ,  22910 ,  2785 ,  4801 ,  4802 ,  4803 ,  22150,95 ,  4805 ,  4807 ,  41936 ,  4809 ,  38401 ,  38406 ,  2788 ,  35952 ,  10600 ,  10591 ,  10606 ,  9460 ,  15523 ,  10605 ,  2070 ,  9468 ,  2075 ,  58640 ,  11958 ,  18468 ,  14128 ,  11955 ,  11954 ,  33460 ,  18460 ,  14120 ,  4631,4 ,  41249,65 ,  27980 ,  56340 ,  31263 ,  27989 ,  33000 ,  9793 ,  9791 ,  9790 ,  43548,81 ,  9799 ,  9798 ,  36527 ,  3750,91 ,  14383 ,  14382 ,  18600 ,  14380 ,  14387 ,  14385 ,  18605 ,  48150 ,  15237,1 ,  20409 ,  13778,92 ,  8792 ,  7979,91 ,  2421,9 ,  11310 ,  7999,1 ,  19129 ,  29085,9 ,  12978 ,  15657 ,  15655 ,  12972 ,  15653 ,  12970 ,  29000 ,  7080 ,  7083 ,  9809 ,  29006 ,  20356 ,  7089 ,  7088 ,  9489,92 ,  13922 ,  7585 ,  27098,6 ,  8170 ,  8171 ,  6497 ,  6496 ,  15380 ,  6490 ,  8176 ,  6492 ,  8204 ,  8179 ,  20350 ,  6499 ,  6498 ,  9550,82 ,  16880,91 ,  26817 ,  15479 ,  32846 ,  26927 ,  15470 ,  6940 ,  6947 ,  6945 ,  15475 ,  26760 ,  8906 ,  8360,92 ,  17906 ,  27970 ,  4021 ,  38070 ,  8398 ,  8399 ,  8394 ,  8396 ,  8390 ,  8393 ,  16648,2 ,  4398 ,  4399 ,  24404 ,  24403 ,  25557 ,  4390 ,  4392 ,  2000,51 ,  8900 ,  4397 ,  28752 ,  3195 ,  28750 ,  3193 ,  28208 ,  28755 ,  3190 ,  28206 ,  28200 ,  3199 ,  3198 ,  22469 ,  22464 ,  22460 ,  35787 ,  4025 ,  4022 ,  4023 ,  4020 ,  13730 ,  26375 ,  4029 ,  11380 ,  11381 ,  11383 ,  11385 ,  11389 ,  19159 ,  13296 ,  3999 ,  3998 ,  19155 ,  3996 ,  3995 ,  19404 ,  19150 ,  3990 ,  25227 ,  14446,3 ,  25068,94 ,  3688 ,  35430 ,  4692 ,  5818,5 ,  23842 ,  10576,2 ,  27175 ,  27170 ,  3682 ,  32787 ,  11723,2 ,  52000 ,  20871 ,  25445 ,  25447 ,  25440 ,  43984 ,  98000 ,  46000 ,  12581,89 ,  2440 ,  4269,01 ,  3721,5 ,  83000 ,  8095 ,  7867 ,  7863 ,  7860 ,  15201 ,  12520 ,  16810 ,  16814 ,  16817 ,  6378 ,  6379 ,  12993 ,  12121 ,  12120 ,  6372 ,  6373 ,  6375 ,  4802,54 ,  6377 ,  10417 ,  10140 ,  10143 ,  10413 ,  10147 ,  10410 ,  10149 ,  70245 ,  90000 ,  10419 ,  10418 ,  9639 ,  8483,95 ,  9630 ,  9631 ,  9632 ,  9326 ,  9325 ,  8941 ,  8940 ,  8943 ,  7679 ,  8947 ,  33075 ,  8949 ,  8948 ,  18855 ,  3854 ,  16766,1 ,  18850 ,  30879,55 ,  4168,8 ,  40180 ,  26970 ,  26975 ,  3850 ,  5406 ,  25439,4 ,  3393 ,  5404 ,  49410 ,  49940 ,  37437,66 ,  80973 ,  3207 ,  5180 ,  5181 ,  3203 ,  5187 ,  5184 ,  3200 ,  5188 ,  5189 ,  8398,1 ,  22692,96 ,  3535 ,  2860 ,  2862 ,  2864 ,  9719 ,  5793,3 ,  28551 ,  29960 ,  14711 ,  14245 ,  14715 ,  14240 ,  14717 ,  14718 ,  5408 ,  8047 ,  5458 ,  3348 ,  3349 ,  5450 ,  3343 ,  3340 ,  3346 ,  5456 ,  5457 ,  34200 ,  30520 ,  30250 ,  4259 ,  4258 ,  17561,8 ,  11529,91 ,  7908,1 ,  13940 ,  4250 ,  31696 ,  4252 ,  4255 ,  7209 ,  4257 ,  5533 ,  18148 ,  5530 ,  5535 ,  5534 ,  18141 ,  18140 ,  5539 ,  18145 ,  18144 ,  13492 ,  35530 ,  4260 ,  16908 ,  4261 ,  6190,92 ,  23613 ,  27769 ,  6571 ,  6577 ,  6574 ,  10760 ,  6578 ,  6579 ,  10310,92 ,  7549,89 ,  29615 ,  7695 ,  12210 ,  7690 ,  16570 ,  5090,92 ,  7693 ,  25940 ,  7698 ,  10764 ,  3834 ,  3835 ,  23475 ,  3837 ,  3830 ,  23472 ,  3832 ,  23470 ,  4091,4 ,  3838 ,  3839 ,  41170 ,  23478 ,  7677 ,  8777,1 ,  79679 ,  6228 ,  41171 ,  7523 ,  7527 ,  7524 ,  7525 ,  17359,7 ,  16662 ,  32312 ,  19362 ,  19360 ,  12662 ,  16669 ,  27430 ,  14640 ,  16244,9 ,  12713 ,  12710 ,  6140 ,  12716 ,  6146 ,  6145 ,  19017 ,  12719 ,  14647 ,  10970 ,  10971 ,  10972 ,  18895 ,  10978 ,  15410 ,  14861 ,  19650 ,  6920 ,  26499 ,  25615 ,  13981,82 ,  5919 ,  26490 ,  14648 ,  21112 ,  21110 ,  11690,91 ,  16488 ,  21118 ,  16485 ,  16482 ,  5067,2 ,  16481 ,  22700 ,  10805 ,  26140 ,  11106 ,  5916 ,  7717 ,  10508 ,  38250 ,  9760 ,  11595 ,  23029 ,  11590 ,  11592 ,  43515 ,  11599 ,  11598 ,  30735 ,  42930 ,  17280 ,  26824,5 ,  17538 ,  79820 ,  5545 ,  17531 ,  17530 ,  17532 ,  2050 ,  2055 ,  13448 ,  4828 ,  4534 ,  13444 ,  4536 ,  4825 ,  4530 ,  13440 ,  4820 ,  4821 ,  7980 ,  10629 ,  7982 ,  9400 ,  7984 ,  9406 ,  9405 ,  7987 ,  10620 ,  11629 ,  10625 ,  11978 ,  2095 ,  33190 ,  11971 ,  11970 ,  11977 ,  11975 ,  21410 ,  20648 ,  8597 ,  27965 ,  17750 ,  17752 ,  27960 ,  27963 ,  17756 ,  13199 ,  13198 ,  13193 ,  13191 ,  13190 ,  13197 ,  13195 ,  18949 ,  13648 ,  2157,45 ,  13302,83 ,  6709,5 ,  14201 ,  8377 ,  13326,5 ,  4559 ,  16312 ,  20399 ,  20398 ,  20461 ,  20392 ,  20390 ,  20397 ,  20464 ,  4745 ,  7320 ,  10089 ,  10084 ,  10086 ,  10080 ,  26930 ,  19877 ,  18445 ,  18447 ,  18440 ,  4550 ,  13420 ,  15675 ,  15677 ,  15670 ,  12952 ,  12953 ,  76360 ,  3499,9 ,  6461 ,  22338,94 ,  23238,79 ,  10262,2 ,  36177 ,  7068 ,  7066 ,  7063 ,  8633,7 ,  7061 ,  3537,5 ,  33990 ,  18623 ,  18624 ,  33996 ,  14205 ,  37495,2 ,  37768 ,  15450 ,  6960 ,  12480 ,  6962 ,  15902 ,  6964 ,  15900 ,  6966 ,  6969 ,  6968 ,  8154 ,  8155 ,  8620 ,  8153 ,  8622 ,  8151 ,  5898 ,  39344 ,  11231 ,  26708 ,  24392 ,  27885,2 ,  24675,85 ,  26700 ,  24399 ,  27300 ,  18090 ,  18042,91 ,  3579,3 ,  9988 ,  9989 ,  9986 ,  9985 ,  9983 ,  9980 ,  11025 ,  11021 ,  14500 ,  5333,4 ,  28730 ,  28221 ,  28220 ,  20275 ,  33358,84 ,  2255,4 ,  17297,6 ,  81423 ,  27342,5 ,  15883 ,  11368 ,  24428 ,  11364 ,  81900 ,  11362 ,  11363 ,  32819 ,  61350 ,  91500 ,  8806 , "
     ]
    },
    {
     "name": "stdout",
     "output_type": "stream",
     "text": [
      " 19170 ,  19177 ,  13380,56 ,  30738 ,  56210 ,  14365 ,  20620 ,  19280 ,  6136,58 ,  23869 ,  19286 ,  19289 ,  23865 ,  23861 ,  6918,34 ,  27156 ,  27150 ,  25137 ,  25133 ,  25420 ,  25426 ,  29790 ,  19820 ,  6689 ,  14540,04 ,  6680 ,  6681 ,  6682 ,  97040 ,  6686 ,  39900 ,  2420 ,  2421 ,  16834 ,  16833 ,  7848 ,  30873 ,  16830 ,  7845 ,  7847 ,  25317 ,  19828 ,  16838 ,  12106 ,  6354 ,  6350 ,  12100 ,  15093,9 ,  7637,63 ,  6358 ,  6359 ,  79959 ,  9340 ,  9341 ,  9342 ,  9344 ,  9345 ,  9610 ,  9347 ,  10166 ,  21286,1 ,  36952 ,  20147,92 ,  10161 ,  10160 ,  21707 ,  21704 ,  21703 ,  21250 ,  21700 ,  24119 ,  14889 ,  14880 ,  7190,94 ,  6073 ,  41211 ,  41210 ,  4008 ,  6071 ,  26959 ,  26955 ,  19889,92 ,  26950 ,  14080 ,  14081 ,  14082 ,  14083 ,  14089 ,  9246 ,  29599 ,  3220 ,  3222 ,  13277 ,  13275 ,  13270 ,  13271 ,  138400 ,  13278 ,  13279 ,  40309 ,  2848 ,  13715 ,  2844 ,  2840 ,  3320 ,  3321 ,  28500 ,  5475 ,  5472 ,  5470 ,  3327 ,  32421,5 ,  3329 ,  28509 ,  14260 ,  30299 ,  5478 ,  5479 ,  31875,3 ,  20072 ,  20070 ,  3970 ,  20079 ,  23790 ,  70705,96 ,  20950 ,  30500 ,  20658,2 ,  18165 ,  20480 ,  9892 ,  3979 ,  14469 ,  5510 ,  5515 ,  5517 ,  5516 ,  40490,91 ,  7856,9 ,  15468 ,  29900 ,  29905 ,  6824,7 ,  28437 ,  14460 ,  3299 ,  23670 ,  17043 ,  23677 ,  3030 ,  18299,9 ,  47309 ,  27700 ,  28430 ,  27706 ,  3033 ,  5135 ,  6407,5 ,  6518 ,  25966 ,  25965 ,  8702 ,  15021 ,  15020 ,  6513 ,  15025 ,  6515 ,  15027 ,  15026 ,  35130 ,  29630 ,  31100 ,  10792 ,  12425 ,  3293 ,  30344 ,  3810 ,  23499 ,  3817 ,  3815 ,  3819 ,  23490 ,  8456 ,  2340,9 ,  8453 ,  8452 ,  8450 ,  2490,92 ,  8459 ,  34629 ,  24112 ,  25491,5 ,  12803,4 ,  13200 ,  7548 ,  7549 ,  31365 ,  7540 ,  7541 ,  35683 ,  50500 ,  16648 ,  16649 ,  8491,82 ,  19348 ,  16640 ,  19615 ,  19340 ,  19341 ,  19610 ,  19343 ,  6168 ,  7348 ,  12730 ,  6160 ,  6163 ,  6165 ,  12735 ,  12736 ,  12737 ,  69500 ,  7386,75 ,  10998 ,  10999 ,  56680 ,  10995 ,  10992 ,  10993 ,  10990 ,  10991 ,  7349 ,  5200 ,  25639 ,  25638 ,  25633 ,  25632 ,  25631 ,  25630 ,  24948 ,  65448 ,  4254,12 ,  24945 ,  24940 ,  24941 ,  38990 ,  6139 ,  38995 ,  31815 ,  2215 ,  2219 ,  8529 ,  9264,69 ,  12762 ,  15865,65 ,  20379,5 ,  6130 ,  89018 ,  13709 ,  14960 ,  17510 ,  13469 ,  8520 ,  25095 ,  4512 ,  4513 ,  4510 ,  13460 ,  13465 ,  11649 ,  11648 ,  18207 ,  11640 ,  9422 ,  11645 ,  18204 ,  9427 ,  11646 ,  5289 ,  5288 ,  17775 ,  17773 ,  17772 ,  17770 ,  5280 ,  17896 ,  5282 ,  5285 ,  5287 ,  17778 ,  20669 ,  14781 ,  14780 ,  27945 ,  8381,5 ,  20007 ,  11014,81 ,  36560 ,  21395 ,  21390 ,  38408 ,  21910,8 ,  21399 ,  84629 ,  27490 ,  27493 ,  20443 ,  20910 ,  27496 ,  27499 ,  27498 ,  20919 ,  15466 ,  7194,72 ,  24017 ,  10240 ,  7302 ,  7300 ,  7002 ,  7307 ,  9285 ,  9021 ,  9287 ,  9280 ,  9282 ,  18422 ,  18423 ,  33423 ,  11915 ,  18425 ,  14952,2 ,  18429 ,  30190 ,  12933 ,  15610 ,  15616 ,  30196 ,  15615 ,  30198 ,  11659,85 ,  7047 ,  10339 ,  7041 ,  7040 ,  10200 ,  7042 ,  18686 ,  18489,91 ,  7048 ,  10209 ,  63320 ,  33821 ,  18398 ,  18399 ,  36267 ,  26440,91 ,  37219 ,  18390 ,  19021 ,  30999 ,  13981,8 ,  6989 ,  30990 ,  24010 ,  8600 ,  15927 ,  15920 ,  15921 ,  30996 ,  6980 ,  26720 ,  4471 ,  15704,6 ,  4470 ,  22650 ,  5340,92 ,  11519,1 ,  14690 ,  24370 ,  2985 ,  13365 ,  3467,7 ,  4477 ,  47829 ,  67950 ,  82700,9 ,  4359 ,  4355 ,  4350 ,  4351 ,  14523 ,  28240 ,  14521 ,  14520 ,  14306 ,  11006 ,  28247 ,  11009 ,  14528 ,  31730,91 ,  9496 ,  12550 ,  13201,44 ,  8027 ,  11344 ,  11345 ,  11347 ,  11340 ,  11348 ,  11349 ,  4499,2 ,  32870 ,  19113 ,  5708 ,  5709 ,  19116 ,  5704 ,  5706 ,  5700 ,  5701 ,  91520 ,  6424 ,  14281,89 ,  21889,92 ,  28861 ,  28862 ,  12451 ,  6421 ,  23800 ,  26174 ,  27130 ,  24840 ,  6894 ,  25400 ,  25150 ,  25151 ,  25406 ,  25155 ,  4291 ,  25158 ,  49743 ,  27010 ,  16587 ,  6899 ,  16583 ,  32293 ,  15789 ,  24195 ,  12696 ,  12695 ,  12690 ,  21896 ,  21895 ,  20498,1 ,  21891 ,  12698 ,  3061,45 ,  10837 ,  10836 ,  10830 ,  56277 ,  98042 ,  10838 ,  18670 ,  39960 ,  90590 ,  28039 ,  16362 ,  7829 ,  19800 ,  16367 ,  13665 ,  19805 ,  21090 ,  7821 ,  7820 ,  7824 ,  61800 ,  5328 ,  66780 ,  26262 ,  17180 ,  17184 ,  17185 ,  17186 ,  3404 ,  9367 ,  9365 ,  9363 ,  9360 ,  10421,5 ,  8984 ,  49180 ,  21277 ,  8980 ,  37517 ,  2478,6 ,  21279 ,  8989 ,  8988 ,  32085,4 ,  3799 ,  3798 ,  3795 ,  3794 ,  56899 ,  3790 ,  3793 ,  4980 ,  4983 ,  4982 ,  2150 ,  4984 ,  2400 ,  19413,2 ,  2158 ,  2408 ,  3690,92 ,  14065 ,  14062 ,  14060 ,  3249 ,  68000 ,  3245 ,  4044,6 ,  36976 ,  13258 ,  13259 ,  13254 ,  13255 ,  13257 ,  13250 ,  18984 ,  18987 ,  18980 ,  15602,5 ,  71400 ,  5118,3 ,  14209 ,  5498 ,  5499 ,  3308 ,  5494 ,  3307 ,  14200 ,  5497 ,  5490 ,  3303 ,  3300 ,  4315 ,  20059 ,  10610 ,  20054 ,  20050 ,  2798 ,  20052 ,  20053 ,  13499 ,  36600 ,  97220 ,  18185 ,  18184 ,  18187 ,  13678 ,  40480 ,  2792 ,  2061 ,  13490 ,  54105 ,  5290,91 ,  15564 ,  21850,94 ,  13496 ,  2797 ,  40320 ,  4743 ,  29380 ,  13494 ,  33680 ,  29384 ,  12398,1 ,  29388 ,  29430 ,  2415,04 ,  8243 ,  13671 ,  23128 ,  23659 ,  3547,42 ,  23124 ,  28386 ,  23126 ,  23121 ,  13677 ,  15555 ,  8290 ,  26776,1 ,  6535 ,  6532 ,  15550 ,  8297 ,  15000 ,  8299 ,  8298 ,  4744 ,  15559 ,  8240 ,  6538 ,  27720 ,  9977 ,  8241 ,  25989 ,  15560 ,  19760 ,  25983 ,  8247 ,  30800 ,  9457,2 ,  29650 ,  29653 ,  77800 ,  26896 ,  78800 ,  7020,9 ,  3870 ,  16005 ,  3874 ,  3875 ,  3876 ,  3877 ,  14852,7 ,  29663 ,  8478 ,  8476 ,  8470 ,  8473 ,  8472 ,  92600 ,  9652 ,  5988,46 ,  7563 ,  7560 ,  24587 ,  35767,4 ,  24580 ,  17572,68 ,  12509,9 ,  8308,35 ,  16789,98 ,  9654 ,  17329,92 ,  32600 ,  19324 ,  22298 ,  39450 ,  22528 ,  22526 ,  38108 ,  22290 ,  22292 ,  22293 ,  13897 ,  4165 ,  13895 ,  13890 ,  4160 ,  10435 ,  26454 ,  26455 ,  26450 ,  13899 ,  21721,1 ,  10124 ,  24630 ,  17605 ,  5448 ,  34479 ,  17279,2 ,  14656,5 ,  7369,7 ,  26181 ,  8647 ,  33010 ,  22740 ,  22741 ,  26188 ,  22747 ,  22745 ,  43000 ,  2238 ,  20701 ,  34148 ,  15041 ,  4428,1 ,  31833 ,  5937 ,  19635 ,  16117 ,  16110 ,  5932 ,  5931 ,  5930 ,  34557,1 ,  93000 ,  5939 ,  5938 ,  17570 ,  17573 ,  17575 ,  3498 ,  3499 ,  3496 ,  3497 ,  3495 ,  3492 ,  3493 ,  3490 ,  3491 ,  4570 ,  2094 ,  2097 ,  6561,9 ,  4575 ,  4607 ,  13409 ,  4579 ,  15565,5 ,  2099 ,  13515 ,  34120 ,  11666 ,  11665 ,  9461,26 ,  11660 ,  8421 ,  11669 ,  16227 ,  24960 ,  24962 ,  9014 ,  20601 ,  20600 ,  27922 ,  27925 ,  45180 ,  17795 ,  17796 ,  17790 ,  25211 ,  25210 ,  11308 ,  8960 ,  6278 ,  74319 ,  20706 ,  85000 ,  9349,92 ,  5745 ,  20931 ,  20934 ,  14243 ,  20939 ,  41400 ,  48460 ,  11300 ,  5749 ,  7368 ,  7369 ,  7360 ,  7361 ,  7362 ,  7366 ,  37933 ,  12314 ,  12315 ,  12312 ,  12310 ,  11938 ,  18400 ,  11936 ,  33405 ,  18403 ,  11933 ,  4360,5 ,  11930 ,  15638 ,  15639 ,  37930 ,  70410 ,  15630 ,  30175 ,  30172 ,  12915 ,  7669,8 ,  9007 ,  7020 ,  9003 ,  9002 ,  7025 ,  9000 ,  10225 ,  10220 ,  9009 ,  8361,9 ,  20340 ,  29612 ,  8858,8 ,  21510 ,  37233 ,  21519 ,  20343 ,  19581 ,  25199 ,  20433 ,  15948 ,  15942 ,  30713 ,  15940 ,  22561,6 ,  15946 ,  30714 ,  15945 ,  7799 ,  7798 ,  7790 ,  9835 ,  7795 ,  7794 ,  7796 ,  24358 ,  24357 ,  13689,86 ,  51700,5 ,  4378 ,  19443,5 ,  4370 ,  4371 ,  4377 ,  4375 ,  11069 ,  14548 ,  45820 ,  11060 ,  11063 ,  28264 ,  11065 ,  14547 ,  15496 ,  15497 ,  15490 ,  10675 ,  23152 ,  8667 ,  8669 ,  17890 ,  15498 ,  15499 ,  17895 ,  4080 ,  13790 ,  13793 ,  4083 ,  4086 ,  4088 ,  4089 ,  24059,83 ,  31449 ,  15720,91 ,  11322 ,  11323 ,  11320 ,  11321 ,  11325 ,  33120 ,  14321 ,  5729 ,  19137 ,  5723 ,  5720 ,  19134 ,  19133 ,  27470 ,  19131 ,  32850 ,  91546 ,  2680,4 ,  19960 ,  10112,8 ,  15430 ,  35490 ,  3741,34 ,  11498 ,  11499 ,  23822 ,  23355 ,  23352 ,  23825 ,  23350 ,  23351 ,  11490 ,  20075,83 ,  11496 ,  22747,4 ,  27110 ,  8087 ,  8080 ,  27116 ,  26400 ,  24699,2 ,  8088 ,  10128,8 ,  22195 ,  22194 ,  3892,2 ,  22192 ,  22191 ,  15151 ,  25179 ,  8609,92 ,  5105,7 ,  32241,82 ,  25177 ,  9207 ,  19790 ,  19797 ,  19795 ,  10586,1 ,  19799 ,  19798 ,  16561 ,  16560 ,  12518,5 ,  97000 ,  74650 ,  6648 ,  12678 ,  6647 ,  6640 ,  12447 ,  6642 ,  12672 ,  10812 ,  10810 ,  52200 ,  10818 ,  6182 ,  7800 ,  93947 ,  21079 ,  21078 ,  46671 ,  21075 ,  16300 ,  16302 ,  6398 ,  6399 ,  12530 ,  6393 ,  6390 ,  6396 ,  6397 ,  2390 ,  26055 ,  2398 ,  18290 ,  21219 ,  21218 ,  28296,6 ,  21210 ,  21213 ,  21214 ,  37531 ,  21216 ,  12443 ,  3840 ,  9302,92 ,  5268,47 ,  3843 ,  41744 ,  2172 ,  2176 ,  4969 ,  4968 ,  4967 ,  4966 ,  4965 ,  4964 ,  4963 ,  4962 ,  4961 ,  4960 ,  14044 ,  5432 ,  14046 ,  14047 ,  14040 ,  24100,83 ,  17789,2 ,  11935 ,  3260 ,  5128 ,  5129 ,  3269 ,  5125 ,  5126 ,  32540 ,  5120 ,  5121 ,  29012 ,  19819 ,  5435 ,  9990,92 ,  16047,1 ,  13238 ,  13239 ,  3365 ,  13230 ,  36919 ,  5438 ,  93800 ,  14220 ,  14222 ,  14950 ,  18215 ,  14229 ,  18217 ,  5048 ,  18210 ,  18212 ,  94720 ,  28016 ,  5984 ,  38718 ,  10374 ,  17179 ,  30545 ,  20031 ,  34840 ,  10373 ,  5405 ,  44179 ,  35035,2 ,  22820 ,  2190,2 ,  8268 ,  15797 ,  6887 ,  15795 ,  6885 ,  "
     ]
    },
    {
     "name": "stdout",
     "output_type": "stream",
     "text": [
      "87673 ,  6883 ,  6880 ,  15790 ,  15798 ,  6519 ,  15914 ,  2054 ,  40691 ,  29410 ,  23109 ,  23108 ,  15540 ,  22167,6 ,  23103 ,  23100 ,  23106 ,  23104 ,  15571 ,  15570 ,  8279 ,  8278 ,  30814 ,  15579 ,  30813 ,  8270 ,  29677 ,  77860 ,  16092 ,  26880 ,  9514 ,  4274 ,  26889 ,  9517 ,  31140 ,  16544 ,  18908,1 ,  14498 ,  8419 ,  11893,5 ,  16298,1 ,  8412 ,  34660 ,  8410 ,  8416 ,  8415 ,  18123 ,  35825 ,  7588 ,  7589 ,  35821 ,  15291,92 ,  7584 ,  6231 ,  9805 ,  7587 ,  7580 ,  7581 ,  7582 ,  9800 ,  15398 ,  12590,1 ,  12651 ,  18126 ,  22500 ,  22509 ,  4134,4 ,  6950 ,  15460 ,  12654 ,  26478 ,  26479 ,  12096,2 ,  6953 ,  4149 ,  4148 ,  4147 ,  14678 ,  9679 ,  4140 ,  3856 ,  24658 ,  3855 ,  3852 ,  28100 ,  18885 ,  24650 ,  24651 ,  32449 ,  3858 ,  22760 ,  22761 ,  22763 ,  15427 ,  75535,08 ,  75424 ,  33730 ,  32387 ,  73308 ,  18550 ,  32644 ,  16146 ,  73306 ,  73300 ,  92951 ,  2243,7 ,  31850 ,  43573 ,  51200 ,  19300 ,  19301 ,  16170 ,  55995 ,  19305 ,  16175 ,  19659 ,  5911 ,  5910 ,  5913 ,  5912 ,  56763 ,  3717,9 ,  17558 ,  17557 ,  17556 ,  17227 ,  17553 ,  17220 ,  28913,76 ,  17550 ,  19844 ,  13428 ,  4556 ,  13426 ,  4555 ,  13421 ,  19842 ,  11689 ,  19513 ,  11685 ,  11687 ,  16320 ,  57593 ,  11680 ,  24900 ,  24907 ,  24905 ,  56768 ,  27909 ,  64350 ,  17998,2 ,  20626 ,  27905 ,  45160 ,  27900 ,  15229 ,  25236 ,  21408 ,  22927 ,  16796 ,  16797 ,  16794 ,  16795 ,  16790 ,  16791 ,  30837 ,  6075 ,  42228 ,  20227,72 ,  12080 ,  6070 ,  9971,89 ,  30422 ,  20488 ,  2612 ,  2610 ,  24160 ,  134000 ,  20952 ,  2619 ,  18685,4 ,  7346 ,  13430 ,  7344 ,  7345 ,  7342 ,  10799 ,  7340 ,  10794 ,  10795 ,  10796 ,  10025 ,  10790 ,  10023 ,  10020 ,  10793 ,  21685 ,  21688 ,  14165 ,  14494 ,  12339 ,  14390,92 ,  12330 ,  12331 ,  96000 ,  4548,6 ,  13438,3 ,  8755,6 ,  10248 ,  15216,06 ,  9025 ,  7000 ,  9027 ,  10241 ,  15739 ,  10245 ,  33280 ,  18680 ,  19275,91 ,  18687 ,  24015 ,  21536 ,  18689 ,  21530 ,  49863 ,  22889 ,  22888 ,  5880 ,  57581 ,  22881 ,  22880 ,  23186 ,  29880 ,  24330 ,  4996,8 ,  24336 ,  2947 ,  4212,9 ,  2940 ,  5357 ,  5355 ,  5354 ,  5353 ,  5351 ,  5350 ,  5359 ,  30154 ,  30150 ,  4212,8 ,  30158 ,  76300 ,  4310 ,  4311 ,  4312 ,  4314 ,  31282 ,  4319 ,  30897 ,  18777 ,  11047 ,  18027 ,  18025 ,  14563 ,  11042 ,  18020 ,  11040 ,  36910 ,  24485 ,  11049 ,  24480 ,  13227,1 ,  3119 ,  13227,7 ,  3117 ,  3114 ,  3112 ,  3111 ,  3110 ,  15960 ,  15962 ,  2372 ,  8648 ,  8649 ,  3033,9 ,  17999,9 ,  8644 ,  8640 ,  8641 ,  35750 ,  31460 ,  31466 ,  6558 ,  31468 ,  35700 ,  6559 ,  5740 ,  11309 ,  5742 ,  23593 ,  23595 ,  5746 ,  5748 ,  11301 ,  11302 ,  11303 ,  11304 ,  11305 ,  16189,4 ,  4611 ,  7838 ,  21943 ,  3185 ,  51570 ,  3186 ,  3263,8 ,  25823 ,  25820 ,  3390,5 ,  2907,9 ,  3390,2 ,  14189 ,  13624 ,  28945 ,  39627 ,  51685 ,  12733,35 ,  28820 ,  17875 ,  23377 ,  23370 ,  23373 ,  12537 ,  15214 ,  15215 ,  15210 ,  12531 ,  22324 ,  5260 ,  36915 ,  39276 ,  35580,91 ,  22102 ,  16099 ,  16098 ,  31484,1 ,  16090 ,  16540 ,  16547 ,  16097 ,  22105 ,  6668 ,  6669 ,  6662 ,  97026 ,  6660 ,  12650 ,  12657 ,  12655 ,  6665 ,  10879 ,  15857 ,  41154 ,  10875 ,  10874 ,  19847 ,  16890 ,  16893 ,  23913,2 ,  19843 ,  16322 ,  16897 ,  19840 ,  16899 ,  16898 ,  16329 ,  11718,94 ,  21058 ,  65747 ,  21051 ,  21050 ,  2135 ,  2378 ,  2370 ,  86900 ,  21237 ,  21940 ,  21231 ,  21948 ,  21239 ,  21238 ,  12490,2 ,  12490,9 ,  4945 ,  4944 ,  4947 ,  4941 ,  4940 ,  4942 ,  4949 ,  2119 ,  43631 ,  14885,91 ,  50950 ,  15393 ,  38520 ,  14020 ,  96860 ,  14027 ,  12077 ,  14025 ,  14028 ,  49490 ,  17055 ,  8990,92 ,  17050 ,  3918,6 ,  98996 ,  3286 ,  5100 ,  3284 ,  3282 ,  17058 ,  3280 ,  13210 ,  13216 ,  14456 ,  18374 ,  36877,25 ,  14454 ,  10499 ,  10498 ,  10497 ,  10496 ,  10495 ,  13700 ,  10490 ,  14798 ,  18239 ,  14978 ,  37980 ,  14790 ,  18232 ,  14976 ,  14450 ,  33340 ,  14795 ,  14796 ,  20540 ,  20541 ,  6950,7 ,  11398 ,  49498 ,  15102 ,  27666,14 ,  13563 ,  39110 ,  14458 ,  9173,88 ,  4036,5 ,  47456 ,  3984 ,  6869 ,  15775 ,  6865 ,  6867 ,  6860 ,  48721 ,  6863 ,  29471 ,  29470 ,  19439 ,  29475 ,  3980 ,  11268 ,  3636,9 ,  7353 ,  7509 ,  5745,12 ,  5109 ,  28402 ,  31596,92 ,  8250 ,  8253 ,  17051 ,  5515,95 ,  15518 ,  8789 ,  8788 ,  5103 ,  34390 ,  8780 ,  8787 ,  15514 ,  8785 ,  10029,92 ,  15582 ,  9237 ,  31610 ,  16602 ,  84622,3 ,  7614 ,  7615 ,  7616 ,  16603 ,  7610 ,  29690 ,  29693 ,  18500,8 ,  47899,5 ,  30603 ,  3281 ,  5105 ,  8430 ,  8433 ,  8432 ,  8435 ,  8436 ,  8438 ,  9825 ,  9826 ,  9820 ,  9823 ,  17490,92 ,  10616,4 ,  6125 ,  50568 ,  50560 ,  23161 ,  23160 ,  23163 ,  23166 ,  23168 ,  27648,2 ,  22560 ,  22561 ,  8041 ,  26410 ,  12597 ,  21472,86 ,  12592 ,  4122 ,  4121 ,  4120 ,  4126 ,  4125 ,  32420 ,  5689 ,  5688 ,  5685 ,  27990,91 ,  5687 ,  28120 ,  4194 ,  5683 ,  22789 ,  12598 ,  22780 ,  22781 ,  7547,2 ,  4191 ,  30778,91 ,  23784 ,  23787 ,  11518 ,  23783 ,  21146,4 ,  11514 ,  11517 ,  11510 ,  10492 ,  32398 ,  27094 ,  5978 ,  27090 ,  16150 ,  16151 ,  5970 ,  27099 ,  27098 ,  5975 ,  32397 ,  48800 ,  17208 ,  23496 ,  13887,68 ,  17203 ,  17202 ,  17200 ,  15293 ,  17204 ,  25783 ,  25780 ,  25038 ,  25785 ,  25031 ,  85223 ,  18450,8 ,  14974 ,  27320 ,  10086,92 ,  27324 ,  24920 ,  24923 ,  22945 ,  18230 ,  7045,2 ,  10207,2 ,  2580 ,  25606,3 ,  45495 ,  25250 ,  25253 ,  36093 ,  34466,4 ,  16145 ,  6059 ,  6056 ,  6050 ,  6053 ,  36897 ,  10000 ,  2638 ,  2635 ,  44900 ,  10009 ,  2633 ,  9599 ,  9598 ,  9595 ,  9226 ,  9597 ,  9596 ,  9223 ,  9222 ,  9593 ,  9220 ,  33111 ,  14571 ,  20699,1 ,  23060 ,  12350 ,  12354 ,  10260 ,  10265 ,  10267 ,  10268 ,  47223 ,  32508,2 ,  9048 ,  9042 ,  9040 ,  9047 ,  9045 ,  9044 ,  37278 ,  3545 ,  3547 ,  3540 ,  75000 ,  3542 ,  21550 ,  3548 ,  3549 ,  20977 ,  20971 ,  20970 ,  20979 ,  2965 ,  2964 ,  26780 ,  2961 ,  2960 ,  5847 ,  13455,4 ,  2968 ,  29860 ,  24064 ,  24317 ,  24315 ,  21546 ,  41451 ,  5379 ,  5378 ,  5377 ,  5376 ,  5371 ,  22898 ,  5373 ,  13005 ,  13006 ,  13001 ,  13000 ,  13009 ,  7327 ,  16128 ,  4339 ,  4336 ,  46835,75 ,  21166 ,  4330 ,  7249 ,  3135 ,  3134 ,  3137 ,  33800 ,  14589 ,  18009 ,  18004 ,  37855 ,  18006 ,  18007 ,  18000 ,  14580 ,  24700,2 ,  91760 ,  20206 ,  20200 ,  20202 ,  22896 ,  17854 ,  20209 ,  17850 ,  17851 ,  15989 ,  15986 ,  13952,73 ,  15985 ,  15980 ,  4487,4 ,  31409 ,  31400 ,  30918 ,  31404 ,  5768 ,  23579 ,  23577 ,  5764 ,  5765 ,  5763 ,  23570 ,  15186 ,  61600 ,  15180 ,  15181 ,  23240 ,  27664 ,  27665 ,  27660 ,  25800 ,  32390 ,  25802 ,  22145,1 ,  28800 ,  6435 ,  15325 ,  25588 ,  23310 ,  23317 ,  23315 ,  16200 ,  15320 ,  10708 ,  12514 ,  12515 ,  15236 ,  6430 ,  15230 ,  15231 ,  12512 ,  15233 ,  7425 ,  50970 ,  35721 ,  7421 ,  7420 ,  39254 ,  39250 ,  5995,46 ,  16520 ,  27005 ,  16525 ,  32980 ,  27196,1 ,  49750 ,  6600 ,  6864 ,  6604 ,  6605 ,  6606 ,  12636 ,  12639 ,  6609 ,  2970 ,  10857 ,  10855 ,  10854 ,  10853 ,  10852 ,  10850 ,  15771 ,  28661 ,  10858 ,  14619 ,  5660,92 ,  40642,38 ,  60950 ,  16203 ,  23397 ,  21030 ,  19530 ,  63600 ,  21038 ,  19538 ,  32183 ,  9301 ,  75581 ,  22047 ,  22040 ,  12189 ,  75587 ,  9907,2 ,  22049 ,  22048 ,  12180 ,  26200 ,  10895 ,  43380 ,  39388 ,  29478 ,  6768,1 ,  8434,1 ,  2351 ,  29694 ,  16408,1 ,  29304,3 ,  46350 ,  58490 ,  21964 ,  21784 ,  21783 ,  46600 ,  21780 ,  17690 ,  17693 ,  17694 ,  3739 ,  17697 ,  3737 ,  3735 ,  6517 ,  3732 ,  3731 ,  3730 ,  4923 ,  4690 ,  12991,91 ,  13583 ,  4694 ,  4697 ,  14495,35 ,  4699 ,  4698 ,  4928 ,  11727 ,  11724 ,  11725 ,  11723 ,  11720 ,  17568,3 ,  10205,5 ,  99800 ,  5160 ,  4800 ,  5162 ,  5168 ,  5169 ,  14002 ,  14004 ,  14005 ,  14006 ,  20780 ,  20783 ,  20784 ,  20786 ,  15890,9 ,  20789 ,  62550 ,  17070 ,  2780 ,  36400 ,  11450,9 ,  13645 ,  13644 ,  9698 ,  9695 ,  9693 ,  9690 ,  14918 ,  35670 ,  14913 ,  14910 ,  31950 ,  14916 ,  14917 ,  34800 ,  20568 ,  34804 ,  20565 ,  20561 ,  36667 ,  40499 ,  2079 ,  13649 ,  11601 ,  27945,54 ,  26280 ,  11600 ,  5778 ,  15759 ,  16455 ,  6842 ,  6843 ,  6840 ,  15750 ,  15756 ,  15755 ,  6845 ,  17347 ,  14570 ,  18012 ,  6301 ,  6300 ,  18251 ,  18250 ,  13518 ,  18010 ,  16324 ,  78400 ,  6590 ,  30850 ,  6593 ,  15533 ,  6595 ,  8235 ,  15530 ,  6598 ,  6599 ,  8239 ,  39400 ,  6411,72 ,  12890,92 ,  7008,48 ,  12789,91 ,  31672 ,  7638 ,  30830 ,  70936,32 ,  7632 ,  7633 ,  7630 ,  16748,1 ,  8786 ,  10990,2 ,  26337,6 ,  62800 ,  34119 ,  29877,3 ,  11950 ,  9842 ,  9840 ,  9847 ,  9846 ,  9845 ,  29030,6 ,  4436 ,  7618 ,  9849 ,  7619 ,  27986 ,  6022,8 ,  20660 ,  32900 ,  3093 ,  3090 ,  17730 ,  19751 ,  23148 ,  23147 ,  13146,1 ,  3098 ,  16030 ,  28490 ,  29697 ,  23140 ,  16740 ,  22540 ,  29691 ,  22543 ,  16743 ,  22230 ,  22547 ,  31096 ,  4100 ,  4103 ,  19934 ,  15658 ,  31090 ,  31091 ,  26430 ,  26431 ,  26432 ,  3125 ,  9647 ,  18962 ,  8658 ,  24697 ,  24694 ,  24695 ,  24692 ,  24690 ,  38316 ,  17610 ,  3898 ,  3899 ,  16160 ,  15127,4 ,  32400 ,  3893 ,  3890 ,  3897 ,  3894 ,  3895 ,  13600 ,  38919 ,  8957 ,  4729,72 ,  8651 ,  18861 ,  31897 ,  19938 ,  5950 ,  11539 ,  8978,2 ,  5956 ,  5959 ,  3029,1 ,  11530 ,  11536 ,  93060 ,  15279 ,  12428,7 ,  12059 ,  6984 ,  25015 ,  14039,9 ,  9899,1 ,  18318 ,  13504 ,  85202 ,  5664,74 ,  27348 ,  6983 ,  27283 ,  32914,31 ,  27343 ,  32450 ,  27347 ,  11808 ,  25271 ,  34341,2 ,  10180,8 ,  5751 ,  17261 ,  17263 ,  7478,2 ,  26461,91 ,  6033 ,  6032 ,  6030 ,  6036 ,  6035 ,  9205 ,  9204 ,  2659 ,  10061 ,  9200 ,  2650 ,  7389 ,  9417 ,  7380 ,  7381 ,  7386 ,  17759,27 ,  7385 ,  12370 ,  12371 ,  12372 ,  12373 ,  12376 ,  12377 ,  12378 ,  12379 ,  18602 ,  7365,6 ,  18603 ,  44290 ,  9060 ,  32175 ,  9067 ,  53499 ,  9069 ,  10287 ,  10282 ,  10280 ,  21570 ,  28476 ,  24059 ,  27678 ,  17485 ,  68430 ,  3561 ,  17480 ,  17483 ,  3565 ,  3034 ,  3569 ,  9323,93 ,  4484 ,  4485 ,  13397 ,  20400 ,  4480 ,  13390 ,  13392 ,  20995 ,  31588 ,  4488 ,  4489 ,  20992 ,  2900 ,  2907 ,  13891,5 ,  2909 ,  45900 ,  21877 ,  27670 ,  33790 ,  33797 ,  14618 ,  14611 ,  14610 ,  21654 ,  20197 ,  20196 ,  20190 ,  5312 ,  5310 ,  8058,5 ,  20700 ,  13021 ,  13020 ,  13027 ,  13025 ,  13024 ,  30110 ,  20874 ,  89640 ,  12679,92 ,  31790 ,  31793 ,  31792 ,  3152 ,  18068 ,  3150 ,  3156 ,  3159 ,  3158 ,  17878 ,  18067 ,  28791 ,  28790 ,  32499 ,  27501 ,  20220 ,  27506 ,  20225 ,  20229 ,  27508 ,  4580,92 ,  16214 ,  23557 ,  23550 ,  23552 ,  23558 ,  12593,7 ,  27645 ,  23089 ,  27640 ,  27642"
     ]
    },
    {
     "name": "stdout",
     "output_type": "stream",
     "text": [
      " ,  51534 ,  3032 ,  20885,2 ,  23085 ,  10646 ,  23216 ,  3888,48 ,  25182,4 ,  25868 ,  14548,2 ,  23882 ,  23331 ,  2210,4 ,  17398,2 ,  17398,1 ,  7022,7 ,  14570,01 ,  8577 ,  8570 ,  34562 ,  42300 ,  6470,9 ,  8034,2 ,  9573,1 ,  15252 ,  6247,8 ,  12570 ,  2732,63 ,  15255 ,  35960 ,  31420 ,  14885 ,  7407 ,  7400 ,  19083 ,  19080 ,  15016 ,  19738 ,  19085 ,  16507 ,  19734 ,  16057 ,  19736 ,  16050 ,  16501 ,  16500 ,  22687 ,  22685 ,  6628 ,  6629 ,  12616 ,  6624 ,  6625 ,  6622 ,  6620 ,  12610 ,  13018,1 ,  26595 ,  38058 ,  26592 ,  26590 ,  18022 ,  26598 ,  65250 ,  33978,63 ,  19883 ,  19550 ,  21015 ,  19880 ,  21012 ,  19885 ,  19556 ,  22061 ,  15220 ,  22066 ,  22068 ,  15226 ,  13625 ,  2331 ,  2333 ,  31931 ,  13620 ,  13623 ,  17308 ,  4719 ,  13181,81 ,  25480 ,  25485 ,  3376,8 ,  3715 ,  3717 ,  33183,4 ,  3711 ,  18280 ,  3712 ,  21901 ,  21900 ,  14700 ,  3718 ,  60500 ,  17673 ,  17670 ,  4909 ,  4908 ,  42699 ,  14147,1 ,  4679 ,  4678 ,  13566 ,  13567 ,  4675 ,  4674 ,  4673 ,  4672 ,  13560 ,  4670 ,  7019 ,  15650 ,  41950 ,  11705 ,  11700 ,  11701 ,  5149 ,  5146 ,  72579 ,  5143 ,  5140 ,  5141 ,  60020 ,  20768 ,  5684 ,  20766 ,  20767 ,  17010 ,  7084 ,  15354 ,  5681 ,  5078 ,  5680 ,  3377 ,  7954 ,  14994,6 ,  5427 ,  7224 ,  48500 ,  39626,1 ,  10691 ,  9165 ,  20502 ,  34821 ,  20500 ,  3370 ,  20507 ,  20505 ,  7247 ,  44660 ,  7245 ,  9167 ,  7242 ,  5399,2 ,  7240 ,  10695 ,  36680 ,  22835 ,  10345 ,  11927 ,  16064 ,  6820 ,  15730 ,  6822 ,  6823 ,  6824 ,  15880 ,  6828 ,  15889 ,  15888 ,  10546 ,  10541 ,  10540 ,  10542 ,  15350 ,  10549 ,  10548 ,  6675 ,  19542 ,  29300 ,  33300 ,  8816 ,  14280 ,  14933 ,  8813 ,  8812 ,  8811 ,  18905 ,  14939 ,  37489 ,  18906 ,  18900 ,  3834,81 ,  18270 ,  6495 ,  30309 ,  30656 ,  30655 ,  6494 ,  8747 ,  8210 ,  15085 ,  15084 ,  8215 ,  8742 ,  8217 ,  15080 ,  7650 ,  7651 ,  7655 ,  7659 ,  39422 ,  9927,1 ,  13959 ,  6249 ,  31650 ,  12648 ,  31653 ,  31135 ,  16060 ,  5531,8 ,  37150 ,  13955 ,  83106 ,  8883 ,  9567 ,  4243 ,  9869 ,  36800 ,  13581 ,  40509 ,  9860 ,  13950 ,  9865 ,  4328,1 ,  9866 ,  23480,92 ,  11147 ,  8549,1 ,  28300 ,  58500 ,  11140 ,  21154 ,  24506 ,  14489,2 ,  8549,9 ,  28308 ,  24500 ,  20645 ,  6948 ,  26547,3 ,  18138 ,  11908,24 ,  28684 ,  30930 ,  14669 ,  15770 ,  23788 ,  28689 ,  4710,6 ,  8491,5 ,  14848 ,  13815 ,  6941 ,  13810 ,  24659,2 ,  28160 ,  28162 ,  14660 ,  27096 ,  5389 ,  23595,97 ,  40581 ,  6944 ,  38330 ,  18561 ,  55174 ,  35557 ,  5840,94 ,  18560 ,  35550 ,  12088,12 ,  14664 ,  17607,33 ,  14665 ,  11551 ,  19670 ,  14842 ,  32391 ,  11558 ,  6967 ,  21726 ,  4209,2 ,  51250 ,  19674 ,  16155 ,  22214 ,  22210 ,  22212 ,  22213 ,  22116 ,  16330 ,  16883 ,  64660 ,  19854 ,  19503 ,  46100 ,  21042 ,  27360 ,  27369 ,  5707,8 ,  21088 ,  99308 ,  21479 ,  25299 ,  25298 ,  14993 ,  25297 ,  25296 ,  25290 ,  19946 ,  19944 ,  51875 ,  19943 ,  16260 ,  16261 ,  50879,83 ,  16268 ,  19949 ,  6010 ,  6014 ,  6018 ,  19993,4 ,  8878 ,  17247 ,  21473 ,  12598,1 ,  17240 ,  9263 ,  9260 ,  10738 ,  10040 ,  10737 ,  10734 ,  9268 ,  10730 ,  10047 ,  24116 ,  12398 ,  12399 ,  12396 ,  12397 ,  12394 ,  12395 ,  12392 ,  12393 ,  12390 ,  11940 ,  26010 ,  17361,76 ,  35450 ,  9087 ,  9086 ,  9085 ,  16220 ,  9081 ,  9080 ,  21598 ,  21599 ,  21596 ,  21597 ,  21594 ,  21595 ,  21592 ,  21590 ,  21591 ,  3509 ,  5089 ,  5088 ,  3500 ,  3501 ,  3502 ,  22860 ,  3505 ,  5085 ,  5084 ,  2673 ,  2676 ,  2679 ,  2928 ,  15518,2 ,  8497,4 ,  29037,12 ,  2924 ,  44415 ,  5330 ,  14639 ,  18599 ,  5335 ,  5337 ,  5339 ,  14632 ,  14631 ,  14630 ,  14637 ,  14636 ,  23197 ,  13875 ,  24929 ,  38650 ,  28410 ,  23192 ,  26848 ,  13040 ,  18040 ,  18041 ,  18734 ,  18045 ,  18730 ,  12059,1 ,  37818 ,  18049 ,  17812 ,  17810 ,  17811 ,  17815 ,  3170 ,  3173 ,  10130 ,  3174 ,  3176 ,  30792 ,  20248 ,  30796 ,  6541 ,  27560 ,  24400 ,  20245 ,  20244 ,  16774 ,  29791 ,  20424 ,  40970 ,  40756 ,  29799 ,  18491 ,  10529 ,  21220 ,  23530 ,  11600,6 ,  47991 ,  23539 ,  89196 ,  4395 ,  28534,5 ,  27620 ,  27621 ,  27750 ,  24408 ,  20294 ,  25840 ,  20295 ,  21226 ,  10652,6 ,  10815,1 ,  10505,5 ,  31221 ,  31224 ,  29177 ,  29173 ,  17839,92 ,  14198 ,  27198 ,  27199 ,  8550 ,  8556 ,  8557 ,  12800 ,  8555 ,  12558 ,  12559 ,  8007 ,  8000 ,  8001 ,  8003 ,  7469 ,  17684 ,  28971 ,  19341,2 ,  7463 ,  28970 ,  35940 ,  5258 ,  3729 ,  17599 ,  19719 ,  5259 ,  18180 ,  16072 ,  19711 ,  16070 ,  19716 ,  52864 ,  13300,91 ,  22668 ,  3725 ,  41730 ,  22660 ,  22662 ,  10899 ,  10898 ,  2030 ,  10891 ,  10890 ,  26570 ,  5925,1 ,  24711 ,  15822 ,  24717 ,  7327,8 ,  65273 ,  9655,2 ,  61200 ,  22008 ,  2919 ,  21460 ,  22000 ,  22005 ,  4683 ,  4732 ,  4730 ,  4731 ,  13607 ,  31916 ,  4734 ,  2319 ,  77762 ,  4738 ,  4937 ,  2313 ,  2310 ,  5855 ,  5857 ,  5850 ,  5852 ,  4939 ,  13733 ,  5859 ,  17655 ,  3771 ,  3770 ,  3777 ,  26379 ,  3774 ,  3779 ,  3778 ,  17659 ,  13545 ,  4657 ,  4650 ,  4653 ,  4652 ,  41837 ,  17383 ,  17380 ,  4689 ,  4659 ,  4658 ,  94330 ,  18760,75 ,  16381 ,  29219,46 ,  11768 ,  11769 ,  19571 ,  19570 ,  5989,5 ,  7880 ,  11760 ,  26370 ,  7885 ,  7884 ,  11764 ,  11765 ,  17030 ,  20746 ,  20747 ,  20740 ,  20748 ,  25960 ,  21464 ,  34391 ,  60000 ,  11120 ,  14337 ,  34396 ,  21927 ,  21290 ,  13824,2 ,  21295 ,  21921 ,  21296 ,  46649 ,  21298 ,  17474,35 ,  20520 ,  45665 ,  14446 ,  5673 ,  14331 ,  2843,58 ,  83871 ,  10382 ,  10389 ,  10001 ,  7269 ,  7268 ,  16923 ,  7260 ,  7262 ,  6204 ,  6205 ,  60080 ,  6200 ,  12230 ,  6202 ,  12232 ,  12239 ,  20698,1 ,  20698,2 ,  6809 ,  6806 ,  6807 ,  15715 ,  15860 ,  6800 ,  15710 ,  9746 ,  10560 ,  9740 ,  10566 ,  9742 ,  19154 ,  17979 ,  9748 ,  9749 ,  24156 ,  24150 ,  26099,1 ,  24159 ,  24198,2 ,  33670 ,  8834 ,  8837 ,  19400 ,  8831 ,  7146 ,  8833 ,  8832 ,  19375 ,  4586,92 ,  37095,2 ,  20790 ,  30325 ,  30324 ,  9227 ,  7678 ,  9594 ,  7676 ,  18430 ,  26800 ,  7670 ,  37177 ,  9224 ,  9590 ,  7357,9 ,  29789,91 ,  9221 ,  18070 ,  9592 ,  29580 ,  24524 ,  24520 ,  13999,2 ,  2691,9 ,  13332 ,  24528 ,  29699 ,  47691 ,  28360 ,  11169 ,  2819 ,  34990 ,  14406 ,  11167 ,  14400 ,  14402 ,  8767 ,  18749 ,  94495 ,  8762 ,  13331 ,  34046 ,  13830 ,  4188 ,  4031 ,  50898 ,  66980 ,  7797,6 ,  30011 ,  12872 ,  4490,9 ,  55110 ,  8055 ,  5629 ,  28186 ,  5625 ,  30012 ,  28180 ,  5620 ,  34150 ,  8492 ,  8490 ,  34154 ,  8496 ,  8495 ,  12531,94 ,  8499 ,  8498 ,  31014 ,  35201 ,  35200 ,  4184 ,  5995 ,  23274 ,  5997 ,  5996 ,  5991 ,  5990 ,  11577 ,  11576 ,  11575 ,  11574 ,  5999 ,  11571 ,  11570 ,  19388 ,  10483 ,  23840 ,  19380 ,  19382 ,  22277 ,  22275 ,  5666 ,  9490,92 ,  43866 ,  25727 ,  25720 ,  25050 ,  7926,4 ,  14207,1 ,  74000 ,  7290,9 ,  6781 ,  6780 ,  6783 ,  6782 ,  6785 ,  6786 ,  6789 ,  27387 ,  27381 ,  56130 ,  39000 ,  39003 ,  33330 ,  60829 ,  7888 ,  7498 ,  23230 ,  7499 ,  19968 ,  16716 ,  16245 ,  55809 ,  16715 ,  16240 ,  22497 ,  22495 ,  22492 ,  22493 ,  22490 ,  12000 ,  22499 ,  18135 ,  33320 ,  100000 ,  26380 ,  7493 ,  32490 ,  2888 ,  9248 ,  31499 ,  19968,92 ,  9538 ,  9241 ,  9240 ,  9534 ,  9245 ,  9532 ,  9530 ,  21105 ,  24897 ,  21600 ,  3699 ,  17388 ,  3690 ,  3692 ,  13989,94 ,  10740,64 ,  3695 ,  3697 ,  69188 ,  26034 ,  9009,91 ,  26030 ,  20249 ,  44789 ,  24090 ,  12597,3 ,  5199,2 ,  22800 ,  22803 ,  3520 ,  37780 ,  15759,75 ,  25254,1 ,  3528 ,  3541 ,  6787,8 ,  4190,9 ,  10714 ,  10717 ,  10710 ,  2699 ,  10713 ,  2696 ,  10719 ,  2691 ,  2690 ,  14875 ,  14650 ,  14877 ,  14870 ,  14872 ,  14658 ,  14878 ,  6908,4 ,  13065 ,  25115 ,  13063 ,  7497 ,  13060 ,  2152 ,  35091 ,  44255 ,  2165,4 ,  11371 ,  18718 ,  18719 ,  18714 ,  71740 ,  18717 ,  18710 ,  18712 ,  9179,92 ,  17839 ,  27545 ,  27816 ,  20263 ,  27810 ,  41570 ,  27540 ,  17830 ,  17837 ,  6780,95 ,  29800 ,  29770 ,  23519 ,  26524 ,  23510 ,  23511 ,  23044 ,  23040 ,  23517 ,  59000 ,  27600 ,  27602 ,  59009 ,  13140,88 ,  11212,06 ,  2268 ,  7199 ,  7198 ,  78120 ,  7191 ,  7190 ,  7197 ,  7195 ,  31200 ,  12472 ,  10422 ,  6400 ,  30940 ,  12829 ,  15298 ,  15299 ,  8530 ,  8532 ,  12820 ,  2260 ,  15290 ,  8025 ,  7441 ,  7440 ,  26634 ,  50400 ,  44920 ,  26631 ,  7449 ,  7448 ,  15314 ,  9557,1 ,  66578 ,  35920 ,  2265 ,  15319 ,  7595 ,  16364 ,  20242 ,  8180 ,  4869,66 ,  22391 ,  22390 ,  22392 ,  22395 ,  22394 ,  10434,5 ,  2447 ,  13993 ,  4533 ,  4280 ,  13990 ,  13997 ,  4284 ,  13994 ,  13999 ,  13998 ,  26555 ,  24778 ,  28641 ,  28640 ,  24771 ,  24772 ,  3752,9 ,  24777 ,  22025 ,  18358 ,  22020 ,  28674 ,  3107,7 ,  40824 ,  13669 ,  4759 ,  19342 ,  7639 ,  4750 ,  4752 ,  4754 ,  4755 ,  4757 ,  5872 ,  16010 ,  5870 ,  11299 ,  19775 ,  5877 ,  32256 ,  11293 ,  11290 ,  5879 ,  11296 ,  2629,8 ,  11295 ,  17633 ,  17630 ,  5369,34 ,  17637 ,  56673 ,  17635 ,  3750 ,  3753 ,  3752 ,  5370 ,  2190 ,  13520 ,  4630 ,  4637 ,  13527 ,  4635 ,  4634 ,  2198 ,  2199 ,  4638 ,  11740 ,  11744 ,  6715,2 ,  11748 ,  11749 ,  22905 ,  30131 ,  19598 ,  19595 ,  19597 ,  19590 ,  19593 ,  20890 ,  20720 ,  20893 ,  20727 ,  20896 ,  20897 ,  20898 ,  5699,9 ,  13298 ,  13299 ,  28429,9 ,  25550 ,  13290 ,  13294 ,  "
     ]
    },
    {
     "name": "stdout",
     "output_type": "stream",
     "text": [
      "25558 ,  13297 ,  4761 ,  2040 ,  11849,2 ,  14436,1 ,  6196 ,  6197 ,  6190 ,  6191 ,  6192 ,  6193 ,  13654 ,  18356 ,  6198 ,  6199 ,  42320 ,  4366,8 ,  15192,73 ,  2730 ,  4767 ,  8221 ,  20090 ,  20091 ,  45863 ,  71880,3 ,  20095 ,  20097 ,  9184 ,  9182 ,  10368 ,  9180 ,  21520 ,  10366 ,  10361 ,  10360 ,  9189 ,  6452 ,  19269 ,  16900 ,  6779,07 ,  7201 ,  7200 ,  7207 ,  7204 ,  12213 ,  77982 ,  6220 ,  6221 ,  12219 ,  11990,91 ,  5431,2 ,  15848 ,  9416 ,  15843 ,  15840 ,  15844 ,  10509 ,  6370 ,  43995,3 ,  11990,95 ,  9764 ,  9765 ,  10500 ,  29345 ,  9769 ,  78390 ,  18940 ,  24170 ,  18945 ,  24174 ,  13779,81 ,  24179 ,  12124 ,  11618 ,  8852 ,  8850 ,  8857 ,  8856 ,  3130 ,  96970 ,  32479,99 ,  8604 ,  40098 ,  18458 ,  39690 ,  26820 ,  71999 ,  5275 ,  5276 ,  5277 ,  5270 ,  5272 ,  93890 ,  5279 ,  3138 ,  10318 ,  33476 ,  10238,82 ,  4741 ,  20205 ,  16669,84 ,  14133 ,  4689,94 ,  30974 ,  19740 ,  24540 ,  37996 ,  18361 ,  18360 ,  58670 ,  17997 ,  17996 ,  17995 ,  17994 ,  3039 ,  17991 ,  17990 ,  28340 ,  3035 ,  11100 ,  14461 ,  24649,2 ,  3031 ,  17999 ,  17998 ,  8703 ,  15590 ,  15593 ,  8700 ,  15595 ,  19746 ,  15596 ,  15599 ,  15598 ,  4290,9 ,  76173 ,  27995 ,  19920 ,  13850 ,  13851 ,  31560 ,  55846 ,  13859 ,  19254 ,  5605 ,  5604 ,  5607 ,  5606 ,  5600 ,  5602 ,  8047,1 ,  7600 ,  5608 ,  7343,95 ,  19925 ,  19250 ,  35598 ,  21728 ,  35596 ,  23251 ,  23256 ,  23704 ,  23259 ,  23706 ,  23700 ,  12455 ,  12454 ,  6426 ,  15336 ,  6420 ,  12450 ,  12452 ,  26597,91 ,  27016 ,  6429 ,  27012 ,  21736,2 ,  18857 ,  28079,84 ,  19020 ,  22250 ,  22252 ,  22257 ,  3354 ,  15290,7 ,  25702 ,  25700 ,  21724 ,  72500 ,  37000 ,  6766 ,  6763 ,  12278,9 ,  6760 ,  39023 ,  9975 ,  39020 ,  9973 ,  9972 ,  39025 ,  9970 ,  39028 ,  9979 ,  9978 ,  16736 ,  16737 ,  16730 ,  16732 ,  15307,2 ,  10870 ,  16738 ,  12024 ,  11798 ,  12020 ,  5143,5 ,  12023 ,  16222 ,  19900 ,  12028 ,  19907 ,  19905 ,  18999,2 ,  11264,25 ,  21624 ,  21620 ,  21628 ,  11394 ,  33344 ,  23575 ,  5760 ,  25765 ,  26051 ,  26054 ,  2500 ,  49330 ,  46500 ,  26660,2 ,  52561 ,  17170 ,  17173 ,  17172 ,  22825 ,  5044 ,  5043 ,  15311 ,  5041 ,  5040 ,  34499,2 ,  38570 ,  9515 ,  10773 ,  10770 ,  9510 ,  9513 ,  10775 ,  10778 ,  10779 ,  9518 ,  14850 ,  14857 ,  18889 ,  14854 ,  18557 ,  11826 ,  18880 ,  11820 ,  18882 ,  14670 ,  21865 ,  30428 ,  3385,92 ,  13089 ,  13088 ,  2688 ,  30420 ,  13084 ,  13087 ,  15053 ,  13080 ,  37990 ,  19224 ,  6958,92 ,  29101,95 ,  33881 ,  3205 ,  19739,84 ,  22480,9 ,  25748,2 ,  20280 ,  10194 ,  10192 ,  10193 ,  10190 ,  10191 ,  5185 ,  10198 ,  2785,44 ,  71500 ,  29280 ,  18691,5 ,  29285 ,  16733 ,  25887 ,  25881 ,  30280 ,  15100 ,  34630 ,  22558 ,  18085 ,  18080 ,  18081 ,  31770 ,  8040 ,  8517 ,  37608,91 ,  8043 ,  12590 ,  12591 ,  8510 ,  34500 ,  8048 ,  8049 ,  79500 ,  12599 ,  8519 ,  12848 ,  67795 ,  12843 ,  12840 ,  12846 ,  12845 ,  35900 ,  31480 ,  45438 ,  26610 ,  4114 ,  10052 ,  14666 ,  28083 ,  24105,21 ,  28080 ,  24281 ,  24280 ,  24283 ,  24285 ,  39327,2 ,  22621 ,  22627 ,  34641 ,  10439,1 ,  17671,2 ,  26537 ,  26538 ,  8598,6 ,  24755 ,  24752 ,  24751 ,  24750 ,  3128,4 ,  3128,2 ,  23393 ,  23390 ,  23391 ,  23396 ,  28666 ,  23395 ,  23398 ,  23399 ,  13577 ,  75500 ,  4777 ,  31955 ,  4775 ,  4773 ,  4770 ,  13640 ,  15238 ,  4778 ,  4779 ,  5017,3 ,  14247 ,  5718 ,  19029 ,  16039 ,  5810 ,  5812 ,  5813 ,  5814 ,  19752 ,  16031 ,  19750 ,  10354 ,  15237 ,  11434 ,  17348 ,  10355 ,  17346 ,  12510 ,  17613 ,  17342 ,  17615 ,  17340 ,  12511 ,  4619 ,  4618 ,  25397 ,  13500 ,  4610 ,  24682 ,  4615 ,  4617 ,  13507 ,  12940 ,  23930 ,  25904 ,  6925 ,  4880 ,  12945 ,  9315 ,  49500 ,  27228 ,  7422 ,  20876 ,  20877 ,  6058,1 ,  50652,94 ,  7961 ,  10359 ,  53880 ,  5757,1 ,  25574 ,  4930,95 ,  25570 ,  18370 ,  16692 ,  16691 ,  16690 ,  16697 ,  16696 ,  16695 ,  16698 ,  98136 ,  17150 ,  4390,91 ,  4390,92 ,  5451 ,  20686,58 ,  2711 ,  9178 ,  10699 ,  7220 ,  10349 ,  7222 ,  9169 ,  7950 ,  7229 ,  10690 ,  10341 ,  10340 ,  9160 ,  10346 ,  7959 ,  7958 ,  16960 ,  16965 ,  16964 ,  16966 ,  12278 ,  6240 ,  12270 ,  26547,1 ,  6245 ,  6246 ,  12276 ,  10526 ,  10525 ,  10523 ,  10520 ,  2282 ,  18630 ,  6813 ,  10528 ,  14957,1 ,  9700 ,  7040,92 ,  9702 ,  9706 ,  9707 ,  14992 ,  12631 ,  14990 ,  8872 ,  14996 ,  14997 ,  8877 ,  8876 ,  8879 ,  24110 ,  14998 ,  14999 ,  21475 ,  24114 ,  37350 ,  3710 ,  42047,91 ,  13948 ,  26845 ,  15446 ,  27017,16 ,  11298 ,  10058,5 ,  12493 ,  13310 ,  8275 ,  15444 ,  10790,94 ,  12495 ,  13312 ,  15442 ,  29209 ,  5250 ,  14199 ,  15913 ,  5255 ,  14193 ,  14190 ,  12496 ,  14196 ,  14197 ,  14195 ,  15820 ,  5880,92 ,  15824 ,  15826 ,  15828 ,  9576 ,  35157 ,  14440 ,  24569 ,  14443 ,  14332 ,  14445 ,  14330 ,  14447 ,  14449 ,  11776 ,  24565 ,  14338 ,  23390,91 ,  3019 ,  7920 ,  5940 ,  3013 ,  3010 ,  5941 ,  3016 ,  17970 ,  3014 ,  8729 ,  34999 ,  8721 ,  8720 ,  8723 ,  8725 ,  34335 ,  40521 ,  30360 ,  4189 ,  13879 ,  4180 ,  13872 ,  31015 ,  4185 ,  31013 ,  4187 ,  4186 ,  5661 ,  5660 ,  11500 ,  5665 ,  5669 ,  5668 ,  18143 ,  34195 ,  34190 ,  34199 ,  5176,8 ,  70300 ,  5398 ,  18632 ,  10331,1 ,  2769,1 ,  17432 ,  23728 ,  3195,9 ,  23723 ,  43373 ,  23720 ,  15313 ,  6403 ,  12471 ,  12470 ,  8189 ,  8188 ,  15315 ,  12474 ,  8185 ,  8184 ,  6408 ,  6409 ,  8181 ,  20390,94 ,  10525,01 ,  7766 ,  7767 ,  7760 ,  7763 ,  7768 ,  7769 ,  3905 ,  3906 ,  3900 ,  16799,4 ,  3902 ,  3909 ,  7417,5 ,  6745 ,  6744 ,  6747 ,  6746 ,  6741 ,  6740 ,  6743 ,  32593 ,  78934 ,  6749 ,  6748 ,  53364 ,  15075 ,  9710 ,  12290,94 ,  50140 ,  12699 ,  9955 ,  9957 ,  9956 ,  9951 ,  9950 ,  35248 ,  16752 ,  18978 ,  16750 ,  16751 ,  19924 ,  16205 ,  19926 ,  19927 ,  19928 ,  19929 ,  12040 ,  15897,92 ,  12044 ,  8888 ,  12048 ,  8889 ,  56790 ,  27067,92 ,  25760 ,  3204,9 ,  11148 ,  6101 ,  8886 ,  5936,81 ,  21866 ,  21640 ,  33394 ,  21646 ,  15984 ,  21860 ,  21645 ,  21648 ,  33392 ,  3658 ,  3659 ,  3654 ,  3655 ,  3657 ,  3650 ,  3651 ,  26070 ,  20992,78 ,  2520 ,  12136 ,  6299,2 ,  11466 ,  11460 ,  5064 ,  5067 ,  10071 ,  5060 ,  5068 ,  7452 ,  5834,52 ,  27854 ,  52540 ,  38800 ,  17405 ,  17400 ,  2748 ,  4408 ,  13318 ,  13315 ,  4405 ,  4406 ,  4400 ,  4401 ,  4403 ,  9573 ,  10759 ,  9570 ,  30078,4 ,  9574 ,  10750 ,  10751 ,  9579 ,  10753 ,  10755 ,  10756 ,  10757 ,  22710 ,  5391 ,  5390 ,  5397 ,  5396 ,  14830 ,  5399 ,  11800 ,  14835 ,  11805 ,  11804 ,  45290 ,  45297 ,  45299 ,  20110 ,  20113 ,  20112 ,  44560 ,  18490,91 ,  9979,5 ,  12910 ,  12899,1 ,  23749,76 ,  6570 ,  3289 ,  27589 ,  27588 ,  17049 ,  27850 ,  27580 ,  27855 ,  2350 ,  27857 ,  25029,92 ,  9397 ,  9396 ,  9395 ,  39600 ,  9393 ,  15045 ,  9390 ,  6591 ,  6575 ,  9399 ,  9398 ,  18574 ,  18576 ,  18572 ,  18573 ,  18578 ,  15125 ,  34295 ,  15048 ,  15120 ,  15121 ,  15128 ,  4386 ,  21960 ,  3423,59 ,  43376 ,  21760 ,  14847 ,  16219,81 ,  26989 ,  31716 ,  7157 ,  7155 ,  26980 ,  10009,6 ,  7151 ,  7150 ,  18750 ,  33573 ,  18756 ,  33570 ,  16872,3 ,  2660 ,  12860 ,  12861 ,  12862 ,  18008,55 ,  30000 ,  12868 ,  49653 ,  8064 ,  8065 ,  7484 ,  7486 ,  12914 ,  7480 ,  8603 ,  31759,28 ,  15340,01 ,  2899 ,  2890 ,  50330 ,  23000 ,  28210 ,  3222,9 ,  15299,9 ,  28060 ,  6596 ,  27340 ,  17650 ,  11196 ,  22356 ,  3836 ,  22352 ,  6597 ,  25240 ,  26510 ,  13591 ,  13134 ,  13137 ,  8606 ,  15831 ,  28600 ,  13580 ,  73000 ,  10890,9 ,  4921 ,  10381,5 ,  8490,92 ,  4799 ,  4795 ,  4797 ,  4790 ,  4791 ,  5837 ,  5835 ,  5832 ,  4925 ,  5830 ,  26369 ,  5632 ,  11255 ,  89200 ,  11250 ,  5839 ,  19008 ,  6904 ,  32920 ,  19005 ,  94358 ,  116360 ,  8128 ,  13728 ,  6903 ,  11787 ,  11780 ,  11781 ,  11789 ,  25370 ,  17215 ,  6186,7 ,  23910 ,  23912 ,  27208 ,  27205 ,  27207 ,  27200 ,  12343,5 ,  5724,2 ,  69000 ,  36350 ,  5748,3 ,  25515 ,  21980 ,  6311 ,  21985 ,  28460 ,  21989 ,  12789 ,  17366 ,  3006 ,  17360 ,  17363 ,  12780 ,  6491 ,  12782 ,  12784 ,  12786 ,  10320 ,  4899 ,  10322 ,  39830 ,  10326 ,  2770 ,  10328 ,  4891 ,  3002 ,  2775 ,  4894 ,  9498 ,  9499 ,  16416 ,  7979 ,  7978 ,  16940 ,  9490 ,  9491 ,  9140 ,  7970 ,  9144 ,  16948 ,  6266 ,  12255 ,  6265 ,  12253 ,  6263 ,  6260 ,  12250 ,  21180 ,  42180 ,  6269 ,  17093 ,  17090 ,  17091 ,  20850 ,  4900 ,  20852 ,  17098 ,  18707,1 ,  35332 ,  9727 ,  35331 ,  9720 ,  9721 ,  16616 ,  9728 ,  9729 ,  24134 ,  21321 ,  21320 ,  24131 ,  21450 ,  26988 ,  8515,7 ,  21328 ,  20330 ,  22980 ,  3465 ,  22983 ,  3463 ,  8899 ,  8898 ,  37400 ,  37407 ,  8892 ,  8890 ,  45600 ,  20583 ,  20580 ,  20581 ,  30720 ,  20589 ,  12947,2 ,  32310 ,  62100 ,  26865 ,  44000 ,  40050 ,  20338 ,  27480 ,  17075 ,  16666 ,  26983 ,  5238 ,  5239 ,  5230 ,  5231 ,  5232 ,  5236 ,  5237 ,  13122 ,  13120 ,  13121 ,  15806 ,  41180 ,  6909 ,  15800 ,  78572 ,  3070 ,  28473 ,  3072 ,  6319 ,  3074 ,  3076 ,  28475 ,  18321 ,  14315 ,  33966 ,  33960 ,  28431 ,  20326 ,  20322 ,  27440 ,  6142 ,  17952 ,  17950 ,  17956 ,  17955 ,  79770 ,  12711 ,  66690 ,  31520 ,  45750 ,  5640 ,  5643 ,  5645 ,  5647 ,  5646 ,  6148 ,  4357,1 ,  8068 ,  40829,55 ,  29075 ,  29074 ,  29070 ,  8067 ,  23740 ,  28294 ,  31020 ,  23745 ,  23746 ,  9622,77 ,  23218 ,  27050 ,  27052 ,  82162 ,  12419 ,  11610 ,  29443 ,  6460 ,  12410 ,  6462 ,  6463 ,  30925 ,  4827 ,  12417 ,  6467 ,  7742 ,  35000 ,  7740 ,  7741 ,  7747 ,  3237 ,  7745 ,  7749 ,  3444,9 ,  19490 ,  3923 ,  3920 ,  3921 ,  31502 ,  19496 ,  19497 ,  19498 ,  3928 ,  3929 ,  8307 ,  6721 ,  6720 ,  8303 ,  6725 ,  8300 ,  9072 ,  26440 ,  7488 ,  13759,2 ,  10295 ,  9938 ,  9933 ,  28625,8 ,  9931 ,  9930 ,  9936 ,  9934 ,  11636,7 ,  19278 ,  16771 ,  16773 ,  19270 ,  16776 ,  6099 ,  6098 ,  22162 ,  22160 ,  12060 ,  8815,5 ,  6093 ,  6092 ,  22168 ,  6096 ,  5931,8 ,  4823 ,  46827 ,  39193,4 ,  25749 ,  36263,1 ,  34806 ,  25742 ,  17981,9 ,  25740 ,  20536,1 ,  46728 ,  46729 ,  21660 ,  21845 ,  24835 ,  21840 ,  21665 ,  24830 ,  21698,4 ,  3672 ,  3670 ,  3676 ,  3677 ,  3674 ,  3675 ,  11489,45 ,  12498 ,  2540 ,  11648,1 ,  26099 ,  26097 ,  26095 ,  26090 ,  26091 ,  9457 ,  11441 ,  11440 ,  11446 ,  11445 ,  11449 ,  11448 ,  47247 ,  5003 ,  5000 ,  3584 ,  5005 ,  58000 ,  3589 ,  46540 ,  17139 ,  17428 ,  16480 ,  17130 ,  17420 ,  24354,62 ,  17137 ,  17424 ,  16199,2 ,  16199,1 ,  23009 ,  4422 ,  4423 ,  "
     ]
    },
    {
     "name": "stdout",
     "output_type": "stream",
     "text": [
      "4420 ,  13330 ,  13337 ,  4427 ,  4425 ,  5799,2 ,  9551 ,  9550 ,  9555 ,  9554 ,  9557 ,  8718,1 ,  12211 ,  19011 ,  25122 ,  20133 ,  23730 ,  20131 ,  20960 ,  44760 ,  39996 ,  83407 ,  6189,3 ,  4928,96 ,  27877 ,  41511 ,  15907 ,  84570 ,  22350 ,  13491 ,  22600 ,  26145 ,  29719 ,  28417 ,  44495 ,  95670 ,  11860 ,  18510 ,  14814 ,  8930 ,  11866 ,  27020 ,  8938 ,  8939 ,  15440 ,  15140 ,  2830,5 ,  15147 ,  15148 ,  7170 ,  7173 ,  14678,63 ,  12935 ,  7179 ,  7178 ,  12490,91 ,  33598 ,  40707 ,  9840,6 ,  12889 ,  8195 ,  34010 ,  12884 ,  12880 ,  26650 ,  22198,1 ,  14765 ,  11135 ,  14766 ,  14760 ,  24247 ,  24241 ,  24240 ,  28599 ,  6415 ,  23020 ,  23021 ,  28041 ,  19417 ,  28594 ,  23026 ,  22372 ,  22374 ,  6946,92 ,  31190 ,  4228 ,  31196 ,  13934 ,  4227 ,  4220 ,  4221 ,  13933 ,  5586 ,  11194,06 ,  5585 ,  28623 ,  28622 ,  5580 ,  28620 ,  12317 ,  4633 ,  24790 ,  62240 ,  24795 ,  5589 ,  72220 ,  5309 ,  21984,55 ,  11275 ,  13689 ,  11277 ,  11270 ,  9341,5 ,  31990 ,  13686 ,  19061 ,  19060 ,  23688 ,  23689 ,  23684 ,  19068 ,  23680 ,  22498,2 ,  25356 ,  25350 ,  28341 ,  60888 ,  2428,2 ,  8022,6 ,  25683 ,  25680 ,  29450 ,  17752,8 ,  25685 ,  4922 ,  23973 ,  3910 ,  23976 ,  23977 ,  23975 ,  22080 ,  22082 ,  22085 ,  16542 ,  27260 ,  12209,5 ,  25537 ,  25538 ,  25539 ,  64500 ,  13641,3 ,  13792 ,  2286 ,  30956,4 ,  32367 ,  74500 ,  19489 ,  6855 ,  19689 ,  4920 ,  4500,95 ,  4539 ,  6730 ,  5045 ,  29290 ,  42436 ,  61832 ,  6732 ,  10773,9 ,  10904 ,  17300 ,  10900 ,  10903 ,  4535 ,  8310 ,  27230 ,  13447 ,  9120 ,  10659 ,  9125 ,  9127 ,  10655 ,  9129 ,  10305 ,  10656 ,  10650 ,  10300 ,  7919 ,  7918 ,  16436 ,  8237 ,  7911 ,  7910 ,  7917 ,  7916 ,  7915 ,  10628 ,  6288 ,  6289 ,  7981 ,  25326,55 ,  6286 ,  6287 ,  6280 ,  6281 ,  6282 ,  6283 ,  20833 ,  11620 ,  5977 ,  10019 ,  26138 ,  7985 ,  7988 ,  21300 ,  5616,15 ,  37466 ,  4326 ,  6361 ,  6454,8 ,  3448 ,  22969 ,  3445 ,  3444 ,  3447 ,  11259 ,  3441 ,  3440 ,  22960 ,  3442 ,  72885,57 ,  5109,2 ,  2751 ,  22121,1 ,  2759 ,  10400 ,  44530 ,  14599 ,  8990,9 ,  14596 ,  36490 ,  5212 ,  5210 ,  5211 ,  14152 ,  14150 ,  14151 ,  35250 ,  18074 ,  11972 ,  13104 ,  61000 ,  13106 ,  13100 ,  18306 ,  14487 ,  14480 ,  18650 ,  18300 ,  14488 ,  9338 ,  17930 ,  14378 ,  33909 ,  17935 ,  3059 ,  28450 ,  14370 ,  14371 ,  14377 ,  3050 ,  3051 ,  19000 ,  27468 ,  20304 ,  20305 ,  20300 ,  45952 ,  11960,94 ,  81612 ,  18001,28 ,  67500 ,  81743,87 ,  2599,2 ,  19260 ,  26658,9 ,  41700 ,  20644 ,  33088,5 ,  20646 ,  55500 ,  15680 ,  15685 ,  20640 ,  40250 ,  29052 ,  4804 ,  4452,91 ,  27962 ,  29500 ,  32907,5 ,  47700 ,  47704 ,  10010 ,  23762 ,  28900 ,  23760 ,  6446 ,  15356 ,  6916 ,  6917 ,  6910 ,  15352 ,  6912 ,  30900 ,  27077 ,  15429 ,  6919 ,  6448 ,  6449 ,  17111 ,  31500 ,  7729 ,  31050 ,  31056 ,  3819,2 ,  7720 ,  31509 ,  35024 ,  7725 ,  3949 ,  6023,7 ,  19478 ,  3940 ,  19477 ,  3942 ,  19475 ,  32880 ,  3945 ,  19470 ,  3947 ,  6708 ,  3395,1 ,  8329 ,  34739 ,  37855,6 ,  6703 ,  14890 ,  6705 ,  8320 ,  8323 ,  8599,9 ,  9910 ,  9913 ,  9917 ,  48310 ,  9919 ,  9459,9 ,  24475 ,  24470 ,  6081 ,  24479 ,  19218 ,  61540 ,  5232,2 ,  19210 ,  19215 ,  21994,73 ,  16042,7 ,  28132 ,  5723,84 ,  22417 ,  22147 ,  22140 ,  22413 ,  22410 ,  4057 ,  4056 ,  13745 ,  43750 ,  13740 ,  4050 ,  26302 ,  81450 ,  4059 ,  13749 ,  11999,99 ,  19567 ,  13118 ,  43285 ,  3610 ,  21828 ,  3613 ,  3614 ,  3616 ,  3617 ,  3619 ,  21821 ,  21827 ,  33850 ,  23090 ,  56280 ,  2569 ,  4492 ,  10448,9 ,  5775 ,  12170 ,  2565 ,  23094 ,  11429 ,  11428 ,  3708,9 ,  24080 ,  11420 ,  11423 ,  23544 ,  4491 ,  5029 ,  17112 ,  38592 ,  17446 ,  5021 ,  5020 ,  4117,5 ,  25775 ,  5025 ,  52509 ,  5026 ,  4440 ,  13350 ,  13355 ,  4446 ,  13356 ,  4448 ,  26460,92 ,  10114 ,  36701 ,  36700 ,  24816 ,  24810 ,  10990,92 ,  20150 ,  10990,91 ,  20155 ,  10990,94 ,  12460 ,  20393 ,  14927,83 ,  44700 ,  70323,49 ,  42888 ,  42669 ,  42881 ,  42880 ,  28590 ,  27899 ,  27898 ,  45034 ,  27895 ,  3095 ,  27891 ,  27890 ,  10466 ,  10464 ,  10465 ,  29260 ,  53673 ,  10460 ,  23146 ,  10088 ,  24822 ,  10469 ,  78300 ,  3099 ,  13978 ,  18538 ,  8910 ,  8917 ,  11848 ,  18530 ,  18824 ,  18825 ,  3238 ,  18820 ,  11840 ,  8197,89 ,  30599 ,  15160 ,  34252 ,  15162 ,  30597 ,  30590 ,  15165 ,  30220 ,  7113 ,  7112 ,  7110 ,  7116 ,  7115 ,  7114 ,  39500 ,  29198 ,  29199 ,  8654,1 ,  18797 ,  18790 ,  13748 ,  3827 ,  33653 ,  18799 ,  22236 ,  84558 ,  22235 ,  30040 ,  22233 ,  29998 ,  29999 ,  13010,94 ,  33475 ,  29990 ,  50929,82 ,  29997 ,  29995 ,  14743 ,  3396 ,  14744 ,  24263 ,  11188,14 ,  24260 ,  24267 ,  4102 ,  2559 ,  2998 ,  77210 ,  4107 ,  4109 ,  4208 ,  23799,2 ,  13913 ,  12950 ,  4200 ,  13910 ,  4207 ,  4204 ,  5568 ,  5569 ,  10066,92 ,  19772 ,  3892 ,  5560 ,  5562 ,  33470 ,  17367 ,  2879 ,  35610 ,  31317 ,  6433,65 ,  35340 ,  50591 ,  19128,41 ,  12959 ,  11212 ,  11210 ,  11211 ,  11217 ,  11219 ,  7296 ,  19048 ,  19047 ,  19046 ,  19045 ,  51426 ,  3357 ,  19040 ,  7217,1 ,  22310 ,  3356 ,  7968 ,  22317 ,  15240 ,  61040 ,  27790 ,  87850 ,  27796 ,  27795 ,  25330 ,  25336 ,  3353 ,  2799 ,  10323 ,  6374,78 ,  23950 ,  4898 ,  23954 ,  23400 ,  23959 ,  15246 ,  82643 ,  49798,1 ,  27248 ,  27249 ,  5817 ,  4892 ,  5455,8 ,  4890 ,  6198,28 ,  20103,82 ,  4896 ,  16182 ,  63306 ,  16185 ,  16635 ,  16189 ,  32348 ,  16630 ,  20820,2 ,  15181,8 ,  6118 ,  6119 ,  12745 ,  6115 ,  12747 ,  14990,95 ,  6110 ,  6111 ,  6112 ,  12742 ,  4598,6 ,  10920 ,  10927 ,  10925 ,  17320 ,  17323 ,  17324 ,  17325 ,  27536,65 ,  63776 ,  7280 ,  7287 ,  7285 ,  10672 ,  7289 ,  10670 ,  9450 ,  9451 ,  9100 ,  7975 ,  16989 ,  16988 ,  9559,8 ,  7974 ,  16983 ,  16450 ,  16980 ,  21140,7 ,  21140 ,  16457 ,  16456 ,  12298 ,  12292 ,  12290 ,  27820 ,  12295 ,  9495 ,  26113 ,  26110 ,  7973 ,  69730 ,  8295 ,  9497 ,  6298,6 ,  6223 ,  6264 ,  21369 ,  34891 ,  21499 ,  21498 ,  22940 ,  21490 ,  21365 ,  22949 ,  21494 ,  7391 ,  3429 ,  25190 ,  28242 ,  3423 ,  17586 ,  6261 ,  17580 ,  3424 ,  2000 ,  4589 ,  2007 ,  2004 ,  4858 ,  4856 ,  4855 ,  2009 ,  4581 ,  4580 ,  4851 ,  4582 ,  18497 ,  14175 ,  18495 ,  14177 ,  14170 ,  14172 ,  18490 ,  4413 ,  15904 ,  18499 ,  18498 ,  11989 ,  21187 ,  11982 ,  6965 ,  11980 ,  11981 ,  11986 ,  30750 ,  15457 ,  20856 ,  10580 ,  10583 ,  10585 ,  36063 ,  8625 ,  13160 ,  13166 ,  11363,99 ,  17097 ,  11182 ,  11180 ,  8627 ,  14355 ,  33250 ,  3930,81 ,  71000 ,  11189 ,  54738 ,  8150 ,  18972 ,  5955 ,  19982,92 ,  26365,6 ,  17911 ,  17910 ,  27408 ,  47195,92 ,  99463 ,  30697 ,  30696 ,  20360 ,  17099,1 ,  11532 ,  5762,88 ,  56002,28 ,  89344 ,  12987 ,  12986 ,  12984 ,  12983 ,  12980 ,  11534 ,  5504 ,  12989 ,  23516,84 ,  52469,87 ,  15704 ,  29030 ,  29033 ,  10103,2 ,  25020 ,  47090 ,  17399,2 ,  17399,1 ,  15403 ,  6930 ,  15400 ,  8699 ,  8698 ,  8129 ,  3239,2 ,  82120 ,  8126 ,  8125 ,  6939 ,  8690 ,  8120 ,  7707 ,  7704 ,  26750 ,  7700 ,  13136 ,  10034 ,  24390 ,  7709 ,  58947 ,  9420 ,  13599,3 ,  31070 ,  15570,4 ,  24132 ,  19189 ,  24130 ,  21020 ,  19184 ,  8348 ,  8343 ,  8342 ,  8341 ,  8340 ,  8346 ,  8345 ,  30350 ,  45280 ,  24458 ,  24459 ,  28922 ,  24450 ,  22430 ,  4890,2 ,  22438 ,  22329,67 ,  3464 ,  15079,91 ,  26321 ,  9061 ,  119700 ,  26329 ,  22124 ,  22125 ,  9990,91 ,  4079 ,  22057 ,  13764 ,  13765 ,  4077 ,  3460 ,  13760 ,  4070 ,  4072 ,  5797 ,  5796 ,  5795 ,  19457 ,  19450 ,  3960 ,  5790 ,  5799 ,  11138 ,  7152 ,  52295 ,  9648 ,  3639 ,  3636 ,  3637 ,  98030 ,  3630 ,  35400 ,  33107,4 ,  73230 ,  11407 ,  11405 ,  11403 ,  11400 ,  7452,4 ,  19982 ,  19983 ,  19980 ,  85100 ,  19235 ,  19984 ,  93400 ,  25014 ,  20587 ,  56000 ,  17466 ,  19908,1 ,  17461 ,  17460 ,  90691 ,  19889,8 ,  25472 ,  13376 ,  13375 ,  13374 ,  4462 ,  4463 ,  4460 ,  13370 ,  80250 ,  4099,9 ,  18575,2 ,  21800 ,  24870 ,  24871 ,  21804 ,  21805 ,  21808 ,  21809 ,  3538 ,  20179 ,  25105,1 ,  20174 ,  20170 ,  6455 ,  36187 ,  16846 ,  16847 ,  16844 ,  16843 ,  16840 ,  16841 ,  28110 ,  16848 ,  16849 ,  6327 ,  6325 ,  6324 ,  6323 ,  12173 ,  6321 ,  6320 ,  42601 ,  6329 ,  6328 ,  84500 ,  41000 ,  5017,9 ,  9665 ,  9663 ,  9660 ,  10116 ,  36980 ,  10446 ,  10447 ,  10440 ,  10441 ,  10110 ,  11020 ,  18805 ,  12599,9 ,  18807 ,  18800 ,  21770 ,  37480 ,  18808 ,  21778 ,  8978 ,  8979 ,  8071 ,  3584,1 ,  8970 ,  8973 ,  8977 ,  10474,1 ,  56310 ,  15050 ,  6459 ,  6560 ,  7138 ,  26928 ,  7131 ,  7130 ,  5428,1 ,  7132 ,  7135 ,  7134 ,  7137 ,  7136 ,  8389,91 ,  35145 ,  21974 ,  59760 ,  40357 ,  26690 ,  35142 ,  28842 ,  26693 ,  28026 ,  26698 ,  24200 ,  24204 ,  18599,4 ,  35980 ,  2835 ,  2830 ,  3391 ,  3390 ,  47950 ,  3392 ,  3395 ,  4690,92 ,  5400 ,  3399 ,  3398 ,  28557 ,  14725 ,  14724 ,  5409 ,  28000 ,  30206 ,  30200 ,  72000 ,  28224 ,  14356 ,  76050 ,  13971 ,  13970 ,  4262 ,  13975 ,  4265 ,  13976 ,  13979 ,  "
     ]
    },
    {
     "name": "stdout",
     "output_type": "stream",
     "text": [
      "4269 ,  11997,2 ,  18115 ,  18113 ,  18110 ,  18119 ,  5548 ,  11815 ,  5542 ,  5543 ,  5540 ,  23467 ,  13229,2 ,  5544 ,  17660 ,  30060 ,  11817 ,  8598 ,  8599 ,  33700 ,  7404 ,  8595 ,  8590 ,  31333 ,  35369 ,  10803,84 ,  35360 ,  5890 ,  11239 ,  5895 ,  5897 ,  11230 ,  5899 ,  11236 ,  87786 ,  13575 ,  25911 ,  4666 ,  4986,5 ,  22330 ,  25319 ,  4915 ,  25313 ,  25315 ,  25640 ,  4661 ,  37016 ,  4910 ,  23425 ,  23423 ,  6039 ,  9894 ,  9895 ,  27124 ,  9890 ,  9891 ,  39120 ,  6594 ,  9898 ,  9899 ,  37235 ,  5253 ,  28778,3 ,  16618 ,  9527 ,  16613 ,  32320 ,  15900,5 ,  16615 ,  12542 ,  28472 ,  6138 ,  22590 ,  3746,7 ,  22599 ,  12760 ,  6136 ,  6137 ,  6135 ,  10948 ,  13918 ,  10940 ,  2974,15 ,  10945 ,  10947 ,  16476 ,  16474 ,  16470 ,  9472 ,  9470 ,  3077 ,  9477 ,  16479 ,  24999 ,  24998 ,  61973 ,  24990 ,  21160 ,  24995 ,  14316 ,  24996 ,  18953 ,  37017 ,  14310 ,  7949 ,  12421 ,  2248 ,  2245 ,  2240 ,  2241 ,  26177 ,  21347 ,  24190 ,  21345 ,  10069 ,  5202,9 ,  35326 ,  21340 ,  24199 ,  24198 ,  20820,44 ,  14169,1 ,  21349 ,  3400 ,  22920 ,  3405 ,  18569,9 ,  3407 ,  22925 ,  17946,2 ,  4875 ,  4874 ,  32810 ,  41929 ,  4870 ,  4872 ,  4879 ,  4878 ,  24120 ,  10611 ,  53000 ,  13498 ,  10612 ,  10615 ,  7533 ,  10617 ,  10616 ,  10619 ,  13493 ,  2790 ,  2791 ,  2796 ,  13497 ,  90200 ,  13495 ,  14113 ,  14110 ,  18479 ,  18477 ,  14119 ,  18471 ,  18470 ,  18472 ,  17704 ,  17702 ,  38000 ,  17700 ,  17701 ,  8324 ,  27449 ,  23304,6 ,  17709 ,  13140 ,  13141 ,  20698 ,  20699 ,  13148 ,  20690 ,  20691 ,  20695 ,  9780 ,  9786 ,  9787 ,  9789 ,  17006 ,  6490,5 ,  4035,2 ,  18611 ,  18610 ,  18612 ,  18615 ,  18881 ,  27420 ,  34916 ,  20435 ,  14292 ,  20430 ,  20431 ,  27428 ,  16650 ,  54859 ,  14295 ,  40037 ,  7680,91 ,  15648 ,  15645 ,  12967 ,  12960 ,  15642 ,  7095 ,  7092 ,  29544 ,  7090 ,  29010 ,  7098 ,  7099 ,  12895 ,  12557 ,  12720 ,  4741,12 ,  8107 ,  8100 ,  76550 ,  8102 ,  11136 ,  8108 ,  4095 ,  6489 ,  12893 ,  15461 ,  6951 ,  6480 ,  15390 ,  6486 ,  6487 ,  15394 ,  26770 ,  26775 ,  26774 ,  4885 ,  3220,2 ,  4448,23 ,  26642 ,  8361 ,  8360 ,  8369 ,  34779 ,  52930 ,  30197 ,  35269,2 ,  5033,83 ,  5493,04 ,  24607 ,  10286 ,  24438 ,  3187 ,  3180 ,  28760 ,  47740 ,  28948 ,  3188 ,  24435 ,  22100 ,  22453 ,  22450 ,  22457 ,  22106 ,  22455 ,  5298,1 ,  22458 ,  33450 ,  26340 ,  26346 ,  35790 ,  35793 ,  19897,1 ,  11396 ,  11395 ,  32290,6 ,  11393 ,  11392 ,  11391 ,  11390 ,  4013 ,  4011 ,  4010 ,  14237 ,  11399 ,  4014 ,  46900 ,  19430 ,  3988 ,  3989 ,  51370 ,  9909,9 ,  12247 ,  3987 ,  11130 ,  3983 ,  86041 ,  21578 ,  8156 ,  5119 ,  23854 ,  23850 ,  23852 ,  23858 ,  16289 ,  27166 ,  27160 ,  27163 ,  16280 ,  4542 ,  16284 ,  16285 ,  16287 ,  21066,1 ,  21123 ,  3560 ,  38880 ,  25453 ,  25452 ,  25109 ,  25454 ,  25107 ,  25100 ,  22848 ,  24858 ,  28070 ,  82500 ,  24850 ,  2476 ,  48379 ,  2470 ,  48370 ,  7259 ,  7874 ,  7875 ,  7876 ,  7870 ,  7872 ,  7878 ,  14231 ,  13395 ,  16868 ,  16869 ,  42620 ,  16865 ,  12549,07 ,  23210 ,  16860 ,  10910,6 ,  6309 ,  12159 ,  20999 ,  12150 ,  12151 ,  14230 ,  20998 ,  10134 ,  81600 ,  10136 ,  27005,1 ,  10139 ,  17681,6 ,  10428 ,  10429 ,  22616 ,  3305 ,  9317 ,  10423 ,  10420 ,  9646 ,  9640 ,  10424 ,  9310 ,  18862 ,  18863 ,  18860 ,  8955 ,  8950 ,  8951 ,  13399 ,  18868 ,  21750 ,  20990 ,  2060 ,  12427,1 ,  26904 ,  40196 ,  26907 ,  26900 ,  12251 ,  6854 ,  26909 ,  41132 ,  86571 ,  2135,14 ,  15741 ,  3215 ,  3210 ,  6853 ,  8054 ,  41021 ,  2817 ,  2816 ,  40377 ,  4143,58 ,  40375 ,  6469 ,  29487 ,  29480 ,  29950 ,  6858 ,  14255 ,  14254 ,  14250 ,  24229 ,  24228 ,  24223 ,  18288 ,  24220 ,  5428 ,  5425 ,  5424 ,  3375 ,  5426 ,  3372 ,  5423 ,  6685 ,  12411 ,  11880 ,  30267 ,  15370 ,  11887 ,  31680 ,  31687 ,  4248 ,  4249 ,  4246 ,  4244 ,  35165 ,  4242 ,  13952 ,  4240 ,  4241 ,  5520 ,  28680 ,  5524 ,  5525 ,  5526 ,  5528 ,  5529 ,  3575 ,  18130 ,  59661 ,  3949,92 ,  31350 ,  35300 ,  10646,2 ,  23199 ,  23625 ,  23191 ,  23620 ,  6546 ,  6545 ,  6544 ,  6543 ,  15070 ,  6540 ,  15732 ,  15078 ,  87810 ,  7849 ,  25936 ,  25937 ,  32100 ,  23994 ,  74700 ,  23997 ,  23990 ,  23992 ,  19491 ,  23998 ,  23999 ,  7611 ,  23448 ,  14659,2 ,  3828,6 ,  23440 ,  27289 ,  78853 ,  38553 ,  3924 ,  14290 ,  3925 ,  18240 ,  7840 ,  7516 ,  7515 ,  7514 ,  7513 ,  17292 ,  7511 ,  7510 ,  18246 ,  39100 ,  7713,42 ,  14891,92 ,  16670 ,  19377 ,  16675 ,  32650 ,  12105 ,  6150 ,  12700 ,  12702 ,  12705 ,  6155 ,  12708 ,  10965 ,  10964 ,  2065,5 ,  10960 ,  6351 ,  10969 ,  10968 ,  26489 ,  4527 ,  25660 ,  25662 ,  4830 ,  26480 ,  15647 ,  26485 ,  4576,5 ,  4846 ,  21100 ,  16499 ,  16498 ,  16495 ,  4835 ,  6724 ,  16491 ,  16490 ,  4522 ,  22714 ,  22717 ,  30841 ,  4837 ,  13989,4 ,  15524 ,  15525 ,  26157 ,  26152 ,  26150 ,  33230,6 ,  25592 ,  25590 ,  25597 ,  8755 ,  2263 ,  25598 ,  25599 ,  43500 ,  11639 ,  76432 ,  9438 ,  19015 ,  7994 ,  5822 ,  8200 ,  22900 ,  23697 ,  22904 ,  11636 ,  22906 ,  23696 ,  4812 ,  7998 ,  4816 ,  4815 ,  2041 ,  9432 ,  4819 ,  4818 ,  41907 ,  2048 ,  9410 ,  9412 ,  11615 ,  9414 ,  10639 ,  10638 ,  19082,3 ,  10635 ,  10634 ,  10632 ,  10631 ,  10630 ,  18459 ,  11260 ,  11948 ,  11949 ,  14130 ,  18452 ,  18450 ,  14134 ,  11943 ,  18455 ,  11941 ,  27990 ,  62468 ,  17729 ,  21597,8 ,  17727 ,  17720 ,  18060 ,  17723 ,  35097,66 ,  11080 ,  36530 ,  10169 ,  12748 ,  18064 ,  9349 ,  19970 ,  36480 ,  33210 ,  12290,9 ,  69990,94 ,  10162 ,  27500 ,  20410 ,  26920 ,  10092 ,  10090 ,  10097 ,  39741 ,  10099 ,  12488,25 ,  9278,1 ,  19976 ,  12948 ,  12941 ,  15660 ,  12947 ,  15665 ,  12944 ,  7078 ,  7074 ,  7075 ,  7077 ,  7070 ,  37950 ,  14396 ,  14397 ,  14390 ,  14391 ,  18631 ,  14393 ,  9464 ,  27971 ,  14398 ,  14399 ,  12490 ,  15917 ,  8160 ,  6972 ,  15910 ,  6970 ,  15912 ,  12499 ,  32710 ,  8169 ,  15919 ,  6978 ,  6979 ,  39350 ,  9467 ,  5174,2 ,  12069 ,  26711 ,  26710 ,  21899,94 ,  14453 ,  50700 ,  6475 ,  27680 ,  8918 ,  10127,7 ,  8389 ,  34168 ,  8387 ,  8386 ,  34793 ,  8381 ,  8380 ,  25343 ,  40410 ,  6090 ,  4389 ,  24416 ,  4383 ,  4380 ,  4387 ,  28197,84 ,  5699,25 ,  23297 ,  28745 ,  28215 ,  15640 ,  28966 ,  23290 ,  22479 ,  21999,2 ,  22477 ,  13720 ,  4030 ,  4032 ,  13724 ,  4034 ,  4037 ,  13727 ,  4039 ,  26361 ,  26363 ,  11374 ,  11377 ,  11376 ,  8685 ,  11370 ,  11373 ,  11372 ,  19419 ,  32828 ,  19410 ,  19145 ,  32822 ,  19415 ,  19140 ,  19141 ,  6256,8 ,  13539,2 ,  16999,82 ,  52250 ,  10700,3 ,  43195 ,  28116 ,  6102,19 ,  23876 ,  21920 ,  27141 ,  27146 ,  27149 ,  17748,91 ,  4851,81 ,  15897 ,  14436 ,  24519 ,  43990 ,  25120 ,  43996 ,  14430 ,  8689 ,  16798,2 ,  6346 ,  20862 ,  2457 ,  2450 ,  14438 ,  7850 ,  7856 ,  7857 ,  7858 ,  7859 ,  9230,04 ,  16800 ,  21844 ,  12138 ,  12132 ,  12130 ,  6360 ,  6367 ,  6366 ,  6365 ,  6364 ,  9335 ,  7337 ,  10150 ,  10151 ,  10404 ,  9330 ,  9333 ,  10155 ,  10158 ,  36498 ,  9290 ,  36943 ,  24833 ,  3085 ,  9629 ,  7334 ,  9621 ,  9620 ,  19709,1 ,  18849 ,  21739 ,  7331 ,  5496 ,  18840 ,  21730 ,  9295 ,  21736 ,  18845 ,  14891 ,  18847 ,  45270 ,  45274 ,  18535 ,  26963 ,  26960 ,  26961 ,  17098,2 ,  4018 ,  14097 ,  14096 ,  14095 ,  14094 ,  14092 ,  14091 ,  14090 ,  3232 ,  3230 ,  3231 ,  5199 ,  5198 ,  3235 ,  5195 ,  5197 ,  3239 ,  5190 ,  5193 ,  13265 ,  13267 ,  13260 ,  13263 ,  18435 ,  31139 ,  53208,92 ,  13269 ,  2873 ,  2872 ,  2871 ,  2870 ,  40313 ,  2878 ,  3355 ,  14272 ,  14271 ,  14270 ,  3350 ,  28517 ,  14274 ,  14279 ,  3359 ,  3358 ,  5449 ,  20066 ,  20060 ,  20063 ,  5440 ,  20069 ,  45898 ,  5445 ,  5444 ,  30064,83 ,  30240 ,  34890 ,  13780,82 ,  12572 ,  5508 ,  5509 ,  18152 ,  5507 ,  18150 ,  5505 ,  5500 ,  87600 ,  29975 ,  29970 ,  7174,6 ,  49860 ,  23600 ,  57209 ,  10085,9 ,  23608 ,  51441 ,  28172 ,  28502 ,  23070,6 ,  6569 ,  32935 ,  13490,91 ,  6567 ,  3882 ,  6561 ,  5474 ,  6562 ,  7687 ,  29607 ,  3323 ,  35140 ,  7682 ,  29600 ,  7680 ,  14268 ,  25950 ,  15250 ,  7689 ,  53400 ,  23460 ,  3580 ,  3825 ,  3824 ,  3823 ,  3822 ,  3821 ,  3820 ,  12576 ,  3829 ,  8445 ,  10331 ,  8440 ,  8441 ,  8442 ,  14265 ,  12575 ,  8448 ,  12099,1 ,  35320 ,  7539 ,  43732,8 ,  7534 ,  39160 ,  7530 ,  11017,35 ,  19350 ,  26981,82 ,  16657 ,  19359 ,  19358 ,  16653 ,  19600 ,  19602 ,  30686 ,  12729 ,  6179 ,  12726 ,  6174 ,  6170 ,  6171 ,  7908 ,  10989 ,  14661 ,  16407 ,  84800 ,  10987 ,  10980 ,  10983 ,  24605 ,  24604 ,  25600 ,  25601 ,  24600 ,  24608 ,  16489,9 ,  12061 ,  19591,36 ,  6141,75 ,  21128 ,  21124 ,  24951 ,  24950 ,  21120 ,  22733 ,  7900 ,  80000,64 ,  17422 ,  2200 ,  31806 ,  31800 ,  17134 ,  11586 ,  11583 ,  11580 ,  9484 ,  19089 ,  11589 ,  21388 ,  21382 ,  21380 ,  10528,3 ,  19730 ,  61920 ,  17298 ,  17528 ,  17525 ,  17290 ,  17520 ,  4839 ,  4838 ,  70000 ,  6514 ,  13456 ,  13457 ,  4525 ,  13455 ,  4523 ,  4834 ,  13450 ,  4520 ,  7991 ,  7990 ,  7997 ,  7996 ,  7995 ,  9439 ,  11635 ,  7999 ,  11637 ,  11630 ,  9433 ,  9430 ,  9431 ,  5299 ,  5296 ,  5297 ,  5294 ,  5295 ,  5292 ,  5290 ,  21197 ,  13184 ,  13185"
     ]
    },
    {
     "name": "stdout",
     "output_type": "stream",
     "text": [
      " ,  17748 ,  13180 ,  20659 ,  20657 ,  17740 ,  27975 ,  20653 ,  20650 ,  15936 ,  36000 ,  8639 ,  11528 ,  12508,2 ,  25029,9 ,  6995 ,  42928 ,  80000 ,  20385 ,  20380 ,  20381 ,  26596 ,  20388 ,  34958 ,  20478 ,  34950 ,  48120 ,  30980 ,  20477 ,  20475 ,  23219,85 ,  7336 ,  7335 ,  9291 ,  9296 ,  9294 ,  7330 ,  6272 ,  9298 ,  9299 ,  7339 ,  11965 ,  11966 ,  11960 ,  18439 ,  11968 ,  33459 ,  11202,3 ,  71600 ,  15600 ,  15602 ,  15605 ,  12928 ,  10215 ,  10214 ,  7703,1 ,  10216 ,  10021,5 ,  10210 ,  10213 ,  10212 ,  5333 ,  7059 ,  10500,72 ,  7050 ,  7057 ,  7054 ,  37752 ,  18389 ,  78000 ,  37200 ,  18380 ,  8149 ,  8148 ,  15930 ,  6998 ,  6999 ,  30765 ,  8638 ,  30987 ,  8140 ,  6997 ,  6990 ,  6991 ,  8630 ,  26730 ,  24380 ,  2999 ,  24386 ,  37415 ,  2990 ,  17427,33 ,  2992 ,  2995 ,  2996 ,  31587 ,  31580 ,  24389 ,  47520 ,  67944 ,  21446 ,  24127 ,  3792,92 ,  9999 ,  9998 ,  20132 ,  9991 ,  9990 ,  9992 ,  9995 ,  9994 ,  9997 ,  9996 ,  11037 ,  14514 ,  28237 ,  28230 ,  11033 ,  14510 ,  16141 ,  28238 ,  11039 ,  28728 ,  28722 ,  28727 ,  29904 ,  19552 ,  22947 ,  19886 ,  43200 ,  30381,84 ,  21011 ,  21010 ,  17529,91 ,  11359 ,  32800 ,  19162 ,  11352 ,  11350 ,  19168 ,  11356 ,  61320 ,  91536 ,  13245,02 ,  55000 ,  7235 ,  17990,91 ,  4999,1 ,  19293 ,  19290 ,  19296 ,  19295 ,  19298 ,  14000 ,  27125 ,  12648,46 ,  2330 ,  6281,83 ,  25413 ,  25410 ,  25148 ,  53980 ,  74119 ,  46041,85 ,  31933 ,  42000 ,  14929,92 ,  6699 ,  6698 ,  82800 ,  6692 ,  6691 ,  6690 ,  6697 ,  6696 ,  6695 ,  2439 ,  2438 ,  22598,1 ,  2430 ,  6130,8 ,  2435 ,  16820 ,  7839 ,  32114 ,  19835 ,  16824 ,  19833 ,  16350 ,  7830 ,  19838 ,  16359 ,  6341 ,  12111 ,  6342 ,  6345 ,  6347 ,  12117 ,  6348 ,  17199 ,  17198 ,  17193 ,  17191 ,  17190 ,  9600 ,  9351 ,  9350 ,  9357 ,  9606 ,  10170 ,  9359 ,  10174 ,  10175 ,  21246 ,  46695 ,  37560 ,  21243 ,  21240 ,  21717 ,  14513 ,  3783 ,  3780 ,  8999 ,  3786 ,  11030 ,  3784 ,  24035,5 ,  8990 ,  8991 ,  8997 ,  8994 ,  8995 ,  6510 ,  4994 ,  4995 ,  4990 ,  41200 ,  20636,91 ,  4998 ,  4999 ,  26941 ,  44697 ,  44690 ,  15024 ,  14078 ,  47789 ,  3767,1 ,  16576,2 ,  14076 ,  14071 ,  14070 ,  14072 ,  3258 ,  59750 ,  3250 ,  7590,31 ,  3254 ,  3255 ,  3257 ,  13240 ,  13245 ,  13249 ,  13248 ,  49100 ,  18890,9 ,  2850 ,  2853 ,  2855 ,  14219 ,  5460 ,  3330 ,  5465 ,  3336 ,  3335 ,  5469 ,  3339 ,  5057 ,  28530 ,  29638 ,  30510 ,  20046 ,  20985,62 ,  18392,91 ,  4366 ,  30518 ,  38764 ,  36617 ,  18170 ,  18171 ,  23780 ,  18175 ,  18176 ,  18178 ,  16272 ,  4826 ,  3816 ,  23498 ,  8935 ,  19959 ,  29917 ,  16989,92 ,  23663 ,  23660 ,  28390 ,  23667 ,  41100 ,  28398 ,  15512 ,  8284 ,  8285 ,  8280 ,  8289 ,  15038 ,  15039 ,  19609,92 ,  6503 ,  15033 ,  15030 ,  6500 ,  15036 ,  15034 ,  15035 ,  15036,21 ,  60280 ,  29622 ,  3809 ,  3808 ,  23488 ,  4905 ,  23485 ,  3801 ,  3800 ,  23480 ,  4904 ,  8460 ,  4671 ,  8464 ,  34618 ,  88440 ,  17272 ,  70047 ,  14646 ,  7559 ,  7558 ,  31399 ,  31398 ,  7553 ,  7551 ,  7550 ,  24599 ,  7556 ,  19331 ,  19330 ,  16100 ,  19627 ,  19626 ,  16105 ,  22282 ,  22280 ,  22286 ,  22284 ,  22536 ,  22530 ,  4175 ,  4176 ,  21589,9 ,  4170 ,  13880 ,  14644 ,  13889 ,  18338 ,  25628 ,  3060 ,  25620 ,  3067 ,  25623 ,  25624 ,  25625 ,  25626 ,  25627 ,  150000 ,  7395 ,  19797,1 ,  7394 ,  24970 ,  75478 ,  46197 ,  19169 ,  14361 ,  33910 ,  22750 ,  26114,4 ,  22756 ,  26199 ,  43010 ,  2226 ,  14497 ,  2225 ,  26197 ,  2223 ,  10057 ,  2511,82 ,  5920 ,  5921 ,  5922 ,  28440 ,  5144 ,  9768 ,  17505 ,  17500 ,  17501 ,  17503 ,  23399,2 ,  17509 ,  7398 ,  13474 ,  4504 ,  13476 ,  13477 ,  13470 ,  4500 ,  4509 ,  4508 ,  2088 ,  2089 ,  70020 ,  7544 ,  2080 ,  25080 ,  11658 ,  11659 ,  11652 ,  11653 ,  11650 ,  11651 ,  85270 ,  11655 ,  17760 ,  4879,8 ,  17763 ,  27950 ,  17765 ,  17767 ,  17769 ,  20679 ,  6569,5 ,  64300 ,  3520,8 ,  9004 ,  36570 ,  46993 ,  42762 ,  5929,95 ,  11034 ,  20450 ,  4290,92 ,  20904 ,  8117 ,  20900 ,  16644 ,  84630 ,  19613 ,  4040,1 ,  51900 ,  19611 ,  7319 ,  7315 ,  7314 ,  7317 ,  7310 ,  3996,9 ,  39705 ,  12305 ,  12304 ,  11900 ,  12306 ,  11906 ,  12300 ,  11904 ,  18415 ,  18414 ,  12309 ,  18410 ,  4297,5 ,  12909 ,  12908 ,  12907 ,  12906 ,  12905 ,  12904 ,  12903 ,  12902 ,  15621 ,  12900 ,  7030 ,  7031 ,  7032 ,  10230 ,  9010 ,  7035 ,  7037 ,  7038 ,  7039 ,  10238 ,  9019 ,  8912 ,  21505 ,  24027 ,  21506 ,  21500 ,  12734 ,  63332 ,  6167 ,  6166 ,  15489 ,  15488 ,  15950 ,  15481 ,  15480 ,  15487 ,  7788 ,  7786 ,  7787 ,  7784 ,  18676 ,  3898,1 ,  14680 ,  24367 ,  14880,07 ,  14688 ,  4298 ,  4349 ,  4348 ,  4347 ,  4346 ,  40450 ,  40455 ,  28700 ,  22830 ,  11016 ,  11010 ,  11012 ,  17888 ,  8617 ,  8610 ,  34422 ,  17880 ,  17883 ,  17885 ,  11331 ,  11330 ,  14333 ,  11335 ,  11337 ,  11339 ,  75548,8 ,  38193,8 ,  19103 ,  19100 ,  19106 ,  5719 ,  7593,48 ,  5715 ,  4336,2 ,  33862 ,  5710 ,  3737,6 ,  16991,5 ,  7730,1 ,  20771,7 ,  15625 ,  25140 ,  60300 ,  28876 ,  23836 ,  23347 ,  28875 ,  23341 ,  47100 ,  11489 ,  23830 ,  11487 ,  8011 ,  11482 ,  11480 ,  27100 ,  25146 ,  21130 ,  10609,2 ,  7459,6 ,  17496 ,  17497 ,  25167 ,  40240 ,  43950 ,  16590 ,  16591 ,  16595 ,  32280 ,  28042 ,  16598 ,  20069,33 ,  22836 ,  46471 ,  17493 ,  9274 ,  21889 ,  18576,8 ,  12686 ,  12687 ,  21880 ,  21881 ,  23025 ,  10827 ,  3490,99 ,  10823 ,  10820 ,  3490,92 ,  40248 ,  3301 ,  7816 ,  7815 ,  7812 ,  7810 ,  53169 ,  13459,95 ,  53162 ,  23202 ,  39950 ,  21080 ,  21082 ,  21083 ,  16378 ,  5096 ,  21086 ,  21087 ,  19814 ,  16375 ,  5097 ,  19810 ,  16371 ,  13386 ,  20529,9 ,  4021,92 ,  26379,91 ,  26276 ,  17810,82 ,  69300 ,  4759,6 ,  26279 ,  13380 ,  9371 ,  9370 ,  9372 ,  9375 ,  37500 ,  43880 ,  21269 ,  21265 ,  37508 ,  21267 ,  15347 ,  31810 ,  30590,92 ,  5242,3 ,  2412 ,  2415 ,  4499 ,  4498 ,  4970 ,  45506 ,  4973 ,  15887 ,  13366,2 ,  14098,1 ,  14059 ,  14058 ,  12464 ,  3270 ,  4225 ,  15735 ,  14050 ,  49444 ,  3279 ,  15736 ,  13930 ,  13229 ,  36900 ,  5218,06 ,  13221 ,  5183,6 ,  13225 ,  18996 ,  18997 ,  14947 ,  14940 ,  18990 ,  14942 ,  3141 ,  10995,9 ,  12408 ,  14239 ,  18999 ,  3319 ,  38700 ,  5489 ,  5488 ,  3311 ,  5486 ,  3312 ,  5483 ,  5482 ,  5481 ,  5480 ,  20029 ,  30576 ,  20020 ,  5581 ,  20025 ,  44100 ,  15360 ,  6470 ,  18198 ,  18197 ,  18190 ,  18967,83 ,  72990 ,  41622 ,  5588 ,  41620 ,  18580 ,  72998 ,  12405 ,  31294 ,  18582 ,  3023,58 ,  31040 ,  23009,1 ,  11892 ,  29428 ,  29395 ,  29396 ,  5329 ,  29390 ,  29420 ,  29393 ,  23649 ,  23640 ,  23137 ,  12435 ,  23130 ,  23647 ,  15010 ,  15547 ,  6522 ,  5173,2 ,  6527 ,  15017 ,  6529 ,  6528 ,  87704 ,  8260 ,  27736 ,  27737 ,  24910,6 ,  25998 ,  16357 ,  25992 ,  25990 ,  25991 ,  32750 ,  35100 ,  29640 ,  29647 ,  31150 ,  3869 ,  3868 ,  19830 ,  29461,34 ,  3861 ,  25961,42 ,  3865 ,  8400 ,  16977,28 ,  8405 ,  8406 ,  7570 ,  9819 ,  14931 ,  9814 ,  7578 ,  9816 ,  9810 ,  33650 ,  9813 ,  17581,86 ,  14281 ,  16358 ,  19464 ,  14934 ,  50020 ,  19839 ,  20179,3 ,  12110 ,  14284 ,  6340 ,  5113,4 ,  3930 ,  14938 ,  4519 ,  22510 ,  9669 ,  18275 ,  22515 ,  22514 ,  4152 ,  4153 ,  26469 ,  26468 ,  4155 ,  2529,61 ,  30477 ,  26461 ,  69825 ,  26467 ,  86071 ,  24648 ,  13688 ,  8819 ,  28112 ,  24640 ,  7660,42 ,  8818 ,  24647 ,  7586 ,  25098 ,  9741 ,  22770 ,  82910 ,  6161 ,  38943 ,  31991 ,  18720 ,  9429 ,  13680 ,  11093 ,  11279 ,  8211 ,  5900 ,  5901 ,  19645 ,  19644 ,  19311 ,  16166 ,  16169 ,  19648 ,  5908 ,  5909 ,  8745 ,  25180 ,  38491 ,  38490 ,  17560 ,  8744 ,  17567 ,  32940 ,  3481 ,  3480 ,  3483 ,  3485 ,  3484 ,  3487 ,  30300 ,  4563 ,  13410 ,  4560 ,  8741 ,  4564 ,  4569 ,  8740 ,  8159,06 ,  11672 ,  11674 ,  11677 ,  9425 ,  24914 ,  10183,4 ,  20613 ,  20610 ,  27936 ,  27934 ,  17789 ,  11792,5 ,  20619 ,  19489,91 ,  17780 ,  3448,8 ,  25200 ,  28781 ,  4710 ,  16785 ,  16786 ,  16781 ,  16780 ,  16783 ,  6096,13 ,  12095 ,  6065 ,  12097 ,  12096 ,  6060 ,  12090 ,  12092 ,  42746 ,  6068 ,  12098 ,  42742 ,  2600 ,  2601 ,  20925 ,  20927 ,  15725 ,  10782 ,  10780 ,  10785 ,  10035 ,  39729 ,  10789 ,  10030 ,  10032 ,  21710 ,  21696 ,  21690 ,  11901,78 ,  7373 ,  7370 ,  21698 ,  12321 ,  12320 ,  25145,79 ,  12325 ,  11920 ,  12329 ,  6109,06 ,  33143 ,  11926 ,  33417 ,  20237 ,  19999,84 ,  30490 ,  9030 ,  9031 ,  9036 ,  9037 ,  9034 ,  9035 ,  10250 ,  29094 ,  7013 ,  7010 ,  7011 ,  24003 ,  18690 ,  18693 ,  24000 ,  24007 ,  21526 ,  21525 ,  37710 ,  18698 ,  21529 ,  11750,31 ,  8132 ,  7869,61 ,  84000 ,  19205 ,  8998 ,  29898 ,  24344 ,  24345 ,  3322 ,  2958 ,  2959 ,  2955 ,  2957 ,  2950 ,  2952 ,  3787 ,  5344 ,  5345 ,  5346 ,  5347 ,  5340 ,  5341 ,  5343 ,  2831,97 ,  5871 ,  4365 ,  15838 ,  3789 ,  4360 ,  4362 ,  15389 ,  4369 ,  18030 ,  4828,7 ,  11078 ,  14526,8 ,  3108 ,  62000 ,  42950 ,  14553 ,  11070 ,  14551 ,  3100 ,  28275 ,  11075 ,  30726 ,  15975 ,  8670 ,  11748,2 ,  8675 ,  15970 ,  34449 ,  30729 ,  27446 ,  13780 ,  4090 ,  4097 ,  4096 ,  31450 ,  13785 ,  4099 ,  4098 ,  50940 ,  5735 ,  23584 ,  5730 ,  11319 ,  23580 ,  11317 ,  11315 ,  5739 ,  5738 ,  11311 ,  4041 ,  27696 ,  27695 ,  27693 ,  27690 ,  19120 ,  21398 ,  32843 ,  19124 ,  19125 ,  51540 ,  25831 ,  25830 ,  23971 ,  3328 ,  16547,3 ,  4048 ,  3271,5 ,  19986,4 ,  4049 ,  24239 ,  28858 ,  23365 ,  28850 ,  11990,2 ,  8097 ,  8096 ,  12527 ,  15206 ,  12521 ,  15200 ,  8091 ,  8090 ,  40500 ,  20440 ,  8099 ,  8098 ,  22188 ,  9899,92 ,  13999,92 ,  16609,09 ,  20850,92 ,  22180 ,  22185 ,  28304 ,  96490 ,  19789 ,  16579 ,  16576 ,  30954,64 ,  16575 ,  19780 ,  19781 ,  19782 ,  16571 ,  6181,09 ,  14420 ,  6659 ,  6658 ,  6657 ,  6656 ,  6655 ,  6654 ,  6653 ,  6652 ,  6651 ,  6650 ,  92000 ,  10804 ,  27219,31 ,  10800 ,  10801 ,  24502 ,  2125 ,  6386 ,  6381 ,  6380 ,  19872 ,  32150 ,  21062 ,  9886,1 ,  21060 ,  21061 ,  24949,09 ,  2380 ,  26259 ,  2389 ,  26250 ,  26251 ,  21832 ,  21209 ,  28565 ,  21200 ,  21207 ,  21204 ,  22119,91 ,  32617 ,  1843 ,  18647 ,  21170 ,  4958 ,  7609,5 ,  43600 ,  4952 ,  4953 ,  4950 ,  4951 ,  2160 ,  19680 ,  14031 ,  14030 ,  14035 ,  14037 ,  16519,02 ,  6481,8 ,  17045 ,  17047 ,  17040 ,  5139 ,  3294 ,  3296 ,  3290 ,  5131 ,  5130 ,  11911 ,  13205 ,  60720 ,  11910 ,  6707 ,  13208 ,  18426 ,  24233 ,  36432 ,  6103,8 ,  33350 ,  14966 ,  14965 ,  18209 ,  14787 ,  14786 ,  14969 ,  11916 ,  33600 ,  18200 ,  33602 ,  20555 ,  20006 ,  20005 ,  9230,9 ,  27190 ,  20550 ,  20001 ,  20000 ,  38725 ,  2047,5 "
     ]
    },
    {
     "name": "stdout",
     "output_type": "stream",
     "text": [
      ",  20009 ,  27448 ,  30550 ,  8564 ,  8293 ,  40110 ,  19572,1 ,  12541 ,  15613 ,  15260 ,  18517,1 ,  2573 ,  15780 ,  6890 ,  6893 ,  6892 ,  15784 ,  41609 ,  24236 ,  15788 ,  6898 ,  41600 ,  41601 ,  35082 ,  29400 ,  2045 ,  11930,92 ,  10907 ,  3009 ,  2719,2 ,  12548 ,  15619 ,  47600 ,  8798 ,  8799 ,  8249 ,  15569 ,  8790 ,  34380 ,  15566 ,  8793 ,  8794 ,  8795 ,  8244 ,  8797 ,  29660 ,  29661 ,  2043 ,  29664 ,  26890 ,  29668 ,  10204 ,  26898 ,  3337 ,  31605 ,  31604 ,  34125 ,  4132,5 ,  8424 ,  8425 ,  8423 ,  8420 ,  34650 ,  8429 ,  17437 ,  28535 ,  50000 ,  9838 ,  9839 ,  3595 ,  7599 ,  7598 ,  7597 ,  14215 ,  9830 ,  7593 ,  9837 ,  7590 ,  9128 ,  35950 ,  23110 ,  10306 ,  10657 ,  22570 ,  5035 ,  22575 ,  11660,93 ,  10302 ,  7470 ,  20040 ,  75360 ,  26404 ,  35775 ,  24667 ,  4139 ,  24665 ,  8666 ,  24660 ,  4130 ,  4131 ,  4135 ,  5692 ,  32430 ,  5690 ,  5691 ,  5694 ,  5695 ,  3849 ,  3848 ,  5698 ,  5699 ,  8006,1 ,  22799 ,  22798 ,  6419,78 ,  30201,2 ,  22790 ,  22792 ,  35522 ,  35520 ,  31860 ,  35529 ,  16438 ,  19728 ,  13328 ,  21496 ,  2489 ,  4438 ,  5968 ,  51750 ,  16149 ,  5960 ,  5961 ,  19665 ,  5963 ,  5964 ,  16142 ,  65629,5 ,  16140 ,  17548 ,  17549 ,  17540 ,  17541 ,  17235 ,  17545 ,  17230 ,  17231 ,  9538,9 ,  4548 ,  16040 ,  4936 ,  24914,84 ,  4540 ,  13432 ,  13433 ,  4545 ,  13435 ,  4546 ,  12608 ,  11698 ,  11699 ,  11697 ,  11695 ,  11692 ,  11690 ,  11691 ,  27313 ,  26935,28 ,  46156 ,  24933 ,  24930 ,  2595 ,  2590 ,  2592 ,  20630 ,  2599 ,  27916 ,  25225 ,  99350 ,  25220 ,  6042 ,  6987 ,  6040 ,  6045 ,  23280 ,  6048 ,  6049 ,  6985 ,  2623 ,  2620 ,  20949 ,  19658,1 ,  10693 ,  20943 ,  32680 ,  6982 ,  7350 ,  9580 ,  12823,2 ,  9586 ,  9239 ,  7357 ,  9585 ,  7358 ,  9588 ,  8605 ,  9230 ,  10015 ,  9233 ,  12560,01 ,  54800 ,  12348 ,  8167,5 ,  12341 ,  12340 ,  12342 ,  12345 ,  12347 ,  4275,9 ,  10275 ,  10274 ,  10271 ,  10270 ,  10279 ,  10278 ,  9059 ,  9050 ,  9053 ,  9054 ,  9057 ,  33292 ,  33290 ,  8186 ,  24061 ,  21540 ,  24063 ,  29830 ,  14588 ,  24066 ,  20494 ,  20495 ,  20496 ,  20497 ,  20490 ,  22890 ,  20498 ,  20499 ,  26790 ,  2745,9 ,  44440 ,  13898 ,  29875 ,  17947 ,  20129 ,  5496,4 ,  2979 ,  24326 ,  2973 ,  24328 ,  2975 ,  68990 ,  5360 ,  5361 ,  5366 ,  5364 ,  5365 ,  5369 ,  12889,91 ,  15806,5 ,  31290 ,  4302 ,  4300 ,  5790,91 ,  4304 ,  14698 ,  11050 ,  24499 ,  37840 ,  14574 ,  11055 ,  33830 ,  11057 ,  24490 ,  24493 ,  24495 ,  24496 ,  26695,8 ,  3128 ,  3129 ,  12612,17 ,  3123 ,  3120 ,  13752 ,  17842 ,  5095 ,  15999 ,  15998 ,  15995 ,  8650 ,  8652 ,  8655 ,  34465 ,  35739 ,  31474 ,  29220 ,  56964,6 ,  10752 ,  5750 ,  5757 ,  5755 ,  5754 ,  5759 ,  23563 ,  15190 ,  15192 ,  15199 ,  18572,5 ,  27673 ,  25810 ,  13748,5 ,  3474,9 ,  13165 ,  29568,82 ,  22962 ,  23661 ,  23300 ,  23302 ,  12502 ,  15221 ,  12500 ,  12506 ,  12505 ,  12509 ,  15228 ,  7435 ,  39240 ,  7430 ,  7431 ,  7433 ,  12725 ,  7438 ,  7439 ,  2033,05 ,  16550 ,  16551 ,  2322 ,  13288 ,  12645 ,  12646 ,  13635 ,  12640 ,  6670 ,  6672 ,  4703 ,  16080 ,  16081 ,  6679 ,  6678 ,  24314 ,  12590,95 ,  31920 ,  4605 ,  56518 ,  48920 ,  3659,5 ,  10868 ,  10860 ,  10861 ,  10866 ,  10864 ,  19850 ,  19507 ,  16880 ,  19853 ,  21040 ,  21041 ,  19500 ,  19857 ,  19858 ,  16888 ,  19840,5 ,  21049 ,  19509 ,  4840,65 ,  5485,95 ,  4008,32 ,  4858,1 ,  26232 ,  2366 ,  2362 ,  2360 ,  18567 ,  28717 ,  21222 ,  21225 ,  21950 ,  14522 ,  28715 ,  17685 ,  11000 ,  17682 ,  17680 ,  14527 ,  3720 ,  3722 ,  17688 ,  4930 ,  12991,82 ,  4933 ,  4934 ,  13592 ,  4680 ,  13590 ,  4938 ,  19255 ,  41845 ,  21381,12 ,  13599 ,  13598 ,  11735 ,  25978 ,  11730 ,  6502 ,  37280,9 ,  2100 ,  11739 ,  11738 ,  2104 ,  5110 ,  10424,6 ,  5112 ,  6507 ,  14159 ,  14013 ,  14010 ,  20796 ,  17060 ,  20792 ,  17064 ,  6504 ,  13747 ,  7084,28 ,  35060 ,  35498,4 ,  60700 ,  5218 ,  10480 ,  5219 ,  10486 ,  59398,2 ,  7228,2 ,  14900 ,  27070 ,  14904 ,  20573 ,  20571 ,  20570 ,  13336 ,  20575 ,  62700 ,  8648,5 ,  33678,2 ,  16264 ,  36679 ,  16413,82 ,  16265 ,  16263 ,  18206 ,  19587,63 ,  19940 ,  18845,91 ,  6878 ,  15766 ,  6876 ,  6875 ,  15765 ,  6873 ,  15763 ,  15760 ,  6870 ,  40391 ,  29460 ,  40392 ,  17395 ,  28241 ,  33760 ,  17076,2 ,  18224 ,  18225 ,  11871 ,  18220 ,  7632,92 ,  37069 ,  10579,91 ,  18838 ,  8220 ,  30825 ,  30826 ,  30820 ,  8225 ,  8227 ,  8228 ,  18528 ,  8829 ,  4649 ,  15503 ,  15500 ,  15501 ,  7609 ,  7605 ,  7604 ,  7602 ,  29680 ,  18830 ,  37100 ,  13439 ,  34100 ,  18654 ,  11604,74 ,  4647 ,  9850 ,  40534 ,  9852 ,  18304 ,  9855 ,  9856 ,  9858 ,  32494,48 ,  14481 ,  18367,21 ,  11778 ,  6095,25 ,  28482 ,  23170 ,  28338 ,  28330 ,  37800 ,  20530 ,  19110 ,  22225 ,  78550 ,  22555 ,  17248 ,  22221 ,  22220 ,  22550 ,  4116 ,  4117 ,  18201 ,  4115 ,  31080 ,  4110 ,  11770 ,  14441 ,  4118 ,  26420 ,  25732,2 ,  7101 ,  24680 ,  19899 ,  17932 ,  38300 ,  28151 ,  32415 ,  9681,5 ,  10048 ,  10231,2 ,  31885 ,  35500 ,  31880 ,  31882 ,  5946 ,  23797 ,  24923,39 ,  23795 ,  5942 ,  23793 ,  11508 ,  23791 ,  11507 ,  11505 ,  11502 ,  23798 ,  5949 ,  10736 ,  27080 ,  4150,95 ,  27088 ,  24590 ,  78150 ,  41125,88 ,  69282 ,  56700 ,  5157 ,  20072,2 ,  25790 ,  25792 ,  16379,3 ,  24598 ,  4990,92 ,  4990,94 ,  46173 ,  46170 ,  45482 ,  45480 ,  20753 ,  36082 ,  36086 ,  7903,8 ,  6029 ,  17210 ,  17211 ,  19622 ,  6020 ,  6021 ,  6024 ,  28990,91 ,  6027 ,  36880 ,  10070 ,  10073 ,  19620 ,  10075 ,  10076 ,  10079 ,  16107 ,  12598,2 ,  9219 ,  23136,3 ,  9212 ,  9210 ,  9217 ,  9215 ,  12366 ,  33100 ,  12362 ,  12360 ,  12369 ,  8311,29 ,  6453,9 ,  3830,4 ,  10342 ,  45159 ,  9077 ,  9074 ,  10299 ,  10298 ,  9070 ,  4483,51 ,  10294 ,  74690 ,  10290 ,  9235 ,  24047 ,  24046 ,  16792,8 ,  46820 ,  21561 ,  21560 ,  27658,82 ,  24049 ,  49838 ,  3557 ,  3555 ,  3553 ,  3550 ,  5840,5 ,  17865 ,  45730 ,  30050 ,  20968 ,  84300 ,  41470 ,  2910 ,  2912 ,  29858 ,  2915 ,  29852 ,  29851 ,  40700 ,  4177 ,  13344 ,  24300 ,  24301 ,  27714 ,  10256,1 ,  17099 ,  5300 ,  5301 ,  5304 ,  5305 ,  5306 ,  5307 ,  13016 ,  13014 ,  13012 ,  28059,81 ,  13010 ,  30455 ,  6386,4 ,  30102 ,  30100 ,  4329 ,  40470 ,  31278 ,  4320 ,  4322 ,  4325 ,  4327 ,  13888 ,  3140 ,  18078 ,  3142 ,  3143 ,  3144 ,  3145 ,  14598 ,  3147 ,  3148 ,  3149 ,  14595 ,  14593 ,  14590 ,  17869 ,  27535 ,  16052 ,  20210 ,  17863 ,  17861 ,  17860 ,  20218 ,  29206 ,  24620 ,  19130 ,  5735,7 ,  20562,2 ,  7334,58 ,  14560 ,  31415 ,  5779 ,  6879,84 ,  8568 ,  5770 ,  5773 ,  5772 ,  23095 ,  23546 ,  5776 ,  27650 ,  10671 ,  13941 ,  35369,4 ,  25870 ,  27135 ,  28810 ,  23890 ,  18463 ,  23324 ,  23895 ,  58086 ,  23897 ,  23896 ,  23204 ,  4789,92 ,  42820 ,  15248 ,  17110 ,  12560 ,  12562 ,  15245 ,  12564 ,  15247 ,  12566 ,  10978,6 ,  50900 ,  7410 ,  7416 ,  16532 ,  16530 ,  32992 ,  32990 ,  44670 ,  18162 ,  6613 ,  3105 ,  6610 ,  6616 ,  26997 ,  6619 ,  12629 ,  9290,91 ,  10840 ,  10841 ,  12810,94 ,  10844 ,  10846 ,  10847 ,  2240,95 ,  5083 ,  6999,9 ,  11642,3 ,  6999,3 ,  21022 ,  15587,1 ,  5080 ,  19528 ,  19529 ,  21025 ,  19525 ,  32292 ,  19520 ,  19521 ,  19522 ,  12198 ,  12199 ,  31990,6 ,  22050 ,  12190 ,  12191 ,  15340 ,  22864 ,  12195 ,  12197 ,  26212 ,  2346 ,  2341 ,  2340 ,  26219 ,  2349 ,  14142 ,  35744 ,  25498 ,  2800,85 ,  25492 ,  25491 ,  25490 ,  21790 ,  21975 ,  21795 ,  21797 ,  79910 ,  3703 ,  3700 ,  3701 ,  3707 ,  18547 ,  2120 ,  2123 ,  4668 ,  4918 ,  4919 ,  4664 ,  4917 ,  4914 ,  4667 ,  4660 ,  13570 ,  4662 ,  4911 ,  11710 ,  57625 ,  11719 ,  75408,47 ,  26170 ,  5170 ,  5177 ,  6440 ,  5175 ,  5174 ,  5179 ,  5178 ,  6831 ,  18711,05 ,  17009 ,  13926 ,  20779 ,  42540 ,  15190,5 ,  11615,4 ,  32200 ,  17000 ,  21890 ,  20770 ,  10019,07 ,  15727 ,  15403,02 ,  6835 ,  36479 ,  31180 ,  5300,9 ,  9689 ,  9688 ,  59590 ,  15359 ,  9681 ,  9680 ,  9683 ,  13921 ,  9686 ,  10735 ,  74482 ,  15346 ,  20519 ,  41399 ,  20510 ,  41397 ,  7255 ,  7250 ,  35598,01 ,  7189,6 ,  7258 ,  18598 ,  4411,43 ,  27686,2 ,  4240,91 ,  15744 ,  15745 ,  6856 ,  15740 ,  6850 ,  41130 ,  15748 ,  15749 ,  18592 ,  10024 ,  3000,91 ,  18590 ,  23320 ,  29449 ,  18591 ,  29440 ,  29334 ,  29335 ,  29332 ,  29445 ,  18242 ,  33316 ,  14925 ,  79200 ,  8800 ,  14921 ,  14920 ,  14298 ,  15520 ,  30840 ,  6580 ,  8758 ,  6586 ,  6585 ,  6584 ,  8754 ,  15529 ,  6589 ,  8757 ,  8750 ,  8751 ,  8752 ,  8753 ,  7625 ,  7624 ,  7621 ,  7620 ,  7623 ,  7622 ,  7629 ,  4505 ,  31646 ,  31643 ,  2489,4 ,  19049,13 ,  34699 ,  34162 ,  34695 ,  9878 ,  9879 ,  9876 ,  44879 ,  67800 ,  19809 ,  9870 ,  30596 ,  11154 ,  11156 ,  11151 ,  11150 ,  12029 ,  13478 ,  11159 ,  24510 ,  13479 ,  3089 ,  3088 ,  3941 ,  23150 ,  3087 ,  28310 ,  23154 ,  19474 ,  14856 ,  3943 ,  22203 ,  9577,8 ,  22200 ,  13805 ,  13800 ,  3885 ,  3886 ,  3880 ,  3883 ,  28170 ,  3889 ,  3888 ,  18913 ,  10930,52 ,  16114 ,  11525 ,  11526 ,  11520 ,  11522 ,  6700 ,  51651,1 ,  35563 ,  6496,1 ,  11529 ,  33510 ,  13402 ,  32690 ,  93075 ,  46385 ,  11853 ,  88300 ,  26260 ,  25000 ,  54264 ,  32525 ,  15096 ,  15097 ,  26350 ,  3179 ,  7642 ,  11855 ,  8322,77 ,  7640 ,  15029,9 ,  27350 ,  27356 ,  "
     ]
    },
    {
     "name": "stdout",
     "output_type": "stream",
     "text": [
      "3990,92 ,  25260 ,  25263 ,  14709 ,  99313 ,  19950 ,  6649,2 ,  20670 ,  32240 ,  16279 ,  16278 ,  6007 ,  6004 ,  7648 ,  88000 ,  6000 ,  17117 ,  17273 ,  17270 ,  17276 ,  9270 ,  9271 ,  39780 ,  7396 ,  10729 ,  7390 ,  9276 ,  7392 ,  9278 ,  36865 ,  7399 ,  10720 ,  10050 ,  27781 ,  26663,6 ,  13408 ,  31498,2 ,  63000 ,  6194,7 ,  12389 ,  12385 ,  12384 ,  12380 ,  33126 ,  12382 ,  21270 ,  26000 ,  20240 ,  8981 ,  6993 ,  13324 ,  30799 ,  9098 ,  9099 ,  9094 ,  9095 ,  9096 ,  9097 ,  9090 ,  44260 ,  46800 ,  21588 ,  21586 ,  42850 ,  21580 ,  21582 ,  5098 ,  5099 ,  98808 ,  3578 ,  17490 ,  5090 ,  5091 ,  5092 ,  3570 ,  22850 ,  17499 ,  4497 ,  4496 ,  4495 ,  4494 ,  13382 ,  13383 ,  20988 ,  4490 ,  20987 ,  32770 ,  20980 ,  2669 ,  44408 ,  7277,1 ,  2936 ,  44400 ,  2934 ,  2835,15 ,  2930 ,  2931 ,  18589 ,  4080,7 ,  11898 ,  11899 ,  5320 ,  14609 ,  11895 ,  11896 ,  11897 ,  11890 ,  18584 ,  14600 ,  14601 ,  20187 ,  28464 ,  20180 ,  40119,5 ,  23944 ,  13039 ,  23411 ,  30471 ,  13030 ,  13031 ,  18725 ,  18724 ,  18727 ,  18054 ,  11090 ,  9707,4 ,  18050 ,  4428 ,  22419 ,  11099 ,  18058 ,  19502 ,  17800 ,  17803 ,  17802 ,  13321 ,  17804 ,  3168 ,  3167 ,  5888 ,  3160 ,  27518 ,  20239 ,  13165,61 ,  20236 ,  9461,5 ,  27510 ,  42940 ,  49000 ,  29782 ,  29780 ,  4985 ,  22214,69 ,  29788 ,  81000 ,  6323,33 ,  4986 ,  27630 ,  27634 ,  27637 ,  11833 ,  19044 ,  25855 ,  8870 ,  25850 ,  15556 ,  5801,4 ,  31255 ,  29160 ,  31250 ,  31252 ,  11830 ,  10523,7 ,  48100 ,  23772,27 ,  4290,91 ,  15267 ,  12546 ,  12816 ,  12811 ,  26300 ,  16310 ,  8560 ,  16634,5 ,  12818 ,  15269 ,  27180 ,  51300 ,  25641 ,  20456 ,  39200 ,  40574 ,  7478 ,  31431 ,  31433 ,  35955 ,  50927 ,  7471 ,  7472 ,  7473 ,  7474 ,  7475 ,  35770 ,  16519 ,  19099 ,  16048 ,  16510 ,  19095 ,  16512 ,  16045 ,  19090 ,  19720 ,  6639 ,  2962,8 ,  22692 ,  11170 ,  22694 ,  12600 ,  6630 ,  12606 ,  11176 ,  26580 ,  13580,5 ,  26587 ,  26588 ,  52870 ,  16317 ,  14991 ,  28598 ,  24720 ,  24721 ,  3274,2 ,  24729 ,  21009 ,  19549 ,  65241 ,  21000 ,  19540 ,  19547 ,  19544 ,  19545 ,  15128,1 ,  22079 ,  22075 ,  22070 ,  22072 ,  4707 ,  13637 ,  4705 ,  4704 ,  43400 ,  2325 ,  4700 ,  5827 ,  13653 ,  4709 ,  4708 ,  42689 ,  26183,5 ,  3760 ,  3762 ,  21919 ,  3764 ,  3768 ,  3769 ,  21910 ,  21911 ,  14994 ,  21915 ,  17649 ,  17648 ,  13389 ,  17643 ,  17390 ,  17640 ,  17647 ,  17646 ,  17397 ,  2499 ,  2498 ,  4648 ,  13558 ,  20423,66 ,  4642 ,  2490 ,  4640 ,  13550 ,  2495 ,  13556 ,  4644 ,  4645 ,  11779 ,  19895 ,  19897 ,  19890 ,  19891 ,  7898 ,  7899 ,  24405,4 ,  7897 ,  11773 ,  7895 ,  7892 ,  7893 ,  7890 ,  7891 ,  5159 ,  17025 ,  3240 ,  19690 ,  32894,18 ,  17020 ,  5150 ,  5152 ,  5155 ,  5154 ,  17029 ,  20758 ,  7313 ,  4642,65 ,  20752 ,  20751 ,  20750 ,  25812,5 ,  20755 ,  9971,3 ,  12307 ,  36323 ,  58567 ,  18782,2 ,  85400 ,  4044,3 ,  20536 ,  48572 ,  20774 ,  33434 ,  45672 ,  35995 ,  19898,95 ,  11908 ,  7272 ,  15270 ,  7270 ,  34542 ,  18413 ,  7279 ,  15272 ,  61487 ,  42135 ,  12554 ,  7281,94 ,  8009 ,  15890 ,  15720 ,  6830 ,  15895 ,  15724 ,  6834 ,  15899 ,  6839 ,  6838 ,  14230,6 ,  10557 ,  10555 ,  29312 ,  10551 ,  10559 ,  8559 ,  15629 ,  16454 ,  31960 ,  18268 ,  18269 ,  8820 ,  25506,19 ,  18918 ,  8825 ,  18260 ,  18917 ,  12809 ,  37490 ,  33662 ,  18910 ,  33660 ,  15098 ,  15099 ,  34369 ,  15624 ,  17339 ,  13490,2 ,  15090 ,  8770 ,  8771 ,  30313 ,  30310 ,  8775 ,  39439 ,  16571,2 ,  7647 ,  7645 ,  11790,91 ,  7649 ,  15620 ,  95000 ,  4806,9 ,  11422 ,  10231 ,  5634 ,  11426 ,  13541 ,  7926 ,  4756,5 ,  10319 ,  9013 ,  9130 ,  35897 ,  6255,15 ,  9137 ,  11524,79 ,  3304 ,  14413 ,  14410 ,  10648 ,  11175 ,  14206 ,  11178 ,  4549,92 ,  7298 ,  21097 ,  14204 ,  7299 ,  11876 ,  5023 ,  8874 ,  5022 ,  97500 ,  34140 ,  3099,9 ,  10315 ,  13829 ,  30920 ,  38340 ,  11877 ,  13821 ,  13820 ,  32041 ,  13825 ,  13351 ,  7460 ,  5639 ,  96200 ,  5635 ,  5636 ,  5630 ,  6975 ,  8480 ,  8482 ,  8483 ,  20903,5 ,  8487 ,  8489 ,  35943 ,  9047,53 ,  \n",
      "\n",
      "==========\n",
      "FST_PAYMENT\n"
     ]
    },
    {
     "name": "stdout",
     "output_type": "stream",
     "text": [
      "1869 ,  6000,81 ,  600,9 ,  16070 ,  16000,1 ,  3812,6 ,  4027 ,  2553 ,  4020 ,  3926 ,  11548 ,  538 ,  1093,4 ,  5499 ,  10899 ,  5989 ,  592 ,  1999,8 ,  19556 ,  5980 ,  5984 ,  5985 ,  345 ,  346 ,  7514 ,  340 ,  3999 ,  3997 ,  3995 ,  19151 ,  349 ,  7519 ,  3990 ,  964 ,  3482 ,  11080 ,  965 ,  3071,52 ,  6156 ,  6157 ,  22000 ,  961 ,  6794 ,  6795 ,  6792 ,  4640 ,  8164 ,  2319 ,  1956,37 ,  2314 ,  4739 ,  2310 ,  5850 ,  298 ,  299 ,  297 ,  293 ,  749,95 ,  5611 ,  3776 ,  15521 ,  52000 ,  4788 ,  2496 ,  3098,88 ,  272 ,  273 ,  4650 ,  1279,9 ,  9661,66 ,  279 ,  1500,2 ,  41830 ,  3650,1 ,  962 ,  12015 ,  12012 ,  7889 ,  2268 ,  2269 ,  804,5 ,  4931,6 ,  2260 ,  7882 ,  43500 ,  7887 ,  2265 ,  2442 ,  2440 ,  1781 ,  2444 ,  1004 ,  42906 ,  2448 ,  10700 ,  9520 ,  10706 ,  9250 ,  60000 ,  8200 ,  3257,04 ,  7860 ,  100 ,  8201 ,  7999 ,  5874,6 ,  12520 ,  2046 ,  2047 ,  2044 ,  2045 ,  2042 ,  2040 ,  2041 ,  36330 ,  6050 ,  1374,88 ,  9411 ,  6399,9 ,  6370 ,  6371 ,  3270,82 ,  582 ,  2159 ,  10630 ,  10140 ,  10147 ,  10410 ,  15490 ,  3154 ,  90000 ,  1213 ,  9639 ,  2737 ,  12999 ,  9630 ,  4142 ,  3159 ,  5110 ,  8941 ,  8940 ,  29080,92 ,  3518 ,  8945 ,  3511 ,  3798,18 ,  7261 ,  3516 ,  37000 ,  799,5 ,  6200 ,  7780 ,  3212 ,  2684 ,  2685 ,  2686 ,  3621,7 ,  2680 ,  2682 ,  3391 ,  697 ,  342 ,  1437 ,  1374 ,  6800 ,  2739 ,  99 ,  50642 ,  9746 ,  10560 ,  500,41 ,  90 ,  14010 ,  9749 ,  9040 ,  1433 ,  1991 ,  1990 ,  3205 ,  30412 ,  1995 ,  1430 ,  1625 ,  3200 ,  1999 ,  1629 ,  1628 ,  3209 ,  3208 ,  1050,4 ,  16086 ,  1190,9 ,  1686 ,  7518 ,  1876 ,  3534 ,  2860 ,  2861 ,  2863 ,  559 ,  558 ,  41760 ,  555 ,  7140 ,  1785 ,  551 ,  550 ,  553 ,  552 ,  6599,8 ,  33694 ,  12948 ,  3014 ,  5055 ,  28000 ,  799,92 ,  7670 ,  26802 ,  1199 ,  1198 ,  344,8 ,  1365 ,  518 ,  5450 ,  1190 ,  3340 ,  1192 ,  1195 ,  1197 ,  1196 ,  5000,8 ,  14390 ,  1759 ,  1757 ,  1755 ,  1753 ,  1752 ,  1751 ,  1750 ,  1177 ,  1176 ,  1175 ,  1174 ,  6972 ,  3073,8 ,  1171 ,  1170 ,  4250 ,  1008 ,  1179 ,  4256 ,  511 ,  5530 ,  2964 ,  5534 ,  8000,2 ,  356,1 ,  1005 ,  1285 ,  1284 ,  1287 ,  1286 ,  4498,5 ,  1280 ,  1282 ,  18152 ,  1003 ,  879 ,  14400 ,  1288 ,  514 ,  876 ,  1579 ,  1578 ,  688 ,  1573 ,  1572 ,  687 ,  1570 ,  1577 ,  680 ,  1575 ,  682 ,  458 ,  16515 ,  3433 ,  249,3 ,  8389 ,  8500 ,  7207 ,  320,5 ,  873 ,  1224 ,  4521 ,  12834 ,  627 ,  8540 ,  2022 ,  8010 ,  1000,1 ,  4697 ,  6570 ,  1000,2 ,  223,2 ,  1000,4 ,  7450 ,  2740 ,  4380 ,  4387 ,  4590 ,  2688,69 ,  5620 ,  1371 ,  1370 ,  405 ,  404 ,  1375 ,  402 ,  8495 ,  400 ,  1379 ,  1378 ,  3252 ,  7698 ,  8059 ,  409 ,  1252,05 ,  19584,4 ,  1197,1 ,  3836 ,  3830 ,  6000,95 ,  3838 ,  25131,59 ,  455 ,  4030 ,  13336 ,  5990 ,  457 ,  5999 ,  5998 ,  3569 ,  2193 ,  10960 ,  379 ,  378 ,  7520 ,  448,5 ,  2039 ,  7524 ,  371 ,  370 ,  373 ,  1339,9 ,  375 ,  377 ,  10260 ,  2315 ,  4348 ,  6357 ,  6143 ,  392 ,  390 ,  395 ,  394 ,  399 ,  9874 ,  6780 ,  6782 ,  6785 ,  4725 ,  2300 ,  2302 ,  2305 ,  19650 ,  2307 ,  8117 ,  5847 ,  11288 ,  5845 ,  5844 ,  39000 ,  10000,2 ,  4340 ,  1310,62 ,  1246 ,  4919 ,  1271,1 ,  2653 ,  494,5 ,  16484 ,  3745 ,  3740 ,  1363 ,  4620 ,  247 ,  4675 ,  241 ,  240 ,  242 ,  13539 ,  4629 ,  32000 ,  248 ,  1700,91 ,  2275 ,  11754 ,  2271 ,  2270 ,  10467 ,  615,4 ,  2279 ,  2278 ,  12000 ,  4743 ,  11597 ,  10465 ,  290 ,  14935 ,  2522 ,  1248 ,  2888 ,  878,2 ,  4318 ,  16757,97 ,  2459 ,  4980,91 ,  2455 ,  709,6 ,  646 ,  9533 ,  9532 ,  9530 ,  7850 ,  971 ,  3597 ,  11990 ,  177 ,  176 ,  627,4 ,  39910 ,  2200,91 ,  2051 ,  3699 ,  2053 ,  2052 ,  2055 ,  4828 ,  657 ,  2059 ,  16800 ,  3774 ,  654 ,  4820 ,  609,6 ,  1501 ,  53577 ,  6445,86 ,  7989 ,  12130 ,  10469 ,  3779 ,  6365 ,  653 ,  10400 ,  45309 ,  1504 ,  2095 ,  2029 ,  54080 ,  3524 ,  3522 ,  12438,4 ,  3520 ,  10397 ,  2000,4 ,  3810,44 ,  2000,6 ,  2000,7 ,  2000,1 ,  2000,2 ,  3086 ,  338 ,  14200 ,  18840 ,  4403 ,  1091 ,  3678 ,  225 ,  6217 ,  3225 ,  638,7 ,  16250 ,  12220 ,  2698 ,  2697 ,  2696 ,  1226 ,  10719 ,  2690 ,  3782 ,  15701 ,  3000,55 ,  3245,95 ,  3220 ,  9754 ,  9750 ,  20460 ,  1970 ,  1362 ,  7325 ,  3230 ,  3236 ,  10089 ,  24140 ,  13060 ,  1964 ,  5194 ,  1966 ,  1615 ,  1960 ,  1961 ,  1610 ,  1611 ,  20890 ,  3870 ,  39804 ,  999,2 ,  1399,7 ,  5726,3 ,  2690,92 ,  15675 ,  2870 ,  2877 ,  18719 ,  15672 ,  2874 ,  1800,28 ,  2879 ,  2878 ,  4632 ,  2079 ,  7669 ,  3499,8 ,  3357 ,  3356 ,  3351 ,  3350 ,  3353 ,  7660 ,  3359 ,  3358 ,  2997 ,  2769,27 ,  5440 ,  62250 ,  720,2 ,  1064,2 ,  1768 ,  1769 ,  1763 ,  1760 ,  1224,15 ,  1767 ,  1765 ,  1142 ,  6960 ,  1140 ,  1141 ,  1146 ,  1147 ,  15900 ,  1145 ,  1148 ,  1149 ,  8150 ,  7049 ,  5506 ,  6519 ,  5504 ,  5502 ,  5500 ,  692 ,  1547 ,  690 ,  691 ,  696 ,  1543 ,  1540 ,  695 ,  60245 ,  698 ,  699 ,  11768 ,  1548 ,  11116 ,  870,4 ,  11199 ,  540 ,  541 ,  546 ,  547 ,  544 ,  545 ,  549 ,  9248 ,  2384 ,  13840 ,  539,09 ,  8522,2 ,  7567 ,  2698,89 ,  2968 ,  9375 ,  764 ,  7880 ,  8530 ,  929,1 ,  4000,61 ,  7883 ,  1500,5 ,  6407 ,  7116 ,  7443 ,  25599 ,  14500 ,  1179,6 ,  3298,5 ,  5610 ,  6068 ,  1103,85 ,  415 ,  416 ,  410 ,  411 ,  890,92 ,  1650,3 ,  10177 ,  1385 ,  1386 ,  1380 ,  419 ,  1382 ,  1383 ,  5609 ,  4000,22 ,  3822 ,  3820 ,  8000,91 ,  2000,95 ,  2000,92 ,  1947 ,  2000,91 ,  1628,5 ,  8445 ,  1389,8 ,  8442 ,  11560 ,  9528 ,  5710 ,  3043 ,  4283 ,  753,23 ,  4287 ,  3045 ,  26550 ,  11362 ,  368 ,  369 ,  366 ,  367 ,  364 ,  365 ,  362 ,  9254 ,  360 ,  696,1 ,  416,3 ,  19356 ,  19355 ,  16657 ,  3202 ,  728,92 ,  380 ,  381 ,  383 ,  384 ,  385 ,  386 ,  387 ,  388 ,  389 ,  6174 ,  52182 ,  2500,2 ,  3175,73 ,  1369 ,  4750 ,  13660 ,  4752 ,  6777 ,  10981 ,  10980 ,  4757 ,  9964 ,  5873 ,  5870 ,  650,95 ,  9960 ,  1077 ,  11292 ,  5226,9 ,  3270,7 ,  3759 ,  7000,5 ,  11382 ,  56670 ,  60488 ,  3750 ,  3752 ,  3951 ,  3756 ,  4633 ,  7900 ,  258 ,  4630 ,  2586 ,  5373 ,  2197 ,  36220 ,  2199 ,  250 ,  7902 ,  254 ,  3901 ,  2200 ,  2201 ,  2204 ,  31800 ,  2206 ,  2207 ,  1172 ,  1301 ,  1251 ,  1147,9 ,  11580 ,  3210 ,  6680 ,  7623,3 ,  1679 ,  534,1 ,  4666 ,  4000,5 ,  2420 ,  46200 ,  9500 ,  2424 ,  2425 ,  2426 ,  16050 ,  168 ,  3211 ,  240,6 ,  13290 ,  906 ,  160 ,  1543,5 ,  61827 ,  3688 ,  446,05 ,  4815 ,  6350 ,  12100 ,  4527 ,  4830 ,  3680 ,  4523 ,  4522 ,  3685 ,  4520 ,  60432 ,  6196 ,  7990 ,  3090 ,  7995 ,  2514 ,  2515 ,  2516 ,  2517 ,  2510 ,  1841 ,  694,2 ,  2734 ,  909 ,  2730 ,  2731 ,  57300 ,  5296 ,  8222 ,  5290 ,  3460 ,  13184 ,  3530 ,  7034 ,  3537 ,  6625,16 ,  678 ,  5056 ,  5050 ,  1158 ,  1814 ,  1815 ,  1810 ,  1812 ,  1813 ,  542,2 ,  7200 ,  1818 ,  1819 ,  7205 ,  1107 ,  1155 ,  12211 ,  1300,4 ,  10766 ,  6228 ,  1422,6 ,  3656,49 ,  4995 ,  14640 ,  677 ,  575,2 ,  500,39 ,  1098 ,  2795 ,  34492 ,  5999,85 ,  6991 ,  2980,5 ,  9418 ,  9760 ,  4330 ,  9419 ,  10500 ,  1784,81 ,  10502 ,  4950 ,  10507 ,  1609 ,  1608 ,  855,9 ,  678,03 ,  3228 ,  1979 ,  1978 ,  1601 ,  1600 ,  1603 ,  2568 ,  1605 ,  1972 ,  3223 ,  1606 ,  314,5 ,  808 ,  11962 ,  1670,69 ,  800 ,  805 ,  804 ,  15600 ,  2848 ,  2849 ,  2846 ,  1849 ,  2845 ,  2843 ,  2840 ,  4005 ,  3320 ,  5477 ,  28500 ,  7961,49 ,  3324 ,  3328 ,  376,21 ,  1948,92 ,  845,5 ,  71999 ,  2966,2 ,  1775 ,  5275 ,  5277 ,  1771 ,  1770 ,  1773 ,  5273 ,  1779 ,  1778 ,  10394,5 ,  326 ,  729,1 ,  1700,92 ,  2998 ,  2825,5 ,  14133 ,  1159 ,  324 ,  2999 ,  413,95 ,  1154 ,  15939 ,  6990 ,  1150 ,  1152 ,  9955 ,  1841,91 ,  2904,2 ,  1632 ,  5517 ,  230,3 ,  1551 ,  1550 ,  1553 ,  1555 ,  1554 ,  1557 ,  1556 ,  2990 ,  3036 ,  3037 ,  3030 ,  50 ,  11104 ,  3033 ,  537 ,  1559 ,  535 ,  8700 ,  533 ,  532 ,  531 ,  530 ,  3735 ,  11221,5 ,  2027,7 ,  1081 ,  4700,6 ,  5445,92 ,  8036 ,  200 ,  7019,7 ,  2995 ,  2805 ,  251,1 ,  5600 ,  1907 ,  9991 ,  9990 ,  3072,03 ,  9992 ,  9995 ,  9996 ,  4515,82 ,  4690 ,  5134 ,  687,7 ,  3290 ,  6513 ,  429 ,  534 ,  1876,25 ,  5131 ,  1399 ,  1398 ,  1397 ,  420 ,  423 ,  422 ,  425 ,  1392 ,  427 ,  426 ,  1574,1 ,  3810 ,  3815 ,  524,85 ,  523,83 ,  3400,1 ,  508,5 ,  43200 ,  3451 ,  468,1 ,  16350 ,  8450 ,  4138 ,  2490,95 ,  21010 ,  23700 ,  4846,96 ,  851 ,  3454 ,  10001,11 ,  13200 ,  4686 ,  539 ,  7541 ,  55000 ,  50500 ,  3510 ,  1677,1 ,  22399 ,  2429 ,  677,3 ,  6844 ,  6160 ,  18850 ,  2776 ,  1682 ,  4749 ,  1425 ,  6499,2 ,  4742 ,  13670 ,  4746 ,  4000,94 ,  16000 ,  4000,91 ,  4000,92 ,  2350,3 ,  45200 ,  5860 ,  9979 ,  2689 ,  2239 ,  1329 ,  5120 ,  626 ,  2183 ,  2182 ,  2180 ,  2187 ,  2186 ,  2185 ,  228 ,  4607 ,  2189 ,  2188 ,  223 ,  4600 ,  13510 ,  2213 ,  6907 ,  2211 ,  2210 ,  2216 ,  2215 ,  2214 ,  2100,91 ,  2219 ,  2218 ,  3698 ,  6699 ,  1508 ,  51127 "
     ]
    },
    {
     "name": "stdout",
     "output_type": "stream",
     "text": [
      ",  1394 ,  9923 ,  150 ,  2439 ,  11790 ,  2433 ,  2430 ,  2437 ,  5472 ,  34698,2 ,  245,6 ,  5767 ,  5974,22 ,  2650,92 ,  8688 ,  7836 ,  12110 ,  6340 ,  1233,2 ,  3000,92 ,  8130 ,  4510 ,  4517 ,  4515 ,  12144,42 ,  14786 ,  22799,2 ,  2506 ,  2505 ,  2504 ,  2503 ,  2500 ,  9600 ,  9602 ,  2723 ,  1216,85 ,  2720 ,  5280 ,  5283 ,  5285 ,  3158 ,  10176 ,  2728 ,  7945 ,  7230 ,  959,3 ,  5047 ,  556,2 ,  5045 ,  5044 ,  27350 ,  5040 ,  1807 ,  1806 ,  3780 ,  1803 ,  1802 ,  1800 ,  8990 ,  1809 ,  1808 ,  4996 ,  368,95 ,  10160 ,  4993 ,  4990 ,  3089 ,  3749,74 ,  6230 ,  4999 ,  10489,92 ,  14855 ,  14674 ,  867 ,  500,91 ,  3088 ,  10227,2 ,  10512 ,  10516 ,  9770 ,  10515 ,  1256 ,  1948 ,  1949 ,  3498 ,  8861 ,  5548,4 ,  3251 ,  1940 ,  3253 ,  19150 ,  8868 ,  1600,92 ,  818 ,  0 ,  1255 ,  5398,1 ,  2535 ,  810 ,  811 ,  812 ,  813 ,  21648 ,  816 ,  508,79 ,  2859 ,  2858 ,  11689 ,  1522 ,  1622 ,  2850 ,  2852 ,  6349,2 ,  1621 ,  2857 ,  1490 ,  3332 ,  1492 ,  1620 ,  3337 ,  1495 ,  8731,48 ,  1497 ,  1498 ,  1499 ,  3339 ,  678,2 ,  1395 ,  1994 ,  1700 ,  1701 ,  1702 ,  1703 ,  1704 ,  1997 ,  1706 ,  5260 ,  1708 ,  1393 ,  1996 ,  5268 ,  5722,21 ,  15850 ,  39487 ,  2091 ,  1390 ,  1738,2 ,  2708 ,  4575 ,  1129 ,  8608 ,  1880,2 ,  1120 ,  1121 ,  8600 ,  1123 ,  1124 ,  1125 ,  893 ,  6980 ,  14455 ,  18375 ,  10230 ,  14322 ,  694 ,  1512,1 ,  2989 ,  2988 ,  3028 ,  3650 ,  3025 ,  2980 ,  3023 ,  3022 ,  2985 ,  2984 ,  524 ,  525 ,  527 ,  1018 ,  522 ,  523 ,  1014 ,  1015 ,  1016 ,  1017 ,  528 ,  529 ,  1012 ,  1013 ,  8040 ,  1235 ,  1236 ,  303 ,  1230 ,  1231 ,  4198 ,  1233 ,  304 ,  4195 ,  1238 ,  1239 ,  4190 ,  5670 ,  50190 ,  4358 ,  4359 ,  4350 ,  4353 ,  6509 ,  11000 ,  6000 ,  6240 ,  6000,1 ,  6500 ,  13772,82 ,  2486 ,  438 ,  439 ,  436 ,  437 ,  39490 ,  435 ,  432 ,  433 ,  430 ,  431 ,  2248,1 ,  814,2 ,  4110 ,  23489 ,  3804 ,  5248,91 ,  3800 ,  6000,47 ,  413,1 ,  7800 ,  2299,8 ,  3408,8 ,  47000 ,  2865 ,  6437 ,  3885 ,  8190 ,  5708 ,  15320 ,  5704 ,  5705 ,  10050 ,  5700 ,  27000 ,  5703 ,  2868 ,  554 ,  7553 ,  8458 ,  557 ,  7555 ,  1703,2 ,  3097,8 ,  75500 ,  16100 ,  1244,7 ,  643,7 ,  4775 ,  2281,1 ,  757,7 ,  4175 ,  7528 ,  810,1 ,  2062,5 ,  457,5 ,  11700 ,  6750 ,  12030,65 ,  1860,9 ,  5811 ,  5812 ,  3003,3 ,  5814 ,  7170 ,  25400 ,  16740 ,  25405 ,  7394 ,  17610 ,  4546,8 ,  3064 ,  1798,82 ,  9272 ,  4619 ,  12050 ,  2467 ,  238 ,  239 ,  13500 ,  10350 ,  236 ,  10098 ,  230 ,  231 ,  4617 ,  3075,87 ,  8710 ,  2228 ,  6575 ,  2702 ,  4000,9 ,  2222 ,  2223 ,  2220 ,  2221 ,  5925 ,  11762,27 ,  2458 ,  5923 ,  5928 ,  3490,82 ,  21650 ,  145 ,  9350,95 ,  140 ,  20879 ,  2468 ,  9264 ,  7398 ,  4504 ,  21094 ,  4500 ,  3670,2 ,  4502 ,  7822 ,  1136,8 ,  5352 ,  815 ,  2088 ,  25089 ,  0,92 ,  2080 ,  2081 ,  2086 ,  3092 ,  2084 ,  57254 ,  2538 ,  5451 ,  2532 ,  124 ,  2530 ,  2531 ,  247,2 ,  17408 ,  2712 ,  2710 ,  2500,4 ,  2716 ,  2717 ,  2715 ,  53310 ,  0,94 ,  2280 ,  337,1 ,  5078 ,  8986 ,  7953 ,  9169 ,  7950 ,  5070 ,  10340 ,  10347 ,  5074 ,  10696 ,  1830 ,  1831 ,  3799 ,  1837 ,  1834 ,  1835 ,  3795 ,  3794 ,  1838 ,  1839 ,  3790 ,  2406 ,  2155 ,  2404 ,  938 ,  2150 ,  2151 ,  2400 ,  933 ,  932 ,  930 ,  937 ,  936 ,  935 ,  934 ,  5380 ,  5382 ,  472,68 ,  5387 ,  2356 ,  2457 ,  217,5 ,  1955 ,  1679,67 ,  1957 ,  1956 ,  229 ,  1950 ,  48696 ,  1952 ,  9700 ,  1959 ,  1958 ,  9663 ,  8870 ,  648,28 ,  1047,82 ,  3096 ,  2283 ,  440,1 ,  3241 ,  3240 ,  3246 ,  11440 ,  7312 ,  41300 ,  11900 ,  48210 ,  12300 ,  825 ,  824 ,  827 ,  1699 ,  10795 ,  820 ,  823 ,  4310 ,  269,1 ,  2409 ,  1821 ,  4401 ,  1482 ,  1020,9 ,  619 ,  1487 ,  1486 ,  1485 ,  10234 ,  1321,5 ,  1173 ,  10239 ,  3305 ,  5490 ,  3303 ,  3300 ,  4315 ,  797 ,  1712 ,  5250 ,  1710 ,  793 ,  21500 ,  1715 ,  790 ,  14190 ,  1992 ,  2798 ,  799 ,  798 ,  454,6 ,  1270 ,  9570 ,  3157 ,  1271 ,  4978 ,  1272 ,  3000,68 ,  1930,94 ,  1139 ,  1138 ,  1132 ,  1131 ,  1130 ,  1137 ,  1136 ,  1135 ,  14440 ,  2419 ,  642 ,  1276 ,  14448 ,  1700,95 ,  1178 ,  20000,91 ,  6239 ,  458,4 ,  13776 ,  717,2 ,  3018 ,  446,4 ,  475,1 ,  7149 ,  4328 ,  3010 ,  3016 ,  3308 ,  3015 ,  519 ,  56680 ,  59400 ,  1009 ,  4850,8 ,  1007 ,  510 ,  3061,6 ,  512 ,  515 ,  1002 ,  517 ,  1000 ,  623 ,  4188 ,  1225 ,  620 ,  1223 ,  1222 ,  625 ,  1220 ,  4181 ,  629 ,  628 ,  4185 ,  4184 ,  1229 ,  1228 ,  5662 ,  6534 ,  5660 ,  6532 ,  15000 ,  4346 ,  4343 ,  4342 ,  15009 ,  48910 ,  2880 ,  3304 ,  28257 ,  2885 ,  7490 ,  3743,37 ,  7495 ,  830,6 ,  3187,74 ,  2701,27 ,  8618 ,  12700 ,  54230 ,  2962,1 ,  5001,9 ,  54000 ,  3872 ,  3874 ,  1789 ,  1598,91 ,  10900 ,  11337 ,  1281 ,  477,5 ,  10200 ,  6402 ,  3195 ,  6400 ,  6406 ,  8188 ,  1004,2 ,  5718 ,  673,5 ,  5714 ,  8180 ,  7569 ,  7764 ,  35800 ,  3194 ,  3907 ,  3900 ,  3270 ,  3902 ,  48052,1 ,  1289 ,  754,2 ,  4858,99 ,  13650 ,  4767 ,  4768 ,  6748 ,  1705,5 ,  4167 ,  4166 ,  10162 ,  4162 ,  4160 ,  1786,9 ,  2728,91 ,  1534 ,  5038,1 ,  16020 ,  5802 ,  5800 ,  1260,9 ,  76157 ,  16200 ,  6646,5 ,  16750 ,  205 ,  1731,9 ,  209 ,  2518 ,  1309,65 ,  43480 ,  635,2 ,  15140 ,  2954 ,  685 ,  12044 ,  684 ,  7243 ,  18735 ,  1571 ,  43000 ,  2238 ,  686 ,  1241,2 ,  2231 ,  2230 ,  2233 ,  2232 ,  2235 ,  2234 ,  2237 ,  7185 ,  9257,3 ,  1574 ,  51929 ,  7816 ,  337 ,  7812 ,  4608 ,  7810 ,  3499 ,  3494 ,  3495 ,  3492 ,  3490 ,  5095 ,  4570 ,  2094 ,  2096 ,  3658 ,  2090 ,  4577 ,  4579 ,  3656 ,  3657 ,  2099 ,  2098 ,  8423 ,  32348 ,  2520 ,  1396 ,  227,5 ,  2528 ,  7659,01 ,  5920,65 ,  7811 ,  4759,6 ,  1781,83 ,  7142 ,  5061 ,  5060 ,  2705 ,  2704 ,  4882 ,  2661 ,  1500,92 ,  2700 ,  2703 ,  4887 ,  9788 ,  7967 ,  38800 ,  644,6 ,  3274,02 ,  10685 ,  6919,2 ,  1829 ,  1828 ,  1825 ,  1824 ,  1827 ,  4400 ,  1820 ,  1823 ,  1822 ,  928 ,  2410 ,  2145 ,  2412 ,  2415 ,  9576 ,  1648,5 ,  2140 ,  920 ,  921 ,  10752 ,  6250 ,  6257 ,  925 ,  2149 ,  5745 ,  5393 ,  4438,2 ,  5396 ,  4155 ,  11660 ,  11800 ,  1920 ,  3277 ,  10550 ,  3275 ,  1924 ,  1925 ,  1926 ,  1927 ,  1928 ,  1626,5 ,  14940 ,  832 ,  833 ,  830 ,  3470 ,  837 ,  834 ,  835 ,  7360 ,  4220 ,  838 ,  839 ,  58800 ,  3 ,  9445,95 ,  20595 ,  5075,84 ,  18400 ,  444,1 ,  44216 ,  2500,95 ,  3245 ,  2413 ,  70940 ,  12910 ,  868,42 ,  1000,3 ,  13818 ,  690,95 ,  3318 ,  955,4 ,  6222,48 ,  9000 ,  3311 ,  3310 ,  3315 ,  1987 ,  5480 ,  786 ,  787 ,  780 ,  509,3 ,  782 ,  1729 ,  5245 ,  1727 ,  1724 ,  1725 ,  788 ,  789 ,  1720 ,  9398 ,  7020 ,  11020 ,  311,73 ,  15120 ,  468 ,  347,6 ,  3976,32 ,  276,6 ,  969,8 ,  3007 ,  14300 ,  3000 ,  3002 ,  7590 ,  7795 ,  7796 ,  407 ,  2804 ,  406 ,  1580 ,  1581 ,  18800 ,  1373 ,  1584 ,  1585 ,  20865 ,  1039 ,  508 ,  509 ,  507 ,  1030 ,  505 ,  502 ,  503 ,  500 ,  1035 ,  630 ,  1645 ,  1210 ,  633 ,  634 ,  401 ,  30000 ,  1215 ,  638 ,  639 ,  1218 ,  8065 ,  4245 ,  1647 ,  1100,9 ,  4378 ,  39600 ,  989 ,  7480 ,  6526 ,  1100,2 ,  5655 ,  8261 ,  5650 ,  1153,5 ,  357,8 ,  2899 ,  9391 ,  5744,5 ,  2895 ,  44963 ,  50442 ,  783 ,  11065 ,  2890 ,  2892 ,  1454 ,  1908,9 ,  23000 ,  1457 ,  1102 ,  1451 ,  1100 ,  1101 ,  35100 ,  29640 ,  1458 ,  5247 ,  1108 ,  1109 ,  4080 ,  13790 ,  4082 ,  13792 ,  4085 ,  4086 ,  4087 ,  1722 ,  3864 ,  11320 ,  8400 ,  2000,85 ,  323,1 ,  1721 ,  681 ,  341,1 ,  323 ,  1977 ,  12468 ,  7578 ,  12460 ,  6410 ,  979,5 ,  4983,2 ,  7519,6 ,  6598 ,  3730 ,  13536 ,  159 ,  13580 ,  1000,67 ,  2137 ,  10460 ,  2698,93 ,  5345,64 ,  11498 ,  2247 ,  4692 ,  4798 ,  11490 ,  9000,6 ,  2133 ,  4150 ,  16824,39 ,  256,2 ,  4157 ,  8082 ,  5994 ,  3442 ,  5838 ,  18900 ,  2000,8 ,  9922 ,  19000 ,  1914 ,  2019,95 ,  56638 ,  56328 ,  213 ,  210 ,  553,6 ,  571,3 ,  3094 ,  571,5 ,  9975 ,  6080 ,  6646 ,  6641 ,  12673 ,  5902 ,  5900 ,  1000,95 ,  3159,86 ,  1000,92 ,  3489 ,  3577,5 ,  4715 ,  7805 ,  1472,75 ,  950,92 ,  3480 ,  2508 ,  3485 ,  3484 ,  49500 ,  10205,5 ,  4560 ,  4567 ,  2643,88 ,  4565 ,  16300 ,  4569 ,  3644 ,  3640 ,  2550 ,  6398 ,  11673 ,  55982 ,  2555 ,  2729 ,  2559 ,  6390 ,  6396 ,  2397 ,  11474 ,  3006 ,  2392 ,  2390 ,  1001,7 ,  510,9 ,  11646 ,  2398 ,  2399 ,  5010 ,  1989 ,  26565 ,  10325 ,  250,6 ,  2649 ,  2770 ,  2772 ,  3169 ,  53370 ,  2775 ,  10 ,  4081 ,  6000,92 ,  4206,8 ,  9190 ,  2803 ,  2900,5 ,  1190,95 ,  708,5 ,  3164 ,  24500,03 ,  6317 ,  1999,94 ,  3165 ,  46500 ,  12251 ,  12250 ,  1850 ,  554,4 ,  7964 ,  49337 ,  1854 ,  1855 ,  818,4 ,  4410 ,  2172 ,  2640 ,  2170 ,  919 ,  918 ,  3597,4 ,  4968 ,  915 ,  917 ,  18447,2 ,  911 ,  910 ,  913 ,  912 ,  3877,51 ,  2605 ,  2600 ,  1799,9 ,  516 ,  9721 ,  2608 ,  1588 ,  1975 ,  3261 ,  3260 ,  1930 ,  1937 ,  3264 ,  1935 ,  3266 ,  5124 ,  5125 ,  1939 ,  1938 ,  10031 ,  10030 ,  1424 ,  847 ,  1800,2 ,  845 ,  844 ,  843 ,  3462 ,  840 ,  3009,25 ,  37400 ,  6481,31 ,  3469 ,  848 ,  45600 ,  3364 ,  22940 ,  11924 ,  446,88 ,  14221 ,  463,2 ,  44004 ,  1708,5 ,  10007 ,  44000 ,  663 ,  30660 ,  9037 ,  7019 ,  9039 ,  10255 ,  1849,8 ,  630,5 ,  1738 ,  24000 ,  1731 ,  1730 ,  1732 ,  1735 ,  1737 ,  2437,5 ,  13126 ,  18500 ,  606,2 ,  3000,05 ,  2348,8 ,  15800 ,  753 ,  752 ,  751 ,  750 ,  757 ,  756 ,  755 ,  754 ,  485,8 ,  759 ,  758 ,  8998 ,  3946 ,  1595 ,  15795 ,  1596 ,  6882 ,  1590 ,  1680,82 ,  3078 ,  2955 ,  29860 ,  4352,37 ,  2950 ,  1598 ,  2952 ,  3787 ,  1025 ,  393 ,  1026 ,  1021 ,  1020 ,  1023 ,  1022 ,  995 ,  1036 ,  7160 ,  1115 ,  1029 ,  1028 ,  38000 ,  7165 ,  4898 ,  1034 ,  4828,2 ,  605 ,  8078 ,  2609 ,  1899,8 ,  601 ,  600 ,  4363 ,  631 ,  1204 ,  1207 ,  5383,85 ,  609 ,  608 ,  1203 ,  1202 ,  4270 ,  5640 ,  8274 ,  8100 ,  11078 ,  3108 ,  636 ,  3104 ,  3105 ,  3107 ,  3100 ,  22400 ,  1111 ,  1110 ,  1113 ,  1112 ,  1443 ,  1442 ,  "
     ]
    },
    {
     "name": "stdout",
     "output_type": "stream",
     "text": [
      "1441 ,  1116 ,  1119 ,  4992 ,  10095 ,  8064 ,  1449 ,  10777 ,  1805 ,  4091 ,  1219 ,  4095 ,  4098 ,  1356 ,  5735 ,  48800 ,  5730 ,  489 ,  488 ,  4507,34 ,  485 ,  483 ,  4587 ,  481 ,  480 ,  6958 ,  640,32 ,  7589 ,  40664 ,  7584 ,  7586 ,  451 ,  7582 ,  9800 ,  35000 ,  7740 ,  8491 ,  7747 ,  7744 ,  7745 ,  7749 ,  3920 ,  22500 ,  3924 ,  15606 ,  1564 ,  1999,2 ,  891,4 ,  8300 ,  2400,1 ,  3639,5 ,  13613 ,  2400,5 ,  1777,91 ,  2092,94 ,  23691 ,  5825 ,  15200 ,  4145 ,  2064,91 ,  681,2 ,  3298,92 ,  8099 ,  5653 ,  3855 ,  3850 ,  8263 ,  2000,22 ,  1331,78 ,  500,95 ,  688,86 ,  2006 ,  6098 ,  1515,7 ,  1356,4 ,  42518 ,  6092 ,  6094 ,  2898 ,  10000,1 ,  4823 ,  2383 ,  6820 ,  6650 ,  1000,88 ,  1000,89 ,  10807 ,  10800 ,  2482,84 ,  21839 ,  195 ,  197 ,  1800,1 ,  1399,8 ,  6387 ,  3679 ,  6380 ,  5198 ,  4559 ,  6480 ,  3670 ,  1399,3 ,  3677 ,  4550 ,  3675 ,  1106 ,  2540 ,  2547 ,  2546 ,  2545 ,  1455 ,  2549 ,  1104 ,  26090 ,  10100 ,  2380 ,  24900 ,  1105 ,  65481 ,  2387 ,  3297 ,  1450 ,  6995,92 ,  1103 ,  3580 ,  12189,9 ,  2769 ,  5000 ,  3584 ,  3585 ,  5005 ,  2763 ,  2127 ,  2760 ,  7300 ,  2765 ,  7481,98 ,  16400 ,  3562,94 ,  9114,9 ,  9480 ,  23900 ,  9288 ,  902 ,  903 ,  900 ,  901 ,  12244 ,  905 ,  1843 ,  1842 ,  4420 ,  1840 ,  1847 ,  412,1 ,  1845 ,  1459 ,  3250 ,  2200,4 ,  4959 ,  2168 ,  9550 ,  2167 ,  2166 ,  9555 ,  2160 ,  12088 ,  1400,95 ,  2617 ,  2616 ,  2615 ,  2614 ,  2613 ,  2610 ,  7095 ,  2375,68 ,  2602,3 ,  3255 ,  7345 ,  3298 ,  1900,94 ,  1908 ,  3294 ,  3295 ,  10796 ,  1905 ,  1902 ,  568,7 ,  1900 ,  5130 ,  854 ,  855 ,  3450 ,  857 ,  850 ,  1089,5 ,  852 ,  853 ,  249 ,  858 ,  859 ,  1029,41 ,  3293 ,  12334 ,  12335 ,  46169,2 ,  668,71 ,  2349,6 ,  1619,95 ,  1099,1 ,  20550 ,  3739 ,  20000 ,  676,8 ,  7000 ,  10240 ,  9020 ,  16481 ,  424 ,  35269,21 ,  930,91 ,  8900 ,  8934 ,  11860 ,  1290,6 ,  54910 ,  740 ,  741 ,  742 ,  744 ,  745 ,  746 ,  747 ,  748 ,  749 ,  54870 ,  3063 ,  6890 ,  3060 ,  2570 ,  2949 ,  5234 ,  2947 ,  3069 ,  4913 ,  2942 ,  276 ,  2940 ,  1050 ,  1051 ,  75606 ,  1053 ,  1055 ,  1056 ,  5350 ,  1058 ,  1059 ,  1871,75 ,  4551 ,  1696 ,  1697 ,  1694 ,  1695 ,  1692 ,  1693 ,  1690 ,  71000 ,  6010,3 ,  33590 ,  1698 ,  100000 ,  1278 ,  1279 ,  618 ,  714 ,  4817 ,  612 ,  613 ,  610 ,  611 ,  616 ,  1275 ,  614 ,  615 ,  299,1 ,  2826,6 ,  717,1 ,  1795 ,  8790 ,  484,5 ,  2500,25 ,  8244 ,  5279 ,  3333 ,  14760 ,  3119 ,  7464 ,  3117 ,  3116 ,  3115 ,  3114 ,  5463 ,  2469 ,  3110 ,  1472 ,  1470 ,  3330 ,  1477 ,  68500 ,  1475 ,  15000,4 ,  1478 ,  275,4 ,  8640 ,  2949,7 ,  1304 ,  1305 ,  1306 ,  1181 ,  1300 ,  3335 ,  1302 ,  8421 ,  2899,9 ,  66000 ,  745,5 ,  3334 ,  1309 ,  5740 ,  2597 ,  499 ,  5746 ,  5747 ,  11300 ,  495 ,  496 ,  490 ,  7124 ,  492 ,  15000,92 ,  50000 ,  5820 ,  9838 ,  3595 ,  1990,91 ,  7776 ,  9833 ,  12400 ,  6470 ,  9835 ,  7758 ,  25820 ,  2454 ,  7756 ,  7750 ,  9699,69 ,  3935 ,  9245 ,  2901,6 ,  3183 ,  3930 ,  2450 ,  11275 ,  8330 ,  8331 ,  3265 ,  6719 ,  6717 ,  13681 ,  5031 ,  6712 ,  4464 ,  9907 ,  9904 ,  6169,98 ,  1224,75 ,  9900 ,  5375 ,  4131 ,  4132 ,  3903,31 ,  9909 ,  9619 ,  3840 ,  5690 ,  1999,92 ,  3846 ,  1511 ,  1063 ,  1873 ,  3916 ,  5305 ,  5306 ,  7858 ,  23950 ,  714,85 ,  4045 ,  4040 ,  13750 ,  3910 ,  4048 ,  9325 ,  738,8 ,  2288 ,  2289 ,  3660 ,  2050 ,  3140 ,  2282 ,  17235 ,  2864 ,  2285 ,  2286 ,  2287 ,  4460 ,  60530 ,  972 ,  6730 ,  4989,92 ,  2578 ,  6510,2 ,  2574 ,  2575 ,  2572 ,  1078,6 ,  2571 ,  3690 ,  2395 ,  2379 ,  7238,86 ,  2375 ,  2370 ,  6257,7 ,  2372 ,  2373 ,  2595 ,  2596 ,  3590 ,  2590 ,  3596 ,  2592 ,  2593 ,  5036 ,  3599 ,  3598 ,  2598 ,  2599 ,  5030 ,  10300 ,  2887 ,  1877 ,  1875 ,  1872 ,  4430 ,  1870 ,  2656,4 ,  7913 ,  413 ,  4439 ,  1082 ,  977 ,  46300 ,  975 ,  974 ,  973 ,  8235 ,  9824 ,  970 ,  7040,2 ,  596 ,  4949 ,  4948 ,  979 ,  978 ,  2118 ,  2119 ,  180 ,  9400 ,  4320 ,  2110 ,  5460 ,  2112 ,  1322,9 ,  2114 ,  1122 ,  2620 ,  53598 ,  2625 ,  185 ,  386,1 ,  1918 ,  5108 ,  12148 ,  602 ,  1126 ,  3288 ,  7359 ,  1910 ,  5100 ,  1912 ,  1915 ,  3282 ,  10015 ,  3280 ,  413,5 ,  868 ,  652 ,  54800 ,  3448 ,  3141 ,  3445 ,  860 ,  863 ,  862 ,  4937 ,  3443 ,  2115 ,  2024 ,  2025 ,  2026 ,  2755 ,  2020 ,  2753 ,  2750 ,  2751 ,  10497 ,  677,25 ,  2028 ,  435,4 ,  2758 ,  780,1 ,  1136,44 ,  10152 ,  880 ,  887 ,  886 ,  885 ,  10270 ,  889 ,  888 ,  14970 ,  9058 ,  2923,35 ,  6950,8 ,  1062,2 ,  9050 ,  292,2 ,  4014 ,  1726 ,  9330 ,  7506 ,  988,9 ,  7507 ,  8923 ,  14806 ,  8920 ,  6486 ,  353 ,  5244 ,  13100 ,  2472,5 ,  775 ,  774 ,  777 ,  776 ,  771 ,  770 ,  773 ,  772 ,  779 ,  778 ,  7100 ,  17930 ,  2979 ,  3059 ,  2973 ,  3054 ,  3055 ,  3052 ,  3050 ,  2975 ,  1043 ,  1042 ,  5360 ,  1040 ,  1047 ,  1046 ,  1045 ,  7350 ,  9270 ,  4597 ,  1049 ,  1048 ,  20300 ,  3538,92 ,  1681 ,  1680 ,  7352 ,  1685 ,  2142 ,  1689 ,  1688 ,  3975 ,  2134,6 ,  2000,9 ,  1269 ,  4300 ,  8250 ,  669 ,  4304 ,  667 ,  666 ,  665 ,  1260 ,  1267 ,  1266 ,  1265 ,  660 ,  11050 ,  20645 ,  1507 ,  9235 ,  3020 ,  3285 ,  3538 ,  578,1 ,  3284 ,  15680 ,  3120 ,  3126 ,  3124 ,  14779 ,  421 ,  5240 ,  782,8 ,  3977 ,  1465 ,  520 ,  1466 ,  1460 ,  1463 ,  8656 ,  869 ,  1314 ,  1313 ,  1312 ,  1310 ,  1303 ,  1319 ,  1318 ,  5753 ,  5752 ,  5750 ,  6910 ,  4239 ,  3449 ,  4235 ,  4233 ,  8734 ,  6448 ,  4230 ,  5155 ,  29032 ,  5594 ,  3206,83 ,  1276,8 ,  1010 ,  3669,6 ,  515,85 ,  464 ,  1011 ,  861 ,  7174,87 ,  1999,6 ,  3444 ,  7720 ,  514,6 ,  38200 ,  1392,4 ,  3948 ,  319 ,  318 ,  6151 ,  4214 ,  313 ,  311 ,  310 ,  317 ,  3945 ,  315 ,  3440 ,  11200 ,  26410 ,  8328 ,  6700 ,  6703 ,  1200,8 ,  8320 ,  1050,92 ,  4210 ,  4364 ,  9910 ,  12500 ,  51364 ,  4199 ,  2754 ,  1335 ,  7431 ,  4197 ,  65000 ,  7535 ,  3098,9 ,  1336 ,  2699 ,  19212 ,  17814,4 ,  2321 ,  31000 ,  6675 ,  1333 ,  4925 ,  8688,09 ,  6679 ,  669,2 ,  4702 ,  4055 ,  4053 ,  4052 ,  4050 ,  3137,9 ,  758,3 ,  2324 ,  2692 ,  5979 ,  5978 ,  4268,72 ,  7547,8 ,  8342,38 ,  5971 ,  1255,41 ,  3610 ,  883 ,  2299 ,  2420,1 ,  3616 ,  2293 ,  3619 ,  2290 ,  1253,7 ,  0,9 ,  2294 ,  2912,15 ,  772,3 ,  1210,51 ,  8125 ,  2569 ,  289 ,  45000 ,  2561 ,  2560 ,  2562 ,  2564 ,  2567 ,  489,86 ,  2369 ,  2368 ,  2365 ,  2364 ,  2363 ,  6813 ,  2360 ,  2587 ,  5028 ,  2585 ,  9130 ,  375,2 ,  537,85 ,  2580 ,  5021 ,  5023 ,  5022 ,  5025 ,  2588 ,  4440 ,  1860 ,  1863 ,  1865 ,  1864 ,  4447 ,  3724 ,  16425 ,  49038 ,  3720 ,  10950 ,  53900 ,  1062,5 ,  966 ,  967 ,  960 ,  4935 ,  4680 ,  963 ,  6297 ,  5190 ,  6295 ,  6294 ,  968 ,  6290 ,  2102 ,  2100 ,  2106 ,  2105 ,  7845 ,  3760 ,  5116 ,  10000 ,  5210 ,  635 ,  5112 ,  2635 ,  2634 ,  10008 ,  2630 ,  2632 ,  1125,3 ,  6610 ,  1717 ,  9599 ,  9592 ,  2578,8 ,  3439 ,  9539,91 ,  5192 ,  878 ,  640 ,  3430 ,  877 ,  874 ,  875 ,  872 ,  1535 ,  870 ,  4593 ,  12358 ,  2034 ,  2745 ,  2032 ,  2031 ,  2030 ,  2749 ,  1245 ,  10482 ,  4139,36 ,  10486 ,  1244 ,  890 ,  891 ,  781 ,  387,6 ,  894 ,  895 ,  1322,42 ,  10267 ,  898 ,  899 ,  3095 ,  11999 ,  5200 ,  5203 ,  14168 ,  4434 ,  5207 ,  28495 ,  1968 ,  20608 ,  1474,3 ,  9047 ,  434 ,  1969 ,  3544 ,  3545 ,  3547 ,  3540 ,  3000,91 ,  3543 ,  3235 ,  5400 ,  999,4 ,  41580 ,  8916 ,  2778 ,  1965 ,  13170 ,  2187,5 ,  13177 ,  1479 ,  1788 ,  11190 ,  768 ,  769 ,  2960 ,  1780 ,  763 ,  760 ,  767 ,  1786 ,  765 ,  3049 ,  7110 ,  1962 ,  345,3 ,  3040 ,  6875 ,  7118 ,  41774 ,  3645 ,  3046 ,  383,2 ,  1078 ,  1079 ,  1076 ,  643 ,  1075 ,  1072 ,  1070 ,  1071 ,  40000 ,  1678 ,  13000 ,  448,9 ,  1674 ,  1675 ,  6075 ,  1677 ,  1670 ,  1671 ,  1672 ,  1094 ,  1095 ,  1096 ,  1090 ,  679 ,  1092 ,  1093 ,  674 ,  675 ,  676 ,  4335 ,  670 ,  1099 ,  672 ,  673 ,  3135 ,  3134 ,  3136 ,  3131 ,  3130 ,  3133 ,  15500 ,  18000 ,  3138 ,  10026 ,  14582 ,  2466 ,  14740 ,  645 ,  7604 ,  7600 ,  1418 ,  1419 ,  1600,4 ,  5000,87 ,  1481 ,  1410 ,  1411 ,  1413 ,  1414 ,  1415 ,  1417 ,  1322 ,  1323 ,  1320 ,  1326 ,  1327 ,  1324 ,  1328 ,  856 ,  3995,98 ,  4647 ,  12420 ,  6450 ,  8680 ,  6454 ,  6901 ,  6900 ,  4202 ,  6458 ,  4200 ,  1498,5 ,  2649,3 ,  2189,9 ,  5760 ,  18650 ,  59066 ,  646,5 ,  1239,95 ,  868,83 ,  5560 ,  2394 ,  5562 ,  1524 ,  1257 ,  1254 ,  2403,98 ,  1520 ,  1253 ,  1250 ,  1523 ,  1528 ,  1529 ,  1258 ,  1259 ,  309 ,  28800 ,  300 ,  301 ,  302 ,  3950 ,  3957 ,  305 ,  306 ,  4113 ,  6789 ,  8350 ,  1491 ,  5000,1 ,  5000,2 ,  8499 ,  1546 ,  1366,05 ,  1381 ,  1796,94 ,  5143 ,  100,91 ,  1772,7 ,  7421 ,  7420 ,  363,8 ,  50872 ,  9730 ,  1249 ,  49200 ,  2077 ,  7107 ,  5140 ,  2475 ,  296,8 ,  6600 ,  6603 ,  9267 ,  35500 ,  2970 ,  7298 ,  2076 ,  4060 ,  5942 ,  7180 ,  5940 ,  10850 ,  522,4 ,  6860 ,  2621,78 ,  732 ,  11500 ,  5784 ,  4893 ,  5786 ,  3899 ,  5780 ,  10041 ,  3346 ,  3603 ,  3602 ,  3600 ,  700,83 ,  3606 ,  3605 ,  3604 ,  3100,3 ,  3609 ,  3100,1 ,  1041 ,  10090 ,  5038 ,  5361 ,  10046 ,  2498 ,  5366 ,  2478 ,  634,2 ,  25791 ,  1445 ,  9498 ,  7550 ,  2799,8 ,  114 ,  7395 ,  6115 ,  "
     ]
    },
    {
     "name": "stdout",
     "output_type": "stream",
     "text": [
      "14990,94 ,  391,2 ,  19990 ,  2358 ,  48000 ,  2352 ,  2353 ,  2350 ,  622 ,  2357 ,  2355 ,  2316 ,  7280 ,  1488 ,  9108 ,  10673 ,  677,5 ,  5246,5 ,  9105 ,  481,8 ,  9103 ,  9100 ,  4453 ,  9490 ,  4450 ,  1898 ,  1899 ,  4455 ,  1894 ,  1895 ,  1896 ,  1897 ,  1890 ,  1892 ,  1890,5 ,  2136 ,  958 ,  2135 ,  2132 ,  4694 ,  2130 ,  2131 ,  950 ,  953 ,  952 ,  955 ,  954 ,  956 ,  11044 ,  20810 ,  1178,18 ,  5160 ,  2785 ,  14000 ,  9016 ,  2643 ,  528,5 ,  2645 ,  2647 ,  1616,47 ,  25300 ,  2257,11 ,  10330 ,  12367 ,  305,1 ,  10097 ,  3420 ,  4033,93 ,  3425 ,  2000 ,  2001 ,  4589 ,  2007 ,  2004 ,  475 ,  4856 ,  2008 ,  2009 ,  4580 ,  4851 ,  4850 ,  1540,84 ,  10299 ,  4770 ,  1143 ,  4186,59 ,  14179 ,  555,2 ,  1544 ,  1268 ,  13300 ,  900,2 ,  880,2 ,  20561 ,  3555 ,  5033 ,  29590 ,  3550 ,  2299,9 ,  1625,2 ,  2880,1 ,  3559 ,  2855 ,  1258,85 ,  11850 ,  504 ,  385,3 ,  34000 ,  8903 ,  2177 ,  2910 ,  2911 ,  1799 ,  1798 ,  2915 ,  2916 ,  718 ,  2918 ,  716 ,  1791 ,  1790 ,  1797 ,  712 ,  711 ,  710 ,  6848 ,  4177 ,  13519 ,  7128 ,  479,8 ,  5999,2 ,  3162,71 ,  6840 ,  7125 ,  2178 ,  7120 ,  1069 ,  1068 ,  1717,92 ,  2179 ,  5300 ,  1060 ,  29327 ,  1065 ,  1064 ,  1067 ,  1066 ,  715 ,  2176,49 ,  1669 ,  18256 ,  800,1 ,  1666 ,  1665 ,  1874,7 ,  23800 ,  1661 ,  1660 ,  1087 ,  590 ,  1085 ,  1084 ,  595 ,  594 ,  597 ,  1080 ,  599 ,  598 ,  4325 ,  1565 ,  1089 ,  335,2 ,  27600 ,  3142 ,  2828 ,  3145 ,  3148 ,  3149 ,  2826 ,  2820 ,  2981 ,  3387 ,  3385 ,  3380 ,  1122,3 ,  7633 ,  7630 ,  2746,92 ,  14753 ,  713 ,  1408 ,  9362,28 ,  1403 ,  5580 ,  1400 ,  358,1 ,  1406 ,  1405 ,  10729 ,  3477,91 ,  449 ,  448 ,  1338 ,  1982 ,  443 ,  10650 ,  1337 ,  440 ,  447 ,  1330 ,  445 ,  444 ,  6933 ,  1545 ,  9845 ,  8695 ,  1324,96 ,  1000,5 ,  5598,92 ,  8120 ,  1933 ,  3105,06 ,  1099,9 ,  2160,6 ,  7700 ,  5578 ,  1101,1 ,  5576 ,  5574 ,  5571 ,  4194,3 ,  641 ,  1240 ,  1243 ,  1242 ,  1533 ,  644 ,  1247 ,  1530 ,  649 ,  648 ,  3099 ,  1539 ,  1936 ,  1493 ,  339 ,  23430,69 ,  334 ,  3277,5 ,  336 ,  331 ,  330 ,  332 ,  4100 ,  8349 ,  4104 ,  4106 ,  4108 ,  1549 ,  4225,44 ,  542 ,  2999,92 ,  2999,91 ,  50120 ,  15240 ,  5002 ,  12562 ,  9695 ,  1901 ,  3500,6 ,  3898 ,  40100 ,  2062 ,  1634 ,  3392 ,  1469 ,  3890 ,  3891 ,  4499 ,  846 ,  9425 ,  2200,05 ,  1820,94 ,  19521 ,  21696 ,  8 ,  8650 ,  3463 ,  842 ,  1353 ,  5950 ,  780,3 ,  5959 ,  4077 ,  4076 ,  4071 ,  4070 ,  29500 ,  10425 ,  1636 ,  5792 ,  3960 ,  60635 ,  4636,37 ,  3556,4 ,  3502 ,  5461,11 ,  3969 ,  3435 ,  3890,92 ,  1018,5 ,  3636 ,  927 ,  3630 ,  3505 ,  234 ,  30303 ,  849 ,  3415 ,  1610,4 ,  75570 ,  2345 ,  523,4 ,  2347 ,  2346 ,  2340 ,  2343 ,  11400 ,  2348 ,  6100 ,  32750 ,  5146,52 ,  2999,9 ,  10934 ,  2999,6 ,  665,5 ,  505,4 ,  10933 ,  7098,5 ,  3233,55 ,  9110 ,  9444 ,  54470 ,  9116 ,  17669 ,  1889 ,  1888 ,  3702 ,  3703 ,  3700 ,  2725,68 ,  1883 ,  3704 ,  1880 ,  2121 ,  2123 ,  2125 ,  6109 ,  948 ,  2126 ,  4916 ,  4917 ,  944 ,  945 ,  4660 ,  943 ,  940 ,  941 ,  10759 ,  6033 ,  25370 ,  4370 ,  14220 ,  10060 ,  5170 ,  1829,43 ,  9200 ,  5342,94 ,  98,1 ,  2651 ,  2650 ,  2655 ,  3039 ,  3416 ,  3417 ,  3414 ,  130 ,  480,9 ,  3413 ,  3410 ,  3411 ,  17000 ,  138 ,  1597 ,  3418 ,  7385 ,  19980 ,  3829,6 ,  13488 ,  6325 ,  4869 ,  2019 ,  397,7 ,  2015 ,  2014 ,  4860 ,  2016 ,  1151 ,  2010 ,  2013 ,  4865 ,  14100 ,  1300,92 ,  1452 ,  11024 ,  9068 ,  41000 ,  11027 ,  299,92 ,  49356 ,  1776 ,  9664 ,  46832 ,  14385 ,  2800,2 ,  1591 ,  22710 ,  1077,86 ,  20516 ,  3560 ,  1453 ,  7250 ,  7447 ,  10557 ,  3568 ,  5596 ,  7259 ,  13395 ,  54929 ,  4480 ,  4482 ,  10723 ,  10599 ,  4488 ,  13398 ,  852,2 ,  20000,02 ,  6857 ,  2900 ,  708 ,  11859 ,  13526 ,  147 ,  704 ,  705 ,  2909 ,  700 ,  702 ,  637,4 ,  1228,2 ,  10619 ,  15670 ,  637,3 ,  2499,86 ,  7133 ,  26922 ,  2772,13 ,  7137 ,  3000,94 ,  3687,5 ,  7631 ,  20196 ,  762 ,  513 ,  9568 ,  5317 ,  43359 ,  44500 ,  1659 ,  8800 ,  34236,65 ,  229,5 ,  1653 ,  1650 ,  1651 ,  1656 ,  1657 ,  1654 ,  1655 ,  586 ,  1630 ,  584 ,  585 ,  44980 ,  583 ,  580 ,  3215 ,  8205 ,  8750 ,  8751 ,  588 ,  589 ,  1384 ,  1261 ,  3150 ,  3899,95 ,  3155 ,  3433,2 ,  1423,89 ,  2836 ,  2835 ,  2834 ,  2833 ,  2832 ,  1348 ,  2830 ,  1436 ,  3390 ,  1434 ,  1435 ,  1432 ,  3394 ,  3397 ,  1431 ,  3398 ,  1340,92 ,  400,2 ,  1438 ,  1439 ,  1639 ,  2487 ,  2079,02 ,  1349 ,  11425,8 ,  3031 ,  4260 ,  459 ,  4263 ,  4267 ,  450 ,  8259,55 ,  1342 ,  1343 ,  1344 ,  1345 ,  456 ,  1347 ,  1887 ,  6929 ,  1525 ,  8113 ,  8110 ,  8111 ,  6920 ,  6923 ,  8115 ,  7820 ,  11150 ,  12150 ,  5540 ,  5547 ,  656 ,  1503 ,  1500 ,  655 ,  5168 ,  1881 ,  650 ,  651 ,  8596 ,  3084 ,  3087 ,  1509 ,  3081 ,  3080 ,  658 ,  659 ,  3943 ,  3369 ,  1599 ,  3318,4 ,  6999 ,  316 ,  5890 ,  5894 ,  19470 ,  323,25 ,  11230 ,  5899 ,  13807 ,  11233 ,  4395 ,  1885 ,  1169,3 ,  50132 ,  18080 ,  13400 ,  3880 ,  494 ,  1200,2 ,  1264 ,  2000,79 ,  949 ,  1005,75 ,  2129 ,  7148,1 ,  2955,03 ,  7400 ,  1884 ,  425,6 ,  2815 ,  425,4 ,  22097,99 ,  4991,92 ,  53541 ,  942 ,  19730 ,  16500 ,  44305 ,  4910 ,  11522 ,  6629 ,  7174,56 ,  26358 ,  11528 ,  2499,8 ,  4653 ,  44303 ,  260,1 ,  19999,2 ,  1376 ,  4000 ,  13710 ,  4003 ,  4986,5 ,  2365,13 ,  4007 ,  1149,5 ,  3970 ,  320 ,  61151 ,  9890 ,  327 ,  280,5 ,  15091 ,  328 ,  329 ,  9898 ,  16668,82 ,  25000 ,  3621 ,  2819 ,  3622 ,  4280 ,  1340 ,  565 ,  2011 ,  2330 ,  2331 ,  6138 ,  2333 ,  4710 ,  2335 ,  4712 ,  2338 ,  2339 ,  6130 ,  1341 ,  2957,79 ,  2926,4 ,  1458,8 ,  2958 ,  4767,2 ,  1159,9 ,  16293 ,  965,92 ,  3717 ,  4289 ,  3711 ,  3710 ,  3713 ,  9472 ,  21900 ,  2659 ,  452,1 ,  9457 ,  19950 ,  13360 ,  5177 ,  4472 ,  4475 ,  19958 ,  4476 ,  1398,9 ,  6007 ,  947 ,  6002 ,  2488 ,  75492 ,  4900 ,  2484 ,  2485 ,  2482 ,  34923 ,  2480 ,  2481 ,  13079 ,  2998,5 ,  2248 ,  9871 ,  2244 ,  2245 ,  329,2 ,  2240 ,  2241 ,  2464 ,  2465 ,  997 ,  996 ,  2460 ,  990 ,  5148 ,  992 ,  10725 ,  5145 ,  999 ,  998 ,  10051 ,  4000,1 ,  120 ,  3400 ,  3403 ,  7082 ,  673,91 ,  49582 ,  0,95 ,  7534 ,  5340 ,  9574 ,  5761 ,  485,2 ,  5341 ,  1899,9 ,  4876 ,  4870 ,  24800 ,  3800,2 ,  1921 ,  7531 ,  1899,1 ,  500,3 ,  12380 ,  567,3 ,  363 ,  2068 ,  6310 ,  2799 ,  26000 ,  19400 ,  2060 ,  2790 ,  2063 ,  2796 ,  2797 ,  2067 ,  3374 ,  48500 ,  1922 ,  2604 ,  9096 ,  3426 ,  9650 ,  3371 ,  10431 ,  10120 ,  9300 ,  10434 ,  13140 ,  726 ,  6323 ,  7244 ,  1216 ,  2199,95 ,  727 ,  3575 ,  10695 ,  3570 ,  7249 ,  5097 ,  2667 ,  2665 ,  9784 ,  2663 ,  2660 ,  4490 ,  6005,5 ,  3252,72 ,  4953 ,  2668 ,  8964 ,  5000,91 ,  15886 ,  5000,92 ,  5000,95 ,  2938 ,  2937 ,  2934 ,  2935 ,  2930 ,  18589 ,  18588 ,  4498 ,  1462 ,  11898 ,  53530 ,  5320 ,  40758 ,  4880 ,  778,72 ,  11890 ,  3000,85 ,  14600 ,  675,3 ,  4341 ,  1747 ,  1641 ,  1640 ,  675,5 ,  2116,57 ,  1649 ,  1648 ,  1249,95 ,  8816 ,  14281 ,  6289 ,  1743 ,  1252 ,  6670 ,  579 ,  578 ,  11090 ,  140000 ,  604 ,  573 ,  8210 ,  571 ,  570 ,  577 ,  576 ,  575 ,  574 ,  606 ,  18290 ,  26400 ,  1456,5 ,  6491 ,  2800 ,  3677,98 ,  2807 ,  3160 ,  4360 ,  1421 ,  1420 ,  1423 ,  1422 ,  5436 ,  5437 ,  10000,92 ,  6326 ,  1429 ,  20235 ,  1163 ,  3360 ,  2156 ,  1948,2 ,  3363 ,  730 ,  733 ,  2157 ,  735 ,  734 ,  737 ,  736 ,  739 ,  738 ,  669,3 ,  2403 ,  1359 ,  1358 ,  469 ,  2152 ,  4274 ,  465 ,  6499 ,  1351 ,  1350 ,  460 ,  1355 ,  1200 ,  5555 ,  5554 ,  1556,8 ,  5550 ,  6950 ,  15460 ,  6952 ,  688,3 ,  2017 ,  1273 ,  6957 ,  14427 ,  623,42 ,  14420 ,  9685 ,  3666,2 ,  24500 ,  389,94 ,  6948 ,  1519 ,  2869,9 ,  2500,8 ,  1515 ,  1514 ,  1517 ,  725 ,  1274 ,  1510 ,  1513 ,  1512 ,  8361 ,  10527 ,  1400,1 ,  1050,33 ,  34776 ,  10525 ,  20644 ,  12815 ,  4944 ,  4710,4 ,  7707 ,  3278,9 ,  5385 ,  6554 ,  6555 ,  6550 ,  280 ,  800,82 ,  695,2 ,  3185 ,  3186 ,  3214 ,  3180 ,  6945 ,  723 ,  7477 ,  3319,7 ,  1619 ,  19430 ,  2457,9 ,  55600 ,  4275,2 ,  4000,2 ,  487 ,  12600 ,  4018 ,  2688 ,  4013 ,  3000,2 ,  4011 ,  3000,5 ,  3000,4 ,  355 ,  354 ,  7500 ,  352 ,  351 ,  350 ,  3984 ,  48156,13 ,  3980 ,  359 ,  358 ,  16600 ,  1953 ,  21000 ,  11076 ,  6127 ,  4319 ,  8879,48 ,  60360 ,  2323 ,  4706 ,  4705 ,  2320 ,  2327 ,  2326 ,  2325 ,  4700 ,  1739,69 ,  2329 ,  2328 ,  2209,5 ,  4709 ,  4708 ,  1800,9 ,  288 ,  1500,95 ,  1444 ,  2414 ,  281 ,  2173 ,  283 ,  282 ,  285 ,  3299 ,  34676,51 ,  3620 ,  3762 ,  3763 ,  2700,75 ,  3765 ,  57280 ,  21912 ,  1440 ,  3249 ,  8650,48 ,  1292 ,  261 ,  260 ,  265 ,  1561 ,  1031 ,  269 ,  268 ,  19924 ,  2499 ,  2190 ,  1563 ,  6320 ,  6016 ,  2491 ,  2490 ,  2493 ,  4720 ,  2495 ,  2192 ,  2497 ,  4645 ,  363,5 ,  259 ,  1566 ,  2259 ,  3505,4 ,  2257 ,  2256 ,  1567 ,  2253 ,  2250 ,  2477 ,  2476 ,  988 ,  3224 ,  2473 ,  929 ,  2470 ,  982 ,  5150 ,  980 ,  981 ,  986 ,  987 ,  984 ,  985 ,  2198 ,  2099,85 ,  4090 ,  110 ,  4536 ,  5817 ,  119 ,  36222 ,  4800 ,  2784 ,  2781 ,  2780 ,  4806 ,  6599 ,  1057 ,  4809 ,  3500,03 ,  10603 ,  10600 ,  2078 ,  1331 ,  11600 ,  5667 ,  17500 ,  2073 ,  6307 ,  2070 ,  45451 ,  6300 ,  2075 ,  828 ,  10136 ,  5790 ,  1973 ,  10133 ,  39400 ,  1866,6 ,  13203 ,  2205 ,  36730 ,  2263 ,  418 ,  7272 ,  7270 ,  7271 ,  4457,5 ,  3500 ,  5082 ,  5081 ,  3503 ,  21750 ,  2175 ,  36500 ,  9793 ,  2670 ,  9790 ,  2674 ,  10637,7 ,  2678 ,  1379,4 ,  1051,1 ,  404,1 ,  6832 ,  6837 ,  6835 ,  2920 ,  2923 ,  2925 ,  2901"
     ]
    },
    {
     "name": "stdout",
     "output_type": "stream",
     "text": [
      " ,  6820,45 ,  5330 ,  5334 ,  48155 ,  18590 ,  13700 ,  709 ,  63213 ,  1631 ,  3216 ,  1633 ,  1200,84 ,  1635 ,  1980 ,  3213 ,  1638 ,  47350 ,  63219 ,  38650 ,  3718,2 ,  3219 ,  10750 ,  1691,6 ,  498,6 ,  8820 ,  422,1 ,  33665 ,  1710,1 ,  706 ,  568 ,  2814 ,  2816 ,  2811 ,  2810 ,  2812 ,  560 ,  561 ,  562 ,  564 ,  2818 ,  567 ,  3171 ,  3170 ,  3173 ,  3172 ,  3175 ,  29000 ,  7080 ,  30791 ,  1188 ,  1189 ,  5425 ,  410,4 ,  1185 ,  1182 ,  5420 ,  1180 ,  3370 ,  1360,92 ,  2036 ,  724 ,  1480 ,  722 ,  1749 ,  720 ,  721 ,  372 ,  1745 ,  9467 ,  1740 ,  728 ,  729 ,  6495 ,  1165 ,  1166 ,  1167 ,  1160 ,  1161 ,  1162 ,  15383 ,  4244 ,  1484 ,  1168 ,  1169 ,  4240 ,  13950 ,  5521 ,  2584 ,  14614 ,  1489 ,  837,91 ,  785,9 ,  11170 ,  5532,66 ,  17110 ,  7240 ,  1364 ,  1568 ,  1569 ,  1299 ,  3000,95 ,  2405,69 ,  1516 ,  1560 ,  1293 ,  1290 ,  1291 ,  1296 ,  1297 ,  1294 ,  1295 ,  439,95 ,  31350 ,  8396 ,  1361 ,  8390 ,  795 ,  7280,83 ,  794 ,  8008 ,  12800 ,  449,1 ,  47355 ,  8000 ,  792 ,  4398 ,  4399 ,  1866 ,  6544 ,  6543 ,  4498,91 ,  6541 ,  13350 ,  4390 ,  599,95 ,  1201 ,  4393 ,  5630 ,  5631 ,  6975 ,  8480 ,  473 ,  470 ,  471 ,  476 ,  1368 ,  1360 ,  3190 ,  7794,92 ,  4444 ,  478 ,  479 ,  1719 ,  3199 ,  3198 ,  \n",
      "\n",
      "==========\n",
      "LOAN_AVG_DLQ_AMT\n"
     ]
    },
    {
     "name": "stdout",
     "output_type": "stream",
     "text": [
      "6938,27 ,  3303,2 ,  2081,78 ,  1386,115 ,  3201,95 ,  721,151428571429 ,  768,97 ,  1329,54 ,  2340,06777777778 ,  2482,72 ,  4020 ,  586,501428571429 ,  567,51 ,  564,93 ,  826,64 ,  777,84 ,  1180,16666666667 ,  340 ,  7510 ,  3155,89333333333 ,  1296,4 ,  3231,2 ,  324,16 ,  1468,38 ,  676,85 ,  1144,03 ,  4680 ,  1388,83769230769 ,  2597,78 ,  2310 ,  5850 ,  4830 ,  1630,344 ,  1626,75 ,  355,04 ,  1077,605 ,  3770 ,  1615,22 ,  1339,99 ,  1459,54666666667 ,  270 ,  4650 ,  478,13 ,  1288,898 ,  1547,02 ,  2189,99 ,  724,38 ,  1736,4 ,  1287,35 ,  2260 ,  2265 ,  2440 ,  1717,47333333333 ,  1829,73 ,  100 ,  1138,2 ,  4810 ,  2040 ,  3752,02 ,  2979,31 ,  2217,25 ,  2178,925 ,  2608,17142857143 ,  413,145 ,  1563,61 ,  3235,24 ,  3783,78 ,  9453,33333333333 ,  949,89 ,  1313,33333333333 ,  3510 ,  6200 ,  3659,0625 ,  2680 ,  1000 ,  782,21 ,  1134,58 ,  2499,775 ,  1095,88 ,  1095,89 ,  2250,56 ,  1719,72 ,  1990 ,  5180 ,  1620 ,  1995 ,  1626 ,  3200 ,  648,68 ,  1088,48 ,  3990 ,  2860 ,  550 ,  553 ,  376,08 ,  3382,31333333333 ,  7670 ,  1441,57 ,  1093,22 ,  2372,77 ,  1190 ,  3340 ,  5757,9 ,  789,23 ,  1628,45 ,  666,86 ,  1750 ,  806,93 ,  1170 ,  2503,19 ,  2685,68 ,  1004,8 ,  983,45 ,  2066,905 ,  758,95 ,  758,96 ,  2354,29 ,  1165,25 ,  1280 ,  908,78 ,  1107,5 ,  510,136666666667 ,  2028,702 ,  1570 ,  680 ,  682 ,  524,82 ,  1931,44 ,  1817,57 ,  290,82 ,  1684,04 ,  740,575 ,  1508,79 ,  7450 ,  4380 ,  1268,44 ,  1370 ,  2751,25 ,  400 ,  187,35 ,  581,15 ,  2447,225 ,  4030 ,  2365,47 ,  794,5 ,  3316,8675 ,  1181,13 ,  1867,66166666667 ,  1259,43 ,  1247,92 ,  370 ,  2659,95 ,  1389,63 ,  2704,02 ,  948,58 ,  4445,6 ,  390 ,  2300 ,  1145,38 ,  3086,66666666667 ,  110,91 ,  558,06625 ,  1875,70333333333 ,  4893,17 ,  1707,5 ,  531,65 ,  1074,52 ,  1154,34 ,  964,516666666667 ,  1071,75 ,  4620 ,  240 ,  2013,19 ,  882,01 ,  872,065 ,  2270 ,  748,93 ,  2140,36 ,  2450 ,  1206,51 ,  1367,735 ,  2088,86 ,  1769,1975 ,  6532,49 ,  2050 ,  642,31 ,  705,6 ,  966,07 ,  4530 ,  1616,1825 ,  4820 ,  2477,64 ,  2151,50333333333 ,  6360 ,  816,83 ,  715,3 ,  3520 ,  2779,4 ,  861,03 ,  1321,59 ,  2590,15 ,  1303,04 ,  1591,94 ,  619,4 ,  1636,04 ,  2992,64 ,  3013,9 ,  2690 ,  2629,87 ,  14870 ,  2135,75 ,  1970 ,  1781,225 ,  1745,7 ,  3230 ,  1616 ,  1615 ,  1960 ,  1739,33 ,  1610 ,  678,18 ,  1966,99 ,  2870 ,  2656,68 ,  3350 ,  38,32 ,  1980,6 ,  7060 ,  2296,35 ,  3191,75 ,  1760 ,  1140 ,  3828,09666666667 ,  2668,07 ,  502,2 ,  5500 ,  481,506 ,  690 ,  1540 ,  2736,28 ,  3860,18 ,  698 ,  438,19 ,  1549 ,  1408,73 ,  540 ,  2018,255 ,  462,915 ,  1102,7 ,  658,84 ,  750,175 ,  1411,31 ,  51,8 ,  2575,71428571429 ,  8020 ,  849,91 ,  1999,19 ,  1211,17 ,  1380 ,  3820 ,  3889,696 ,  1841,9 ,  1414,34 ,  1259,39 ,  2158,72 ,  896,1 ,  2262,12 ,  2263,18 ,  3971,6 ,  2247,51 ,  702,565 ,  1851,55 ,  367 ,  2418,306 ,  7530 ,  360 ,  613,12 ,  903,66 ,  3762,5 ,  1954,4 ,  979,63 ,  698,26 ,  2853,18333333333 ,  823,54 ,  1145,21 ,  1798,49 ,  1677,48 ,  3821,44 ,  2287,02 ,  433,3425 ,  5870 ,  1179,89 ,  1179,86 ,  911,793333333333 ,  3750 ,  668,53 ,  779,415 ,  2190 ,  1026,8175 ,  4630 ,  918,55 ,  4635 ,  2466,8625 ,  2200 ,  797,135 ,  1147,5 ,  1296,74 ,  912,41 ,  1659,576 ,  4515,81 ,  2425 ,  1274,99 ,  1639,24571428571 ,  1022,67 ,  7840 ,  2068,56 ,  1152,89 ,  1232,78 ,  1563,45 ,  1731,06 ,  3680 ,  269,51 ,  2701,26 ,  2510 ,  94,89 ,  509,533333333333 ,  2730 ,  1279,91 ,  2343,41 ,  3530 ,  1875,75 ,  1832,78 ,  653,293333333333 ,  5050 ,  997,89 ,  1810 ,  2112,17 ,  991,19 ,  1299,55 ,  1894,04 ,  1716,52 ,  898,77 ,  1066,005 ,  892,18 ,  2219,93571428571 ,  91,27 ,  2702,4 ,  3637,43 ,  2473,645 ,  937,405 ,  1600 ,  3220 ,  2160 ,  1608,255 ,  1344,33 ,  800 ,  0,71 ,  1412,55 ,  2840 ,  3320 ,  4472,91333333333 ,  2554,005 ,  87,39 ,  1770 ,  1600,26 ,  1171,65 ,  1426,72 ,  1085,5 ,  2792,33 ,  1150 ,  666,41 ,  983,28 ,  1191,65 ,  5510 ,  15110 ,  1550 ,  673,6825 ,  2990 ,  3030 ,  830,53 ,  534 ,  533 ,  530 ,  1766,2 ,  3037,58 ,  1239,08 ,  951,12 ,  1094,09 ,  1595,575 ,  865,1 ,  1574,25 ,  2549,52 ,  2184,66 ,  2910,25 ,  599,485 ,  980,25 ,  1804,9 ,  837,74 ,  3810 ,  1456,85 ,  804,32 ,  859,1 ,  1056,95 ,  1410 ,  2441,4 ,  1272,72 ,  1839,85 ,  1402,2 ,  620,75 ,  2031,34333333333 ,  4290 ,  600,93 ,  1095,61 ,  1072,752 ,  2217,22333333333 ,  1255,21 ,  1209,27 ,  3248,28 ,  2451,54333333333 ,  6160 ,  1072,34 ,  946,49 ,  1314,58666666667 ,  3223,09 ,  2406,8 ,  1055,71 ,  1070,52 ,  1959,42 ,  1256,635 ,  606,55 ,  3509,22 ,  1309,43 ,  2180 ,  964,69 ,  2185 ,  4600 ,  766,26 ,  2467,33 ,  2430 ,  3870,25 ,  198,88 ,  455,32 ,  4200 ,  1304,722 ,  687,11 ,  1119,93 ,  4510 ,  3626,91 ,  579,94 ,  859,9325 ,  1251,35 ,  6180 ,  2500 ,  2725 ,  1099,54 ,  588,13 ,  2720 ,  2840,62 ,  1275,785 ,  5040 ,  3780 ,  1800 ,  3279,705 ,  1197,38333333333 ,  1132,64 ,  3509,805 ,  410,39 ,  1054,5 ,  1113,74 ,  5698,46 ,  2157,89 ,  5545,0225 ,  4119,97 ,  1113,17 ,  1671,7 ,  2070,52 ,  3250 ,  1940 ,  3255 ,  0 ,  810 ,  0,04 ,  920,175 ,  2303,11666666667 ,  1286,73 ,  2352,78 ,  7763,74 ,  2579,43 ,  1409,965 ,  2850 ,  1490 ,  596,29 ,  3330 ,  1495 ,  870,69 ,  678,2 ,  1700 ,  4570 ,  1077,03 ,  560,86 ,  3279,56 ,  896,31 ,  1390 ,  2237,245 ,  1120 ,  2090,53 ,  813,305 ,  1160,96 ,  4115,33333333333 ,  2980 ,  3020 ,  578,3 ,  520 ,  1949,8 ,  1238,855 ,  1015 ,  2119,77 ,  1010 ,  1230 ,  4190 ,  2128,74 ,  904,08 ,  3055,72 ,  4350 ,  1970,52 ,  6500 ,  1424,26 ,  1751,37 ,  1266,34 ,  1049,42666666667 ,  430 ,  101,52 ,  854,47 ,  3777,93333333333 ,  2269,565 ,  3800 ,  1532,04 ,  1113,335 ,  1909,16 ,  1601,63 ,  1141,06 ,  2097,97333333333 ,  712,179 ,  769,43 ,  1391,47 ,  183,13 ,  616,06 ,  425,97 ,  2060,782 ,  875,2 ,  1670,18 ,  979,89 ,  516,18 ,  4770 ,  49,35 ,  6591,48 ,  2240 ,  6750 ,  2144,77 ,  1091,2 ,  568,75 ,  1002,60333333333 ,  4610 ,  1180,87 ,  2002,45 ,  1985,528 ,  1068,47 ,  2220 ,  2202,69 ,  2804,46 ,  1724,15333333333 ,  1136,6 ,  1655,63 ,  327,675 ,  3309,87 ,  2083 ,  2080 ,  1915,35 ,  2538 ,  2530 ,  1605,95 ,  2710 ,  1418,86 ,  95,09 ,  2280 ,  1098,64 ,  1259,71333333333 ,  1248,27 ,  5070 ,  1832,91 ,  1830 ,  370,77 ,  746,57 ,  991,79 ,  630,49 ,  2150 ,  2400 ,  930 ,  1861,6 ,  1240,46 ,  2670,02 ,  1706,318 ,  1950 ,  1091,55 ,  2070,42 ,  1415,2 ,  1097,62 ,  115,65 ,  5394,29 ,  3240 ,  535,53 ,  2923,96 ,  762,16 ,  1387,15 ,  2446,5 ,  1439,9 ,  3716,35 ,  761,866666666667 ,  820 ,  2462,1 ,  1514,45833333333 ,  1480 ,  762,93 ,  1538,69 ,  3300 ,  1710 ,  790 ,  1022,204 ,  2108,71 ,  699,99 ,  567,16 ,  4250 ,  1987,565 ,  3964,85 ,  1130 ,  1135 ,  1869,795 ,  4850,2 ,  813,335 ,  7780 ,  3010 ,  2852,74 ,  510 ,  1017,28 ,  984,79 ,  739,93 ,  620 ,  1120,19 ,  625 ,  1220 ,  4180 ,  2163,94 ,  1639,99 ,  2858,6 ,  1639,94 ,  4340 ,  2880 ,  1459,385 ,  757,75 ,  7490 ,  1252,67 ,  944,93 ,  639,11 ,  1537,71 ,  1542,42 ,  3870 ,  1108,96333333333 ,  550,83 ,  1283,89 ,  3875 ,  548,523333333333 ,  717,87 ,  1355,87 ,  3769,3625 ,  145,92 ,  3900 ,  1845,5 ,  942,17 ,  2232,28333333333 ,  4760 ,  1234,7375 ,  6740 ,  2782,89 ,  4160 ,  802,36 ,  2750,86 ,  1731,7 ,  4729,07 ,  3470 ,  3072,475 ,  1259,1 ,  1509,44 ,  1838,56428571429 ,  2230 ,  1878,86 ,  966,953333333333 ,  959,955 ,  1090,8 ,  4159,78 ,  824,02 ,  2742,25 ,  673,02 ,  3490 ,  1727,62 ,  1130,785 ,  2090 ,  2520 ,  965,1 ,  910,13 ,  216,59 ,  11460 ,  68,77 ,  451,06 ,  1108,574 ,  2700 ,  3365,305 ,  2210 ,  998,968 ,  1248,56 ,  1258,585 ,  284,02 ,  2786,89 ,  880,74 ,  4400 ,  1820 ,  2410 ,  1539,2 ,  2140 ,  920 ,  457,71 ,  177,34 ,  5752,98 ,  37,5 ,  918,255 ,  1920 ,  3651,445 ,  3202,2 ,  2940,81 ,  830 ,  2323,025 ,  5428,62 ,  828,64 ,  1097,55 ,  490 ,  4084,07 ,  1059,47 ,  690,99 ,  1476,6 ,  706,48 ,  661,46 ,  3310 ,  1241,32428571429 ,  3315 ,  2192,0875 ,  780 ,  1375,39 ,  1720 ,  990,85 ,  5577,92 ,  1582,435 ,  497,62 ,  758,68 ,  5872,64 ,  2690,33333333333 ,  2326,81 ,  1317,88333333333 ,  482,28 ,  3000 ,  7790 ,  1959,99 ,  1580 ,  619,73 ,  820,124 ,  528,15 ,  1033 ,  1030 ,  500 ,  630 ,  631 ,  1210 ,  3539,82 ,  1215 ,  1932,5 ,  958,76 ,  1599,9 ,  2647,9 ,  1507,48 ,  4370 ,  1649,37 ,  5650 ,  1606,38 ,  2890 ,  1606,5 ,  2445,93 ,  1283,93 ,  1330,41 ,  3860 ,  1645,64 ,  1221,92 ,  2476,77 ,  3501,45 ,  2974,37666666667 ,  1007,8 ,  1314,11 ,  1007,36 ,  2559,89666666667 ,  1913,31 ,  1671,33 ,  3910 ,  3339,71 ,  1833,77 ,  731,72 ,  957,59 ,  1070,05 ,  2130 ,  1377,5275 ,  887,79 ,  2706,39 ,  839,88 ,  756,84 ,  18307,16 ,  599,19 ,  767,53 ,  2282,89 ,  4660,495 ,  1561,95333333333 ,  6080 ,  824,581428571429 ,  3127,19 ,  1411,835 ,  2509,38 ,  524,6 ,  804,89 ,  5900 ,  526,94 ,  1896,24 ,  1274,59 ,  3480 ,  4560 ,  2273,72 ,  4565 ,  1477,37 ,  3640 ,  2550 ,  2794,22333333333 ,  6390 ,  2492,54 ,  1661,74666666667 ,  2390 ,  1892,28 ,  2770 ,  605,496 ,  4890 ,  2676,2125 ,  2112,57 ,  1182,23 ,  2473,45 ,  4026,63 ,  3840 ,  1850 ,  782,705 ,  1594,914 ,  2170 ,  2175 ,  1180,48 ,  2178 ,  910 ,  2605 ,  2600 ,  2470 ,  3260 ,  1930 ,  1739,88 ,  1065,62 ,  845 ,  2263,2 ,  1136,86 ,  840 ,  134,78 ,  1373,87 ,  722,59 ,  499,69 ,  963,96 ,  1369,755 ,  862,43 ,  630,8 ,  662,13 ,  7010 ,  1169,82 ,  1730 ,  578,06 ,  1288,63 ,  1830,2 ,  411,43 ,  657,95 ,  1209,5 ,  860,22 ,  1221,8 ,  750 ,  1208,09 ,  2158,2775 ,  3070 ,  1139,49 ,  1590 ,  2957,71 ,  812,11 ,  2950 ,  1020 ,  3172,83 ,  1067,73 ,  1325,63 ,  2268,41857142857 ,  2359,898 ,  600 ,  1200 ,  1408,87 ,  1235,4 ,  799,16 ,  543,33 ,  1287,132 ,  1110 ,  1112 ,  1407,725 ,  1440 ,  859,73 ,  1429,99 ,  4090 ,  805,73 ,  450 ,  716,33 ,  11310 ,  806,19 ,  3782,39 ,  669,48 ,  1506,39 ,  1920,9575 ,  1309,89 ,  709,96 ,  1793,66 ,  1321,68833333333 ,  2154,02 ,  1127,76 ,  3920 ,  2166,82 ,  1154,905 ,  918,7 ,  2429,5 ,  658,18 ,  2707,64 ,  3101,73 ,  4140 ,  1892,238 ,  2518,18 ,  3850 ,  1088,05 ,  2599,29 ,  2441,465 ,  1002,22 ,  5108,38 ,  2269,735 ,  1103,19 ,  769,915 ,  6650 ,  2563,29 ,  1896,34 ,  1317,06 ,  1930,595 ,  1042,41 ,  1679,2 ,  1012,02 ,  1245,94 ,  2188,21 ,  3670 ,  4550 ,  1814,93 ,  2540 ,  1144,98 ,  1130,63 ,  2380 ,  775,86 ,  4617,935 ,  1450 ,  6647,97 ,  3580 ,  95,79 ,  1100 ,  1922,69 ,  2760 ,  1188,46 ,  1918,79 ,  4884,95 ,  900 ,  1399,25 ,  4420 ,  1840 ,  697,72 ,  6070 ,  767,566 ,  2084,32 ,  4269,94 ,  1180,53 ,  559,94 ,  779,82 ,  2610 ,  846,74 ,  1675,345 ,  9280 ,  1539,13 ,  7340 ,  568,7 ,  1900 ,  855 ,  850 ,  2679,82 ,  598,5 ,  1574,6 ,  1324,41285714286 ,  947,285 ,  1152,15 ,  1128,64 ,  836,6 ,  2272,5 ,  780,75 ,  950,888 ,  7369,77 ,  1045,89 ,  3752,455 ,  2293,65 ,  1413,765 ,  2399,55 ,  2707,25 ,  3283,1 ,  588,9 ,  949,15 ,  2991,39 ,  962,655 ,  1215,45777777778 ,  1405,53 ,  1771,33 ,  651,625 ,  1347,12 ,  63,31 ,  740 ,  1459,34 ,  976,68 ,  2149,94 ,  336,9925 ,  3060 ,  1010,43 ,  2940 ,  1050 ,  1053 ,  1683,49 ,  811,49 ,  647,42 ,  1690 ,  2082,47857142857 ,  1373,99333333333 ,  1831,51333333333 ,  4310 ,  714 ,  1270 ,  610 ,  1264,23 ,  2386,505 ,  1999,73 ,  1168,565 ,  717,9 ,  830,7 ,  2119,5625 ,  2258,3 ,  799,09 ,  3110 ,  526,563333333333 ,  501,305 ,  1470 ,  1528,832 ,  1300 ,  1272,81 ,  2262,73 ,  670,085 ,  1439,815 ,  5047,5 ,  4220 ,  664,94 ,  1433,4 ,  767,7 ,  6689,82 ,  1570,46 ,  2935,02 ,  1082,9 ,  1881,83 ,  1792,71 ,  1205,4725 ,  879 ,  1127,63 ,  1269,16 ,  1006,59 ,  1276,66666666667 ,  517,51 ,  677,474 ,  2252,3 ,  816,3 ,  988,85 ,  849,19 ,  917,651666666667 ,  1776,96666666667 ,  1040,5 ,  2573,8 ,  1713,74 ,  1006,29666666667 ,  1292,59 ,  1196,43 ,  4112,53 ,  1304,0625 ,  1549,18 ,  4056,11 ,  1553,31625 ,  1883,04 ,  6660 ,  569,121428571429 ,  212,25 ,  1179,394 ,  1398,58 ,  3660 ,  2044,155 ,  5401,67 ,  339,83 ,  975 ,  609,4925 ,  2493,97 ,  812,693333333333 ,  875,09 ,  1233,33 ,  845,55 ,  2575 ,  1775,46 ,  2570 ,  1758,25 ,  947,57 ,  1116,49 ,  2370 ,  1674,3 ,  997,65 ,  3590 ,  2590 ,  1443,3 ,  1740,19 ,  5030 ,  827,57 ,  1423,33333333333 ,  1870 ,  1583,15 ,  4940 ,  3464,88 ,  970 ,  4158,85 ,  772,73 ,  880,2 ,  4320 ,  2110 ,  796,59 ,  1063,58666666667 ,  2620 ,  2157,32 ,  2006,83 ,  2651,68 ,  1447,67333333333 ,  866,59 ,  1910 ,  5100 ,  3280 ,  215,55 ,  5830 ,  3231,88 ,  860 ,  3440 ,  1587,06 ,  866 ,  2025 ,  2020 ,  2750 ,  1289,105 ,  2758 ,  4296,29333333333 ,  880 ,  2368,84 ,  1097,86 ,  14970 ,  233,335 ,  2989,98 ,  2008,01 ,  407,8 ,  1810,155 ,  1986,35 ,  978,13 ,  1504,79 ,  1519,72 ,  770 ,  1168,63 ,  1111,4 ,  7100 ,  763,185 ,  778,32 ,  1032,06 ,  2970 ,  3050 ,  695,06 ,  610,986666666667 ,  1098,8 ,  1040 ,  1045 ,  1098,1 ,  5397,15 ,  892,95 ,  5149,95 ,  1680 ,  894,29 ,  3755,32 ,  612,524 ,  4300 ,  1263 ,  1427,295 ,  1260 ,  660 ,  3702,8 ,  1175,566 ,  1749,69 ,  3102,49333333333 ,  603,55 ,  1114,57 ,  3120 ,  543,17 ,  840,7 ,  758,15 ,  2146,66666666667 ,  837,48 ,  1460 ,  3768,74 ,  2429,09 ,  1310 ,  831,2 ,  13920 ,  855,675 ,  2079,37 ,  1276,7 ,  2276,54666666667 ,  3433,42 ,  3768,7 ,  2816,25 ,  818,81 ,  3111,3 ,  2568,45 ,  3940 ,  310 ,  2094,3 ,  1007,63 ,  1338,69 ,  4210 ,  2127,1 ,  4120 ,  1258,69 ,  1047,32 ,  1270,16 ,  719,25 ,  1788,46 ,  3089,155 ,  43,3 ,  1600,0925 ,  1085,53 ,  433,306666666667 ,  756,453333333333 ,  913,4975 ,  1199,27 ,  4050 ,  871,07 ,  886,26 ,  1237,24 ,  9239,69 ,  5076,65 ,  604,43 ,  3610 ,  455,59 ,  1221,24 ,  1961,35 ,  635,53 ,  1311,85 ,  1849,496 ,  2560 ,  2132,88 ,  910,826666666667 ,  1552,325 ,  2261,19 ,  2365 ,  2360 ,  997,13 ,  2585 ,  2580 ,  10640 ,  1860 ,  2916,18 ,  2139,63375 ,  265,55 ,  3720 ,  1742,41 ,  3594,45 ,  960 ,  861,56 ,  1004,225 ,  776,3 ,  2100 ,  2105 ,  596,16 ,  5110 ,  829,393333333333 ,  2630 ,  1068,32 ,  2168,26 ,  640 ,  3430 ,  870 ,  2740 ,  2030 ,  1112,57 ,  4840 ,  890 ,  1826,86 ,  869,45 ,  1206,745 ,  1222,06 ,  2920,45 ,  917,57 ,  863,68 ,  3540 ,  801,8 ,  663,05 ,  704,93 ,  846,55 ,  761,74 ,  1457,52 ,  560,36 ,  472,11 ,  2961 ,  2960 ,  502,1 ,  1780 ,  760 ,  1489,13 ,  2101,256 ,  "
     ]
    },
    {
     "name": "stdout",
     "output_type": "stream",
     "text": [
      "778,07 ,  3040 ,  2979,57 ,  71,71 ,  580,49 ,  5370 ,  1070 ,  957,4 ,  1670 ,  868,01 ,  1094 ,  4230,185 ,  1090 ,  2627,58666666667 ,  1021,13 ,  670 ,  1258,95 ,  315,796666666667 ,  3130 ,  5603,82 ,  1678,99 ,  3138 ,  1173,46 ,  54,58 ,  2769,82 ,  727,79 ,  2235,225 ,  1516,872 ,  1093,75 ,  1675,75 ,  1320 ,  1325 ,  3011,18 ,  805,86 ,  1312,44 ,  4834,28 ,  4164,34 ,  1498,2 ,  5760 ,  684,89 ,  683,9975 ,  2598,9 ,  921,58 ,  5560 ,  1520 ,  1250 ,  84,07 ,  970,155 ,  3959 ,  791,56 ,  300 ,  574,21 ,  818,74 ,  3950 ,  857,956666666667 ,  2464,55 ,  518,9 ,  988,5025 ,  1437,01 ,  2315,64857142857 ,  969,59 ,  1597,92 ,  2779,29 ,  1479,11 ,  1498,26 ,  2081,36 ,  2043,665 ,  1429,97 ,  2122,45 ,  798,53 ,  1160,21 ,  1010,55 ,  860,505 ,  1889,43 ,  4060 ,  1965,32 ,  660,6 ,  1307,99 ,  5780 ,  1020,7725 ,  1340,16 ,  3600 ,  1371,86 ,  1317,32 ,  2592,5 ,  367,35 ,  1374,28 ,  3377,57 ,  3075,82 ,  552,57 ,  1145,85 ,  2350 ,  7280 ,  4450 ,  1774,5175 ,  848,45 ,  2010,03 ,  1890 ,  3730 ,  4690 ,  4920 ,  821,45 ,  951 ,  950 ,  1197,24875 ,  3749,07 ,  532,24 ,  1985,3 ,  5160 ,  1176,82 ,  2640 ,  1403,64 ,  760,65 ,  702,23 ,  2510,2 ,  1029,75 ,  1402,43 ,  2780 ,  1382,67 ,  1230,63 ,  1581,82 ,  6260 ,  963,12 ,  2388,505 ,  3420 ,  1658,42 ,  746,74 ,  2000 ,  2009 ,  966,53 ,  901,64 ,  582,386666666667 ,  2739,76 ,  1778,635 ,  1942,72 ,  1405,09 ,  699,78 ,  3387,85 ,  2547,85 ,  3550 ,  2349,51 ,  2910 ,  1663,27 ,  1790 ,  1795 ,  710 ,  3024 ,  3668,79333333333 ,  1226,25 ,  5300 ,  1060 ,  1844,885 ,  224,59 ,  656,705 ,  1660 ,  590 ,  1080 ,  2939,536 ,  1140,2 ,  3140 ,  2820 ,  4136,07 ,  5410 ,  3033,41 ,  2676,24 ,  1288,7 ,  1400 ,  3355,19 ,  1768,07 ,  1630 ,  3960 ,  980,42 ,  2142,2 ,  440 ,  664,42 ,  1330 ,  444 ,  9840 ,  1681,62666666667 ,  1101,1 ,  1159,06 ,  5570 ,  1240 ,  3090 ,  1335,47 ,  1530 ,  289,02 ,  1094,85 ,  2391,38 ,  2186,585 ,  440,63625 ,  1187,565 ,  4827,666 ,  862,5 ,  330 ,  4100 ,  62,46 ,  1120,93 ,  1529,06 ,  820,87 ,  605,32 ,  542 ,  1258,49 ,  1684,42 ,  986,606666666667 ,  3415,66666666667 ,  3890 ,  1386,96 ,  4508,2 ,  2265,01 ,  3165,46 ,  1195,3 ,  4559,26 ,  1593,76 ,  2201,11 ,  1181,51 ,  1589,92333333333 ,  3460 ,  4070 ,  526,43 ,  727,63 ,  1492,404 ,  1697,22 ,  4574,85 ,  1158,1 ,  1149,395 ,  1424,9175 ,  3630 ,  1317,4 ,  509,52 ,  1233,309 ,  554,36 ,  1209,47 ,  2340 ,  1525,885 ,  2051,5 ,  3639,91 ,  1039,36 ,  1780,28 ,  2409,01 ,  327,98 ,  1036,336 ,  2619,25 ,  1880 ,  2120 ,  929,51 ,  4660 ,  1905,8 ,  940 ,  957,46 ,  429,24 ,  2088,64 ,  3358,58 ,  5170 ,  2650 ,  3410 ,  701,32 ,  366,58 ,  1544,95 ,  673,89 ,  1164,99666666667 ,  1614,36 ,  2015 ,  2010 ,  9060 ,  869,26 ,  1171,686 ,  2259,35 ,  4758,14 ,  586,646666666667 ,  437,26 ,  1196,17 ,  752,923076923077 ,  2900 ,  836,79 ,  700 ,  825,10875 ,  1478,49 ,  763,3 ,  695,39 ,  1948,62 ,  732,62 ,  1650 ,  586 ,  3099,42 ,  1573,35 ,  580 ,  1439,94 ,  549,88 ,  3150 ,  446,31 ,  7620 ,  1198,15 ,  2830 ,  3390 ,  1155,125 ,  1430 ,  1629,58 ,  859,84 ,  386,666666666667 ,  1109,855 ,  4260 ,  665,57 ,  1848,05 ,  1340 ,  1167,98 ,  1939,61 ,  874,31 ,  6041,86 ,  486,895 ,  1957,21 ,  1159,18 ,  1073,54 ,  1052,63 ,  1500 ,  1993,59 ,  650 ,  2419,9 ,  3080 ,  641,04 ,  1355,12 ,  1881,26 ,  1555,00090909091 ,  988,44 ,  658,42 ,  4376,4 ,  2796,66 ,  2409,2 ,  3880 ,  4387,48 ,  9530,91 ,  981,71 ,  59,68 ,  4956,4 ,  753 ,  755,063333333333 ,  989,15 ,  3691,2675 ,  3635,77 ,  2701,5 ,  42,52 ,  4000 ,  1149,495 ,  1193,9675 ,  1199,54 ,  3970 ,  320 ,  753,68 ,  1598,01 ,  2699,88 ,  3620 ,  1359,6 ,  1953,6 ,  3322,7775 ,  1119,27 ,  2330 ,  856,64 ,  4710 ,  1924,4 ,  2239,37 ,  6130 ,  791,98 ,  2712,72 ,  674,263333333333 ,  3914,24 ,  3106,29 ,  2959 ,  1155,06 ,  3589,09 ,  342,02 ,  879,74 ,  1993,245 ,  1609,47 ,  2480 ,  1142,83 ,  429,11 ,  1305,97 ,  2460 ,  990 ,  1155,02142857143 ,  1023,66 ,  5526,72666666667 ,  5140 ,  3400 ,  0,98 ,  1662,1 ,  669,12 ,  1899,1 ,  1899,7 ,  1850,24 ,  1348,68 ,  6310 ,  2060 ,  2790 ,  768,11 ,  1352,85714285714 ,  1260,55 ,  978,55 ,  1666,28 ,  978,56 ,  3209,5 ,  1020,63 ,  631,68 ,  5090 ,  6133,41 ,  2497,09 ,  3570 ,  2660 ,  2864,92 ,  1217,36 ,  3506,07 ,  2930 ,  5320 ,  1033,905 ,  380 ,  1640 ,  5269,78 ,  1200,99 ,  1134,525 ,  1789,04 ,  314,76 ,  1269,372 ,  954,65 ,  570 ,  2524,28 ,  1066,605 ,  859,92 ,  2800 ,  3160 ,  1420 ,  5430 ,  2394,45 ,  1686,92 ,  3360 ,  2323,55 ,  310,126 ,  730 ,  735 ,  1243,83 ,  1733,88 ,  1535,89 ,  1350 ,  460 ,  3103,84 ,  5550 ,  872,81 ,  598,396666666667 ,  604,353333333333 ,  1510 ,  1512 ,  1817,76 ,  3119,99 ,  839,79 ,  6550 ,  2430,38 ,  1191,604 ,  3180 ,  715,54 ,  1706,3 ,  2732,2 ,  756,1 ,  1244,53 ,  183,48 ,  2247,08 ,  350 ,  2005,15 ,  2059,46 ,  1410,53333333333 ,  3100 ,  4055,03 ,  728,49 ,  819,3 ,  613,21 ,  613,25 ,  2320 ,  4700 ,  2289,48 ,  2379,46 ,  1069,6 ,  1269,82 ,  1880,59 ,  280 ,  1342,58 ,  749,82 ,  3760 ,  2290 ,  591,935 ,  652,36 ,  865,05 ,  865,03 ,  14990 ,  957,63 ,  2423,54 ,  28012,2 ,  989,39 ,  1003,255 ,  1467,05 ,  929,39 ,  2490 ,  4640 ,  821,93 ,  2250 ,  1297,36333333333 ,  980 ,  1068,76 ,  1402,92 ,  1068,72 ,  5974,67 ,  1253,34 ,  1175,57 ,  1573,30428571429 ,  696,97 ,  776,59 ,  1885,265 ,  1879,28 ,  842,15 ,  1647,97888888889 ,  831,23 ,  2070 ,  930,4 ,  576,324 ,  2252,24 ,  3428,56 ,  2240,34 ,  1986,88 ,  2569,05 ,  3500 ,  2670 ,  849,085 ,  1747,33 ,  2361,22 ,  1063,17 ,  2877,745 ,  2920 ,  1010,27 ,  2925 ,  726,57 ,  1300,386 ,  628,94 ,  695,59 ,  3210 ,  4001,34 ,  1980 ,  1546,55 ,  809,42 ,  480 ,  1761,03 ,  2370,01 ,  2810 ,  682,56 ,  560 ,  2755,21 ,  3237,94 ,  5048,19 ,  1319,56 ,  3170 ,  410,6 ,  5420 ,  1180 ,  651,16 ,  720 ,  2809,87 ,  1459,99 ,  1740 ,  1160 ,  6490 ,  136,76 ,  3018,275 ,  909,424285714286 ,  4240 ,  1496,3275 ,  758,82 ,  1634,81 ,  1040,78666666667 ,  1560 ,  1290 ,  1692,49 ,  2781,08 ,  988,62 ,  1991,725 ,  3376,515 ,  5075,99 ,  4399 ,  891,95 ,  6540 ,  4390 ,  451,495 ,  470 ,  1365 ,  477 ,  1360 ,  3190 ,  3863,72 ,  \n",
      "\n",
      "==========\n",
      "LOAN_MAX_DLQ_AMT\n"
     ]
    },
    {
     "name": "stdout",
     "output_type": "stream",
     "text": [
      "6938,27 ,  3303,2 ,  2081,78 ,  3089,5 ,  2482,72 ,  4020 ,  564,93 ,  826,64 ,  3201,95 ,  777,84 ,  340 ,  5980,18 ,  7510 ,  1719,72 ,  1296,4 ,  3231,2 ,  324,16 ,  797,16 ,  1311,53 ,  676,85 ,  1144,03 ,  4680 ,  2597,78 ,  2310 ,  5850 ,  4830 ,  1626,75 ,  2944,54 ,  3770 ,  1339,99 ,  861,03 ,  4650 ,  478,13 ,  1547,02 ,  2189,99 ,  2176,36 ,  724,38 ,  1736,4 ,  1287,35 ,  2260 ,  2265 ,  1110,39 ,  2440 ,  2158,72 ,  100 ,  1138,2 ,  2040 ,  2979,35 ,  3752,02 ,  2217,25 ,  1563,61 ,  3235,24 ,  3783,78 ,  3783,76 ,  951,12 ,  949,89 ,  2890,47 ,  3510 ,  6200 ,  2680 ,  1000 ,  1134,58 ,  3637,43 ,  1095,88 ,  1095,89 ,  2250,56 ,  1990 ,  5180 ,  1620 ,  3200 ,  648,68 ,  3990 ,  2860 ,  550 ,  553 ,  376,08 ,  919,88 ,  7670 ,  1093,22 ,  2372,77 ,  1190 ,  3340 ,  1320,85 ,  789,23 ,  1628,45 ,  1750 ,  806,93 ,  1170 ,  2503,19 ,  2685,68 ,  1004,8 ,  1729,66 ,  758,95 ,  758,96 ,  2354,29 ,  1165,25 ,  1280 ,  908,78 ,  755,76 ,  879 ,  2693,8 ,  1570 ,  680 ,  682 ,  524,82 ,  1931,44 ,  1817,57 ,  290,82 ,  1508,79 ,  7450 ,  4380 ,  1268,44 ,  1370 ,  2751,25 ,  400 ,  187,35 ,  581,15 ,  3830 ,  4030 ,  2365,47 ,  794,5 ,  1181,13 ,  1231,72 ,  1259,43 ,  1247,92 ,  370 ,  2659,95 ,  1468,38 ,  2661,68 ,  2704,02 ,  948,58 ,  390 ,  958,5 ,  1309,89 ,  1145,38 ,  110,91 ,  1707,5 ,  531,65 ,  1074,52 ,  1154,34 ,  2289,89 ,  4620 ,  5975,04 ,  240 ,  2013,19 ,  2270 ,  2450 ,  1206,51 ,  609,52 ,  2088,86 ,  6532,49 ,  2050 ,  642,31 ,  705,6 ,  966,07 ,  3690 ,  4530 ,  4820 ,  2477,64 ,  668,36 ,  6360 ,  816,83 ,  3520 ,  2779,4 ,  270 ,  1321,59 ,  1307,99 ,  2590,15 ,  1303,04 ,  1030,63 ,  1591,94 ,  1636,04 ,  2992,64 ,  3013,9 ,  2690 ,  2629,87 ,  14870 ,  1537,71 ,  1970 ,  1745,7 ,  3230 ,  1615 ,  1960 ,  1739,33 ,  1610 ,  678,18 ,  761,74 ,  1966,99 ,  2870 ,  2656,68 ,  1053,67 ,  3350 ,  1286,14 ,  38,32 ,  1980,6 ,  7060 ,  2296,35 ,  3388,62 ,  1760 ,  1140 ,  665,11 ,  2902,89 ,  2668,07 ,  5500 ,  690 ,  1540 ,  2736,28 ,  3860,18 ,  698 ,  438,19 ,  1549 ,  1408,73 ,  540 ,  1102,7 ,  658,84 ,  1411,31 ,  51,8 ,  8020 ,  849,91 ,  1999,19 ,  1953,6 ,  724,93 ,  1380 ,  3820 ,  1841,9 ,  1414,34 ,  1259,39 ,  896,1 ,  2262,12 ,  2263,18 ,  3971,6 ,  2247,51 ,  1851,55 ,  924,08 ,  367 ,  669,12 ,  7530 ,  360 ,  903,66 ,  3762,5 ,  1954,4 ,  979,63 ,  698,26 ,  823,54 ,  1145,21 ,  1798,49 ,  1626,16 ,  1677,48 ,  355,55 ,  489,13 ,  2287,02 ,  5870 ,  1179,89 ,  1179,86 ,  3750 ,  668,53 ,  2190 ,  918,55 ,  2200 ,  883,33 ,  1296,74 ,  499,69 ,  2425 ,  1274,99 ,  1022,67 ,  7840 ,  2068,56 ,  1232,78 ,  1563,45 ,  1731,06 ,  2979,13 ,  3680 ,  4520 ,  2430,38 ,  269,51 ,  2701,26 ,  2510 ,  94,89 ,  2730 ,  2343,41 ,  3530 ,  1832,78 ,  5050 ,  997,89 ,  1810 ,  2112,17 ,  1837,31 ,  991,19 ,  1446,55 ,  1299,55 ,  1894,04 ,  1716,52 ,  898,77 ,  892,18 ,  91,27 ,  2702,4 ,  838,09 ,  1434,4 ,  1600 ,  3220 ,  2160 ,  1344,33 ,  800 ,  0,71 ,  2840 ,  3320 ,  5470 ,  1113,74 ,  87,39 ,  1770 ,  1171,65 ,  1426,72 ,  1085,5 ,  2539,12 ,  2792,33 ,  1150 ,  666,41 ,  983,28 ,  1191,65 ,  15110 ,  1550 ,  2990 ,  1071,75 ,  3030 ,  830,53 ,  533 ,  918,28 ,  530 ,  1766,2 ,  1239,08 ,  7340 ,  1094,09 ,  865,1 ,  1574,25 ,  2549,52 ,  2184,66 ,  980,25 ,  1804,9 ,  1390 ,  3810 ,  1456,85 ,  804,32 ,  1160,96 ,  1056,95 ,  2441,4 ,  1272,72 ,  1860,72 ,  1839,85 ,  1402,2 ,  620,75 ,  4290 ,  600,93 ,  1095,61 ,  1255,29 ,  1373,87 ,  1255,21 ,  2707,25 ,  6160 ,  979,94 ,  1672,88 ,  1086,57 ,  946,49 ,  2858,62 ,  2406,8 ,  1055,71 ,  1070,52 ,  1959,42 ,  3509,22 ,  1387,3 ,  1309,43 ,  1850,5 ,  2180 ,  964,69 ,  824,02 ,  4600 ,  766,26 ,  2467,33 ,  1386,14 ,  2430 ,  3870,25 ,  4200 ,  687,11 ,  1119,93 ,  4510 ,  3626,91 ,  1251,35 ,  6180 ,  2500 ,  2725 ,  1099,54 ,  588,13 ,  2720 ,  1090,8 ,  5040 ,  3780 ,  1800 ,  2695,38 ,  1132,64 ,  410,39 ,  1054,5 ,  5698,46 ,  2157,89 ,  4119,97 ,  1113,17 ,  1671,7 ,  3250 ,  1940 ,  9280 ,  0 ,  810 ,  0,04 ,  2352,78 ,  2579,43 ,  2850 ,  1177,52 ,  1490 ,  3330 ,  678,2 ,  1700 ,  4570 ,  5260 ,  1196,43 ,  1300,16 ,  896,31 ,  1116,49 ,  1120 ,  852,48 ,  2090,53 ,  473,16 ,  586,5 ,  859,1 ,  2980 ,  3020 ,  840,4 ,  578,3 ,  520 ,  1949,8 ,  1015 ,  2119,77 ,  1010 ,  1408,53 ,  1230 ,  4190 ,  904,08 ,  4350 ,  1819,09 ,  1970,52 ,  1586,61 ,  1090,01 ,  6500 ,  1751,37 ,  1266,34 ,  430 ,  101,52 ,  854,47 ,  1056,64 ,  3800 ,  1532,04 ,  1909,16 ,  1624,72 ,  2124,5 ,  1141,06 ,  769,43 ,  1391,47 ,  183,13 ,  616,06 ,  833,55 ,  875,2 ,  903,48 ,  1670,18 ,  1991,71 ,  979,89 ,  516,18 ,  4770 ,  49,35 ,  802,29 ,  6591,48 ,  2240 ,  6750 ,  2144,77 ,  568,75 ,  4610 ,  1180,87 ,  1930,47 ,  2002,45 ,  2220 ,  2202,69 ,  2804,46 ,  1686,92 ,  1136,6 ,  1655,63 ,  963,96 ,  3309,87 ,  2083 ,  2080 ,  1915,35 ,  2530 ,  2710 ,  1418,86 ,  95,09 ,  2280 ,  1098,64 ,  1248,27 ,  5070 ,  1832,91 ,  1830 ,  370,77 ,  746,57 ,  630,49 ,  2150 ,  2400 ,  930 ,  1861,6 ,  1240,46 ,  2670,02 ,  2375,59 ,  1950 ,  2782,93 ,  1091,55 ,  2070,42 ,  1415,2 ,  1097,62 ,  1450,22 ,  115,65 ,  5394,29 ,  3240 ,  535,53 ,  1721,35 ,  2923,96 ,  762,16 ,  1387,15 ,  2446,5 ,  1439,9 ,  3716,35 ,  549,88 ,  820 ,  2462,1 ,  1480 ,  762,93 ,  1538,69 ,  3300 ,  1710 ,  790 ,  768,97 ,  567,51 ,  4250 ,  3964,85 ,  1130 ,  947,57 ,  4850,2 ,  446,3 ,  3010 ,  2852,74 ,  510 ,  1017,28 ,  739,93 ,  2016,7 ,  620 ,  1120,19 ,  1220 ,  4180 ,  2163,94 ,  540,39 ,  1639,99 ,  2858,6 ,  1639,94 ,  4340 ,  2880 ,  757,75 ,  7490 ,  1252,67 ,  1031,76 ,  944,93 ,  1241,71 ,  1542,42 ,  3870 ,  550,83 ,  620,18 ,  717,87 ,  1715,7 ,  3299,1 ,  145,92 ,  3900 ,  1845,5 ,  1427,4 ,  4760 ,  6740 ,  4160 ,  604,76 ,  802,36 ,  2750,86 ,  749,05 ,  1731,7 ,  4729,07 ,  3470 ,  1293,09 ,  1259,1 ,  1509,44 ,  2230 ,  2595,06 ,  4159,78 ,  2742,25 ,  673,02 ,  3490 ,  1727,62 ,  2090 ,  2520 ,  3422,28 ,  965,1 ,  910,13 ,  216,59 ,  11460 ,  68,77 ,  451,06 ,  4880 ,  2700 ,  2210 ,  1870,69 ,  284,02 ,  2786,89 ,  880,74 ,  4400 ,  1820 ,  2410 ,  1539,2 ,  2140 ,  920 ,  457,71 ,  177,34 ,  5752,98 ,  37,5 ,  1920 ,  3270 ,  3202,2 ,  2940,81 ,  830 ,  5428,62 ,  828,64 ,  1097,55 ,  490 ,  4084,07 ,  1059,47 ,  690,99 ,  1476,6 ,  706,48 ,  661,46 ,  3310 ,  780 ,  736,3 ,  783 ,  1375,39 ,  1720 ,  2173,43 ,  990,85 ,  5577,92 ,  497,62 ,  2282,89 ,  5872,64 ,  4893,17 ,  482,28 ,  3000 ,  7790 ,  1959,99 ,  1105,07 ,  1580 ,  619,73 ,  528,15 ,  1033 ,  1030 ,  500 ,  630 ,  631 ,  1210 ,  3539,82 ,  958,76 ,  660,86 ,  1599,9 ,  2131,91 ,  2647,9 ,  1507,48 ,  4370 ,  1649,37 ,  5650 ,  1606,38 ,  2890 ,  1606,5 ,  1452 ,  1283,93 ,  1330,41 ,  3860 ,  1645,64 ,  620,22 ,  1221,92 ,  3501,45 ,  1007,8 ,  3910 ,  3339,71 ,  1833,77 ,  731,72 ,  2193,63 ,  1070,05 ,  5830 ,  2879,3 ,  2064,82 ,  887,79 ,  2706,39 ,  839,88 ,  581,67 ,  756,84 ,  2398,8 ,  599,19 ,  6080 ,  3127,19 ,  2509,38 ,  524,6 ,  804,89 ,  5900 ,  526,94 ,  1896,24 ,  3480 ,  2289,48 ,  4565 ,  1477,37 ,  3640 ,  2550 ,  910,63 ,  6390 ,  2492,54 ,  2390 ,  1892,28 ,  2575,19 ,  4890 ,  1249,61 ,  2112,57 ,  4026,63 ,  1850 ,  2170 ,  596,29 ,  1180,48 ,  2178 ,  910 ,  9540 ,  4960 ,  2605 ,  2600 ,  3260 ,  1930 ,  1739,88 ,  1065,62 ,  957,59 ,  2263,2 ,  1136,86 ,  3460 ,  134,78 ,  722,59 ,  589,45 ,  1873,19 ,  2153,67 ,  862,43 ,  2539,91 ,  630,8 ,  662,13 ,  7010 ,  1169,82 ,  1730 ,  578,06 ,  1288,63 ,  411,43 ,  657,95 ,  1209,5 ,  860,22 ,  1221,8 ,  750 ,  1208,09 ,  560,36 ,  3070 ,  1139,49 ,  1590 ,  2957,71 ,  812,11 ,  2950 ,  1185,5 ,  5340 ,  1020 ,  3172,83 ,  1177,84 ,  1325,63 ,  600 ,  1200 ,  1408,87 ,  1235,4 ,  799,16 ,  543,33 ,  3100 ,  1110 ,  1112 ,  1440 ,  859,73 ,  481,51 ,  1429,99 ,  2233,65 ,  4090 ,  805,73 ,  450 ,  11310 ,  806,19 ,  3782,39 ,  669,48 ,  1506,39 ,  2300 ,  1819,26 ,  1793,66 ,  2154,02 ,  1127,76 ,  3920 ,  2166,82 ,  355,04 ,  918,7 ,  2429,5 ,  658,18 ,  2707,64 ,  3101,73 ,  4140 ,  2518,18 ,  3850 ,  1088,05 ,  2599,29 ,  1002,22 ,  5108,38 ,  943,56 ,  6650 ,  1395,7 ,  5910 ,  2563,29 ,  1896,34 ,  1317,06 ,  1042,41 ,  1679,2 ,  1942,72 ,  1245,94 ,  2188,21 ,  3670 ,  4550 ,  1814,93 ,  2540 ,  1144,98 ,  1130,63 ,  2380 ,  775,86 ,  1450 ,  699,78 ,  6647,97 ,  3580 ,  95,79 ,  1100 ,  2760 ,  1918,79 ,  4884,95 ,  900 ,  4420 ,  1840 ,  697,72 ,  6070 ,  2084,32 ,  4269,94 ,  1180,53 ,  559,94 ,  779,82 ,  2610 ,  846,74 ,  1539,13 ,  6689,82 ,  3290 ,  568,7 ,  1900 ,  3450 ,  850 ,  2679,82 ,  598,5 ,  1128,64 ,  2220,72 ,  836,6 ,  7369,77 ,  1045,89 ,  1192,75 ,  2293,65 ,  2399,55 ,  3283,1 ,  2991,39 ,  1405,53 ,  1771,33 ,  1519,64 ,  1347,12 ,  63,31 ,  740 ,  1459,34 ,  976,68 ,  2149,94 ,  3060 ,  2940 "
     ]
    },
    {
     "name": "stdout",
     "output_type": "stream",
     "text": [
      ",  1050 ,  1053 ,  1683,49 ,  811,49 ,  647,42 ,  1690 ,  4310 ,  714 ,  1270 ,  610 ,  1999,73 ,  717,9 ,  712,12 ,  830,7 ,  937,6 ,  1071,44 ,  799,09 ,  3110 ,  1470 ,  2258,3 ,  1300 ,  1272,81 ,  2262,73 ,  5047,5 ,  4220 ,  664,94 ,  1433,4 ,  767,7 ,  5580 ,  1881,83 ,  1792,71 ,  2102,75 ,  1127,63 ,  1006,59 ,  517,51 ,  2252,3 ,  2281,1 ,  816,3 ,  1077,03 ,  988,85 ,  849,19 ,  3840 ,  1040,5 ,  2573,8 ,  1292,59 ,  1783,55 ,  2058,71 ,  4112,53 ,  1549,18 ,  4056,11 ,  1199,15 ,  1883,04 ,  6660 ,  212,25 ,  1398,58 ,  3660 ,  1317,12 ,  5401,67 ,  339,83 ,  1583,15 ,  2493,97 ,  1186,31 ,  875,09 ,  1745,19 ,  1233,33 ,  1775,46 ,  2570 ,  2370 ,  1674,3 ,  997,66 ,  997,65 ,  3590 ,  2590 ,  1443,3 ,  1740,19 ,  5030 ,  827,57 ,  790,77 ,  1870 ,  975 ,  4940 ,  3464,88 ,  970 ,  4158,85 ,  772,73 ,  880,2 ,  2110 ,  796,59 ,  2620 ,  2157,32 ,  2006,83 ,  1517,51 ,  1910 ,  5100 ,  3280 ,  3231,88 ,  860 ,  828,51 ,  3440 ,  866 ,  2020 ,  2750 ,  2758 ,  1136,44 ,  880 ,  2368,84 ,  1097,86 ,  14970 ,  2989,98 ,  2008,01 ,  407,8 ,  978,13 ,  1504,79 ,  4446,3 ,  770 ,  1168,63 ,  1111,4 ,  7100 ,  778,32 ,  1032,06 ,  2970 ,  3050 ,  695,06 ,  2589,2 ,  1040 ,  1098,1 ,  5397,15 ,  892,95 ,  5149,95 ,  1680 ,  2651,68 ,  894,29 ,  3755,32 ,  4263,14 ,  1268 ,  1263 ,  2642,83 ,  1260 ,  660 ,  3702,8 ,  1749,69 ,  603,55 ,  1114,57 ,  3120 ,  543,17 ,  837,48 ,  950,33 ,  1460 ,  3768,74 ,  2429,09 ,  1310 ,  831,2 ,  13920 ,  1276,7 ,  2309,46 ,  3433,42 ,  3768,7 ,  2816,25 ,  2568,45 ,  3940 ,  310 ,  2094,3 ,  1007,63 ,  1338,69 ,  4210 ,  849,07 ,  2127,1 ,  4120 ,  1047,32 ,  605,59 ,  719,25 ,  1788,46 ,  43,3 ,  1085,53 ,  567,16 ,  1199,27 ,  4050 ,  871,07 ,  3018,62 ,  9239,69 ,  5076,65 ,  604,43 ,  3610 ,  455,59 ,  2290 ,  1961,35 ,  635,53 ,  1311,85 ,  2560 ,  2132,88 ,  4560 ,  2261,19 ,  2360 ,  997,13 ,  2580 ,  10640 ,  2588 ,  1860 ,  2916,18 ,  265,55 ,  3720 ,  1742,41 ,  3594,45 ,  960 ,  861,56 ,  776,3 ,  776,6 ,  2100 ,  596,16 ,  5110 ,  2630 ,  2618,78 ,  1068,32 ,  2168,26 ,  1387,47 ,  640 ,  3430 ,  870 ,  2740 ,  2030 ,  1335,47 ,  1112,57 ,  4840 ,  890 ,  1826,86 ,  869,45 ,  1222,06 ,  2920,45 ,  917,57 ,  863,68 ,  3540 ,  801,8 ,  663,05 ,  704,93 ,  846,55 ,  2969,75 ,  1457,52 ,  472,11 ,  18310 ,  502,2 ,  2960 ,  502,1 ,  1780 ,  760 ,  1489,13 ,  3040 ,  2979,57 ,  71,71 ,  359,3 ,  580,49 ,  5370 ,  1070 ,  957,4 ,  954,34 ,  1670 ,  868,01 ,  1094 ,  1090 ,  862,5 ,  1021,13 ,  670 ,  3130 ,  5603,82 ,  1678,99 ,  3138 ,  1173,46 ,  1650,53 ,  54,58 ,  727,79 ,  837,74 ,  1410 ,  716,44 ,  1093,75 ,  1320 ,  3011,18 ,  1485,15 ,  1351,06 ,  1312,44 ,  4834,28 ,  4164,34 ,  1498,2 ,  5760 ,  684,89 ,  2598,9 ,  921,58 ,  5560 ,  1520 ,  1601,63 ,  1250 ,  84,07 ,  3959 ,  791,56 ,  300 ,  574,21 ,  818,74 ,  3950 ,  3285,74 ,  1324,5 ,  518,9 ,  1437,01 ,  969,59 ,  1597,92 ,  2779,29 ,  1479,11 ,  1370,25 ,  2250 ,  2081,36 ,  2122,45 ,  798,53 ,  1160,21 ,  1010,55 ,  1889,43 ,  4060 ,  1965,32 ,  660,6 ,  1562,12 ,  2770 ,  5780 ,  1340,16 ,  3600 ,  1371,86 ,  1317,32 ,  1098,8 ,  367,35 ,  1374,28 ,  1000,38 ,  3377,57 ,  552,57 ,  1145,85 ,  2350 ,  826,77 ,  1527,19 ,  4450 ,  706,5 ,  848,45 ,  2010,03 ,  1890 ,  3730 ,  4690 ,  4920 ,  2013,45 ,  2130 ,  950 ,  3749,07 ,  1985,3 ,  5160 ,  1176,82 ,  2640 ,  1403,64 ,  760,65 ,  702,23 ,  2510,2 ,  1029,75 ,  1402,43 ,  1382,67 ,  1230,63 ,  1581,82 ,  6260 ,  963,12 ,  3420 ,  1658,42 ,  2000 ,  2009 ,  966,53 ,  901,64 ,  869,37 ,  2739,76 ,  4300 ,  1302,38 ,  1405,09 ,  1619,63 ,  2547,85 ,  3550 ,  2349,51 ,  2910 ,  1169,69 ,  1663,27 ,  1790 ,  956,1 ,  710 ,  956,67 ,  1226,25 ,  625,23 ,  5300 ,  1060 ,  1066 ,  224,59 ,  1660 ,  590 ,  918,83 ,  1840,14 ,  1080 ,  4320 ,  1140,2 ,  3140 ,  2820 ,  4136,07 ,  5410 ,  3033,41 ,  2676,24 ,  1288,7 ,  1400 ,  3355,19 ,  1768,07 ,  4574,85 ,  980,42 ,  2142,2 ,  440 ,  664,42 ,  1330 ,  444 ,  9840 ,  2935,52 ,  1154,9 ,  1101,1 ,  1159,06 ,  5570 ,  1240 ,  3090 ,  623,69 ,  1530 ,  289,02 ,  1094,85 ,  2391,38 ,  331 ,  330 ,  4100 ,  62,46 ,  1120,93 ,  1529,06 ,  820,87 ,  605,32 ,  542 ,  1258,49 ,  1684,42 ,  3890 ,  4508,2 ,  2265,01 ,  3165,46 ,  1195,3 ,  4559,26 ,  1593,76 ,  2201,11 ,  1181,51 ,  840 ,  4070 ,  526,43 ,  717,01 ,  1697,22 ,  3960 ,  3630 ,  1317,4 ,  3075,82 ,  554,36 ,  1209,47 ,  2340 ,  3639,91 ,  1039,36 ,  490,88 ,  1780,28 ,  1901,3 ,  2409,01 ,  327,98 ,  3718,64 ,  3700 ,  2619,25 ,  1880 ,  2120 ,  4660 ,  1905,8 ,  940 ,  429,24 ,  2088,64 ,  2347,51 ,  5170 ,  2650 ,  3410 ,  701,32 ,  366,58 ,  1381,12 ,  1544,95 ,  673,89 ,  1614,36 ,  937,79 ,  1012,9 ,  1210,94 ,  2010 ,  9060 ,  869,26 ,  856,3 ,  4758,14 ,  3560 ,  911,49 ,  437,26 ,  2900 ,  836,79 ,  700 ,  1478,49 ,  2499,82 ,  1046,01 ,  1948,62 ,  732,62 ,  1650 ,  2319,2 ,  586 ,  1630 ,  580 ,  1439,94 ,  1408,32 ,  3150 ,  446,31 ,  7620 ,  1198,15 ,  2830 ,  3390 ,  1430 ,  1629,58 ,  3780,1 ,  4260 ,  665,57 ,  1848,05 ,  1340 ,  1167,98 ,  1939,61 ,  1389,63 ,  6041,86 ,  1957,21 ,  1159,18 ,  1073,54 ,  1052,63 ,  1500 ,  1993,59 ,  652 ,  650 ,  2419,9 ,  3080 ,  641,04 ,  1355,12 ,  2641,33 ,  2445,93 ,  3357,52 ,  1881,26 ,  8570 ,  988,44 ,  658,42 ,  2796,66 ,  2409,2 ,  3880 ,  4387,48 ,  9530,91 ,  981,71 ,  59,68 ,  4956,4 ,  989,15 ,  3635,77 ,  42,52 ,  4000 ,  1199,54 ,  3970 ,  320 ,  753,68 ,  1598,01 ,  2699,88 ,  3620 ,  1359,6 ,  961,94 ,  1119,27 ,  2330 ,  856,64 ,  4710 ,  1924,4 ,  2239,37 ,  6130 ,  791,98 ,  2712,72 ,  3914,24 ,  3106,29 ,  2959 ,  4406,5 ,  1155,06 ,  9470 ,  3589,09 ,  342,02 ,  879,74 ,  1609,47 ,  2480 ,  1142,83 ,  429,11 ,  2460 ,  990 ,  1068,47 ,  1023,66 ,  5140 ,  3400 ,  0,98 ,  1662,1 ,  1899,1 ,  1850,24 ,  1348,68 ,  6310 ,  2060 ,  2790 ,  768,11 ,  1260,55 ,  978,55 ,  1666,28 ,  978,56 ,  631,68 ,  5090 ,  6133,41 ,  2497,09 ,  3570 ,  2660 ,  4490 ,  2864,92 ,  1217,36 ,  3506,07 ,  2930 ,  5320 ,  1459,99 ,  380 ,  1640 ,  1740 ,  1200,99 ,  1789,04 ,  314,76 ,  954,65 ,  570 ,  2524,28 ,  859,92 ,  2800 ,  3111,86 ,  3160 ,  1420 ,  5430 ,  3771,24 ,  3360 ,  2323,55 ,  1489,45 ,  730 ,  1243,83 ,  1733,88 ,  1350 ,  460 ,  3103,84 ,  5550 ,  872,81 ,  1510 ,  1817,76 ,  839,79 ,  6550 ,  2474,45 ,  1082,9 ,  3180 ,  1828,89 ,  715,54 ,  1706,3 ,  2732,2 ,  756,1 ,  572,22 ,  1244,53 ,  2247,08 ,  350 ,  2005,15 ,  2059,46 ,  4055,03 ,  728,49 ,  819,3 ,  613,21 ,  2320 ,  4700 ,  886,26 ,  2379,46 ,  735,3 ,  1069,6 ,  1429,97 ,  1880,59 ,  280 ,  749,82 ,  3760 ,  652,36 ,  865,03 ,  14990 ,  957,63 ,  28012,2 ,  989,39 ,  1467,05 ,  929,39 ,  2490 ,  4640 ,  821,93 ,  2497 ,  7890 ,  1498,26 ,  2470 ,  980 ,  7763,74 ,  1068,72 ,  5974,67 ,  1253,34 ,  1175,57 ,  2780 ,  776,59 ,  842,15 ,  831,23 ,  2070 ,  930,4 ,  2252,24 ,  3428,56 ,  1986,88 ,  2569,05 ,  3500 ,  2670 ,  2051,5 ,  1747,33 ,  2361,22 ,  1063,17 ,  2920 ,  1010,27 ,  726,57 ,  628,94 ,  3099,42 ,  3210 ,  4001,34 ,  1980 ,  1546,55 ,  809,42 ,  480 ,  1761,03 ,  2810 ,  560 ,  2755,21 ,  3237,94 ,  5048,19 ,  1319,56 ,  3170 ,  1363,79 ,  472,8 ,  410,6 ,  5420 ,  1180 ,  1336,38 ,  651,16 ,  720 ,  2809,87 ,  1242,57 ,  5269,78 ,  1160 ,  6490 ,  136,76 ,  4240 ,  1560 ,  1290 ,  1692,49 ,  2064,03 ,  988,62 ,  2064,08 ,  2044,32 ,  5075,99 ,  1479,51 ,  891,95 ,  6540 ,  4390 ,  470 ,  1365 ,  477 ,  1360 ,  3190 ,  3863,72 ,  \n",
      "\n",
      "==========\n",
      "sample\n",
      "test ,  train ,  \n",
      "\n"
     ]
    }
   ],
   "source": [
    "for i in df.columns: # перебираем все столбцы\n",
    "    if str(df[i].dtype) == 'object': # если тип столбца - object\n",
    "        print('='*10)\n",
    "        print(i) # выводим название столбца\n",
    "        for j in range(len(set(df[i]))):\n",
    "            print list(set(df[i]))[j],', ',\n",
    "#        print set(df[i]) # выводим все его значения (но делаем set - чтоб значения не повторялись)\n",
    "        print('\\n') # выводим пустую строку"
   ]
  },
  {
   "cell_type": "markdown",
   "metadata": {
    "collapsed": true
   },
   "source": [
    "Mожно заметить что некоторые переменные, которые обозначены как строки (например PERSONAL_INCOME) на самом деле числа, но по какой-то причине были распознаны как строки\n",
    "\n",
    "Причина же что использовалась запятая для разделения не целой части числа.."
   ]
  },
  {
   "cell_type": "markdown",
   "metadata": {},
   "source": [
    "Перекодировать их можно например так:"
   ]
  },
  {
   "cell_type": "code",
   "execution_count": 14,
   "metadata": {},
   "outputs": [
    {
     "data": {
      "text/plain": [
       "30123    15000.0\n",
       "30124     8100.0\n",
       "30125     9500.0\n",
       "30126    13000.0\n",
       "30127    10000.0\n",
       "30128    12000.0\n",
       "30129    10000.0\n",
       "30130     6000.0\n",
       "30131     4500.0\n",
       "30132    20000.0\n",
       "Name: PERSONAL_INCOME, dtype: float64"
      ]
     },
     "execution_count": 14,
     "metadata": {},
     "output_type": "execute_result"
    }
   ],
   "source": [
    "df['PERSONAL_INCOME'].map(lambda x: x.replace(',', '.')).astype('float')[-10:]"
   ]
  },
  {
   "cell_type": "markdown",
   "metadata": {},
   "source": [
    "Такой эффект наблюдается в столбцах `PERSONAL_INCOME`, `CREDIT`, `FST_PAYMENT`, `LOAN_AVG_DLQ_AMT`, `LOAN_MAX_DLQ_AMT`"
   ]
  },
  {
   "cell_type": "markdown",
   "metadata": {},
   "source": [
    "### Теперь ваше небольшое исследование"
   ]
  },
  {
   "cell_type": "markdown",
   "metadata": {
    "collapsed": true
   },
   "source": [
    "#### Задание 1. Есть ли пропуски в данных? Что с ними сделать?\n",
    "\n",
    "(единственного верного ответа нет - аргументируйте)"
   ]
  },
  {
   "cell_type": "code",
   "execution_count": 15,
   "metadata": {},
   "outputs": [
    {
     "name": "stdout",
     "output_type": "stream",
     "text": [
      "GEN_INDUSTRY \t\t\tnull  2713 \t// отрасль работы клиента\n",
      "GEN_TITLE \t\t\tnull  2713 \t// должность\n",
      "ORG_TP_STATE \t\t\tnull  2713 \t// форма собственности компании\n",
      "ORG_TP_FCAPITAL \t\t\tnull  2708 \t// отношение к иностранному капиталу\n",
      "JOB_DIR \t\t\tnull  2713 \t// направление деятельности в нутри компании\n",
      "TP_PROVINCE \t\t\tnull  590 \t// область торговой точки, где клиент брал последний кредит\n",
      "REGION_NM \t\t\tnull  2 \t// регион РФ\n",
      "WORK_TIME \t\t\tnull  2717 \t// время работы на текущем месте (в месяцах)\n",
      "PREVIOUS_CARD_NUM_UTILIZED \t\t\tnull  29533 \t// количество уже утилизированных карт ( если пусто - 0) \n"
     ]
    }
   ],
   "source": [
    "for i in df.columns:\n",
    "    if df.count()[i] < df.shape[0] :\n",
    "        print i,'\\t\\t\\t', 'null ', df[i].isnull().sum(),'\\t','//', #,'notnull ', df.count()[i]\n",
    "        print df_descr[df_descr[u'ПОЛЕ'] == i].iloc[0, 1]"
   ]
  },
  {
   "cell_type": "code",
   "execution_count": 16,
   "metadata": {},
   "outputs": [
    {
     "data": {
      "text/html": [
       "<div>\n",
       "<style>\n",
       "    .dataframe thead tr:only-child th {\n",
       "        text-align: right;\n",
       "    }\n",
       "\n",
       "    .dataframe thead th {\n",
       "        text-align: left;\n",
       "    }\n",
       "\n",
       "    .dataframe tbody tr th {\n",
       "        vertical-align: top;\n",
       "    }\n",
       "</style>\n",
       "<table border=\"1\" class=\"dataframe\">\n",
       "  <thead>\n",
       "    <tr style=\"text-align: right;\">\n",
       "      <th></th>\n",
       "      <th>REGION_NM</th>\n",
       "    </tr>\n",
       "  </thead>\n",
       "  <tbody>\n",
       "    <tr>\n",
       "      <th>0</th>\n",
       "      <td>ЮЖНЫЙ</td>\n",
       "    </tr>\n",
       "  </tbody>\n",
       "</table>\n",
       "</div>"
      ],
      "text/plain": [
       "  REGION_NM\n",
       "0     ЮЖНЫЙ"
      ]
     },
     "execution_count": 16,
     "metadata": {},
     "output_type": "execute_result"
    }
   ],
   "source": [
    "# пропуск в признаке 'REGION_NM' заполню модой, т.к. признак категориальный.\n",
    "#for i in range(len(set(df['REGION_NM']))):\n",
    "#    print list(set(df['REGION_NM']))[i],',',\n",
    "df[['REGION_NM']].mode()\n",
    "#df['REGION_NM'].value_counts()"
   ]
  },
  {
   "cell_type": "code",
   "execution_count": 17,
   "metadata": {},
   "outputs": [
    {
     "data": {
      "text/plain": [
       "1.0    595\n",
       "2.0      5\n",
       "Name: PREVIOUS_CARD_NUM_UTILIZED, dtype: int64"
      ]
     },
     "execution_count": 17,
     "metadata": {},
     "output_type": "execute_result"
    }
   ],
   "source": [
    "# по количеству пропусков отдельно стоит количество уже утилизированных карт PREVIOUS_CARD_NUM_UTILIZED,\n",
    "# этот признак кажеться мне содержаиельным (если была карта - клиент давнишний и с одобренной когдато выдачей карты)\n",
    "# поэтому null этого признака заполню 0, notnull заменю на 1 и полученный бинарный признак буду использовать.\n",
    "#set(df[df['PREVIOUS_CARD_NUM_UTILIZED'].notnull()]['PREVIOUS_CARD_NUM_UTILIZED'])\n",
    "df['PREVIOUS_CARD_NUM_UTILIZED'].value_counts()"
   ]
  },
  {
   "cell_type": "code",
   "execution_count": 18,
   "metadata": {},
   "outputs": [
    {
     "data": {
      "text/html": [
       "<div>\n",
       "<style>\n",
       "    .dataframe thead tr:only-child th {\n",
       "        text-align: right;\n",
       "    }\n",
       "\n",
       "    .dataframe thead th {\n",
       "        text-align: left;\n",
       "    }\n",
       "\n",
       "    .dataframe tbody tr th {\n",
       "        vertical-align: top;\n",
       "    }\n",
       "</style>\n",
       "<table border=\"1\" class=\"dataframe\">\n",
       "  <thead>\n",
       "    <tr style=\"text-align: right;\">\n",
       "      <th></th>\n",
       "      <th>TP_PROVINCE</th>\n",
       "    </tr>\n",
       "  </thead>\n",
       "  <tbody>\n",
       "    <tr>\n",
       "      <th>0</th>\n",
       "      <td>Краснодарский край</td>\n",
       "    </tr>\n",
       "  </tbody>\n",
       "</table>\n",
       "</div>"
      ],
      "text/plain": [
       "          TP_PROVINCE\n",
       "0  Краснодарский край"
      ]
     },
     "execution_count": 18,
     "metadata": {},
     "output_type": "execute_result"
    }
   ],
   "source": [
    "# так же отдельно стоит по пропускам TP_PROVINCE, признак категориальный, заполню модой\n",
    "#for i in range(len(set(df['TP_PROVINCE']))):\n",
    "#    print list(set(df['TP_PROVINCE']))[i],',',\n",
    "df[['TP_PROVINCE']].mode()\n",
    "#df['TP_PROVINCE'].value_counts()"
   ]
  },
  {
   "cell_type": "code",
   "execution_count": 19,
   "metadata": {},
   "outputs": [
    {
     "data": {
      "text/plain": [
       "GEN_INDUSTRY       4\n",
       "GEN_TITLE          4\n",
       "ORG_TP_STATE       4\n",
       "ORG_TP_FCAPITAL    9\n",
       "JOB_DIR            4\n",
       "WORK_TIME          0\n",
       "dtype: int64"
      ]
     },
     "execution_count": 19,
     "metadata": {},
     "output_type": "execute_result"
    }
   ],
   "source": [
    "# в пропусках остальных признаков обращает на себя внимание совпадение количества пропусков в GEN_INDUSTRY, GEN_TITLE,\n",
    "# ORG_TP_STATE, ORG_TP_FCAPITAL, JOB_DIR, WORK_TIME. \n",
    "# проверим не в одних ли и тех же наблюдениях эти пропуски.\n",
    "tmp = df[df['WORK_TIME'].isnull()][[\n",
    "        'GEN_INDUSTRY','GEN_TITLE','ORG_TP_STATE', 'ORG_TP_FCAPITAL', 'JOB_DIR', 'WORK_TIME'\n",
    "        ]]\n",
    "tmp.count()"
   ]
  },
  {
   "cell_type": "code",
   "execution_count": 20,
   "metadata": {},
   "outputs": [
    {
     "name": "stderr",
     "output_type": "stream",
     "text": [
      "C:\\Users\\Samsung\\Anaconda2\\lib\\site-packages\\ipykernel_launcher.py:5: SettingWithCopyWarning: \n",
      "A value is trying to be set on a copy of a slice from a DataFrame\n",
      "\n",
      "See the caveats in the documentation: http://pandas.pydata.org/pandas-docs/stable/indexing.html#indexing-view-versus-copy\n",
      "  \"\"\"\n"
     ]
    }
   ],
   "source": [
    "# введу новый признак TRUNK_DATA - пропуск в совокупности признаков {GEN_INDUSTRY, GEN_TITLE,\n",
    "# ORG_TP_STATE, ORG_TP_FCAPITAL, JOB_DIR, WORK_TIME}, выделив таким образом отдельную категорию клиентов с 'усеченным'\n",
    "# множеством признаков. Пропуски в {...} заполню исходя из свойств признака\n",
    "df['TRUNK_DATA']  = 0\n",
    "df['TRUNK_DATA'][df['WORK_TIME'].isnull()]  = 1"
   ]
  },
  {
   "cell_type": "code",
   "execution_count": 21,
   "metadata": {},
   "outputs": [
    {
     "data": {
      "text/html": [
       "<div>\n",
       "<style>\n",
       "    .dataframe thead tr:only-child th {\n",
       "        text-align: right;\n",
       "    }\n",
       "\n",
       "    .dataframe thead th {\n",
       "        text-align: left;\n",
       "    }\n",
       "\n",
       "    .dataframe tbody tr th {\n",
       "        vertical-align: top;\n",
       "    }\n",
       "</style>\n",
       "<table border=\"1\" class=\"dataframe\">\n",
       "  <thead>\n",
       "    <tr style=\"text-align: right;\">\n",
       "      <th></th>\n",
       "      <th>GEN_INDUSTRY</th>\n",
       "    </tr>\n",
       "  </thead>\n",
       "  <tbody>\n",
       "    <tr>\n",
       "      <th>0</th>\n",
       "      <td>Торговля</td>\n",
       "    </tr>\n",
       "  </tbody>\n",
       "</table>\n",
       "</div>"
      ],
      "text/plain": [
       "  GEN_INDUSTRY\n",
       "0     Торговля"
      ]
     },
     "execution_count": 21,
     "metadata": {},
     "output_type": "execute_result"
    }
   ],
   "source": [
    "# GEN_INDUSTRY - признак категориальный, пропуски заполню модой\n",
    "#for i in range(len(set(df['GEN_INDUSTRY']))):\n",
    "#    print list(set(df['GEN_INDUSTRY']))[i],',',\n",
    "df[['GEN_INDUSTRY']].mode()\n",
    "#df['GEN_INDUSTRY'].value_counts()"
   ]
  },
  {
   "cell_type": "code",
   "execution_count": 22,
   "metadata": {
    "scrolled": true
   },
   "outputs": [
    {
     "data": {
      "text/html": [
       "<div>\n",
       "<style>\n",
       "    .dataframe thead tr:only-child th {\n",
       "        text-align: right;\n",
       "    }\n",
       "\n",
       "    .dataframe thead th {\n",
       "        text-align: left;\n",
       "    }\n",
       "\n",
       "    .dataframe tbody tr th {\n",
       "        vertical-align: top;\n",
       "    }\n",
       "</style>\n",
       "<table border=\"1\" class=\"dataframe\">\n",
       "  <thead>\n",
       "    <tr style=\"text-align: right;\">\n",
       "      <th></th>\n",
       "      <th>GEN_TITLE</th>\n",
       "    </tr>\n",
       "  </thead>\n",
       "  <tbody>\n",
       "    <tr>\n",
       "      <th>0</th>\n",
       "      <td>Специалист</td>\n",
       "    </tr>\n",
       "  </tbody>\n",
       "</table>\n",
       "</div>"
      ],
      "text/plain": [
       "    GEN_TITLE\n",
       "0  Специалист"
      ]
     },
     "execution_count": 22,
     "metadata": {},
     "output_type": "execute_result"
    }
   ],
   "source": [
    "# GEN_TITLE - признак категориальный, пропуски заполню модой\n",
    "#for i in range(len(set(df['GEN_TITLE']))):\n",
    "#    print list(set(df['GEN_TITLE']))[i],',',\n",
    "df[['GEN_TITLE']].mode()\n",
    "#df['GEN_TITLE'].value_counts()"
   ]
  },
  {
   "cell_type": "code",
   "execution_count": 23,
   "metadata": {},
   "outputs": [
    {
     "data": {
      "text/html": [
       "<div>\n",
       "<style>\n",
       "    .dataframe thead tr:only-child th {\n",
       "        text-align: right;\n",
       "    }\n",
       "\n",
       "    .dataframe thead th {\n",
       "        text-align: left;\n",
       "    }\n",
       "\n",
       "    .dataframe tbody tr th {\n",
       "        vertical-align: top;\n",
       "    }\n",
       "</style>\n",
       "<table border=\"1\" class=\"dataframe\">\n",
       "  <thead>\n",
       "    <tr style=\"text-align: right;\">\n",
       "      <th></th>\n",
       "      <th>ORG_TP_STATE</th>\n",
       "    </tr>\n",
       "  </thead>\n",
       "  <tbody>\n",
       "    <tr>\n",
       "      <th>0</th>\n",
       "      <td>Частная компания</td>\n",
       "    </tr>\n",
       "  </tbody>\n",
       "</table>\n",
       "</div>"
      ],
      "text/plain": [
       "       ORG_TP_STATE\n",
       "0  Частная компания"
      ]
     },
     "execution_count": 23,
     "metadata": {},
     "output_type": "execute_result"
    }
   ],
   "source": [
    "# ORG_TP_STATE - признак категориальный, пропуски заполню модой\n",
    "#for i in range(len(set(df['ORG_TP_STATE']))):\n",
    "#    print list(set(df['ORG_TP_STATE']))[i],',',\n",
    "df[['ORG_TP_STATE']].mode()\n",
    "#df['ORG_TP_STATE'].value_counts()"
   ]
  },
  {
   "cell_type": "code",
   "execution_count": 24,
   "metadata": {},
   "outputs": [
    {
     "data": {
      "text/html": [
       "<div>\n",
       "<style>\n",
       "    .dataframe thead tr:only-child th {\n",
       "        text-align: right;\n",
       "    }\n",
       "\n",
       "    .dataframe thead th {\n",
       "        text-align: left;\n",
       "    }\n",
       "\n",
       "    .dataframe tbody tr th {\n",
       "        vertical-align: top;\n",
       "    }\n",
       "</style>\n",
       "<table border=\"1\" class=\"dataframe\">\n",
       "  <thead>\n",
       "    <tr style=\"text-align: right;\">\n",
       "      <th></th>\n",
       "      <th>ORG_TP_FCAPITAL</th>\n",
       "    </tr>\n",
       "  </thead>\n",
       "  <tbody>\n",
       "    <tr>\n",
       "      <th>0</th>\n",
       "      <td>Без участия</td>\n",
       "    </tr>\n",
       "  </tbody>\n",
       "</table>\n",
       "</div>"
      ],
      "text/plain": [
       "  ORG_TP_FCAPITAL\n",
       "0     Без участия"
      ]
     },
     "execution_count": 24,
     "metadata": {},
     "output_type": "execute_result"
    }
   ],
   "source": [
    "# ORG_TP_FCAPITAL - признак бинарный, пропуски заполню модой, потом 'Без участия' заменю на 0  , 'С участием' заменю на 1\n",
    "#for i in range(len(set(df['ORG_TP_FCAPITAL']))):\n",
    "#    print list(set(df['ORG_TP_FCAPITAL']))[i],',',\n",
    "df[['ORG_TP_FCAPITAL']].mode()\n",
    "#df['ORG_TP_FCAPITAL'].value_counts()"
   ]
  },
  {
   "cell_type": "code",
   "execution_count": 25,
   "metadata": {},
   "outputs": [
    {
     "data": {
      "text/html": [
       "<div>\n",
       "<style>\n",
       "    .dataframe thead tr:only-child th {\n",
       "        text-align: right;\n",
       "    }\n",
       "\n",
       "    .dataframe thead th {\n",
       "        text-align: left;\n",
       "    }\n",
       "\n",
       "    .dataframe tbody tr th {\n",
       "        vertical-align: top;\n",
       "    }\n",
       "</style>\n",
       "<table border=\"1\" class=\"dataframe\">\n",
       "  <thead>\n",
       "    <tr style=\"text-align: right;\">\n",
       "      <th></th>\n",
       "      <th>JOB_DIR</th>\n",
       "    </tr>\n",
       "  </thead>\n",
       "  <tbody>\n",
       "    <tr>\n",
       "      <th>0</th>\n",
       "      <td>Участие в основ. деятельности</td>\n",
       "    </tr>\n",
       "  </tbody>\n",
       "</table>\n",
       "</div>"
      ],
      "text/plain": [
       "                         JOB_DIR\n",
       "0  Участие в основ. деятельности"
      ]
     },
     "execution_count": 25,
     "metadata": {},
     "output_type": "execute_result"
    }
   ],
   "source": [
    "# JOB_DIR - признак категориальный, пропуски заполню модой\n",
    "#for i in range(len(set(df['JOB_DIR']))):\n",
    "#    print list(set(df['JOB_DIR']))[i],',',\n",
    "df[['JOB_DIR']].mode()\n",
    "#df['JOB_DIR'].value_counts()"
   ]
  },
  {
   "cell_type": "code",
   "execution_count": 26,
   "metadata": {},
   "outputs": [
    {
     "data": {
      "text/plain": [
       "48.0"
      ]
     },
     "execution_count": 26,
     "metadata": {},
     "output_type": "execute_result"
    }
   ],
   "source": [
    "# WORK_TIME - признак вещественный, пропуски заполню медианой\n",
    "df['WORK_TIME'].median()\n",
    "#df['WORK_TIME'].value_counts()"
   ]
  },
  {
   "cell_type": "markdown",
   "metadata": {
    "collapsed": true
   },
   "source": [
    "#### Задание 2. Есть ли категориальные признаки? Что с ними делать?"
   ]
  },
  {
   "cell_type": "code",
   "execution_count": 27,
   "metadata": {
    "collapsed": true
   },
   "outputs": [],
   "source": [
    "# Категориальные признаки есть, для начала можно применить get_dummies"
   ]
  },
  {
   "cell_type": "markdown",
   "metadata": {},
   "source": [
    "#### Задание 3. Фунция предобработки"
   ]
  },
  {
   "cell_type": "markdown",
   "metadata": {},
   "source": [
    "Напишите функцию, которая бы\n",
    "\n",
    "* Удаляло идентификатор `AGREEMENT_RK`\n",
    "* Избавлялась от проблем с '.' и ',' в стобцах PERSONAL_INCOME, CREDIT, FST_PAYMENT, LOAN_AVG_DLQ_AMT, LOAN_MAX_DLQ_AMT\n",
    "* Что-то делала с пропусками\n",
    "* Кодировала категориальные признаки\n",
    "\n",
    "В результате, ваш датафрейм должен содержать только числа и не содержать пропусков!"
   ]
  },
  {
   "cell_type": "code",
   "execution_count": 28,
   "metadata": {
    "collapsed": true
   },
   "outputs": [],
   "source": [
    "def preproc_data(df_input):\n",
    "    df_output = df_input.copy()\n",
    "## Your Code Here\n",
    "    # удаление идентификатор AGREEMENT_RK\n",
    "    df_output = df_output.drop(['AGREEMENT_RK'], axis=1)\n",
    "    \n",
    "    # избавление от проблем с '.' и ',' \n",
    "    df_output['PERSONAL_INCOME'] = df_output['PERSONAL_INCOME'].map(lambda x: x.replace(',', '.')).astype('float')\n",
    "    df_output['CREDIT'] = df_output['CREDIT'].map(lambda x: x.replace(',', '.')).astype('float')\n",
    "    df_output['FST_PAYMENT'] = df_output['FST_PAYMENT'].map(lambda x: x.replace(',', '.')).astype('float')\n",
    "    df_output['LOAN_AVG_DLQ_AMT'] = df_output['LOAN_AVG_DLQ_AMT'].map(lambda x: x.replace(',', '.')).astype('float')\n",
    "    df_output['LOAN_MAX_DLQ_AMT'] = df_output['LOAN_MAX_DLQ_AMT'].map(lambda x: x.replace(',', '.')).astype('float')\n",
    "    \n",
    "    # заполнение пропусков\n",
    "    df_output['PREVIOUS_CARD_NUM_UTILIZED'] = df_output['PREVIOUS_CARD_NUM_UTILIZED'].fillna(0.0)\n",
    "    df_output['ORG_TP_FCAPITAL'] = df_output['ORG_TP_FCAPITAL'].fillna(df_output[['ORG_TP_FCAPITAL']].mode().iloc[0,0])\n",
    "    \n",
    "    df_output['REGION_NM'] = df_output['REGION_NM'].fillna(df_output[['REGION_NM']].mode().iloc[0,0])\n",
    "    df_output['TP_PROVINCE'] = df_output['TP_PROVINCE'].fillna(df_output[['TP_PROVINCE']].mode().iloc[0,0])\n",
    "    \n",
    "    df_output['GEN_INDUSTRY'] = df_output['GEN_INDUSTRY'].fillna(df_output[['GEN_INDUSTRY']].mode().iloc[0,0])\n",
    "    df_output['GEN_TITLE'] = df_output['GEN_TITLE'].fillna(df_output[['GEN_TITLE']].mode().iloc[0,0])\n",
    "    df_output['ORG_TP_STATE'] = df_output['ORG_TP_STATE'].fillna(df_output[['ORG_TP_STATE']].mode().iloc[0,0])\n",
    "    df_output['JOB_DIR'] = df_output['JOB_DIR'].fillna(df_output[['JOB_DIR']].mode().iloc[0,0])\n",
    "    df_output['WORK_TIME'] = df_output['WORK_TIME'].fillna(df_output['WORK_TIME'].median())\n",
    "    \n",
    "    # кодировка бинарных признаков ORG_TP_FCAPITAL, PREVIOUS_CARD_NUM_UTILIZED\n",
    "    df_output[['ORG_TP_FCAPITAL', ]] = df_output[['ORG_TP_FCAPITAL', ]].replace({u'Без участия': 0,u'С участием':1})\n",
    "    df_output[['PREVIOUS_CARD_NUM_UTILIZED', ]] = df_output[['PREVIOUS_CARD_NUM_UTILIZED', ]].replace({2.0:1.0})\n",
    "    \n",
    "    # кодировка категориальных признаков\n",
    "    df_output = pd.get_dummies(df_output)\n",
    "    \n",
    "    return df_output\n",
    "# по честному заполнять модами и медианами надо с учетом sample, но моды совпадают, медианы близки - потому без учета"
   ]
  },
  {
   "cell_type": "code",
   "execution_count": 29,
   "metadata": {
    "collapsed": true
   },
   "outputs": [],
   "source": [
    "df_preproc = df.pipe(preproc_data)\n",
    "\n",
    "df_train_preproc = df_preproc.query('sample_train == 1').drop(['sample_train','sample_test'], axis=1)\n",
    "df_test_preproc = df_preproc.query('sample_test == 1').drop(['sample_train','sample_test'], axis=1)\n",
    "\n",
    "df_train_preproc = df_train_preproc.reset_index(drop=True)"
   ]
  },
  {
   "cell_type": "code",
   "execution_count": 30,
   "metadata": {
    "collapsed": true
   },
   "outputs": [],
   "source": [
    "#for i in df_preproc.columns:\n",
    "#    if df_preproc.count()[i] < df_preproc.shape[0] :\n",
    "#        print i # столбец с пропусками\n",
    "# Пропусков нет"
   ]
  },
  {
   "cell_type": "code",
   "execution_count": 31,
   "metadata": {
    "scrolled": true
   },
   "outputs": [
    {
     "name": "stdout",
     "output_type": "stream",
     "text": [
      "<class 'pandas.core.frame.DataFrame'>\n",
      "RangeIndex: 15223 entries, 0 to 15222\n",
      "Columns: 443 entries, TARGET to REGION_NM_ЮЖНЫЙ\n",
      "dtypes: float64(7), int64(33), uint8(403)\n",
      "memory usage: 10.5 MB\n"
     ]
    }
   ],
   "source": [
    "df_train_preproc.info()"
   ]
  },
  {
   "cell_type": "code",
   "execution_count": 32,
   "metadata": {},
   "outputs": [
    {
     "name": "stdout",
     "output_type": "stream",
     "text": [
      "<class 'pandas.core.frame.DataFrame'>\n",
      "Int64Index: 14910 entries, 0 to 14909\n",
      "Columns: 443 entries, TARGET to REGION_NM_ЮЖНЫЙ\n",
      "dtypes: float64(7), int64(33), uint8(403)\n",
      "memory usage: 10.4 MB\n"
     ]
    }
   ],
   "source": [
    "df_test_preproc.info()\n"
   ]
  },
  {
   "cell_type": "code",
   "execution_count": 33,
   "metadata": {
    "collapsed": true
   },
   "outputs": [],
   "source": [
    "# object-ов тоже нет"
   ]
  },
  {
   "cell_type": "markdown",
   "metadata": {},
   "source": [
    "#### Задание 4. Отделите целевую переменную и остальные признаки\n",
    "\n",
    "Должно получится:\n",
    "* 2 матрицы: X и X_test\n",
    "* 2 вектора: y и y_test"
   ]
  },
  {
   "cell_type": "code",
   "execution_count": 34,
   "metadata": {
    "collapsed": true
   },
   "outputs": [],
   "source": [
    "y = df_train_preproc['TARGET']\n",
    "y_test = df_test_preproc['TARGET']\n",
    "X = df_train_preproc.drop(['TARGET'], axis=1)\n",
    "X_test = df_test_preproc.drop(['TARGET'], axis=1)"
   ]
  },
  {
   "cell_type": "markdown",
   "metadata": {},
   "source": [
    "#### Задание 5. Обучение и оценка качества разных моделей"
   ]
  },
  {
   "cell_type": "code",
   "execution_count": 35,
   "metadata": {},
   "outputs": [
    {
     "name": "stderr",
     "output_type": "stream",
     "text": [
      "C:\\Users\\Samsung\\Anaconda2\\lib\\site-packages\\sklearn\\cross_validation.py:44: DeprecationWarning: This module was deprecated in version 0.18 in favor of the model_selection module into which all the refactored classes and functions are moved. Also note that the interface of the new CV iterators are different from that of this module. This module will be removed in 0.20.\n",
      "  \"This module will be removed in 0.20.\", DeprecationWarning)\n"
     ]
    }
   ],
   "source": [
    "from sklearn.cross_validation import train_test_split\n",
    "# test_size=0.3, random_state=42\n",
    "\n",
    "## Your Code Here\n",
    "X_trn, X_tst, y_trn, y_tst = train_test_split(X, y, test_size=0.3, random_state=42)"
   ]
  },
  {
   "cell_type": "code",
   "execution_count": 36,
   "metadata": {
    "collapsed": true
   },
   "outputs": [],
   "source": [
    "# Попробовать следующие \"черные ящики\": интерфейс одинаковый \n",
    "#     fit, \n",
    "#     predict, \n",
    "#     predict_proba\n",
    "\n",
    "from sklearn.tree import DecisionTreeClassifier\n",
    "from sklearn.ensemble import RandomForestClassifier\n",
    "from sklearn.linear_model import LogisticRegression\n",
    "\n",
    "## Your Code Here\n",
    "dtc = DecisionTreeClassifier(criterion='entropy')\n",
    "dtc.fit(X_trn, y_trn)\n",
    "dtc_predict = dtc.predict(X_tst)\n",
    "#=============================================================================================\n",
    "rfc = RandomForestClassifier()\n",
    "rfc.fit(X_trn, y_trn)\n",
    "rfc_predict = rfc.predict(X_tst)\n",
    "rfc_predict_pr = rfc.predict_proba(X_tst)\n",
    "#=============================================================================================\n",
    "lr = LogisticRegression(C=0.2, fit_intercept=True, penalty='l1')\n",
    "lr.fit(X_trn, y_trn)\n",
    "lr_predict = lr.predict(X_tst)\n",
    "lr_predict_pr = lr.predict_proba(X_tst)\n",
    "\n",
    "\n"
   ]
  },
  {
   "cell_type": "code",
   "execution_count": 37,
   "metadata": {},
   "outputs": [
    {
     "name": "stdout",
     "output_type": "stream",
     "text": [
      "dtc_accuracy \t0.804685789358\n",
      "dtc_precision \t0.177820267686\n",
      "dtc_recall \t0.167567567568\n",
      "==============================\n",
      "rfc_accuracy \t0.878038099409\n",
      "rfc_precision \t0.416666666667\n",
      "rfc_recall \t0.00900900900901\n",
      "==============================\n",
      "lr_accuracy \t0.877162250931\n",
      "lr_precision \t0.125\n",
      "lr_recall \t0.0018018018018\n"
     ]
    }
   ],
   "source": [
    "# Посчитать метрики стандартные\n",
    "# accuracy, precision, recall\n",
    "\n",
    "from sklearn.metrics import accuracy_score, precision_score, recall_score\n",
    "\n",
    "## Your Code Here\n",
    "print 'dtc_accuracy', '\\t', accuracy_score(y_tst, dtc_predict)\n",
    "print 'dtc_precision', '\\t', precision_score(y_tst, dtc_predict)\n",
    "print 'dtc_recall', '\\t', recall_score(y_tst, dtc_predict)\n",
    "print '='*30\n",
    "print 'rfc_accuracy', '\\t', accuracy_score(y_tst, rfc_predict)\n",
    "print 'rfc_precision', '\\t', precision_score(y_tst, rfc_predict)\n",
    "print 'rfc_recall', '\\t', recall_score(y_tst, rfc_predict)\n",
    "print '='*30\n",
    "print 'lr_accuracy', '\\t', accuracy_score(y_tst, lr_predict)\n",
    "print 'lr_precision', '\\t', precision_score(y_tst, lr_predict)\n",
    "print 'lr_recall', '\\t', recall_score(y_tst, lr_predict)"
   ]
  },
  {
   "cell_type": "code",
   "execution_count": 38,
   "metadata": {},
   "outputs": [
    {
     "data": {
      "text/plain": [
       "<matplotlib.text.Text at 0x1485d390>"
      ]
     },
     "execution_count": 38,
     "metadata": {},
     "output_type": "execute_result"
    },
    {
     "data": {
      "image/png": "[encoded data removed]",
      "text/plain": [
       "<matplotlib.figure.Figure at 0x132ace48>"
      ]
     },
     "metadata": {},
     "output_type": "display_data"
    }
   ],
   "source": [
    "# Визуалищировать эти метрики всех моделей на одном графике (чтоб визуально посмотреть)\n",
    "\n",
    "## Your Code Here\n",
    "wd = 0.2 \n",
    "dtc_metr = [accuracy_score(y_tst, dtc_predict),precision_score(y_tst, dtc_predict),recall_score(y_tst, dtc_predict)]\n",
    "rfc_metr = [accuracy_score(y_tst, rfc_predict),precision_score(y_tst, rfc_predict),recall_score(y_tst, rfc_predict)]\n",
    "lr_metr = [accuracy_score(y_tst, lr_predict),precision_score(y_tst, lr_predict),recall_score(y_tst, lr_predict)]\n",
    "plt.bar([1,2,3],dtc_metr, width=wd)\n",
    "plt.bar([1+wd,2+wd,3+wd],rfc_metr, width=wd)\n",
    "plt.bar([1+2*wd,2+2*wd,3+2*wd],lr_metr, width=wd)\n",
    "plt.legend(['dtc', 'rfc','lr'],title = 'Classifier')\n",
    "plt.title (u'Метрики Accuracy, Precision и Recall')"
   ]
  },
  {
   "cell_type": "code",
   "execution_count": 39,
   "metadata": {
    "scrolled": false
   },
   "outputs": [
    {
     "data": {
      "text/plain": [
       "<matplotlib.legend.Legend at 0x14b29ba8>"
      ]
     },
     "execution_count": 39,
     "metadata": {},
     "output_type": "execute_result"
    },
    {
     "data": {
      "image/png": "[encoded data removed]",
      "text/plain": [
       "<matplotlib.figure.Figure at 0x148fa4e0>"
      ]
     },
     "metadata": {},
     "output_type": "display_data"
    }
   ],
   "source": [
    "# Потроить roc-кривые всех моделей на одном графике\n",
    "# Вывести roc_auc каждой моделе\n",
    "## Your Code Here\n",
    "\n",
    "from sklearn.metrics import roc_auc_score, roc_curve\n",
    "\n",
    "fpr_dtc, tpr_dtc, thresholds_dtc = roc_curve(y_tst, dtc.predict(X_tst))\n",
    "fpr_rfc, tpr_rfc, thresholds_rfc = roc_curve(y_tst, rfc.predict_proba(X_tst)[:,1])\n",
    "fpr_lr, tpr_lr, thresholds_lr = roc_curve(y_tst, lr.predict_proba(X_tst)[:,1])\n",
    "\n",
    "plt.plot([0, 1], [0, 1])\n",
    "plt.plot(fpr_dtc, tpr_dtc)\n",
    "plt.plot(fpr_rfc, tpr_rfc)\n",
    "plt.plot(fpr_lr, tpr_lr)\n",
    "\n",
    "roc_auc_dtc = roc_auc_score(y_tst, dtc.predict(X_tst))\n",
    "roc_auc_rfc = roc_auc_score(y_tst, rfc.predict_proba(X_tst)[:,1])\n",
    "roc_auc_lr = roc_auc_score(y_tst, lr.predict_proba(X_tst)[:,1])\n",
    "\n",
    "plt.ylabel('tpr')\n",
    "plt.xlabel('fpr')\n",
    "plt.grid(True)\n",
    "plt.title('ROC curve')\n",
    "plt.xlim((-0.01, 1.01))\n",
    "plt.ylim((-0.01, 1.01))\n",
    "\n",
    "plt.legend(['',\n",
    "            'dtc, ROC AUC = ' + str(roc_auc_dtc), \n",
    "            'rfc, ROC AUC = ' + str(roc_auc_rfc),\n",
    "            'lr,  ROC AUC = ' + str(roc_auc_lr)],title = 'Classifier')"
   ]
  },
  {
   "cell_type": "code",
   "execution_count": 40,
   "metadata": {
    "scrolled": true
   },
   "outputs": [
    {
     "name": "stderr",
     "output_type": "stream",
     "text": [
      "C:\\Users\\Samsung\\Anaconda2\\lib\\site-packages\\sklearn\\linear_model\\base.py:352: RuntimeWarning: overflow encountered in exp\n",
      "  np.exp(prob, prob)\n"
     ]
    }
   ],
   "source": [
    "from sklearn.cross_validation import cross_val_score\n",
    "from sklearn.model_selection import StratifiedKFold\n",
    "# Сделать k-fold (10 фолдов) кросс-валидацию каждой модели\n",
    "# И посчитать средний roc_auc\n",
    "\n",
    "cv = StratifiedKFold(n_splits=10, shuffle=True, random_state=123)\n",
    "## Your Code Here\n",
    "\n",
    "cv_roc_auc_dtc, cv_roc_auc_rfc,cv_roc_auc_lr = 0,0,0\n",
    "\n",
    "for train_index, test_index in cv.split(X, y):\n",
    "#    print \"TRAIN:\", train_index[:5] , train_index[-5:],\"TEST:\", test_index[:5] ,test_index[-5:]\n",
    "    X_trn, X_tst = X.T[train_index], X.T[test_index]\n",
    "    y_trn, y_tst = y[train_index], y[test_index]\n",
    "\n",
    "    dtc = DecisionTreeClassifier(criterion='entropy')\n",
    "    dtc.fit(X_trn.T, y_trn)\n",
    "    dtc_predict = dtc.predict(X_tst.T)\n",
    "    #=============================================================================================\n",
    "    rfc = RandomForestClassifier()\n",
    "    rfc.fit(X_trn.T, y_trn)\n",
    "    rfc_predict = rfc.predict(X_tst.T)\n",
    "    rfc_predict_pr = rfc.predict_proba(X_tst.T)\n",
    "    #=============================================================================================\n",
    "    lr = LogisticRegression(C=1.0, fit_intercept=True, penalty='l1')\n",
    "    lr.fit(X_trn.T, y_trn)\n",
    "    lr_predict = lr.predict(X_tst.T)\n",
    "    lr_predict_pr = lr.predict_proba(X_tst.T)\n",
    "    \n",
    "    cv_roc_auc_dtc += (roc_auc_score(y_tst, dtc.predict(X_tst.T)))/10\n",
    "    cv_roc_auc_rfc += (roc_auc_score(y_tst, rfc.predict_proba(X_tst.T)[:,1]))/10\n",
    "    cv_roc_auc_lr += (roc_auc_score(y_tst, lr.predict_proba(X_tst.T)[:,1]))/10\n",
    "    #==================================================================\n"
   ]
  },
  {
   "cell_type": "code",
   "execution_count": 41,
   "metadata": {},
   "outputs": [
    {
     "data": {
      "text/html": [
       "<div>\n",
       "<style>\n",
       "    .dataframe thead tr:only-child th {\n",
       "        text-align: right;\n",
       "    }\n",
       "\n",
       "    .dataframe thead th {\n",
       "        text-align: left;\n",
       "    }\n",
       "\n",
       "    .dataframe tbody tr th {\n",
       "        vertical-align: top;\n",
       "    }\n",
       "</style>\n",
       "<table border=\"1\" class=\"dataframe\">\n",
       "  <thead>\n",
       "    <tr style=\"text-align: right;\">\n",
       "      <th></th>\n",
       "      <th>dtc</th>\n",
       "      <th>rfc</th>\n",
       "      <th>lr</th>\n",
       "    </tr>\n",
       "  </thead>\n",
       "  <tbody>\n",
       "    <tr>\n",
       "      <th>Av. ROC AUC</th>\n",
       "      <td>0.534736</td>\n",
       "      <td>0.592716</td>\n",
       "      <td>0.6891</td>\n",
       "    </tr>\n",
       "  </tbody>\n",
       "</table>\n",
       "</div>"
      ],
      "text/plain": [
       "                  dtc       rfc      lr\n",
       "Av. ROC AUC  0.534736  0.592716  0.6891"
      ]
     },
     "execution_count": 41,
     "metadata": {},
     "output_type": "execute_result"
    }
   ],
   "source": [
    "pd.DataFrame([[cv_roc_auc_dtc, cv_roc_auc_rfc, cv_roc_auc_lr]],['Av. ROC AUC'],['dtc','rfc','lr']) "
   ]
  },
  {
   "cell_type": "code",
   "execution_count": 42,
   "metadata": {
    "collapsed": true
   },
   "outputs": [],
   "source": [
    "# Взять лучшую модель и сделать predict (с вероятностями (!!!)) для test выборки\n",
    "## Your Code Here\n",
    "clsf_fin = lr\n",
    "predict_fin = clsf_fin.predict(X_test)\n",
    "predict_pr_fin = clsf_fin.predict_proba(X_test)"
   ]
  },
  {
   "cell_type": "code",
   "execution_count": 43,
   "metadata": {},
   "outputs": [
    {
     "name": "stdout",
     "output_type": "stream",
     "text": [
      "ROC AUC классификаиора-победителя  0.693428224056\n"
     ]
    }
   ],
   "source": [
    "# Померить roc_auc на тесте\n",
    "roc_auc_clsf_fin = roc_auc_score(y_test, predict_pr_fin[:,1])\n",
    "print 'ROC AUC классификаиора-победителя ' , roc_auc_clsf_fin"
   ]
  },
  {
   "cell_type": "code",
   "execution_count": null,
   "metadata": {
    "collapsed": true
   },
   "outputs": [],
   "source": []
  }
 ],
 "metadata": {
  "anaconda-cloud": {},
  "kernelspec": {
   "display_name": "Python 2",
   "language": "python",
   "name": "python2"
  },
  "language_info": {
   "codemirror_mode": {
    "name": "ipython",
    "version": 2
   },
   "file_extension": ".py",
   "mimetype": "text/x-python",
   "name": "python",
   "nbconvert_exporter": "python",
   "pygments_lexer": "ipython2",
   "version": "2.7.13"
  },
  "toc": {
   "colors": {
    "hover_highlight": "#DAA520",
    "navigate_num": "#000000",
    "navigate_text": "#333333",
    "running_highlight": "#FF0000",
    "selected_highlight": "#FFD700",
    "sidebar_border": "#EEEEEE",
    "wrapper_background": "#FFFFFF"
   },
   "moveMenuLeft": true,
   "nav_menu": {
    "height": "31px",
    "width": "253px"
   },
   "navigate_menu": true,
   "number_sections": false,
   "sideBar": true,
   "threshold": 4,
   "toc_cell": false,
   "toc_section_display": "block",
   "toc_window_display": false,
   "widenNotebook": false
  }
 },
 "nbformat": 4,
 "nbformat_minor": 2
}
